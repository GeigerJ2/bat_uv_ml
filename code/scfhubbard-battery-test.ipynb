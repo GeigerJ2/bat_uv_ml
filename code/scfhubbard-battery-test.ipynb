{
 "cells": [
  {
   "cell_type": "code",
   "execution_count": 1,
   "id": "0d96feaf-8817-453a-b4d0-560f5f29d33c",
   "metadata": {},
   "outputs": [],
   "source": [
    "import pathlib\n",
    "import os\n",
    "import numpy as np\n",
    "import pandas as pd\n",
    "from ase.visualize import view\n",
    "from ase.build.tools import sort as ase_sort\n",
    "from ase.atoms import Atoms\n",
    "\n",
    "from aiida import orm, load_profile\n",
    "from aiida.orm import load_node\n",
    "from aiida.engine import submit\n",
    "\n",
    "from qe_tools import CONSTANTS\n",
    "\n",
    "from aiida_quantumespresso_hp.workflows.hubbard import SelfConsistentHubbardWorkChain\n",
    "from aiida_quantumespresso.data.hubbard_structure import HubbardStructureData\n",
    "\n",
    "from project_settings import *\n",
    "\n",
    "load_profile()\n",
    "\n",
    "from IPython.core.interactiveshell import InteractiveShell\n",
    "InteractiveShell.ast_node_interactivity = \"all\""
   ]
  },
  {
   "cell_type": "code",
   "execution_count": 60,
   "id": "c7d7f5cc",
   "metadata": {},
   "outputs": [],
   "source": [
    "fully_lithiated_df = pd.read_pickle(os.path.join(project_dir, 'data', 'fully_lithiated_df.pkl'))\n",
    "mn_olivine_ase = fully_lithiated_df['ase_in'].values[0]\n",
    "\n",
    "sorting_dict = {\n",
    "    'Mn': 0,\n",
    "    'O': 1,\n",
    "    'P': 2,\n",
    "    'Li': 3,\n",
    "}\n",
    "\n",
    "# ! Does not take into account initial magmoms for now\n",
    "mn_olivine_ase_ordered = Atoms(sorted(mn_olivine_ase, key=lambda x: sorting_dict[x.symbol]))\n",
    "mn_olivine_ase_ordered.set_cell(mn_olivine_ase.get_cell())\n",
    "\n",
    "mn_olivine_aiida = orm.StructureData(ase=mn_olivine_ase_ordered)"
   ]
  },
  {
   "attachments": {},
   "cell_type": "markdown",
   "id": "cbd6c351-07bf-4935-8149-c5dc3e802ca2",
   "metadata": {},
   "source": [
    "## HubbardStructureData initialization\n",
    "Let's initialize the HubbardStructureData with the olivine structure!"
   ]
  },
  {
   "cell_type": "code",
   "execution_count": 61,
   "id": "68238387-c713-47b0-b501-28f6cee06b67",
   "metadata": {},
   "outputs": [],
   "source": [
    "hubbard_data_inv = HubbardStructureData(structure=mn_olivine_aiida)"
   ]
  },
  {
   "cell_type": "code",
   "execution_count": 62,
   "id": "1dd1cbca-7de7-483e-a7a6-8b7aa900254b",
   "metadata": {},
   "outputs": [],
   "source": [
    "# hubbard_data.reorder_atoms()"
   ]
  },
  {
   "cell_type": "markdown",
   "id": "db3586b0-0d08-437c-9416-28b4de12ad7e",
   "metadata": {},
   "source": [
    "## Initializing the on-site Hubbard\n",
    "Let's initialize the on-site Hubbard parameter for the titanium atom."
   ]
  },
  {
   "cell_type": "code",
   "execution_count": 63,
   "id": "97aa36f8-e5b9-435c-b4bd-08c4850b02a9",
   "metadata": {},
   "outputs": [],
   "source": [
    "# Taken from parameters.in of:\n",
    "# /home/jgeiger/projects/bat_uv_ml/data/olivine_iurii/LixMnPO4/Li1.00/DFT_plus_UV/9_PDOS/LMPO.scf.1.in\n",
    "hubbard_data_inv.initialize_onsites_hubbard('Mn', '3d', 4.5618)"
   ]
  },
  {
   "cell_type": "markdown",
   "id": "3271f32e-df00-49f8-a678-d1f83d51bae1",
   "metadata": {},
   "source": [
    "Here how it is stored in the class."
   ]
  },
  {
   "cell_type": "code",
   "execution_count": 64,
   "id": "f4bc5921-ce79-4e3d-804e-3ed6523e6b93",
   "metadata": {},
   "outputs": [
    {
     "data": {
      "text/plain": [
       "[[0, '3d', 0, '3d', 4.5618, [0, 0, 0], 'dudarev'],\n",
       " [1, '3d', 1, '3d', 4.5618, [0, 0, 0], 'dudarev'],\n",
       " [2, '3d', 2, '3d', 4.5618, [0, 0, 0], 'dudarev'],\n",
       " [3, '3d', 3, '3d', 4.5618, [0, 0, 0], 'dudarev']]"
      ]
     },
     "execution_count": 64,
     "metadata": {},
     "output_type": "execute_result"
    }
   ],
   "source": [
    "hubbard_data_inv.hubbard_parameters"
   ]
  },
  {
   "cell_type": "markdown",
   "id": "97632bc2-b652-4d04-b917-15c688468253",
   "metadata": {},
   "source": [
    "## Initializing the inter-site Hubbard\n",
    "Let's initialize the inter-site Hubbard parameter for the titanium and oxygen atoms."
   ]
  },
  {
   "cell_type": "code",
   "execution_count": 65,
   "id": "3eb86220-436e-4592-af95-a359c8923b6d",
   "metadata": {},
   "outputs": [],
   "source": [
    "hubbard_data_inv.initialize_intersites_hubbard('Mn', '3d', 'O', '2p', 0.0001, number_of_neighbours=7) \n",
    "# ! Ti has 6 oxygen neighbors in BaTiO3. Similarly, Mn has 6 oxygen neighbors in LMPO (olivine). So, we need to use N+1 in the call to initialize_intersites_hubbard, as the value is used for list slicing, like [:number_of_neighbours], which is exclusive of the last index."
   ]
  },
  {
   "cell_type": "markdown",
   "id": "a5df15af-5574-42be-aa58-890d2d95c5d2",
   "metadata": {},
   "source": [
    "The parameters are saved in the property `hubbard_parameters` as a list."
   ]
  },
  {
   "cell_type": "code",
   "execution_count": 66,
   "id": "ab486809-31f7-4bc3-9425-0467811da1d3",
   "metadata": {},
   "outputs": [
    {
     "data": {
      "text/plain": [
       "[[0, '3d', 0, '3d', 4.5618, [0, 0, 0], 'dudarev'],\n",
       " [1, '3d', 1, '3d', 4.5618, [0, 0, 0], 'dudarev'],\n",
       " [2, '3d', 2, '3d', 4.5618, [0, 0, 0], 'dudarev'],\n",
       " [3, '3d', 3, '3d', 4.5618, [0, 0, 0], 'dudarev'],\n",
       " [0, '3d', 12, '2p', 0.0001, [0, -1, 0], 'dudarev'],\n",
       " [0, '3d', 13, '2p', 0.0001, [0, 0, 0], 'dudarev'],\n",
       " [0, '3d', 8, '2p', 0.0001, [0, 0, 1], 'dudarev'],\n",
       " [0, '3d', 4, '2p', 0.0001, [0, 0, 0], 'dudarev'],\n",
       " [0, '3d', 17, '2p', 0.0001, [0, 0, 1], 'dudarev'],\n",
       " [0, '3d', 16, '2p', 0.0001, [0, 0, 1], 'dudarev'],\n",
       " [0, '3d', 7, '2p', 0.0001, [0, 0, 0], 'dudarev'],\n",
       " [1, '3d', 15, '2p', 0.0001, [0, 0, 0], 'dudarev'],\n",
       " [1, '3d', 14, '2p', 0.0001, [0, -1, 0], 'dudarev'],\n",
       " [1, '3d', 11, '2p', 0.0001, [0, 0, 0], 'dudarev'],\n",
       " [1, '3d', 7, '2p', 0.0001, [0, 0, 0], 'dudarev'],\n",
       " [1, '3d', 19, '2p', 0.0001, [0, 0, 0], 'dudarev'],\n",
       " [1, '3d', 18, '2p', 0.0001, [0, 0, 0], 'dudarev'],\n",
       " [1, '3d', 4, '2p', 0.0001, [1, 0, 0], 'dudarev'],\n",
       " [2, '3d', 16, '2p', 0.0001, [0, 1, 0], 'dudarev'],\n",
       " [2, '3d', 17, '2p', 0.0001, [0, 0, 0], 'dudarev'],\n",
       " [2, '3d', 10, '2p', 0.0001, [0, 0, 0], 'dudarev'],\n",
       " [2, '3d', 6, '2p', 0.0001, [0, 0, 0], 'dudarev'],\n",
       " [2, '3d', 12, '2p', 0.0001, [0, 0, 0], 'dudarev'],\n",
       " [2, '3d', 13, '2p', 0.0001, [0, 0, 0], 'dudarev'],\n",
       " [2, '3d', 5, '2p', 0.0001, [-1, 0, 0], 'dudarev'],\n",
       " [3, '3d', 19, '2p', 0.0001, [0, 0, 0], 'dudarev'],\n",
       " [3, '3d', 18, '2p', 0.0001, [0, 1, 0], 'dudarev'],\n",
       " [3, '3d', 9, '2p', 0.0001, [0, 0, -1], 'dudarev'],\n",
       " [3, '3d', 5, '2p', 0.0001, [0, 0, 0], 'dudarev'],\n",
       " [3, '3d', 15, '2p', 0.0001, [0, 0, -1], 'dudarev'],\n",
       " [3, '3d', 14, '2p', 0.0001, [0, 0, -1], 'dudarev'],\n",
       " [3, '3d', 6, '2p', 0.0001, [0, 0, 0], 'dudarev']]"
      ]
     },
     "execution_count": 66,
     "metadata": {},
     "output_type": "execute_result"
    }
   ],
   "source": [
    "hubbard_data_inv.hubbard_parameters"
   ]
  },
  {
   "cell_type": "code",
   "execution_count": 67,
   "id": "6d6562c9",
   "metadata": {},
   "outputs": [
    {
     "name": "stdout",
     "output_type": "stream",
     "text": [
      "HUBBARD\tortho-atomic\n",
      " U\tMn-3d\t4.5618\n",
      " V\tMn-3d\tO-2p\t1\t321\t0.0001\n",
      " V\tMn-3d\tO-2p\t1\t14\t0.0001\n",
      " V\tMn-3d\tO-2p\t1\t401\t0.0001\n",
      " V\tMn-3d\tO-2p\t1\t5\t0.0001\n",
      " V\tMn-3d\tO-2p\t1\t410\t0.0001\n",
      " V\tMn-3d\tO-2p\t1\t409\t0.0001\n",
      " V\tMn-3d\tO-2p\t1\t8\t0.0001\n",
      " V\tMn-3d\tO-2p\t2\t16\t0.0001\n",
      " V\tMn-3d\tO-2p\t2\t323\t0.0001\n",
      " V\tMn-3d\tO-2p\t2\t12\t0.0001\n",
      " V\tMn-3d\tO-2p\t2\t8\t0.0001\n",
      " V\tMn-3d\tO-2p\t2\t20\t0.0001\n",
      " V\tMn-3d\tO-2p\t2\t19\t0.0001\n",
      " V\tMn-3d\tO-2p\t2\t621\t0.0001\n",
      " V\tMn-3d\tO-2p\t3\t465\t0.0001\n",
      " V\tMn-3d\tO-2p\t3\t18\t0.0001\n",
      " V\tMn-3d\tO-2p\t3\t11\t0.0001\n",
      " V\tMn-3d\tO-2p\t3\t7\t0.0001\n",
      " V\tMn-3d\tO-2p\t3\t13\t0.0001\n",
      " V\tMn-3d\tO-2p\t3\t14\t0.0001\n",
      " V\tMn-3d\tO-2p\t3\t146\t0.0001\n",
      " V\tMn-3d\tO-2p\t4\t20\t0.0001\n",
      " V\tMn-3d\tO-2p\t4\t467\t0.0001\n",
      " V\tMn-3d\tO-2p\t4\t374\t0.0001\n",
      " V\tMn-3d\tO-2p\t4\t6\t0.0001\n",
      " V\tMn-3d\tO-2p\t4\t380\t0.0001\n",
      " V\tMn-3d\tO-2p\t4\t379\t0.0001\n",
      " V\tMn-3d\tO-2p\t4\t7\t0.0001\n",
      "\n",
      " # Atom 1  Atom 2  Hubbard V (eV)\n",
      "\t1\t1\t4.5618\n",
      "\t2\t2\t4.5618\n",
      "\t3\t3\t4.5618\n",
      "\t4\t4\t4.5618\n",
      "\t1\t321\t0.0001\n",
      "\t1\t14\t0.0001\n",
      "\t1\t401\t0.0001\n",
      "\t1\t5\t0.0001\n",
      "\t1\t410\t0.0001\n",
      "\t1\t409\t0.0001\n",
      "\t1\t8\t0.0001\n",
      "\t2\t16\t0.0001\n",
      "\t2\t323\t0.0001\n",
      "\t2\t12\t0.0001\n",
      "\t2\t8\t0.0001\n",
      "\t2\t20\t0.0001\n",
      "\t2\t19\t0.0001\n",
      "\t2\t621\t0.0001\n",
      "\t3\t465\t0.0001\n",
      "\t3\t18\t0.0001\n",
      "\t3\t11\t0.0001\n",
      "\t3\t7\t0.0001\n",
      "\t3\t13\t0.0001\n",
      "\t3\t14\t0.0001\n",
      "\t3\t146\t0.0001\n",
      "\t4\t20\t0.0001\n",
      "\t4\t467\t0.0001\n",
      "\t4\t374\t0.0001\n",
      "\t4\t6\t0.0001\n",
      "\t4\t380\t0.0001\n",
      "\t4\t379\t0.0001\n",
      "\t4\t7\t0.0001\n",
      "\n"
     ]
    }
   ],
   "source": [
    "print(hubbard_data_inv.get_quantum_espresso_hubbard_card())\n",
    "print(hubbard_data_inv.get_quantum_espresso_hubbard_parameters())"
   ]
  },
  {
   "cell_type": "code",
   "execution_count": 72,
   "id": "94a34186",
   "metadata": {},
   "outputs": [
    {
     "name": "stdout",
     "output_type": "stream",
     "text": [
      "<class 'aiida.orm.nodes.data.structure.StructureData'>\n",
      "['Mn', 'Mn', 'Mn', 'Mn', 'O', 'O', 'O', 'O', 'O', 'O', 'O', 'O', 'O', 'O', 'O', 'O', 'O', 'O', 'O', 'O', 'P', 'P', 'P', 'P', 'Li', 'Li', 'Li', 'Li']\n"
     ]
    }
   ],
   "source": [
    "print(type(mn_olivine_aiida))\n",
    "print(mn_olivine_aiida.get_ase().get_chemical_symbols())\n",
    "from aiida.orm.nodes.data.structure import StructureData"
   ]
  },
  {
   "cell_type": "code",
   "execution_count": 73,
   "id": "cb1b4b3b-8fe5-4f29-8ee9-54e3f564017f",
   "metadata": {},
   "outputs": [
    {
     "data": {
      "text/plain": [
       "<HubbardStructureData: uuid: d3a59ee6-27a1-4447-9aa4-449aa6ecf7f8 (pk: 3015)>"
      ]
     },
     "execution_count": 73,
     "metadata": {},
     "output_type": "execute_result"
    },
    {
     "data": {
      "text/plain": [
       "3015"
      ]
     },
     "execution_count": 73,
     "metadata": {},
     "output_type": "execute_result"
    }
   ],
   "source": [
    "hubbard_data_inv.store()\n",
    "hubbard_data_inv.pk"
   ]
  },
  {
   "cell_type": "code",
   "execution_count": 75,
   "id": "5a8700c8",
   "metadata": {},
   "outputs": [],
   "source": [
    "inverted_hubbard_data_pk = 3015"
   ]
  },
  {
   "cell_type": "markdown",
   "id": "f53e706b-5f5c-4f85-92aa-45355eb17e89",
   "metadata": {},
   "source": [
    "## Running the `SelfConsistentHubbardWorkChain`"
   ]
  },
  {
   "cell_type": "code",
   "execution_count": 76,
   "metadata": {},
   "outputs": [
    {
     "data": {
      "text/plain": [
       "[[0, '3d', 0, '3d', 4.5618, [0, 0, 0], 'dudarev'],\n",
       " [1, '3d', 1, '3d', 4.5618, [0, 0, 0], 'dudarev'],\n",
       " [2, '3d', 2, '3d', 4.5618, [0, 0, 0], 'dudarev'],\n",
       " [3, '3d', 3, '3d', 4.5618, [0, 0, 0], 'dudarev'],\n",
       " [0, '3d', 12, '2p', 0.0001, [0, -1, 0], 'dudarev'],\n",
       " [0, '3d', 13, '2p', 0.0001, [0, 0, 0], 'dudarev'],\n",
       " [0, '3d', 8, '2p', 0.0001, [0, 0, 1], 'dudarev'],\n",
       " [0, '3d', 4, '2p', 0.0001, [0, 0, 0], 'dudarev'],\n",
       " [0, '3d', 17, '2p', 0.0001, [0, 0, 1], 'dudarev'],\n",
       " [0, '3d', 16, '2p', 0.0001, [0, 0, 1], 'dudarev'],\n",
       " [0, '3d', 7, '2p', 0.0001, [0, 0, 0], 'dudarev'],\n",
       " [1, '3d', 15, '2p', 0.0001, [0, 0, 0], 'dudarev'],\n",
       " [1, '3d', 14, '2p', 0.0001, [0, -1, 0], 'dudarev'],\n",
       " [1, '3d', 11, '2p', 0.0001, [0, 0, 0], 'dudarev'],\n",
       " [1, '3d', 7, '2p', 0.0001, [0, 0, 0], 'dudarev'],\n",
       " [1, '3d', 19, '2p', 0.0001, [0, 0, 0], 'dudarev'],\n",
       " [1, '3d', 18, '2p', 0.0001, [0, 0, 0], 'dudarev'],\n",
       " [1, '3d', 4, '2p', 0.0001, [1, 0, 0], 'dudarev'],\n",
       " [2, '3d', 16, '2p', 0.0001, [0, 1, 0], 'dudarev'],\n",
       " [2, '3d', 17, '2p', 0.0001, [0, 0, 0], 'dudarev'],\n",
       " [2, '3d', 10, '2p', 0.0001, [0, 0, 0], 'dudarev'],\n",
       " [2, '3d', 6, '2p', 0.0001, [0, 0, 0], 'dudarev'],\n",
       " [2, '3d', 12, '2p', 0.0001, [0, 0, 0], 'dudarev'],\n",
       " [2, '3d', 13, '2p', 0.0001, [0, 0, 0], 'dudarev'],\n",
       " [2, '3d', 5, '2p', 0.0001, [-1, 0, 0], 'dudarev'],\n",
       " [3, '3d', 19, '2p', 0.0001, [0, 0, 0], 'dudarev'],\n",
       " [3, '3d', 18, '2p', 0.0001, [0, 1, 0], 'dudarev'],\n",
       " [3, '3d', 9, '2p', 0.0001, [0, 0, -1], 'dudarev'],\n",
       " [3, '3d', 5, '2p', 0.0001, [0, 0, 0], 'dudarev'],\n",
       " [3, '3d', 15, '2p', 0.0001, [0, 0, -1], 'dudarev'],\n",
       " [3, '3d', 14, '2p', 0.0001, [0, 0, -1], 'dudarev'],\n",
       " [3, '3d', 6, '2p', 0.0001, [0, 0, 0], 'dudarev']]"
      ]
     },
     "execution_count": 76,
     "metadata": {},
     "output_type": "execute_result"
    }
   ],
   "source": [
    "hubbard_data_inv = orm.load_node(inverted_hubbard_data_pk)  # I load the node from the database instead of always regenerating it\n",
    "hubbard_data_inv.hubbard_parameters\n",
    "# print(hubbard_data.get_quantum_espresso_hubbard_card())\n",
    "# type(hubbard_data)\n",
    "\n",
    "# ? On-site gets only stored once, if I am not mistaken.\n",
    "# ? Index is changed from 0-based (Python) to 1-based (Quantum ESPRESSO)"
   ]
  },
  {
   "cell_type": "code",
   "execution_count": 77,
   "metadata": {},
   "outputs": [],
   "source": [
    "pw_code = orm.load_code('qe-dev-pw@lumi-small')\n",
    "hp_code = orm.load_code('qe-dev-hp@lumi-small')\n",
    "\n",
    "builder = SelfConsistentHubbardWorkChain.get_builder_from_protocol(\n",
    "    pw_code=pw_code,\n",
    "    hp_code=hp_code,\n",
    "    hubbard_structure=hubbard_data_inv,\n",
    "    protocol='fast',\n",
    "    overrides=pathlib.Path('hubbard_overrides.yaml')\n",
    ")\n",
    "\n",
    "builder.skip_first_relax = True"
   ]
  },
  {
   "cell_type": "code",
   "execution_count": 78,
   "id": "76ff4bf8",
   "metadata": {},
   "outputs": [
    {
     "name": "stdout",
     "output_type": "stream",
     "text": [
      "uuid: 41c8ad0c-02b3-4583-be16-9d8c6a9ae8a9 (pk: 3040) (aiida.workflows:quantumespresso.hp.hubbard)\n"
     ]
    }
   ],
   "source": [
    "olivine_workchain_submit_inv = submit(builder)\n",
    "print(olivine_workchain_submit_inv)"
   ]
  },
  {
   "cell_type": "code",
   "execution_count": 19,
   "id": "36d4999e",
   "metadata": {},
   "outputs": [],
   "source": [
    "olivine_workchain_submit_inv_pk_first = 2914\n",
    "olivine_workchain_submit_inv_pk_second = 2978\n",
    "olivine_workchain_submit_inv_pk_second = 3040"
   ]
  },
  {
   "cell_type": "code",
   "execution_count": 9,
   "id": "98ca9758",
   "metadata": {},
   "outputs": [
    {
     "name": "stdout",
     "output_type": "stream",
     "text": [
      "\u001b[22mSelfConsistentHubbardWorkChain<3040> Waiting [1:while_(should_run_iteration)(5:run_hp)]\n",
      "    ├── PwBaseWorkChain<3042> Finished [0] [4:results]\n",
      "    │   ├── create_kpoints_from_distance<3043> Finished [0]\n",
      "    │   ├── PwCalculation<3047> Finished [410]\n",
      "    │   ├── PwCalculation<3055> Finished [410]\n",
      "    │   └── PwCalculation<3063> Finished [0]\n",
      "    └── HpWorkChain<3069> Waiting [None]\n",
      "        └── HpBaseWorkChain<3071> Waiting [2:while_(should_run_process)]\n",
      "            └── HpCalculation<3073> Waiting\u001b[0m\n",
      "\u001b[22m2023-03-01 10:20:34 [348 | REPORT]: [3040|SelfConsistentHubbardWorkChain|setup]: system is treated to be non-magnetic because `nspin == 1` in `scf.pw.parameters` input.\n",
      "2023-03-01 10:20:35 [349 | REPORT]: [3040|SelfConsistentHubbardWorkChain|should_run_relax]: skip_first_relax has been set True; skipping first relaxion...\n",
      "2023-03-01 10:20:35 [350 | REPORT]: [3040|SelfConsistentHubbardWorkChain|run_scf_smearing]: launching PwBaseWorkChain<3042> with smeared occupations\n",
      "2023-03-01 10:20:37 [351 | REPORT]:   [3042|PwBaseWorkChain|run_process]: launching PwCalculation<3047> iteration #1\n",
      "2023-03-01 10:25:12 [355 | REPORT]:   [3042|PwBaseWorkChain|report_error_handled]: PwCalculation<3047> failed with exit status 410: The electronic minimization cycle did not reach self-consistency.\n",
      "2023-03-01 10:25:12 [356 | REPORT]:   [3042|PwBaseWorkChain|report_error_handled]: Action taken: reduced beta mixing from 0.4 to 0.32000000000000006 and restarting from the last calculation\n",
      "2023-03-01 10:25:12 [357 | REPORT]:   [3042|PwBaseWorkChain|inspect_process]: PwCalculation<3047> failed but a handler dealt with the problem, restarting\n",
      "2023-03-01 10:25:13 [358 | REPORT]:   [3042|PwBaseWorkChain|run_process]: launching PwCalculation<3055> iteration #2\n",
      "2023-03-01 10:38:02 [362 | REPORT]:   [3042|PwBaseWorkChain|report_error_handled]: PwCalculation<3055> failed with exit status 410: The electronic minimization cycle did not reach self-consistency.\n",
      "2023-03-01 10:38:02 [363 | REPORT]:   [3042|PwBaseWorkChain|report_error_handled]: Action taken: reduced beta mixing from 0.32000000000000006 to 0.25600000000000006 and restarting from the last calculation\n",
      "2023-03-01 10:38:02 [364 | REPORT]:   [3042|PwBaseWorkChain|inspect_process]: PwCalculation<3055> failed but a handler dealt with the problem, restarting\n",
      "2023-03-01 10:38:03 [365 | REPORT]:   [3042|PwBaseWorkChain|run_process]: launching PwCalculation<3063> iteration #3\n",
      "2023-03-01 10:50:12 [366 | REPORT]:   [3042|PwBaseWorkChain|results]: work chain completed after 3 iterations\n",
      "2023-03-01 10:50:13 [367 | REPORT]:   [3042|PwBaseWorkChain|on_terminated]: remote folders will not be cleaned\n",
      "2023-03-01 10:50:13 [368 | REPORT]: [3040|SelfConsistentHubbardWorkChain|recon_scf]: after relaxation, system is determined to be a metal\n",
      "2023-03-01 10:50:14 [369 | REPORT]: [3040|SelfConsistentHubbardWorkChain|run_hp]: launching HpWorkChain<3069> iteration #1\n",
      "2023-03-01 10:50:14 [370 | REPORT]:   [3069|HpWorkChain|run_base_workchain]: running in serial, launching HpBaseWorkChain<3071>\n",
      "2023-03-01 10:50:16 [371 | REPORT]:     [3071|HpBaseWorkChain|run_process]: launching HpCalculation<3073> iteration #1\u001b[0m\n",
      "\u001b[22mHpBaseWorkChain<3071> Waiting [2:while_(should_run_process)]\n",
      "    └── HpCalculation<3073> Waiting\u001b[0m\n"
     ]
    }
   ],
   "source": [
    "!verdi process status 3040\n",
    "!verdi process report 3040\n",
    "!verdi process status 3071"
   ]
  },
  {
   "cell_type": "code",
   "execution_count": 10,
   "id": "618ba975",
   "metadata": {},
   "outputs": [
    {
     "name": "stdout",
     "output_type": "stream",
     "text": [
      "\u001b[22mHpBaseWorkChain<3071> Waiting [2:while_(should_run_process)]\n",
      "    └── HpCalculation<3073> Waiting\u001b[0m\n",
      "\u001b[22m2023-03-01 10:50:16 [371 | REPORT]: [3071|HpBaseWorkChain|run_process]: launching HpCalculation<3073> iteration #1\u001b[0m\n",
      "\u001b[22mProperty     Value\n",
      "-----------  ------------------------------------\n",
      "type         HpBaseWorkChain\n",
      "state        Waiting\n",
      "pk           3071\n",
      "uuid         2569fcbc-71cb-4ee7-a394-ba65b363e011\n",
      "label\n",
      "description\n",
      "ctime        2023-03-01 10:50:14.283885+01:00\n",
      "mtime        2023-03-01 10:50:16.442401+01:00\n",
      "\n",
      "Inputs                 PK    Type\n",
      "---------------------  ----  --------------------\n",
      "hp\n",
      "    code               2183  InstalledCode\n",
      "    hubbard_structure  3015  HubbardStructureData\n",
      "    parameters         3030  Dict\n",
      "    parent_scf         3064  RemoteData\n",
      "    qpoints            3029  KpointsData\n",
      "    settings           3031  Dict\n",
      "clean_workdir          3032  Bool\n",
      "max_iterations         3033  Int\n",
      "only_initialization    3070  Bool\n",
      "\n",
      "Caller             PK  Type\n",
      "---------------  ----  -----------\n",
      "iteration_01_hp  3069  HpWorkChain\n",
      "\n",
      "Called          PK  Type\n",
      "------------  ----  -------------\n",
      "iteration_01  3073  HpCalculation\n",
      "\n",
      "Log messages\n",
      "---------------------------------------------\n",
      "There are 1 log messages for this calculation\n",
      "Run 'verdi process report 3071' to see them\u001b[0m\n"
     ]
    }
   ],
   "source": [
    "!verdi process status 3071\n",
    "!verdi process report 3071\n",
    "!verdi process show 3071"
   ]
  },
  {
   "cell_type": "code",
   "execution_count": 6,
   "id": "5b519eca",
   "metadata": {},
   "outputs": [
    {
     "name": "stdout",
     "output_type": "stream",
     "text": [
      "SelfConsistentHubbardWorkChain<2914> Finished [404] [1:while_(should_run_iteration)(6:inspect_hp)]\n",
      "    ├── PwBaseWorkChain<2916> Finished [0] [4:results]\n",
      "    │   ├── create_kpoints_from_distance<2917> Finished [0]\n",
      "    │   ├── PwCalculation<2921> Finished [410]\n",
      "    │   ├── PwCalculation<2929> Finished [410]\n",
      "    │   └── PwCalculation<2937> Finished [0]\n",
      "    └── HpWorkChain<2943> Finished [300] [1:inspect_workchain]\n",
      "        └── HpBaseWorkChain<2945> Finished [300] [2:while_(should_run_process)(1:inspect_process)]\n",
      "            └── HpCalculation<2947> Finished [312]\n",
      "====================================================================================================\n"
     ]
    }
   ],
   "source": [
    "%%bash\n",
    "# verdi process show 2914\n",
    "# printf '=%.0s' {1..100}\n",
    "# echo\n",
    "# verdi process status 2914\n",
    "# printf '=%.0s' {1..100}\n",
    "# echo\n",
    "verdi process status 2914\n",
    "printf '=%.0s' {1..100}\n",
    "echo"
   ]
  },
  {
   "cell_type": "code",
   "execution_count": 104,
   "id": "22141308",
   "metadata": {},
   "outputs": [
    {
     "name": "stdout",
     "output_type": "stream",
     "text": [
      "\u001b[22mProperty     Value\n",
      "-----------  -----------------------------------------\n",
      "type         HpWorkChain\n",
      "state        Finished [300] A child work chain failed.\n",
      "pk           2943\n",
      "uuid         c6f4aa72-a87c-4155-8166-aaccbdf048a7\n",
      "label\n",
      "description\n",
      "ctime        2023-02-28 15:15:55.075488+01:00\n",
      "mtime        2023-02-28 15:19:11.256668+01:00\n",
      "\n",
      "Inputs                 PK    Type\n",
      "---------------------  ----  --------------------\n",
      "hp\n",
      "    code               2183  InstalledCode\n",
      "    parameters         2904  Dict\n",
      "    qpoints            2903  KpointsData\n",
      "    settings           2905  Dict\n",
      "    parent_scf         2938  RemoteData\n",
      "    hubbard_structure  2889  HubbardStructureData\n",
      "clean_workdir          2906  Bool\n",
      "max_iterations         2907  Int\n",
      "parallelize_atoms      2908  Bool\n",
      "\n",
      "Caller             PK  Type\n",
      "---------------  ----  ------------------------------\n",
      "iteration_01_hp  2914  SelfConsistentHubbardWorkChain\n",
      "\n",
      "Called             PK  Type\n",
      "---------------  ----  ---------------\n",
      "iteration_01_hp  2945  HpBaseWorkChain\n",
      "\n",
      "Log messages\n",
      "---------------------------------------------\n",
      "There are 2 log messages for this calculation\n",
      "Run 'verdi process report 2943' to see them\u001b[0m\n"
     ]
    }
   ],
   "source": [
    "!verdi process show 2943"
   ]
  },
  {
   "cell_type": "code",
   "execution_count": 49,
   "id": "8f8bd420",
   "metadata": {},
   "outputs": [
    {
     "name": "stdout",
     "output_type": "stream",
     "text": [
      "Property     Value\n",
      "-----------  ----------------------------------------------------------------\n",
      "type         SelfConsistentHubbardWorkChain\n",
      "state        Finished [404] The HpWorkChain sub process failed in iteration 1\n",
      "pk           2860\n",
      "uuid         89f3b9b9-578e-4b6b-b568-fd60e4f66a82\n",
      "label\n",
      "description\n",
      "ctime        2023-02-27 12:52:42.648723+01:00\n",
      "mtime        2023-02-27 19:15:58.656121+01:00\n",
      "\n",
      "Inputs                               PK    Type\n",
      "-----------------------------------  ----  --------------------\n",
      "hubbard\n",
      "    hp\n",
      "        code                         2183  InstalledCode\n",
      "        qpoints                      2849  KpointsData\n",
      "        parameters                   2850  Dict\n",
      "        settings                     2851  Dict\n",
      "    clean_workdir                    2852  Bool\n",
      "    max_iterations                   2853  Int\n",
      "    parallelize_atoms                2854  Bool\n",
      "relax\n",
      "    base\n",
      "        pw\n",
      "            pseudos\n",
      "                Li                   34    UpfData\n",
      "                O                    74    UpfData\n",
      "                P                    28    UpfData\n",
      "                Mn                   24    UpfData\n",
      "            code                     2182  InstalledCode\n",
      "            parameters               2836  Dict\n",
      "        kpoints_distance             2837  Float\n",
      "        kpoints_force_parity         2838  Bool\n",
      "        max_iterations               2839  Int\n",
      "    clean_workdir                    2840  Bool\n",
      "    max_meta_convergence_iterations  2841  Int\n",
      "    meta_convergence                 2842  Bool\n",
      "    volume_convergence               2843  Float\n",
      "scf\n",
      "    pw\n",
      "        pseudos\n",
      "            Li                       34    UpfData\n",
      "            O                        74    UpfData\n",
      "            P                        28    UpfData\n",
      "            Mn                       24    UpfData\n",
      "        code                         2182  InstalledCode\n",
      "        parameters                   2844  Dict\n",
      "    clean_workdir                    2845  Bool\n",
      "    kpoints_distance                 2846  Float\n",
      "    kpoints_force_parity             2847  Bool\n",
      "    max_iterations                   2848  Int\n",
      "clean_workdir                        2858  Bool\n",
      "hubbard_structure                    2835  HubbardStructureData\n",
      "max_iterations                       2859  Int\n",
      "meta_convergence                     2857  Bool\n",
      "tolerance_intersite                  2856  Float\n",
      "tolerance_onsite                     2855  Float\n",
      "\n",
      "Called                       PK  Type\n",
      "-------------------------  ----  ---------------\n",
      "iteration_01_scf_smearing  2862  PwBaseWorkChain\n",
      "iteration_01_hp            2881  HpWorkChain\n",
      "\n",
      "Log messages\n",
      "---------------------------------------------\n",
      "There are 7 log messages for this calculation\n",
      "Run 'verdi process report 2860' to see them\n",
      "====================================================================================================\n",
      "SelfConsistentHubbardWorkChain<2860> Finished [404] [1:while_(should_run_iteration)(6:inspect_hp)]\n",
      "    ├── PwBaseWorkChain<2862> Finished [0] [4:results]\n",
      "    │   ├── create_kpoints_from_distance<2863> Finished [0]\n",
      "    │   ├── PwCalculation<2867> Finished [410]\n",
      "    │   └── PwCalculation<2875> Finished [0]\n",
      "    └── HpWorkChain<2881> Finished [300] [1:inspect_workchain]\n",
      "        └── HpBaseWorkChain<2883> Finished [300] [2:while_(should_run_process)(1:inspect_process)]\n",
      "            └── HpCalculation<2885> Finished [312]\n",
      "====================================================================================================\n",
      "2023-02-27 12:52:44 [258 | REPORT]: [2860|SelfConsistentHubbardWorkChain|setup]: system is treated to be non-magnetic because `nspin == 1` in `scf.pw.parameters` input.\n",
      "2023-02-27 12:52:45 [259 | REPORT]: [2860|SelfConsistentHubbardWorkChain|should_run_relax]: skip_first_relax has been set True; skipping first relaxion...\n",
      "2023-02-27 12:52:45 [260 | REPORT]: [2860|SelfConsistentHubbardWorkChain|run_scf_smearing]: launching PwBaseWorkChain<2862> with smeared occupations\n",
      "2023-02-27 12:52:48 [261 | REPORT]:   [2862|PwBaseWorkChain|run_process]: launching PwCalculation<2867> iteration #1\n",
      "2023-02-27 14:35:17 [265 | REPORT]:   [2862|PwBaseWorkChain|report_error_handled]: PwCalculation<2867> failed with exit status 410: The electronic minimization cycle did not reach self-consistency.\n",
      "2023-02-27 14:35:17 [266 | REPORT]:   [2862|PwBaseWorkChain|report_error_handled]: Action taken: reduced beta mixing from 0.4 to 0.32000000000000006 and restarting from the last calculation\n",
      "2023-02-27 14:35:17 [267 | REPORT]:   [2862|PwBaseWorkChain|inspect_process]: PwCalculation<2867> failed but a handler dealt with the problem, restarting\n",
      "2023-02-27 14:35:17 [268 | REPORT]:   [2862|PwBaseWorkChain|run_process]: launching PwCalculation<2875> iteration #2\n",
      "2023-02-27 18:06:25 [270 | REPORT]:   [2862|PwBaseWorkChain|results]: work chain completed after 2 iterations\n",
      "2023-02-27 18:06:25 [271 | REPORT]:   [2862|PwBaseWorkChain|on_terminated]: remote folders will not be cleaned\n",
      "2023-02-27 18:06:25 [272 | REPORT]: [2860|SelfConsistentHubbardWorkChain|recon_scf]: after relaxation, system is determined to be a metal\n",
      "2023-02-27 18:06:26 [273 | REPORT]: [2860|SelfConsistentHubbardWorkChain|run_hp]: launching HpWorkChain<2881> iteration #1\n",
      "2023-02-27 18:06:27 [274 | REPORT]:   [2881|HpWorkChain|run_base_workchain]: running in serial, launching HpBaseWorkChain<2883>\n",
      "2023-02-27 18:06:28 [275 | REPORT]:     [2883|HpBaseWorkChain|run_process]: launching HpCalculation<2885> iteration #1\n",
      "2023-02-27 19:15:57 [277 | REPORT]:     [2883|HpBaseWorkChain|report_error_handled]: HpCalculation<2885> failed with exit status 312: The stdout output file was incomplete.\n",
      "2023-02-27 19:15:57 [278 | REPORT]:     [2883|HpBaseWorkChain|report_error_handled]: Action taken: unrecoverable error, aborting...\n",
      "2023-02-27 19:15:57 [279 | REPORT]:     [2883|HpBaseWorkChain|inspect_process]: HpCalculation<2885> failed but a handler detected an unrecoverable problem, aborting\n",
      "2023-02-27 19:15:58 [280 | REPORT]:     [2883|HpBaseWorkChain|on_terminated]: remote folders will not be cleaned\n",
      "2023-02-27 19:15:58 [281 | REPORT]:   [2881|HpWorkChain|inspect_workchain]: the HpBaseWorkChain workchain did not finish successfully\n",
      "2023-02-27 19:15:58 [282 | REPORT]: [2860|SelfConsistentHubbardWorkChain|inspect_hp]: hp.x in iteration 1 failed with exit status 300\n",
      "2023-02-27 19:15:58 [283 | REPORT]: [2860|SelfConsistentHubbardWorkChain|on_terminated]: remote folders will not be cleaned\n",
      "====================================================================================================\n"
     ]
    }
   ],
   "source": [
    "%%bash\n",
    "# Previous erroneous workchain, where Hubbard atoms were not in the beginning,\n",
    "# which causes a problem in the Hubbard code.\n",
    "verdi process show 2860\n",
    "printf '=%.0s' {1..100}\n",
    "echo\n",
    "verdi process status 2860\n",
    "printf '=%.0s' {1..100}\n",
    "echo\n",
    "verdi process report 2860\n",
    "printf '=%.0s' {1..100}\n",
    "echo"
   ]
  },
  {
   "cell_type": "code",
   "execution_count": null,
   "id": "fd4107b4",
   "metadata": {},
   "outputs": [],
   "source": []
  },
  {
   "cell_type": "code",
   "execution_count": 112,
   "id": "8bbc0586",
   "metadata": {},
   "outputs": [
    {
     "data": {
      "text/plain": [
       "<module 'aiida_quantumespresso_hp.calculations.functions.structure_relabel_kinds' from '/home/jgeiger/devel/aiida-quantumespresso-hp/src/aiida_quantumespresso_hp/calculations/functions/structure_relabel_kinds.py'>"
      ]
     },
     "execution_count": 112,
     "metadata": {},
     "output_type": "execute_result"
    },
    {
     "ename": "NotExistentAttributeError",
     "evalue": "Node<2945> does not have an output with link label 'hubbard_structure'",
     "output_type": "error",
     "traceback": [
      "\u001b[0;31m---------------------------------------------------------------------------\u001b[0m",
      "\u001b[0;31mKeyError\u001b[0m                                  Traceback (most recent call last)",
      "\u001b[0;32m~/projects/bat_uv_ml/code/env/lib/python3.8/site-packages/aiida/orm/utils/managers.py\u001b[0m in \u001b[0;36m_get_node_by_link_label\u001b[0;34m(self, label)\u001b[0m\n\u001b[1;32m     90\u001b[0m         \u001b[0;32mtry\u001b[0m\u001b[0;34m:\u001b[0m\u001b[0;34m\u001b[0m\u001b[0;34m\u001b[0m\u001b[0m\n\u001b[0;32m---> 91\u001b[0;31m             \u001b[0mnode\u001b[0m \u001b[0;34m=\u001b[0m \u001b[0mattribute_dict\u001b[0m\u001b[0;34m[\u001b[0m\u001b[0mlabel\u001b[0m\u001b[0;34m]\u001b[0m\u001b[0;34m\u001b[0m\u001b[0;34m\u001b[0m\u001b[0m\n\u001b[0m\u001b[1;32m     92\u001b[0m         \u001b[0;32mexcept\u001b[0m \u001b[0mKeyError\u001b[0m \u001b[0;32mas\u001b[0m \u001b[0mexception\u001b[0m\u001b[0;34m:\u001b[0m\u001b[0;34m\u001b[0m\u001b[0;34m\u001b[0m\u001b[0m\n",
      "\u001b[0;31mKeyError\u001b[0m: 'hubbard_structure'",
      "\nThe above exception was the direct cause of the following exception:\n",
      "\u001b[0;31mNotExistent\u001b[0m                               Traceback (most recent call last)",
      "\u001b[0;32m~/projects/bat_uv_ml/code/env/lib/python3.8/site-packages/aiida/orm/utils/managers.py\u001b[0m in \u001b[0;36m__getattr__\u001b[0;34m(self, name)\u001b[0m\n\u001b[1;32m    138\u001b[0m         \u001b[0;32mtry\u001b[0m\u001b[0;34m:\u001b[0m\u001b[0;34m\u001b[0m\u001b[0;34m\u001b[0m\u001b[0m\n\u001b[0;32m--> 139\u001b[0;31m             \u001b[0;32mreturn\u001b[0m \u001b[0mself\u001b[0m\u001b[0;34m.\u001b[0m\u001b[0m_get_node_by_link_label\u001b[0m\u001b[0;34m(\u001b[0m\u001b[0mlabel\u001b[0m\u001b[0;34m=\u001b[0m\u001b[0mname\u001b[0m\u001b[0;34m)\u001b[0m\u001b[0;34m\u001b[0m\u001b[0;34m\u001b[0m\u001b[0m\n\u001b[0m\u001b[1;32m    140\u001b[0m         \u001b[0;32mexcept\u001b[0m \u001b[0mNotExistent\u001b[0m \u001b[0;32mas\u001b[0m \u001b[0mexception\u001b[0m\u001b[0;34m:\u001b[0m\u001b[0;34m\u001b[0m\u001b[0;34m\u001b[0m\u001b[0m\n",
      "\u001b[0;32m~/projects/bat_uv_ml/code/env/lib/python3.8/site-packages/aiida/orm/utils/managers.py\u001b[0m in \u001b[0;36m_get_node_by_link_label\u001b[0;34m(self, label)\u001b[0m\n\u001b[1;32m    117\u001b[0m                     \u001b[0;32mraise\u001b[0m \u001b[0mNotExistent\u001b[0m \u001b[0;32mfrom\u001b[0m \u001b[0mexc\u001b[0m\u001b[0;34m\u001b[0m\u001b[0;34m\u001b[0m\u001b[0m\n\u001b[0;32m--> 118\u001b[0;31m             \u001b[0;32mraise\u001b[0m \u001b[0mNotExistent\u001b[0m \u001b[0;32mfrom\u001b[0m \u001b[0mexception\u001b[0m\u001b[0;34m\u001b[0m\u001b[0;34m\u001b[0m\u001b[0m\n\u001b[0m\u001b[1;32m    119\u001b[0m \u001b[0;34m\u001b[0m\u001b[0m\n",
      "\u001b[0;31mNotExistent\u001b[0m: ",
      "\nThe above exception was the direct cause of the following exception:\n",
      "\u001b[0;31mNotExistentAttributeError\u001b[0m                 Traceback (most recent call last)",
      "\u001b[0;32m/tmp/ipykernel_98052/1011726924.py\u001b[0m in \u001b[0;36m<cell line: 12>\u001b[0;34m()\u001b[0m\n\u001b[1;32m     11\u001b[0m \u001b[0;34m\u001b[0m\u001b[0m\n\u001b[1;32m     12\u001b[0m relabel_output = structure_relabel_kinds.structure_relabel_kinds(\n\u001b[0;32m---> 13\u001b[0;31m     \u001b[0mhubbard_structure\u001b[0m\u001b[0;34m=\u001b[0m\u001b[0mfailed_hp_workchain\u001b[0m\u001b[0;34m.\u001b[0m\u001b[0moutputs\u001b[0m\u001b[0;34m.\u001b[0m\u001b[0mhubbard_structure\u001b[0m\u001b[0;34m,\u001b[0m\u001b[0;34m\u001b[0m\u001b[0;34m\u001b[0m\u001b[0m\n\u001b[0m\u001b[1;32m     14\u001b[0m     \u001b[0mhubbard\u001b[0m\u001b[0;34m=\u001b[0m\u001b[0mfailed_hp_workchain\u001b[0m\u001b[0;34m.\u001b[0m\u001b[0moutputs\u001b[0m\u001b[0;34m.\u001b[0m\u001b[0mhubbard\u001b[0m\u001b[0;34m\u001b[0m\u001b[0;34m\u001b[0m\u001b[0m\n\u001b[1;32m     15\u001b[0m )\n",
      "\u001b[0;32m~/projects/bat_uv_ml/code/env/lib/python3.8/site-packages/aiida/orm/utils/managers.py\u001b[0m in \u001b[0;36m__getattr__\u001b[0;34m(self, name)\u001b[0m\n\u001b[1;32m    143\u001b[0m             \u001b[0;31m# Otherwise, the exception is not caught by `getattr` and is propagated, instead of returning the default.\u001b[0m\u001b[0;34m\u001b[0m\u001b[0;34m\u001b[0m\u001b[0;34m\u001b[0m\u001b[0m\n\u001b[1;32m    144\u001b[0m             \u001b[0mprefix\u001b[0m \u001b[0;34m=\u001b[0m \u001b[0;34m'input'\u001b[0m \u001b[0;32mif\u001b[0m \u001b[0mself\u001b[0m\u001b[0;34m.\u001b[0m\u001b[0m_incoming\u001b[0m \u001b[0;32melse\u001b[0m \u001b[0;34m'output'\u001b[0m\u001b[0;34m\u001b[0m\u001b[0;34m\u001b[0m\u001b[0m\n\u001b[0;32m--> 145\u001b[0;31m             raise NotExistentAttributeError(\n\u001b[0m\u001b[1;32m    146\u001b[0m                 \u001b[0;34mf\"Node<{self._node.pk}> does not have an {prefix} with link label '{name}'\"\u001b[0m\u001b[0;34m\u001b[0m\u001b[0;34m\u001b[0m\u001b[0m\n\u001b[1;32m    147\u001b[0m             ) from exception\n",
      "\u001b[0;31mNotExistentAttributeError\u001b[0m: Node<2945> does not have an output with link label 'hubbard_structure'"
     ]
    }
   ],
   "source": [
    "import importlib\n",
    "from aiida_quantumespresso_hp.calculations.functions import structure_relabel_kinds\n",
    "importlib.reload(structure_relabel_kinds)\n",
    "\n",
    "\n",
    "hubbard_data = orm.load_node(2889)  # I load the node from the database instead of always regenerating it\n",
    "failed_hp_workchain = load_node(2945)\n",
    "\n",
    "qe_hubbard_card_before = hubbard_data.get_quantum_espresso_hubbard_card()\n",
    "# print('Hubbard card before structure_relabel_kinds\\n\\n', qe_hubbard_card_before)\n",
    "\n",
    "relabel_output = structure_relabel_kinds.structure_relabel_kinds(\n",
    "    hubbard_structure=failed_hp_workchain.outputs.hubbard_structure,\n",
    "    hubbard=failed_hp_workchain.outputs.hubbard\n",
    ")\n",
    "\n",
    "qe_hubbard_card_after = relabel_output['hubbard_structure'].get_quantum_espresso_hubbard_card()\n",
    "\n",
    "print('Hubbard card after structure_relabel_kinds\\n\\n', qe_hubbard_card_after)"
   ]
  }
 ],
 "metadata": {
  "kernelspec": {
   "display_name": "env-bat_uv_ml",
   "language": "python",
   "name": "python3"
  },
  "language_info": {
   "codemirror_mode": {
    "name": "ipython",
    "version": 3
   },
   "file_extension": ".py",
   "mimetype": "text/x-python",
   "name": "python",
   "nbconvert_exporter": "python",
   "pygments_lexer": "ipython3",
   "version": "3.8.10"
  },
  "vscode": {
   "interpreter": {
    "hash": "e4b99e4fb7239675e78e08baa36e5541415cefe51d419b717bbcddc9f1c4003f"
   }
  }
 },
 "nbformat": 4,
 "nbformat_minor": 5
}
