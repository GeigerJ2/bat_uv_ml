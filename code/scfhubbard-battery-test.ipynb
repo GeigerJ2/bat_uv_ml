{
 "cells": [
  {
   "cell_type": "code",
   "execution_count": null,
   "id": "0d96feaf-8817-453a-b4d0-560f5f29d33c",
   "metadata": {},
   "outputs": [],
   "source": [
    "import pathlib\n",
    "import os\n",
    "import numpy as np\n",
    "import pandas as pd\n",
    "from ase.visualize import view\n",
    "from ase.build.tools import sort as ase_sort\n",
    "from ase.atoms import Atoms\n",
    "\n",
    "from aiida import orm, load_profile\n",
    "from aiida.orm import load_node\n",
    "from aiida.engine import submit\n",
    "\n",
    "from qe_tools import CONSTANTS\n",
    "\n",
    "from aiida_quantumespresso_hp.workflows.hubbard import SelfConsistentHubbardWorkChain\n",
    "from aiida_quantumespresso.data.hubbard_structure import HubbardStructureData\n",
    "\n",
    "from project_settings import *\n",
    "\n",
    "load_profile()\n",
    "\n",
    "from IPython.core.interactiveshell import InteractiveShell\n",
    "InteractiveShell.ast_node_interactivity = \"all\""
   ]
  },
  {
   "cell_type": "code",
   "execution_count": null,
   "id": "c7d7f5cc",
   "metadata": {},
   "outputs": [],
   "source": [
    "fully_lithiated_df = pd.read_pickle(os.path.join(project_dir, 'data', 'fully_lithiated_df.pkl'))\n",
    "mn_olivine_ase = fully_lithiated_df['ase_in'].values[0]\n",
    "\n",
    "sorting_dict = {\n",
    "    'Mn': 0,\n",
    "    'O': 1,\n",
    "    'P': 2,\n",
    "    'Li': 3,\n",
    "}\n",
    "\n",
    "# ! Does not take into account initial magmoms for now\n",
    "mn_olivine_ase_ordered = Atoms(sorted(mn_olivine_ase, key=lambda x: sorting_dict[x.symbol]))\n",
    "mn_olivine_ase_ordered.set_cell(mn_olivine_ase.get_cell())\n",
    "\n",
    "mn_olivine_aiida = orm.StructureData(ase=mn_olivine_ase_ordered)"
   ]
  },
  {
   "attachments": {},
   "cell_type": "markdown",
   "id": "cbd6c351-07bf-4935-8149-c5dc3e802ca2",
   "metadata": {},
   "source": [
    "## HubbardStructureData initialization\n",
    "Let's initialize the HubbardStructureData with the olivine structure!"
   ]
  },
  {
   "cell_type": "code",
   "execution_count": null,
   "id": "68238387-c713-47b0-b501-28f6cee06b67",
   "metadata": {},
   "outputs": [],
   "source": [
    "hubbard_data_inv = HubbardStructureData(structure=mn_olivine_aiida)"
   ]
  },
  {
   "cell_type": "code",
   "execution_count": null,
   "id": "1dd1cbca-7de7-483e-a7a6-8b7aa900254b",
   "metadata": {},
   "outputs": [],
   "source": [
    "# hubbard_data.reorder_atoms()"
   ]
  },
  {
   "cell_type": "markdown",
   "id": "db3586b0-0d08-437c-9416-28b4de12ad7e",
   "metadata": {},
   "source": [
    "## Initializing the on-site Hubbard\n",
    "Let's initialize the on-site Hubbard parameter for the titanium atom."
   ]
  },
  {
   "cell_type": "code",
   "execution_count": null,
   "id": "97aa36f8-e5b9-435c-b4bd-08c4850b02a9",
   "metadata": {},
   "outputs": [],
   "source": [
    "# Taken from parameters.in of:\n",
    "# /home/jgeiger/projects/bat_uv_ml/data/olivine_iurii/LixMnPO4/Li1.00/DFT_plus_UV/9_PDOS/LMPO.scf.1.in\n",
    "hubbard_data_inv.initialize_onsites_hubbard('Mn', '3d', 4.5618)"
   ]
  },
  {
   "cell_type": "markdown",
   "id": "3271f32e-df00-49f8-a678-d1f83d51bae1",
   "metadata": {},
   "source": [
    "Here how it is stored in the class."
   ]
  },
  {
   "cell_type": "code",
   "execution_count": null,
   "id": "f4bc5921-ce79-4e3d-804e-3ed6523e6b93",
   "metadata": {},
   "outputs": [],
   "source": [
    "hubbard_data_inv.hubbard_parameters"
   ]
  },
  {
   "cell_type": "markdown",
   "id": "97632bc2-b652-4d04-b917-15c688468253",
   "metadata": {},
   "source": [
    "## Initializing the inter-site Hubbard\n",
    "Let's initialize the inter-site Hubbard parameter for the titanium and oxygen atoms."
   ]
  },
  {
   "cell_type": "code",
   "execution_count": null,
   "id": "3eb86220-436e-4592-af95-a359c8923b6d",
   "metadata": {},
   "outputs": [],
   "source": [
    "hubbard_data_inv.initialize_intersites_hubbard('Mn', '3d', 'O', '2p', 0.0001, number_of_neighbours=7) \n",
    "# ! Ti has 6 oxygen neighbors in BaTiO3. Similarly, Mn has 6 oxygen neighbors in LMPO (olivine). So, we need to use N+1 in the call to initialize_intersites_hubbard, as the value is used for list slicing, like [:number_of_neighbours], which is exclusive of the last index."
   ]
  },
  {
   "cell_type": "markdown",
   "id": "a5df15af-5574-42be-aa58-890d2d95c5d2",
   "metadata": {},
   "source": [
    "The parameters are saved in the property `hubbard_parameters` as a list."
   ]
  },
  {
   "cell_type": "code",
   "execution_count": null,
   "id": "ab486809-31f7-4bc3-9425-0467811da1d3",
   "metadata": {},
   "outputs": [],
   "source": [
    "hubbard_data_inv.hubbard_parameters"
   ]
  },
  {
   "cell_type": "code",
   "execution_count": null,
   "id": "6d6562c9",
   "metadata": {},
   "outputs": [],
   "source": [
    "print(hubbard_data_inv.get_quantum_espresso_hubbard_card())\n",
    "print(hubbard_data_inv.get_quantum_espresso_hubbard_parameters())"
   ]
  },
  {
   "cell_type": "code",
   "execution_count": null,
   "id": "94a34186",
   "metadata": {},
   "outputs": [],
   "source": [
    "print(type(mn_olivine_aiida))\n",
    "print(mn_olivine_aiida.get_ase().get_chemical_symbols())\n",
    "from aiida.orm.nodes.data.structure import StructureData"
   ]
  },
  {
   "cell_type": "code",
   "execution_count": null,
   "id": "cb1b4b3b-8fe5-4f29-8ee9-54e3f564017f",
   "metadata": {},
   "outputs": [],
   "source": [
    "hubbard_data_inv.store()\n",
    "hubbard_data_inv.pk"
   ]
  },
  {
   "cell_type": "code",
   "execution_count": null,
   "id": "5a8700c8",
   "metadata": {},
   "outputs": [],
   "source": [
    "inverted_hubbard_data_pk = 3015"
   ]
  },
  {
   "cell_type": "markdown",
   "id": "f53e706b-5f5c-4f85-92aa-45355eb17e89",
   "metadata": {},
   "source": [
    "## Running the `SelfConsistentHubbardWorkChain`"
   ]
  },
  {
   "cell_type": "code",
   "execution_count": null,
   "metadata": {},
   "outputs": [],
   "source": [
    "hubbard_data_inv = orm.load_node(inverted_hubbard_data_pk)  # I load the node from the database instead of always regenerating it\n",
    "hubbard_data_inv.hubbard_parameters\n",
    "# print(hubbard_data.get_quantum_espresso_hubbard_card())\n",
    "# type(hubbard_data)\n",
    "\n",
    "# ? On-site gets only stored once, if I am not mistaken.\n",
    "# ? Index is changed from 0-based (Python) to 1-based (Quantum ESPRESSO)"
   ]
  },
  {
   "cell_type": "code",
   "execution_count": null,
   "metadata": {},
   "outputs": [],
   "source": [
    "pw_code = orm.load_code('qe-dev-pw@lumi-small')\n",
    "hp_code = orm.load_code('qe-dev-hp@lumi-small')\n",
    "\n",
    "builder = SelfConsistentHubbardWorkChain.get_builder_from_protocol(\n",
    "    pw_code=pw_code,\n",
    "    hp_code=hp_code,\n",
    "    hubbard_structure=hubbard_data_inv,\n",
    "    protocol='fast',\n",
    "    overrides=pathlib.Path('hubbard_overrides.yaml')\n",
    ")\n",
    "\n",
    "builder.skip_first_relax = True"
   ]
  },
  {
   "cell_type": "code",
   "execution_count": null,
   "id": "76ff4bf8",
   "metadata": {},
   "outputs": [],
   "source": [
    "olivine_workchain_submit_inv = submit(builder)\n",
    "print(olivine_workchain_submit_inv)"
   ]
  },
  {
   "cell_type": "code",
   "execution_count": null,
   "id": "36d4999e",
   "metadata": {},
   "outputs": [],
   "source": [
    "olivine_workchain_submit_inv_pk_first = 2914\n",
    "olivine_workchain_submit_inv_pk_second = 2978\n",
    "olivine_workchain_submit_inv_pk_second = 3040"
   ]
  },
  {
   "cell_type": "code",
   "execution_count": null,
   "id": "98ca9758",
   "metadata": {},
   "outputs": [],
   "source": [
    "!verdi process status 3040\n",
    "!verdi process report 3040\n",
    "!verdi process status 3071"
   ]
  },
  {
   "cell_type": "code",
   "execution_count": null,
   "id": "618ba975",
   "metadata": {},
   "outputs": [],
   "source": [
    "!verdi process status 3071\n",
    "!verdi process report 3071\n",
    "!verdi process show 3071"
   ]
  },
  {
   "cell_type": "code",
   "execution_count": null,
   "id": "5b519eca",
   "metadata": {},
   "outputs": [],
   "source": [
    "%%bash\n",
    "# verdi process show 2914\n",
    "# printf '=%.0s' {1..100}\n",
    "# echo\n",
    "# verdi process status 2914\n",
    "# printf '=%.0s' {1..100}\n",
    "# echo\n",
    "verdi process status 2914\n",
    "printf '=%.0s' {1..100}\n",
    "echo"
   ]
  },
  {
   "cell_type": "code",
   "execution_count": null,
   "id": "22141308",
   "metadata": {},
   "outputs": [],
   "source": [
    "!verdi process show 2943"
   ]
  },
  {
   "cell_type": "code",
   "execution_count": null,
   "id": "8f8bd420",
   "metadata": {},
   "outputs": [],
   "source": [
    "%%bash\n",
    "# Previous erroneous workchain, where Hubbard atoms were not in the beginning,\n",
    "# which causes a problem in the Hubbard code.\n",
    "verdi process show 2860\n",
    "printf '=%.0s' {1..100}\n",
    "echo\n",
    "verdi process status 2860\n",
    "printf '=%.0s' {1..100}\n",
    "echo\n",
    "verdi process report 2860\n",
    "printf '=%.0s' {1..100}\n",
    "echo"
   ]
  },
  {
   "cell_type": "code",
   "execution_count": null,
   "id": "fd4107b4",
   "metadata": {},
   "outputs": [],
   "source": []
  },
  {
   "cell_type": "code",
   "execution_count": null,
   "id": "8bbc0586",
   "metadata": {},
   "outputs": [],
   "source": [
    "import importlib\n",
    "from aiida_quantumespresso_hp.calculations.functions import structure_relabel_kinds\n",
    "importlib.reload(structure_relabel_kinds)\n",
    "\n",
    "\n",
    "hubbard_data = orm.load_node(2889)  # I load the node from the database instead of always regenerating it\n",
    "failed_hp_workchain = load_node(2945)\n",
    "\n",
    "qe_hubbard_card_before = hubbard_data.get_quantum_espresso_hubbard_card()\n",
    "# print('Hubbard card before structure_relabel_kinds\\n\\n', qe_hubbard_card_before)\n",
    "\n",
    "relabel_output = structure_relabel_kinds.structure_relabel_kinds(\n",
    "    hubbard_structure=failed_hp_workchain.outputs.hubbard_structure,\n",
    "    hubbard=failed_hp_workchain.outputs.hubbard\n",
    ")\n",
    "\n",
    "qe_hubbard_card_after = relabel_output['hubbard_structure'].get_quantum_espresso_hubbard_card()\n",
    "\n",
    "print('Hubbard card after structure_relabel_kinds\\n\\n', qe_hubbard_card_after)"
   ]
  }
 ],
 "metadata": {
  "kernelspec": {
   "display_name": "env-bat_uv_ml",
   "language": "python",
   "name": "python3"
  },
  "language_info": {
   "codemirror_mode": {
    "name": "ipython",
    "version": 3
   },
   "file_extension": ".py",
   "mimetype": "text/x-python",
   "name": "python",
   "nbconvert_exporter": "python",
   "pygments_lexer": "ipython3",
   "version": "3.8.10"
  },
  "vscode": {
   "interpreter": {
    "hash": "e4b99e4fb7239675e78e08baa36e5541415cefe51d419b717bbcddc9f1c4003f"
   }
  }
 },
 "nbformat": 4,
 "nbformat_minor": 5
}
