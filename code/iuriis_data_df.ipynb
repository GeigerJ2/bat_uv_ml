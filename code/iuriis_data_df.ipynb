{
 "cells": [
  {
   "cell_type": "code",
   "execution_count": 1,
   "metadata": {},
   "outputs": [],
   "source": [
    "from IPython.core.interactiveshell import InteractiveShell\n",
    "InteractiveShell.ast_node_interactivity = \"all\"\n",
    "\n",
    "from collections import Counter\n",
    "import pandas as pd\n",
    "import os\n",
    "import glob\n",
    "import copy\n",
    "from pathlib import Path\n",
    "\n",
    "from pprint import pprint\n",
    "import itertools as it\n",
    "from collections import Counter\n",
    "import numpy as np\n",
    "\n",
    "from aiida import load_profile\n",
    "from aiida.orm.nodes.data.structure import StructureData\n",
    "\n",
    "from aiida_quantumespresso.tools.pwinputparser import create_builder_from_file\n",
    "from aiida_quantumespresso.calculations.pw import PwCalculation\n",
    "from aiida_quantumespresso.calculations.pwimmigrant import PwimmigrantCalculation\n",
    "from aiida.engine import submit\n",
    "from aiida_quantumespresso.calculations.pw import PwCalculation\n",
    "from aiida_quantumespresso.workflows.pw.relax import PwRelaxWorkChain\n",
    "from aiida_quantumespresso.workflows.pw.base import PwBaseWorkChain\n",
    "from aiida.orm import load_node, load_code\n",
    "\n",
    "from qe_tools.exceptions import ParsingError\n",
    "\n",
    "# from own_utils.calc_df import init_project_df\n",
    "\n",
    "from pymatgen.io.ase import AseAtomsAdaptor\n",
    "\n",
    "# import pybat\n",
    "# from pybat import Cathode, LiRichCathode, Dimer, DimerNEBAnalysis\n",
    "\n",
    "from ase.visualize import view\n",
    "from ase.io.vasp import read_vasp, write_vasp\n",
    "from ase.build.tools import sort\n",
    "\n",
    "# from itables import init_notebook_mode\n",
    "# init_notebook_mode(all_interactive=True)\n",
    "pd.set_option('display.max_colwidth', None)"
   ]
  },
  {
   "cell_type": "code",
   "execution_count": 2,
   "metadata": {},
   "outputs": [
    {
     "data": {
      "text/plain": [
       "Profile<uuid='4fe00b7a32994cfca8b6cf43c2d22a53' name='jgeiger'>"
      ]
     },
     "execution_count": 2,
     "metadata": {},
     "output_type": "execute_result"
    }
   ],
   "source": [
    "load_profile()"
   ]
  },
  {
   "cell_type": "code",
   "execution_count": 3,
   "metadata": {},
   "outputs": [],
   "source": [
    "# iurii_olivine_dir = '/home/jgeiger/projects/bat_uv_ml/data/olivines_iurii/LixMnPO4/Li1.00/DFT_plus_U/1_vcrelax/'\n",
    "# iurii_olivine_file = 'LiMnPO4.vcrelax.1.in'\n",
    "# iurii_pseudo_dir = '/home/jgeiger/projects/bat_uv_ml/data/olivines_iurii/Pseudopotentials/SSSP'\n",
    "# iurri_spinel_dir = '/home/jgeiger/projects/bat_uv_ml/data/spinel_iurii/LixMn2O4/DFT+U/LiMn2O4/1_vcrelax'\n",
    "# iurii_spinel_file = 'LiMn2O4.vcrelax.1.in'"
   ]
  },
  {
   "cell_type": "code",
   "execution_count": 4,
   "metadata": {},
   "outputs": [],
   "source": [
    "spinel_dir_iurii = '/home/jgeiger/projects/bat_uv_ml/data/spinel_iurii'\n",
    "olivine_dir_iurii = '/home/jgeiger/projects/bat_uv_ml/data/olivine_iurii'\n",
    "project_dir = '/home/jgeiger/projects/bat_uv_ml'\n",
    "pseudo_dir = '/usr/share/espresso/pseudo/'"
   ]
  },
  {
   "cell_type": "code",
   "execution_count": 5,
   "metadata": {},
   "outputs": [],
   "source": [
    "def init_project_df(calc_dir, file_glob):\n",
    "    # TODO: Extent for multiple file types, also for output files -> can be done by passing a tuple, which endswith accepts.\n",
    "    # path_list = [os.path.dirname(path) for path in Path(calc_dir).rglob(file_glob)]\n",
    "    path_list = []\n",
    "    for root, dirs, files in os.walk(calc_dir):\n",
    "        for file in files:\n",
    "            if file.endswith(file_glob):\n",
    "                path_list.append(os.path.join(root, file))\n",
    "    # path_list = [_.replace('+', '\\+') for _ in path_list]\n",
    "\n",
    "    full_project_df = pd.DataFrame()\n",
    "    full_project_df['abs_path'] = [os.path.dirname(_) for _ in path_list]\n",
    "    full_project_df['calc_in'] = [os.path.basename(_) for _ in path_list]\n",
    "    full_project_df['abs_path_in'] = path_list\n",
    "    # ! Rel path buggy because it ends up being \n",
    "    # full_project_df['rel_path'] = full_project_df['abs_path'].str.replace(project_dir, '.')\n",
    "\n",
    "    return full_project_df\n",
    "\n",
    "def add_calcdata(df_in):\n",
    "    calctype_regex = r\"\\.(pdos|dos|nscf|scf|hp|vcrelax)\\.\"\n",
    "    df_out = df_in.copy(deep=True)\n",
    "    df_out['calc_name'] = df_out['calc_in'].apply(lambda x: Path(x).stem)\n",
    "    df_out['calc_type'] = df_out['calc_in'].str.extract(calctype_regex)\n",
    "    df_out['calc_out'] = df_out['calc_in'].str.replace('.in', '.out', regex=False)\n",
    "    return df_out\n",
    "\n",
    "# ! Also matches paremeters.in file, which results in calctype = nan\n",
    "spinel_df_iurii = init_project_df(\n",
    "    calc_dir=spinel_dir_iurii,\n",
    "    file_glob='.in' # ('.in', '.out')\n",
    "    )\n",
    "\n",
    "olivine_df_iurii = init_project_df(\n",
    "    calc_dir=olivine_dir_iurii,\n",
    "    file_glob='.in'\n",
    "    )\n",
    "# olivine_df_iurii = olivine_df_iurii.dropna()\n"
   ]
  },
  {
   "cell_type": "code",
   "execution_count": 6,
   "metadata": {},
   "outputs": [
    {
     "data": {
      "text/plain": [
       "(1304, 6)"
      ]
     },
     "execution_count": 6,
     "metadata": {},
     "output_type": "execute_result"
    },
    {
     "data": {
      "text/html": [
       "<div>\n",
       "<style scoped>\n",
       "    .dataframe tbody tr th:only-of-type {\n",
       "        vertical-align: middle;\n",
       "    }\n",
       "\n",
       "    .dataframe tbody tr th {\n",
       "        vertical-align: top;\n",
       "    }\n",
       "\n",
       "    .dataframe thead th {\n",
       "        text-align: right;\n",
       "    }\n",
       "</style>\n",
       "<table border=\"1\" class=\"dataframe\">\n",
       "  <thead>\n",
       "    <tr style=\"text-align: right;\">\n",
       "      <th></th>\n",
       "      <th>abs_path</th>\n",
       "      <th>calc_in</th>\n",
       "      <th>abs_path_in</th>\n",
       "      <th>calc_name</th>\n",
       "      <th>calc_type</th>\n",
       "      <th>calc_out</th>\n",
       "    </tr>\n",
       "  </thead>\n",
       "  <tbody>\n",
       "    <tr>\n",
       "      <th>0</th>\n",
       "      <td>/home/jgeiger/projects/bat_uv_ml/data/spinel_iurii_unmod/LixMn1.5Ni0.5O4/DFT+U/LiMn1.5Ni0.5O4/5_pdos</td>\n",
       "      <td>LiMn1.5Ni0.5O4.scf.1.in</td>\n",
       "      <td>/home/jgeiger/projects/bat_uv_ml/data/spinel_iurii_unmod/LixMn1.5Ni0.5O4/DFT+U/LiMn1.5Ni0.5O4/5_pdos/LiMn1.5Ni0.5O4.scf.1.in</td>\n",
       "      <td>LiMn1.5Ni0.5O4.scf.1</td>\n",
       "      <td>scf</td>\n",
       "      <td>LiMn1.5Ni0.5O4.scf.1.out</td>\n",
       "    </tr>\n",
       "    <tr>\n",
       "      <th>1</th>\n",
       "      <td>/home/jgeiger/projects/bat_uv_ml/data/spinel_iurii_unmod/LixMn1.5Ni0.5O4/DFT+U/LiMn1.5Ni0.5O4/5_pdos</td>\n",
       "      <td>LiMn1.5Ni0.5O4.scf.2.in</td>\n",
       "      <td>/home/jgeiger/projects/bat_uv_ml/data/spinel_iurii_unmod/LixMn1.5Ni0.5O4/DFT+U/LiMn1.5Ni0.5O4/5_pdos/LiMn1.5Ni0.5O4.scf.2.in</td>\n",
       "      <td>LiMn1.5Ni0.5O4.scf.2</td>\n",
       "      <td>scf</td>\n",
       "      <td>LiMn1.5Ni0.5O4.scf.2.out</td>\n",
       "    </tr>\n",
       "    <tr>\n",
       "      <th>2</th>\n",
       "      <td>/home/jgeiger/projects/bat_uv_ml/data/spinel_iurii_unmod/LixMn1.5Ni0.5O4/DFT+U/LiMn1.5Ni0.5O4/5_pdos</td>\n",
       "      <td>LiMn1.5Ni0.5O4.dos.in</td>\n",
       "      <td>/home/jgeiger/projects/bat_uv_ml/data/spinel_iurii_unmod/LixMn1.5Ni0.5O4/DFT+U/LiMn1.5Ni0.5O4/5_pdos/LiMn1.5Ni0.5O4.dos.in</td>\n",
       "      <td>LiMn1.5Ni0.5O4.dos</td>\n",
       "      <td>dos</td>\n",
       "      <td>LiMn1.5Ni0.5O4.dos.out</td>\n",
       "    </tr>\n",
       "    <tr>\n",
       "      <th>3</th>\n",
       "      <td>/home/jgeiger/projects/bat_uv_ml/data/spinel_iurii_unmod/LixMn1.5Ni0.5O4/DFT+U/LiMn1.5Ni0.5O4/5_pdos</td>\n",
       "      <td>LiMn1.5Ni0.5O4.pdos.in</td>\n",
       "      <td>/home/jgeiger/projects/bat_uv_ml/data/spinel_iurii_unmod/LixMn1.5Ni0.5O4/DFT+U/LiMn1.5Ni0.5O4/5_pdos/LiMn1.5Ni0.5O4.pdos.in</td>\n",
       "      <td>LiMn1.5Ni0.5O4.pdos</td>\n",
       "      <td>pdos</td>\n",
       "      <td>LiMn1.5Ni0.5O4.pdos.out</td>\n",
       "    </tr>\n",
       "    <tr>\n",
       "      <th>4</th>\n",
       "      <td>/home/jgeiger/projects/bat_uv_ml/data/spinel_iurii_unmod/LixMn1.5Ni0.5O4/DFT+U/LiMn1.5Ni0.5O4/3_vcrelax</td>\n",
       "      <td>LiMn1.5Ni0.5O4.vcrelax.in</td>\n",
       "      <td>/home/jgeiger/projects/bat_uv_ml/data/spinel_iurii_unmod/LixMn1.5Ni0.5O4/DFT+U/LiMn1.5Ni0.5O4/3_vcrelax/LiMn1.5Ni0.5O4.vcrelax.in</td>\n",
       "      <td>LiMn1.5Ni0.5O4.vcrelax</td>\n",
       "      <td>vcrelax</td>\n",
       "      <td>LiMn1.5Ni0.5O4.vcrelax.out</td>\n",
       "    </tr>\n",
       "  </tbody>\n",
       "</table>\n",
       "</div>"
      ],
      "text/plain": [
       "                                                                                                  abs_path  \\\n",
       "0     /home/jgeiger/projects/bat_uv_ml/data/spinel_iurii_unmod/LixMn1.5Ni0.5O4/DFT+U/LiMn1.5Ni0.5O4/5_pdos   \n",
       "1     /home/jgeiger/projects/bat_uv_ml/data/spinel_iurii_unmod/LixMn1.5Ni0.5O4/DFT+U/LiMn1.5Ni0.5O4/5_pdos   \n",
       "2     /home/jgeiger/projects/bat_uv_ml/data/spinel_iurii_unmod/LixMn1.5Ni0.5O4/DFT+U/LiMn1.5Ni0.5O4/5_pdos   \n",
       "3     /home/jgeiger/projects/bat_uv_ml/data/spinel_iurii_unmod/LixMn1.5Ni0.5O4/DFT+U/LiMn1.5Ni0.5O4/5_pdos   \n",
       "4  /home/jgeiger/projects/bat_uv_ml/data/spinel_iurii_unmod/LixMn1.5Ni0.5O4/DFT+U/LiMn1.5Ni0.5O4/3_vcrelax   \n",
       "\n",
       "                     calc_in  \\\n",
       "0    LiMn1.5Ni0.5O4.scf.1.in   \n",
       "1    LiMn1.5Ni0.5O4.scf.2.in   \n",
       "2      LiMn1.5Ni0.5O4.dos.in   \n",
       "3     LiMn1.5Ni0.5O4.pdos.in   \n",
       "4  LiMn1.5Ni0.5O4.vcrelax.in   \n",
       "\n",
       "                                                                                                                         abs_path_in  \\\n",
       "0       /home/jgeiger/projects/bat_uv_ml/data/spinel_iurii_unmod/LixMn1.5Ni0.5O4/DFT+U/LiMn1.5Ni0.5O4/5_pdos/LiMn1.5Ni0.5O4.scf.1.in   \n",
       "1       /home/jgeiger/projects/bat_uv_ml/data/spinel_iurii_unmod/LixMn1.5Ni0.5O4/DFT+U/LiMn1.5Ni0.5O4/5_pdos/LiMn1.5Ni0.5O4.scf.2.in   \n",
       "2         /home/jgeiger/projects/bat_uv_ml/data/spinel_iurii_unmod/LixMn1.5Ni0.5O4/DFT+U/LiMn1.5Ni0.5O4/5_pdos/LiMn1.5Ni0.5O4.dos.in   \n",
       "3        /home/jgeiger/projects/bat_uv_ml/data/spinel_iurii_unmod/LixMn1.5Ni0.5O4/DFT+U/LiMn1.5Ni0.5O4/5_pdos/LiMn1.5Ni0.5O4.pdos.in   \n",
       "4  /home/jgeiger/projects/bat_uv_ml/data/spinel_iurii_unmod/LixMn1.5Ni0.5O4/DFT+U/LiMn1.5Ni0.5O4/3_vcrelax/LiMn1.5Ni0.5O4.vcrelax.in   \n",
       "\n",
       "                calc_name calc_type                    calc_out  \n",
       "0    LiMn1.5Ni0.5O4.scf.1       scf    LiMn1.5Ni0.5O4.scf.1.out  \n",
       "1    LiMn1.5Ni0.5O4.scf.2       scf    LiMn1.5Ni0.5O4.scf.2.out  \n",
       "2      LiMn1.5Ni0.5O4.dos       dos      LiMn1.5Ni0.5O4.dos.out  \n",
       "3     LiMn1.5Ni0.5O4.pdos      pdos     LiMn1.5Ni0.5O4.pdos.out  \n",
       "4  LiMn1.5Ni0.5O4.vcrelax   vcrelax  LiMn1.5Ni0.5O4.vcrelax.out  "
      ]
     },
     "execution_count": 6,
     "metadata": {},
     "output_type": "execute_result"
    }
   ],
   "source": [
    "iurii_full_data_df = pd.concat([spinel_df_iurii, olivine_df_iurii], ignore_index=True)\n",
    "iurii_full_data_df = add_calcdata(iurii_full_data_df)\n",
    "\n",
    "iurii_full_data_df.shape\n",
    "iurii_full_data_df.head()\n",
    "\n",
    "# pandas write to csv\n",
    "iurii_full_data_df.to_csv(os.path.join(project_dir, 'data', 'iurii_full_data_df.csv'), index=False)\n"
   ]
  }
 ],
 "metadata": {
  "kernelspec": {
   "display_name": "env",
   "language": "python",
   "name": "python3"
  },
  "language_info": {
   "codemirror_mode": {
    "name": "ipython",
    "version": 3
   },
   "file_extension": ".py",
   "mimetype": "text/x-python",
   "name": "python",
   "nbconvert_exporter": "python",
   "pygments_lexer": "ipython3",
   "version": "3.8.10"
  },
  "orig_nbformat": 4,
  "vscode": {
   "interpreter": {
    "hash": "563b968e1044a963233ca0d255c24a54b27faba64327a7678a42d7af4cac992e"
   }
  }
 },
 "nbformat": 4,
 "nbformat_minor": 2
}
