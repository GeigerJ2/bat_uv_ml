{
 "cells": [
  {
   "cell_type": "code",
   "execution_count": 44,
   "metadata": {},
   "outputs": [],
   "source": [
    "from IPython.core.interactiveshell import InteractiveShell\n",
    "InteractiveShell.ast_node_interactivity = \"all\"\n",
    "\n",
    "from collections import Counter\n",
    "import pandas as pd\n",
    "import os\n",
    "import glob\n",
    "import copy\n",
    "from pathlib import Path\n",
    "\n",
    "from pprint import pprint\n",
    "import itertools as it\n",
    "from collections import Counter\n",
    "import numpy as np\n",
    "\n",
    "from aiida import load_profile\n",
    "from aiida.orm.nodes.data.structure import StructureData\n",
    "\n",
    "from aiida_quantumespresso.tools.pwinputparser import create_builder_from_file\n",
    "from aiida_quantumespresso.calculations.pw import PwCalculation\n",
    "from aiida_quantumespresso.calculations.pwimmigrant import PwimmigrantCalculation\n",
    "from aiida.engine import submit\n",
    "from aiida_quantumespresso.calculations.pw import PwCalculation\n",
    "from aiida_quantumespresso.workflows.pw.relax import PwRelaxWorkChain\n",
    "from aiida_quantumespresso.workflows.pw.base import PwBaseWorkChain\n",
    "from aiida.orm import load_node, load_code\n",
    "\n",
    "from qe_tools.exceptions import ParsingError\n",
    "\n",
    "# from own_utils.calc_df import init_project_df\n",
    "\n",
    "from pymatgen.io.ase import AseAtomsAdaptor\n",
    "\n",
    "# import pybat\n",
    "# from pybat import Cathode, LiRichCathode, Dimer, DimerNEBAnalysis\n",
    "\n",
    "from ase.visualize import view\n",
    "from ase.io.vasp import read_vasp, write_vasp\n",
    "from ase.build.tools import sort\n",
    "\n",
    "# from itables import init_notebook_mode\n",
    "# init_notebook_mode(all_interactive=True)\n",
    "pd.set_option('display.max_colwidth', None)"
   ]
  },
  {
   "cell_type": "code",
   "execution_count": 45,
   "metadata": {},
   "outputs": [
    {
     "data": {
      "text/plain": [
       "Profile<uuid='4fe00b7a32994cfca8b6cf43c2d22a53' name='jgeiger'>"
      ]
     },
     "execution_count": 45,
     "metadata": {},
     "output_type": "execute_result"
    }
   ],
   "source": [
    "load_profile()"
   ]
  },
  {
   "cell_type": "code",
   "execution_count": 46,
   "metadata": {},
   "outputs": [],
   "source": [
    "# iurii_olivine_dir = '/home/jgeiger/projects/bat_uv_ml/data/olivines_iurii/LixMnPO4/Li1.00/DFT_plus_U/1_vcrelax/'\n",
    "# iurii_olivine_file = 'LiMnPO4.vcrelax.1.in'\n",
    "# iurii_pseudo_dir = '/home/jgeiger/projects/bat_uv_ml/data/olivines_iurii/Pseudopotentials/SSSP'\n",
    "# iurri_spinel_dir = '/home/jgeiger/projects/bat_uv_ml/data/spinel_iurii/LixMn2O4/DFT+U/LiMn2O4/1_vcrelax'\n",
    "# iurii_spinel_file = 'LiMn2O4.vcrelax.1.in'"
   ]
  },
  {
   "cell_type": "code",
   "execution_count": 47,
   "metadata": {},
   "outputs": [],
   "source": [
    "spinel_dir_iurii = '/home/jgeiger/projects/bat_uv_ml/data/spinel_iurii_unmod'\n",
    "olivine_dir_iurii = '/home/jgeiger/projects/bat_uv_ml/data/olivine_iurii_unmod'\n",
    "project_dir = '/home/jgeiger/projects/bat_uv_ml'\n",
    "pseudo_dir = '/usr/share/espresso/pseudo/'"
   ]
  },
  {
   "cell_type": "code",
   "execution_count": 48,
   "metadata": {},
   "outputs": [],
   "source": [
    "def init_project_df(calc_dir, file_glob):\n",
    "    # TODO: Extent for multiple file types, also for output files -> can be done by passing a tuple, which endswith accepts.\n",
    "    # path_list = [os.path.dirname(path) for path in Path(calc_dir).rglob(file_glob)]\n",
    "    path_list = []\n",
    "    for root, dirs, files in os.walk(calc_dir):\n",
    "        for file in files:\n",
    "            if file.endswith(file_glob):\n",
    "                path_list.append(os.path.join(root, file))\n",
    "    # path_list = [_.replace('+', '\\+') for _ in path_list]\n",
    "\n",
    "    full_project_df = pd.DataFrame()\n",
    "    full_project_df['abs_path'] = [os.path.dirname(_) for _ in path_list]\n",
    "    full_project_df['calc_in'] = [os.path.basename(_) for _ in path_list]\n",
    "    # ! Rel path buggy because it ends up being \n",
    "    # full_project_df['rel_path'] = full_project_df['abs_path'].str.replace(project_dir, '.')\n",
    "\n",
    "    return full_project_df\n",
    "\n",
    "def add_calcdata(df_in):\n",
    "    calctype_regex = r\"\\.(pdos|dos|nscf|scf|hp|vcrelax)\\.\"\n",
    "    df_out = df_in.copy(deep=True)\n",
    "    df_out['calc_name'] = df_out['calc_in'].apply(lambda x: Path(x).stem)\n",
    "    df_out['calc_type'] = df_out['calc_in'].str.extract(calctype_regex)\n",
    "    df_out['calc_out'] = df_out['calc_in'].str.replace('.in', '.out', regex=False)\n",
    "    return df_out\n",
    "\n",
    "# ! Also matches paremeters.in file, which results in calctype = nan\n",
    "spinel_df_iurii = init_project_df(\n",
    "    calc_dir=spinel_dir_iurii,\n",
    "    file_glob='.in' # ('.in', '.out')\n",
    "    )\n",
    "\n",
    "olivine_df_iurii = init_project_df(\n",
    "    calc_dir=olivine_dir_iurii,\n",
    "    file_glob='.in'\n",
    "    )\n",
    "# olivine_df_iurii = olivine_df_iurii.dropna()\n"
   ]
  },
  {
   "cell_type": "code",
   "execution_count": 49,
   "metadata": {},
   "outputs": [
    {
     "data": {
      "text/plain": [
       "(1304, 5)"
      ]
     },
     "execution_count": 49,
     "metadata": {},
     "output_type": "execute_result"
    },
    {
     "data": {
      "text/html": [
       "<div>\n",
       "<style scoped>\n",
       "    .dataframe tbody tr th:only-of-type {\n",
       "        vertical-align: middle;\n",
       "    }\n",
       "\n",
       "    .dataframe tbody tr th {\n",
       "        vertical-align: top;\n",
       "    }\n",
       "\n",
       "    .dataframe thead th {\n",
       "        text-align: right;\n",
       "    }\n",
       "</style>\n",
       "<table border=\"1\" class=\"dataframe\">\n",
       "  <thead>\n",
       "    <tr style=\"text-align: right;\">\n",
       "      <th></th>\n",
       "      <th>abs_path</th>\n",
       "      <th>calc_in</th>\n",
       "      <th>calc_name</th>\n",
       "      <th>calc_type</th>\n",
       "      <th>calc_out</th>\n",
       "    </tr>\n",
       "  </thead>\n",
       "  <tbody>\n",
       "    <tr>\n",
       "      <th>0</th>\n",
       "      <td>/home/jgeiger/projects/bat_uv_ml/data/spinel_iurii_unmod/LixMn1.5Ni0.5O4/DFT+U/LiMn1.5Ni0.5O4/5_pdos</td>\n",
       "      <td>LiMn1.5Ni0.5O4.scf.1.in</td>\n",
       "      <td>LiMn1.5Ni0.5O4.scf.1</td>\n",
       "      <td>scf</td>\n",
       "      <td>LiMn1.5Ni0.5O4.scf.1.out</td>\n",
       "    </tr>\n",
       "    <tr>\n",
       "      <th>1</th>\n",
       "      <td>/home/jgeiger/projects/bat_uv_ml/data/spinel_iurii_unmod/LixMn1.5Ni0.5O4/DFT+U/LiMn1.5Ni0.5O4/5_pdos</td>\n",
       "      <td>LiMn1.5Ni0.5O4.scf.2.in</td>\n",
       "      <td>LiMn1.5Ni0.5O4.scf.2</td>\n",
       "      <td>scf</td>\n",
       "      <td>LiMn1.5Ni0.5O4.scf.2.out</td>\n",
       "    </tr>\n",
       "    <tr>\n",
       "      <th>2</th>\n",
       "      <td>/home/jgeiger/projects/bat_uv_ml/data/spinel_iurii_unmod/LixMn1.5Ni0.5O4/DFT+U/LiMn1.5Ni0.5O4/5_pdos</td>\n",
       "      <td>LiMn1.5Ni0.5O4.dos.in</td>\n",
       "      <td>LiMn1.5Ni0.5O4.dos</td>\n",
       "      <td>dos</td>\n",
       "      <td>LiMn1.5Ni0.5O4.dos.out</td>\n",
       "    </tr>\n",
       "    <tr>\n",
       "      <th>3</th>\n",
       "      <td>/home/jgeiger/projects/bat_uv_ml/data/spinel_iurii_unmod/LixMn1.5Ni0.5O4/DFT+U/LiMn1.5Ni0.5O4/5_pdos</td>\n",
       "      <td>LiMn1.5Ni0.5O4.pdos.in</td>\n",
       "      <td>LiMn1.5Ni0.5O4.pdos</td>\n",
       "      <td>pdos</td>\n",
       "      <td>LiMn1.5Ni0.5O4.pdos.out</td>\n",
       "    </tr>\n",
       "    <tr>\n",
       "      <th>4</th>\n",
       "      <td>/home/jgeiger/projects/bat_uv_ml/data/spinel_iurii_unmod/LixMn1.5Ni0.5O4/DFT+U/LiMn1.5Ni0.5O4/3_vcrelax</td>\n",
       "      <td>LiMn1.5Ni0.5O4.vcrelax.in</td>\n",
       "      <td>LiMn1.5Ni0.5O4.vcrelax</td>\n",
       "      <td>vcrelax</td>\n",
       "      <td>LiMn1.5Ni0.5O4.vcrelax.out</td>\n",
       "    </tr>\n",
       "  </tbody>\n",
       "</table>\n",
       "</div>"
      ],
      "text/plain": [
       "                                                                                                  abs_path  \\\n",
       "0     /home/jgeiger/projects/bat_uv_ml/data/spinel_iurii_unmod/LixMn1.5Ni0.5O4/DFT+U/LiMn1.5Ni0.5O4/5_pdos   \n",
       "1     /home/jgeiger/projects/bat_uv_ml/data/spinel_iurii_unmod/LixMn1.5Ni0.5O4/DFT+U/LiMn1.5Ni0.5O4/5_pdos   \n",
       "2     /home/jgeiger/projects/bat_uv_ml/data/spinel_iurii_unmod/LixMn1.5Ni0.5O4/DFT+U/LiMn1.5Ni0.5O4/5_pdos   \n",
       "3     /home/jgeiger/projects/bat_uv_ml/data/spinel_iurii_unmod/LixMn1.5Ni0.5O4/DFT+U/LiMn1.5Ni0.5O4/5_pdos   \n",
       "4  /home/jgeiger/projects/bat_uv_ml/data/spinel_iurii_unmod/LixMn1.5Ni0.5O4/DFT+U/LiMn1.5Ni0.5O4/3_vcrelax   \n",
       "\n",
       "                     calc_in               calc_name calc_type  \\\n",
       "0    LiMn1.5Ni0.5O4.scf.1.in    LiMn1.5Ni0.5O4.scf.1       scf   \n",
       "1    LiMn1.5Ni0.5O4.scf.2.in    LiMn1.5Ni0.5O4.scf.2       scf   \n",
       "2      LiMn1.5Ni0.5O4.dos.in      LiMn1.5Ni0.5O4.dos       dos   \n",
       "3     LiMn1.5Ni0.5O4.pdos.in     LiMn1.5Ni0.5O4.pdos      pdos   \n",
       "4  LiMn1.5Ni0.5O4.vcrelax.in  LiMn1.5Ni0.5O4.vcrelax   vcrelax   \n",
       "\n",
       "                     calc_out  \n",
       "0    LiMn1.5Ni0.5O4.scf.1.out  \n",
       "1    LiMn1.5Ni0.5O4.scf.2.out  \n",
       "2      LiMn1.5Ni0.5O4.dos.out  \n",
       "3     LiMn1.5Ni0.5O4.pdos.out  \n",
       "4  LiMn1.5Ni0.5O4.vcrelax.out  "
      ]
     },
     "execution_count": 49,
     "metadata": {},
     "output_type": "execute_result"
    }
   ],
   "source": [
    "iurii_full_data_df = pd.concat([spinel_df_iurii, olivine_df_iurii], ignore_index=True)\n",
    "iurii_full_data_df = add_calcdata(iurii_full_data_df)\n",
    "\n",
    "iurii_full_data_df.shape\n",
    "iurii_full_data_df.head()\n",
    "\n",
    "# pandas write to csv\n",
    "iurii_full_data_df.to_csv(os.path.join(project_dir, 'data', 'iurii_full_data_df.csv'), index=False)\n"
   ]
  },
  {
   "attachments": {},
   "cell_type": "markdown",
   "metadata": {},
   "source": [
    "# Read in fully lithiated phospho-olivine and spinel structures from pw inputs"
   ]
  },
  {
   "cell_type": "code",
   "execution_count": 50,
   "metadata": {},
   "outputs": [
    {
     "name": "stdout",
     "output_type": "stream",
     "text": [
      "./data/spinel_iurii/LixMn1.5Ni0.5O4/DFT+U/LiMn1.5Ni0.5O4/5_pdos\n"
     ]
    }
   ],
   "source": [
    "print(spinel_df_iurii['rel_path'][0])"
   ]
  },
  {
   "cell_type": "code",
   "execution_count": 65,
   "metadata": {},
   "outputs": [
    {
     "data": {
      "text/plain": [
       "(235, 4)"
      ]
     },
     "execution_count": 65,
     "metadata": {},
     "output_type": "execute_result"
    },
    {
     "name": "stdout",
     "output_type": "stream",
     "text": [
      "0         /home/jgeiger/projects/bat_uv_ml/data/spinel_iurii/LixMn1.5Ni0.5O4/DFT+U/LiMn1.5Ni0.5O4/5_pdos\n",
      "1         /home/jgeiger/projects/bat_uv_ml/data/spinel_iurii/LixMn1.5Ni0.5O4/DFT+U/LiMn1.5Ni0.5O4/5_pdos\n",
      "2         /home/jgeiger/projects/bat_uv_ml/data/spinel_iurii/LixMn1.5Ni0.5O4/DFT+U/LiMn1.5Ni0.5O4/5_pdos\n",
      "3         /home/jgeiger/projects/bat_uv_ml/data/spinel_iurii/LixMn1.5Ni0.5O4/DFT+U/LiMn1.5Ni0.5O4/5_pdos\n",
      "4      /home/jgeiger/projects/bat_uv_ml/data/spinel_iurii/LixMn1.5Ni0.5O4/DFT+U/LiMn1.5Ni0.5O4/3_vcrelax\n",
      "                                                     ...                                                \n",
      "230                   /home/jgeiger/projects/bat_uv_ml/data/spinel_iurii/LixMn2O4/DFT+U+V/Mn2O4/2_calcUV\n",
      "231                   /home/jgeiger/projects/bat_uv_ml/data/spinel_iurii/LixMn2O4/DFT+U+V/Mn2O4/2_calcUV\n",
      "232                   /home/jgeiger/projects/bat_uv_ml/data/spinel_iurii/LixMn2O4/DFT+U+V/Mn2O4/2_calcUV\n",
      "233                  /home/jgeiger/projects/bat_uv_ml/data/spinel_iurii/LixMn2O4/DFT+U+V/Mn2O4/1_vcrelax\n",
      "234                  /home/jgeiger/projects/bat_uv_ml/data/spinel_iurii/LixMn2O4/DFT+U+V/Mn2O4/1_vcrelax\n",
      "Name: abs_path, Length: 235, dtype: object\n"
     ]
    },
    {
     "data": {
      "text/html": [
       "<div>\n",
       "<style scoped>\n",
       "    .dataframe tbody tr th:only-of-type {\n",
       "        vertical-align: middle;\n",
       "    }\n",
       "\n",
       "    .dataframe tbody tr th {\n",
       "        vertical-align: top;\n",
       "    }\n",
       "\n",
       "    .dataframe thead th {\n",
       "        text-align: right;\n",
       "    }\n",
       "</style>\n",
       "<table border=\"1\" class=\"dataframe\">\n",
       "  <thead>\n",
       "    <tr style=\"text-align: right;\">\n",
       "      <th></th>\n",
       "      <th>abs_path</th>\n",
       "      <th>filename</th>\n",
       "      <th>rel_path</th>\n",
       "      <th>calctype</th>\n",
       "      <th>structuredata</th>\n",
       "    </tr>\n",
       "  </thead>\n",
       "  <tbody>\n",
       "    <tr>\n",
       "      <th>0</th>\n",
       "      <td>/home/jgeiger/projects/bat_uv_ml/data/spinel_iurii/LixMn1.5Ni0.5O4/DFT+U/LiMn1.5Ni0.5O4/5_pdos</td>\n",
       "      <td>LiMn1.5Ni0.5O4.scf.1.in</td>\n",
       "      <td>./data/spinel_iurii/LixMn1.5Ni0.5O4/DFT+U/LiMn1.5Ni0.5O4/5_pdos</td>\n",
       "      <td>scf</td>\n",
       "      <td>None</td>\n",
       "    </tr>\n",
       "    <tr>\n",
       "      <th>1</th>\n",
       "      <td>/home/jgeiger/projects/bat_uv_ml/data/spinel_iurii/LixMn1.5Ni0.5O4/DFT+U/LiMn1.5Ni0.5O4/5_pdos</td>\n",
       "      <td>LiMn1.5Ni0.5O4.scf.2.in</td>\n",
       "      <td>./data/spinel_iurii/LixMn1.5Ni0.5O4/DFT+U/LiMn1.5Ni0.5O4/5_pdos</td>\n",
       "      <td>scf</td>\n",
       "      <td>None</td>\n",
       "    </tr>\n",
       "    <tr>\n",
       "      <th>2</th>\n",
       "      <td>/home/jgeiger/projects/bat_uv_ml/data/spinel_iurii/LixMn1.5Ni0.5O4/DFT+U/LiMn1.5Ni0.5O4/5_pdos</td>\n",
       "      <td>LiMn1.5Ni0.5O4.dos.in</td>\n",
       "      <td>./data/spinel_iurii/LixMn1.5Ni0.5O4/DFT+U/LiMn1.5Ni0.5O4/5_pdos</td>\n",
       "      <td>dos</td>\n",
       "      <td>None</td>\n",
       "    </tr>\n",
       "    <tr>\n",
       "      <th>3</th>\n",
       "      <td>/home/jgeiger/projects/bat_uv_ml/data/spinel_iurii/LixMn1.5Ni0.5O4/DFT+U/LiMn1.5Ni0.5O4/5_pdos</td>\n",
       "      <td>LiMn1.5Ni0.5O4.pdos.in</td>\n",
       "      <td>./data/spinel_iurii/LixMn1.5Ni0.5O4/DFT+U/LiMn1.5Ni0.5O4/5_pdos</td>\n",
       "      <td>pdos</td>\n",
       "      <td>None</td>\n",
       "    </tr>\n",
       "    <tr>\n",
       "      <th>4</th>\n",
       "      <td>/home/jgeiger/projects/bat_uv_ml/data/spinel_iurii/LixMn1.5Ni0.5O4/DFT+U/LiMn1.5Ni0.5O4/3_vcrelax</td>\n",
       "      <td>LiMn1.5Ni0.5O4.vcrelax.in</td>\n",
       "      <td>./data/spinel_iurii/LixMn1.5Ni0.5O4/DFT+U/LiMn1.5Ni0.5O4/3_vcrelax</td>\n",
       "      <td>vcrelax</td>\n",
       "      <td>None</td>\n",
       "    </tr>\n",
       "  </tbody>\n",
       "</table>\n",
       "</div>"
      ],
      "text/plain": [
       "                                                                                            abs_path  \\\n",
       "0     /home/jgeiger/projects/bat_uv_ml/data/spinel_iurii/LixMn1.5Ni0.5O4/DFT+U/LiMn1.5Ni0.5O4/5_pdos   \n",
       "1     /home/jgeiger/projects/bat_uv_ml/data/spinel_iurii/LixMn1.5Ni0.5O4/DFT+U/LiMn1.5Ni0.5O4/5_pdos   \n",
       "2     /home/jgeiger/projects/bat_uv_ml/data/spinel_iurii/LixMn1.5Ni0.5O4/DFT+U/LiMn1.5Ni0.5O4/5_pdos   \n",
       "3     /home/jgeiger/projects/bat_uv_ml/data/spinel_iurii/LixMn1.5Ni0.5O4/DFT+U/LiMn1.5Ni0.5O4/5_pdos   \n",
       "4  /home/jgeiger/projects/bat_uv_ml/data/spinel_iurii/LixMn1.5Ni0.5O4/DFT+U/LiMn1.5Ni0.5O4/3_vcrelax   \n",
       "\n",
       "                    filename  \\\n",
       "0    LiMn1.5Ni0.5O4.scf.1.in   \n",
       "1    LiMn1.5Ni0.5O4.scf.2.in   \n",
       "2      LiMn1.5Ni0.5O4.dos.in   \n",
       "3     LiMn1.5Ni0.5O4.pdos.in   \n",
       "4  LiMn1.5Ni0.5O4.vcrelax.in   \n",
       "\n",
       "                                                             rel_path  \\\n",
       "0     ./data/spinel_iurii/LixMn1.5Ni0.5O4/DFT+U/LiMn1.5Ni0.5O4/5_pdos   \n",
       "1     ./data/spinel_iurii/LixMn1.5Ni0.5O4/DFT+U/LiMn1.5Ni0.5O4/5_pdos   \n",
       "2     ./data/spinel_iurii/LixMn1.5Ni0.5O4/DFT+U/LiMn1.5Ni0.5O4/5_pdos   \n",
       "3     ./data/spinel_iurii/LixMn1.5Ni0.5O4/DFT+U/LiMn1.5Ni0.5O4/5_pdos   \n",
       "4  ./data/spinel_iurii/LixMn1.5Ni0.5O4/DFT+U/LiMn1.5Ni0.5O4/3_vcrelax   \n",
       "\n",
       "  calctype structuredata  \n",
       "0      scf          None  \n",
       "1      scf          None  \n",
       "2      dos          None  \n",
       "3     pdos          None  \n",
       "4  vcrelax          None  "
      ]
     },
     "execution_count": 65,
     "metadata": {},
     "output_type": "execute_result"
    }
   ],
   "source": [
    "\n",
    "# ! Way too complex with builder, do it via ase reading in QE input\n",
    "def add_structure_data(df_in):\n",
    "    df_out = df_in.copy(deep=True)\n",
    "    # iterate over tuples of dataframe rows\n",
    "    structure_datas = []\n",
    "    for index, row in df_out.iterrows():\n",
    "        # df_out.at[index, 'structureData'] = \n",
    "        try:\n",
    "            created_builder = create_builder_from_file(\n",
    "                input_folder=row['abs_path'],\n",
    "                input_file_name=row['filename'],\n",
    "                code='qe-6.4.1-pw',\n",
    "                metadata={},\n",
    "                pseudo_folder_path=pseudo_dir\n",
    "                )\n",
    "            structure_data = created_builder['structure']\n",
    "        except FileNotFoundError:\n",
    "            # ! Missing PP (for Ni, PBEsol USPP)\n",
    "            structure_data = None\n",
    "        except ParsingError:\n",
    "            # ! No atomic coordinates in input file, e.g. for DOS\n",
    "            structure_data = None\n",
    "        except ValueError:\n",
    "            print(repr(row['abs_path']))\n",
    "            print(row['filename'])\n",
    "            structure_data = None\n",
    "            raise\n",
    "        \n",
    "        structure_datas.append(structure_data)\n",
    "    df_out['structuredata'] = structure_datas \n",
    "    return df_out\n",
    "    \n",
    "devel_df = spinel_df_iurii.loc[spinel_df_iurii['abs_path'].str.contains('LixMn2O4/DFT\\+U/LiMn2O4/1_vcrelax')]\n",
    "devel_df = spinel_df_iurii.copy(deep=True)\n",
    "devel_df.shape\n",
    "print(devel_df['abs_path'])\n",
    "\n",
    "devel_df = add_structure_data(devel_df)\n",
    "\n",
    "devel_df.head()\n",
    "\n",
    "# devel_df['structureData'] = devel_df.apply(\n",
    "#     lambda df: create_builder_from_file(\n",
    "#         input_folder=df['abs_path'],\n",
    "#         input_file_name=df['filename'],\n",
    "#         code='qe-6.4.1-pw',\n",
    "#         metadata={},\n",
    "#         pseudo_folder_path=pseudo_dir\n",
    "#         ),\n",
    "#     axis=1\n",
    "# )\n",
    "# devel_df.head()"
   ]
  },
  {
   "cell_type": "code",
   "execution_count": 66,
   "metadata": {},
   "outputs": [
    {
     "data": {
      "text/html": [
       "<div>\n",
       "<style scoped>\n",
       "    .dataframe tbody tr th:only-of-type {\n",
       "        vertical-align: middle;\n",
       "    }\n",
       "\n",
       "    .dataframe tbody tr th {\n",
       "        vertical-align: top;\n",
       "    }\n",
       "\n",
       "    .dataframe thead th {\n",
       "        text-align: right;\n",
       "    }\n",
       "</style>\n",
       "<table border=\"1\" class=\"dataframe\">\n",
       "  <thead>\n",
       "    <tr style=\"text-align: right;\">\n",
       "      <th></th>\n",
       "      <th>abs_path</th>\n",
       "      <th>filename</th>\n",
       "      <th>rel_path</th>\n",
       "      <th>calctype</th>\n",
       "      <th>structuredata</th>\n",
       "    </tr>\n",
       "  </thead>\n",
       "  <tbody>\n",
       "    <tr>\n",
       "      <th>232</th>\n",
       "      <td>/home/jgeiger/projects/bat_uv_ml/data/spinel_iurii/LixMn2O4/DFT+U+V/Mn2O4/2_calcUV</td>\n",
       "      <td>Mn2O4.scf.1.in</td>\n",
       "      <td>./data/spinel_iurii/LixMn2O4/DFT+U+V/Mn2O4/2_calcUV</td>\n",
       "      <td>scf</td>\n",
       "      <td>uuid: 854861a1-d1ce-41da-a711-a259c9e7514f (unstored)</td>\n",
       "    </tr>\n",
       "    <tr>\n",
       "      <th>233</th>\n",
       "      <td>/home/jgeiger/projects/bat_uv_ml/data/spinel_iurii/LixMn2O4/DFT+U+V/Mn2O4/1_vcrelax</td>\n",
       "      <td>Mn2O4.vcrelax.2.in</td>\n",
       "      <td>./data/spinel_iurii/LixMn2O4/DFT+U+V/Mn2O4/1_vcrelax</td>\n",
       "      <td>vcrelax</td>\n",
       "      <td>uuid: 1417b7b8-e442-4ba0-a758-ec9188f40284 (unstored)</td>\n",
       "    </tr>\n",
       "    <tr>\n",
       "      <th>234</th>\n",
       "      <td>/home/jgeiger/projects/bat_uv_ml/data/spinel_iurii/LixMn2O4/DFT+U+V/Mn2O4/1_vcrelax</td>\n",
       "      <td>Mn2O4.vcrelax.1.in</td>\n",
       "      <td>./data/spinel_iurii/LixMn2O4/DFT+U+V/Mn2O4/1_vcrelax</td>\n",
       "      <td>vcrelax</td>\n",
       "      <td>uuid: 80d19952-6ed7-4df9-aea4-3fa2677f29a9 (unstored)</td>\n",
       "    </tr>\n",
       "  </tbody>\n",
       "</table>\n",
       "</div>"
      ],
      "text/plain": [
       "                                                                                abs_path  \\\n",
       "232   /home/jgeiger/projects/bat_uv_ml/data/spinel_iurii/LixMn2O4/DFT+U+V/Mn2O4/2_calcUV   \n",
       "233  /home/jgeiger/projects/bat_uv_ml/data/spinel_iurii/LixMn2O4/DFT+U+V/Mn2O4/1_vcrelax   \n",
       "234  /home/jgeiger/projects/bat_uv_ml/data/spinel_iurii/LixMn2O4/DFT+U+V/Mn2O4/1_vcrelax   \n",
       "\n",
       "               filename                                              rel_path  \\\n",
       "232      Mn2O4.scf.1.in   ./data/spinel_iurii/LixMn2O4/DFT+U+V/Mn2O4/2_calcUV   \n",
       "233  Mn2O4.vcrelax.2.in  ./data/spinel_iurii/LixMn2O4/DFT+U+V/Mn2O4/1_vcrelax   \n",
       "234  Mn2O4.vcrelax.1.in  ./data/spinel_iurii/LixMn2O4/DFT+U+V/Mn2O4/1_vcrelax   \n",
       "\n",
       "    calctype                                          structuredata  \n",
       "232      scf  uuid: 854861a1-d1ce-41da-a711-a259c9e7514f (unstored)  \n",
       "233  vcrelax  uuid: 1417b7b8-e442-4ba0-a758-ec9188f40284 (unstored)  \n",
       "234  vcrelax  uuid: 80d19952-6ed7-4df9-aea4-3fa2677f29a9 (unstored)  "
      ]
     },
     "execution_count": 66,
     "metadata": {},
     "output_type": "execute_result"
    },
    {
     "ename": "KeyError",
     "evalue": "'Structuredata'",
     "output_type": "error",
     "traceback": [
      "\u001b[0;31m---------------------------------------------------------------------------\u001b[0m",
      "\u001b[0;31mKeyError\u001b[0m                                  Traceback (most recent call last)",
      "\u001b[0;32m~/projects/bat_uv_ml/code/env/lib/python3.8/site-packages/pandas/core/indexes/base.py\u001b[0m in \u001b[0;36mget_loc\u001b[0;34m(self, key, method, tolerance)\u001b[0m\n\u001b[1;32m   3801\u001b[0m             \u001b[0;32mtry\u001b[0m\u001b[0;34m:\u001b[0m\u001b[0;34m\u001b[0m\u001b[0;34m\u001b[0m\u001b[0m\n\u001b[0;32m-> 3802\u001b[0;31m                 \u001b[0;32mreturn\u001b[0m \u001b[0mself\u001b[0m\u001b[0;34m.\u001b[0m\u001b[0m_engine\u001b[0m\u001b[0;34m.\u001b[0m\u001b[0mget_loc\u001b[0m\u001b[0;34m(\u001b[0m\u001b[0mcasted_key\u001b[0m\u001b[0;34m)\u001b[0m\u001b[0;34m\u001b[0m\u001b[0;34m\u001b[0m\u001b[0m\n\u001b[0m\u001b[1;32m   3803\u001b[0m             \u001b[0;32mexcept\u001b[0m \u001b[0mKeyError\u001b[0m \u001b[0;32mas\u001b[0m \u001b[0merr\u001b[0m\u001b[0;34m:\u001b[0m\u001b[0;34m\u001b[0m\u001b[0;34m\u001b[0m\u001b[0m\n",
      "\u001b[0;32m~/projects/bat_uv_ml/code/env/lib/python3.8/site-packages/pandas/_libs/index.pyx\u001b[0m in \u001b[0;36mpandas._libs.index.IndexEngine.get_loc\u001b[0;34m()\u001b[0m\n",
      "\u001b[0;32m~/projects/bat_uv_ml/code/env/lib/python3.8/site-packages/pandas/_libs/index.pyx\u001b[0m in \u001b[0;36mpandas._libs.index.IndexEngine.get_loc\u001b[0;34m()\u001b[0m\n",
      "\u001b[0;32mpandas/_libs/hashtable_class_helper.pxi\u001b[0m in \u001b[0;36mpandas._libs.hashtable.PyObjectHashTable.get_item\u001b[0;34m()\u001b[0m\n",
      "\u001b[0;32mpandas/_libs/hashtable_class_helper.pxi\u001b[0m in \u001b[0;36mpandas._libs.hashtable.PyObjectHashTable.get_item\u001b[0;34m()\u001b[0m\n",
      "\u001b[0;31mKeyError\u001b[0m: 'Structuredata'",
      "\nThe above exception was the direct cause of the following exception:\n",
      "\u001b[0;31mKeyError\u001b[0m                                  Traceback (most recent call last)",
      "\u001b[0;32m/tmp/ipykernel_2285257/2438785585.py\u001b[0m in \u001b[0;36m<cell line: 2>\u001b[0;34m()\u001b[0m\n\u001b[1;32m      1\u001b[0m \u001b[0mdevel_df\u001b[0m\u001b[0;34m.\u001b[0m\u001b[0mtail\u001b[0m\u001b[0;34m(\u001b[0m\u001b[0;36m3\u001b[0m\u001b[0;34m)\u001b[0m\u001b[0;34m\u001b[0m\u001b[0;34m\u001b[0m\u001b[0m\n\u001b[0;32m----> 2\u001b[0;31m \u001b[0mprint\u001b[0m\u001b[0;34m(\u001b[0m\u001b[0mdevel_df\u001b[0m\u001b[0;34m.\u001b[0m\u001b[0mtail\u001b[0m\u001b[0;34m(\u001b[0m\u001b[0;36m1\u001b[0m\u001b[0;34m)\u001b[0m\u001b[0;34m[\u001b[0m\u001b[0;34m'Structuredata'\u001b[0m\u001b[0;34m]\u001b[0m\u001b[0;34m.\u001b[0m\u001b[0mvalues\u001b[0m\u001b[0;34m[\u001b[0m\u001b[0;36m0\u001b[0m\u001b[0;34m]\u001b[0m\u001b[0;34m[\u001b[0m\u001b[0;34m'structure'\u001b[0m\u001b[0;34m]\u001b[0m\u001b[0;34m)\u001b[0m\u001b[0;34m\u001b[0m\u001b[0;34m\u001b[0m\u001b[0m\n\u001b[0m",
      "\u001b[0;32m~/projects/bat_uv_ml/code/env/lib/python3.8/site-packages/pandas/core/frame.py\u001b[0m in \u001b[0;36m__getitem__\u001b[0;34m(self, key)\u001b[0m\n\u001b[1;32m   3805\u001b[0m             \u001b[0;32mif\u001b[0m \u001b[0mself\u001b[0m\u001b[0;34m.\u001b[0m\u001b[0mcolumns\u001b[0m\u001b[0;34m.\u001b[0m\u001b[0mnlevels\u001b[0m \u001b[0;34m>\u001b[0m \u001b[0;36m1\u001b[0m\u001b[0;34m:\u001b[0m\u001b[0;34m\u001b[0m\u001b[0;34m\u001b[0m\u001b[0m\n\u001b[1;32m   3806\u001b[0m                 \u001b[0;32mreturn\u001b[0m \u001b[0mself\u001b[0m\u001b[0;34m.\u001b[0m\u001b[0m_getitem_multilevel\u001b[0m\u001b[0;34m(\u001b[0m\u001b[0mkey\u001b[0m\u001b[0;34m)\u001b[0m\u001b[0;34m\u001b[0m\u001b[0;34m\u001b[0m\u001b[0m\n\u001b[0;32m-> 3807\u001b[0;31m             \u001b[0mindexer\u001b[0m \u001b[0;34m=\u001b[0m \u001b[0mself\u001b[0m\u001b[0;34m.\u001b[0m\u001b[0mcolumns\u001b[0m\u001b[0;34m.\u001b[0m\u001b[0mget_loc\u001b[0m\u001b[0;34m(\u001b[0m\u001b[0mkey\u001b[0m\u001b[0;34m)\u001b[0m\u001b[0;34m\u001b[0m\u001b[0;34m\u001b[0m\u001b[0m\n\u001b[0m\u001b[1;32m   3808\u001b[0m             \u001b[0;32mif\u001b[0m \u001b[0mis_integer\u001b[0m\u001b[0;34m(\u001b[0m\u001b[0mindexer\u001b[0m\u001b[0;34m)\u001b[0m\u001b[0;34m:\u001b[0m\u001b[0;34m\u001b[0m\u001b[0;34m\u001b[0m\u001b[0m\n\u001b[1;32m   3809\u001b[0m                 \u001b[0mindexer\u001b[0m \u001b[0;34m=\u001b[0m \u001b[0;34m[\u001b[0m\u001b[0mindexer\u001b[0m\u001b[0;34m]\u001b[0m\u001b[0;34m\u001b[0m\u001b[0;34m\u001b[0m\u001b[0m\n",
      "\u001b[0;32m~/projects/bat_uv_ml/code/env/lib/python3.8/site-packages/pandas/core/indexes/base.py\u001b[0m in \u001b[0;36mget_loc\u001b[0;34m(self, key, method, tolerance)\u001b[0m\n\u001b[1;32m   3802\u001b[0m                 \u001b[0;32mreturn\u001b[0m \u001b[0mself\u001b[0m\u001b[0;34m.\u001b[0m\u001b[0m_engine\u001b[0m\u001b[0;34m.\u001b[0m\u001b[0mget_loc\u001b[0m\u001b[0;34m(\u001b[0m\u001b[0mcasted_key\u001b[0m\u001b[0;34m)\u001b[0m\u001b[0;34m\u001b[0m\u001b[0;34m\u001b[0m\u001b[0m\n\u001b[1;32m   3803\u001b[0m             \u001b[0;32mexcept\u001b[0m \u001b[0mKeyError\u001b[0m \u001b[0;32mas\u001b[0m \u001b[0merr\u001b[0m\u001b[0;34m:\u001b[0m\u001b[0;34m\u001b[0m\u001b[0;34m\u001b[0m\u001b[0m\n\u001b[0;32m-> 3804\u001b[0;31m                 \u001b[0;32mraise\u001b[0m \u001b[0mKeyError\u001b[0m\u001b[0;34m(\u001b[0m\u001b[0mkey\u001b[0m\u001b[0;34m)\u001b[0m \u001b[0;32mfrom\u001b[0m \u001b[0merr\u001b[0m\u001b[0;34m\u001b[0m\u001b[0;34m\u001b[0m\u001b[0m\n\u001b[0m\u001b[1;32m   3805\u001b[0m             \u001b[0;32mexcept\u001b[0m \u001b[0mTypeError\u001b[0m\u001b[0;34m:\u001b[0m\u001b[0;34m\u001b[0m\u001b[0;34m\u001b[0m\u001b[0m\n\u001b[1;32m   3806\u001b[0m                 \u001b[0;31m# If we have a listlike key, _check_indexing_error will raise\u001b[0m\u001b[0;34m\u001b[0m\u001b[0;34m\u001b[0m\u001b[0;34m\u001b[0m\u001b[0m\n",
      "\u001b[0;31mKeyError\u001b[0m: 'Structuredata'"
     ]
    }
   ],
   "source": [
    "\n",
    "devel_df.tail(3)"
   ]
  },
  {
   "cell_type": "markdown",
   "metadata": {},
   "source": [
    "***\n",
    "### Bash cell for verdi stuff"
   ]
  },
  {
   "cell_type": "code",
   "execution_count": 78,
   "metadata": {},
   "outputs": [
    {
     "name": "stdout",
     "output_type": "stream",
     "text": [
      "PK    Created    Process label    Process State    Process status\n",
      "----  ---------  ---------------  ---------------  ----------------\n",
      "\n",
      "Total results: 0\n",
      "\n",
      "Report: last time an entry changed state: 2D ago (at 15:11:19 on 2023-02-13)\n",
      "Report: Using 0% of the available daemon worker slots.\n",
      "Report: List of configured computers\n",
      "Report: Use 'verdi computer show COMPUTERLABEL' to display more detailed information\n",
      "* lumi-small\n",
      "* theospc24\n"
     ]
    }
   ],
   "source": [
    "%%bash\n",
    "# verdi process show 2171\n",
    "# verdi process report 2171\n",
    "verdi process list -a -p 1\n",
    "# aiida load node\n",
    "verdi computer list"
   ]
  },
  {
   "cell_type": "code",
   "execution_count": 79,
   "metadata": {},
   "outputs": [],
   "source": [
    "%%bash\n",
    "# verdi calcjob inputls 2176    # shows the list of input files\n",
    "# verdi calcjob inputcat 2176   # shows the input file of the calculation\n",
    "# verdi calcjob outputls 2176   # shows the list of output files\n",
    "# verdi calcjob outputcat 2176  # shows the output file of the calculation\n",
    "# verdi calcjob res 2176        # shows the parser results of the calculation"
   ]
  }
 ],
 "metadata": {
  "kernelspec": {
   "display_name": "env",
   "language": "python",
   "name": "python3"
  },
  "language_info": {
   "codemirror_mode": {
    "name": "ipython",
    "version": 3
   },
   "file_extension": ".py",
   "mimetype": "text/x-python",
   "name": "python",
   "nbconvert_exporter": "python",
   "pygments_lexer": "ipython3",
   "version": "3.8.10"
  },
  "orig_nbformat": 4,
  "vscode": {
   "interpreter": {
    "hash": "563b968e1044a963233ca0d255c24a54b27faba64327a7678a42d7af4cac992e"
   }
  }
 },
 "nbformat": 4,
 "nbformat_minor": 2
}
