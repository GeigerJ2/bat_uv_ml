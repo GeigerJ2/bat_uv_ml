{
 "cells": [
  {
   "cell_type": "code",
   "execution_count": 1,
   "id": "0d96feaf-8817-453a-b4d0-560f5f29d33c",
   "metadata": {},
   "outputs": [
    {
     "data": {
      "text/plain": [
       "Profile<uuid='4fe00b7a32994cfca8b6cf43c2d22a53' name='jgeiger'>"
      ]
     },
     "execution_count": 1,
     "metadata": {},
     "output_type": "execute_result"
    }
   ],
   "source": [
    "import pathlib\n",
    "import numpy as np\n",
    "\n",
    "from aiida import orm, load_profile\n",
    "from aiida.engine import submit\n",
    "\n",
    "from qe_tools import CONSTANTS\n",
    "\n",
    "from aiida_quantumespresso_hp.workflows.hubbard import SelfConsistentHubbardWorkChain\n",
    "from aiida_quantumespresso.data.hubbard_structure import HubbardStructureData\n",
    "\n",
    "load_profile()"
   ]
  },
  {
   "cell_type": "markdown",
   "id": "d2b09cc3-665b-43e6-b04b-2793d534dc7f",
   "metadata": {},
   "source": [
    "# BaTiO3\n",
    "Let's define the BTO structure to use as example for this tutorial."
   ]
  },
  {
   "cell_type": "code",
   "execution_count": 19,
   "id": "fafa590d-b1de-4a92-a730-5c6df3d717c7",
   "metadata": {},
   "outputs": [],
   "source": [
    "cell = [\n",
    "    [5.34198, -3.08419, 4.38073],\n",
    "    [0.00000,  6.16839, 4.38073],\n",
    "    [-5.3419, -3.08419, 4.38073],\n",
    "]\n",
    "cell = CONSTANTS.bohr_to_ang*np.array(cell)\n",
    "\n",
    "structure = orm.StructureData(cell=cell)\n",
    "\n",
    "structure.append_atom(position=np.dot([0.48674, 0.4867, 0.4867], cell),  symbols='Ti')\n",
    "structure.append_atom(position=np.dot([0.51163, 0.5116, 0.0192], cell),  symbols='O' )\n",
    "structure.append_atom(position=np.dot([0.51163, 0.0192, 0.5116], cell),  symbols='O' )\n",
    "structure.append_atom(position=np.dot([0.01929, 0.5116, 0.5116], cell),  symbols='O' )\n",
    "structure.append_atom(position=np.dot([0.99899, 0.9989, 0.9989], cell),  symbols='Ba')"
   ]
  },
  {
   "cell_type": "markdown",
   "id": "cbd6c351-07bf-4935-8149-c5dc3e802ca2",
   "metadata": {},
   "source": [
    "## HubbardStructureData initialization\n",
    "Let's initialize the HubbardStructureData with the BTO structure!\n",
    "\n",
    "> Important: You only need to do these steps once! Later just keep track of this testing structure via the PK and reload it from the database so you don't get 100 BaTiO3 strucures in your storage. ^^"
   ]
  },
  {
   "cell_type": "code",
   "execution_count": 3,
   "id": "68238387-c713-47b0-b501-28f6cee06b67",
   "metadata": {},
   "outputs": [],
   "source": [
    "hubbard_data = HubbardStructureData(structure=structure)"
   ]
  },
  {
   "cell_type": "code",
   "execution_count": 4,
   "id": "1dd1cbca-7de7-483e-a7a6-8b7aa900254b",
   "metadata": {},
   "outputs": [
    {
     "data": {
      "text/plain": [
       "<HubbardStructureData: uuid: 67266c48-354b-4c4d-ab46-de75da7fb284 (unstored)>"
      ]
     },
     "execution_count": 4,
     "metadata": {},
     "output_type": "execute_result"
    }
   ],
   "source": [
    "hubbard_data"
   ]
  },
  {
   "cell_type": "markdown",
   "id": "db3586b0-0d08-437c-9416-28b4de12ad7e",
   "metadata": {},
   "source": [
    "## Initializing the on-site Hubbard\n",
    "Let's initialize the on-site Hubbard parameter for the titanium atom."
   ]
  },
  {
   "cell_type": "code",
   "execution_count": 5,
   "id": "97aa36f8-e5b9-435c-b4bd-08c4850b02a9",
   "metadata": {},
   "outputs": [],
   "source": [
    "hubbard_data.initialize_onsites_hubbard('Ti', '3d', 5.0) # index 0 for Ti ==> Hubbard U"
   ]
  },
  {
   "cell_type": "markdown",
   "id": "3271f32e-df00-49f8-a678-d1f83d51bae1",
   "metadata": {},
   "source": [
    "Here how it is stored in the class."
   ]
  },
  {
   "cell_type": "code",
   "execution_count": 6,
   "id": "f4bc5921-ce79-4e3d-804e-3ed6523e6b93",
   "metadata": {},
   "outputs": [
    {
     "data": {
      "text/plain": [
       "[[0, '3d', 0, '3d', 5.0, [0, 0, 0], 'dudarev']]"
      ]
     },
     "execution_count": 6,
     "metadata": {},
     "output_type": "execute_result"
    }
   ],
   "source": [
    "hubbard_data.hubbard_parameters"
   ]
  },
  {
   "cell_type": "markdown",
   "id": "97632bc2-b652-4d04-b917-15c688468253",
   "metadata": {},
   "source": [
    "## Initializing the inter-site Hubbard\n",
    "Let's initialize the inter-site Hubbard parameter for the titanium and oxygen atoms."
   ]
  },
  {
   "cell_type": "code",
   "execution_count": 7,
   "id": "3eb86220-436e-4592-af95-a359c8923b6d",
   "metadata": {},
   "outputs": [],
   "source": [
    "hubbard_data.initialize_intersites_hubbard('Ti', '3d', 'O', '2p', 0.0001, number_of_neighbours=7)"
   ]
  },
  {
   "cell_type": "markdown",
   "id": "a5df15af-5574-42be-aa58-890d2d95c5d2",
   "metadata": {},
   "source": [
    "The parameters are saved in the property `hubbard_parameters` as a list."
   ]
  },
  {
   "cell_type": "code",
   "execution_count": 8,
   "id": "ab486809-31f7-4bc3-9425-0467811da1d3",
   "metadata": {},
   "outputs": [
    {
     "data": {
      "text/plain": [
       "[[0, '3d', 0, '3d', 5.0, [0, 0, 0], 'dudarev'],\n",
       " [0, '3d', 3, '2p', 0.0001, [0, 0, 0], 'dudarev'],\n",
       " [0, '3d', 1, '2p', 0.0001, [0, 0, 0], 'dudarev'],\n",
       " [0, '3d', 2, '2p', 0.0001, [0, 0, 0], 'dudarev'],\n",
       " [0, '3d', 1, '2p', 0.0001, [0, 0, 1], 'dudarev'],\n",
       " [0, '3d', 2, '2p', 0.0001, [0, 1, 0], 'dudarev'],\n",
       " [0, '3d', 3, '2p', 0.0001, [1, 0, 0], 'dudarev'],\n",
       " [0, '3d', 3, '2p', 0.0001, [0, 0, -1], 'dudarev']]"
      ]
     },
     "execution_count": 8,
     "metadata": {},
     "output_type": "execute_result"
    }
   ],
   "source": [
    "hubbard_data.hubbard_parameters"
   ]
  },
  {
   "cell_type": "code",
   "execution_count": 9,
   "id": "cb1b4b3b-8fe5-4f29-8ee9-54e3f564017f",
   "metadata": {},
   "outputs": [
    {
     "data": {
      "text/plain": [
       "<HubbardStructureData: uuid: 67266c48-354b-4c4d-ab46-de75da7fb284 (pk: 2184)>"
      ]
     },
     "execution_count": 9,
     "metadata": {},
     "output_type": "execute_result"
    }
   ],
   "source": [
    "hubbard_data.store()"
   ]
  },
  {
   "cell_type": "code",
   "execution_count": 10,
   "id": "5a4c370c-8f7c-401b-93f6-77c51225d4c9",
   "metadata": {},
   "outputs": [
    {
     "data": {
      "text/plain": [
       "2184"
      ]
     },
     "execution_count": 10,
     "metadata": {},
     "output_type": "execute_result"
    }
   ],
   "source": [
    "hubbard_data.pk"
   ]
  },
  {
   "cell_type": "markdown",
   "id": "f53e706b-5f5c-4f85-92aa-45355eb17e89",
   "metadata": {},
   "source": [
    "## Running the `SelfConsistentHubbardWorkChain`"
   ]
  },
  {
   "cell_type": "code",
   "execution_count": 20,
   "id": "76378adc-d929-4f51-a35e-d54a3b723472",
   "metadata": {},
   "outputs": [],
   "source": [
    "hubbard_data = orm.load_node(2184)  # I load the node from the database instead of always regenerating it\n",
    "pw_code = orm.load_code('qe-dev-pw@lumi-small')\n",
    "hp_code = orm.load_code('qe-dev-hp@lumi-small')\n",
    "\n",
    "builder = SelfConsistentHubbardWorkChain.get_builder_from_protocol(\n",
    "    pw_code=pw_code,\n",
    "    hp_code=hp_code,\n",
    "    hubbard_structure=hubbard_data,\n",
    "    protocol='fast',\n",
    "    overrides=pathlib.Path('hubbard_overrides.yaml')\n",
    ")\n",
    "\n",
    "builder.skip_first_relax = True"
   ]
  },
  {
   "cell_type": "code",
   "execution_count": 11,
   "id": "bc968bdc-0817-49a0-8e89-e14323248b86",
   "metadata": {},
   "outputs": [
    {
     "name": "stdout",
     "output_type": "stream",
     "text": [
      "uuid: 0fee01c2-5af0-431d-9c50-57020aeea2ef (pk: 2248) (aiida.workflows:quantumespresso.hp.hubbard)\n"
     ]
    }
   ],
   "source": [
    "submit_node = submit(builder)\n",
    "print(submit_node)"
   ]
  },
  {
   "cell_type": "code",
   "execution_count": 2,
   "id": "041e66ee",
   "metadata": {},
   "outputs": [
    {
     "name": "stdout",
     "output_type": "stream",
     "text": [
      "Restarting the daemon... OK\n"
     ]
    }
   ],
   "source": [
    "%%bash\n",
    "verdi daemon restart\n"
   ]
  },
  {
   "cell_type": "code",
   "execution_count": 3,
   "id": "6b99da7c",
   "metadata": {},
   "outputs": [
    {
     "name": "stdout",
     "output_type": "stream",
     "text": [
      "Profile: jgeiger\n",
      "Daemon is running as PID 312006 since 2023-02-14 12:05:46\n",
      "Active workers [4]:\n",
      "    PID    MEM %    CPU %  started\n",
      "-------  -------  -------  -------------------\n",
      "2070240    0.157        0  2023-02-16 14:46:13\n",
      "2070241    0.157        0  2023-02-16 14:46:13\n",
      "2070242    0.157        0  2023-02-16 14:46:13\n",
      "2070243    0.158        0  2023-02-16 14:46:13\n",
      "Use verdi daemon [incr | decr] [num] to increase / decrease the amount of workers\n",
      "  PK  Created    Process label                   Process State     Process status\n",
      "----  ---------  ------------------------------  ----------------  ----------------\n",
      "2209  4h ago     SelfConsistentHubbardWorkChain  ⨯ Excepted\n",
      "2234  4h ago     SelfConsistentHubbardWorkChain  ⏹ Finished [402]\n",
      "2236  4h ago     PwBaseWorkChain                 ⏹ Finished [0]\n",
      "2237  4h ago     create_kpoints_from_distance    ⏹ Finished [0]\n",
      "2241  4h ago     PwCalculation                   ⏹ Finished [0]\n",
      "2248  4h ago     SelfConsistentHubbardWorkChain  ⏹ Finished [402]\n",
      "2250  4h ago     PwBaseWorkChain                 ⏹ Finished [0]\n",
      "2251  4h ago     create_kpoints_from_distance    ⏹ Finished [0]\n",
      "2255  4h ago     PwCalculation                   ⏹ Finished [0]\n",
      "2261  4h ago     PwBaseWorkChain                 ⏹ Finished [0]\n",
      "2262  4h ago     create_kpoints_from_distance    ⏹ Finished [0]\n",
      "2266  4h ago     PwCalculation                   ⏹ Finished [0]\n",
      "2274  4h ago     PwBaseWorkChain                 ⏹ Finished [0]\n",
      "2275  4h ago     create_kpoints_from_distance    ⏹ Finished [0]\n",
      "2279  4h ago     PwCalculation                   ⏹ Finished [0]\n",
      "2284  4h ago     HpWorkChain                     ⏹ Finished [0]\n",
      "2286  4h ago     HpBaseWorkChain                 ⏹ Finished [0]\n",
      "2288  4h ago     HpCalculation                   ⏹ Finished [0]\n",
      "2295  4h ago     HpWorkChain                     ⏹ Finished [0]\n",
      "2297  4h ago     HpBaseWorkChain                 ⏹ Finished [0]\n",
      "2299  4h ago     HpCalculation                   ⏹ Finished [0]\n",
      "2307  4h ago     structure_relabel_kinds         ⏹ Finished [0]\n",
      "2310  4h ago     PwRelaxWorkChain                ⏹ Finished [401]\n",
      "2313  4h ago     PwBaseWorkChain                 ⏹ Finished [300]\n",
      "2314  4h ago     create_kpoints_from_distance    ⏹ Finished [0]\n",
      "2318  4h ago     PwCalculation                   ⏹ Finished [305]\n",
      "2330  4h ago     structure_relabel_kinds         ⏹ Finished [0]\n",
      "2333  4h ago     PwRelaxWorkChain                ⏹ Finished [401]\n",
      "2336  4h ago     PwBaseWorkChain                 ⏹ Finished [300]\n",
      "2337  4h ago     create_kpoints_from_distance    ⏹ Finished [0]\n",
      "2341  4h ago     PwCalculation                   ⏹ Finished [305]\n",
      "\n",
      "Total results: 31\n",
      "\n",
      "Report: last time an entry changed state: 4h ago (at 10:24:50 on 2023-02-16)\n",
      "Report: Using 0% of the available daemon worker slots.\n",
      "Property     Value\n",
      "-----------  ---------------------------------------------------------------------\n",
      "type         SelfConsistentHubbardWorkChain\n",
      "state        Finished [402] The PwRelaxWorkChain sub process failed in iteration 2\n",
      "pk           2234\n",
      "uuid         8a7af431-03dd-44f4-a84c-a17e55ead812\n",
      "label\n",
      "description\n",
      "ctime        2023-02-16 10:03:47.493781+01:00\n",
      "mtime        2023-02-16 10:21:15.871575+01:00\n",
      "\n",
      "Inputs                               PK    Type\n",
      "-----------------------------------  ----  --------------------\n",
      "hubbard\n",
      "    hp\n",
      "        code                         2183  InstalledCode\n",
      "        qpoints                      2223  KpointsData\n",
      "        parameters                   2224  Dict\n",
      "        settings                     2225  Dict\n",
      "    clean_workdir                    2226  Bool\n",
      "    max_iterations                   2227  Int\n",
      "    parallelize_atoms                2228  Bool\n",
      "relax\n",
      "    base\n",
      "        pw\n",
      "            pseudos\n",
      "                Ti                   14    UpfData\n",
      "                O                    74    UpfData\n",
      "                Ba                   45    UpfData\n",
      "            code                     2182  InstalledCode\n",
      "            parameters               2210  Dict\n",
      "        kpoints_distance             2211  Float\n",
      "        kpoints_force_parity         2212  Bool\n",
      "        max_iterations               2213  Int\n",
      "    clean_workdir                    2214  Bool\n",
      "    max_meta_convergence_iterations  2215  Int\n",
      "    meta_convergence                 2216  Bool\n",
      "    volume_convergence               2217  Float\n",
      "scf\n",
      "    pw\n",
      "        pseudos\n",
      "            Ti                       14    UpfData\n",
      "            O                        74    UpfData\n",
      "            Ba                       45    UpfData\n",
      "        code                         2182  InstalledCode\n",
      "        parameters                   2218  Dict\n",
      "    clean_workdir                    2219  Bool\n",
      "    kpoints_distance                 2220  Float\n",
      "    kpoints_force_parity             2221  Bool\n",
      "    max_iterations                   2222  Int\n",
      "clean_workdir                        2232  Bool\n",
      "hubbard_structure                    2184  HubbardStructureData\n",
      "max_iterations                       2233  Int\n",
      "meta_convergence                     2231  Bool\n",
      "tolerance_intersite                  2230  Float\n",
      "tolerance_onsite                     2229  Float\n",
      "\n",
      "Called                       PK  Type\n",
      "-------------------------  ----  -----------------------\n",
      "iteration_01_scf_smearing  2236  PwBaseWorkChain\n",
      "iteration_01_scf_fixed     2261  PwBaseWorkChain\n",
      "iteration_01_hp            2284  HpWorkChain\n",
      "CALL                       2307  structure_relabel_kinds\n",
      "iteration_02_relax         2310  PwRelaxWorkChain\n",
      "\n",
      "Log messages\n",
      "----------------------------------------------\n",
      "There are 11 log messages for this calculation\n",
      "Run 'verdi process report 2234' to see them\n",
      "2023-02-16 10:03:50 [18 | REPORT]: [2234|SelfConsistentHubbardWorkChain|setup]: system is treated to be non-magnetic because `nspin == 1` in `scf.pw.parameters` input.\n",
      "2023-02-16 10:03:51 [19 | REPORT]: [2234|SelfConsistentHubbardWorkChain|should_run_relax]: skip_first_relax has been set True; skipping first relaxion...\n",
      "2023-02-16 10:03:51 [20 | REPORT]: [2234|SelfConsistentHubbardWorkChain|run_scf_smearing]: launching PwBaseWorkChain<2236> with smeared occupations\n",
      "2023-02-16 10:03:54 [21 | REPORT]:   [2236|PwBaseWorkChain|run_process]: launching PwCalculation<2241> iteration #1\n",
      "2023-02-16 10:06:21 [26 | REPORT]:   [2236|PwBaseWorkChain|results]: work chain completed after 1 iterations\n",
      "2023-02-16 10:06:21 [27 | REPORT]:   [2236|PwBaseWorkChain|on_terminated]: remote folders will not be cleaned\n",
      "2023-02-16 10:06:21 [28 | REPORT]: [2234|SelfConsistentHubbardWorkChain|recon_scf]: after relaxation, system is determined to be an insulator\n",
      "2023-02-16 10:06:22 [29 | REPORT]: [2234|SelfConsistentHubbardWorkChain|run_scf_fixed]: launching PwBaseWorkChain<2261> with fixed occupations\n",
      "2023-02-16 10:06:25 [30 | REPORT]:   [2261|PwBaseWorkChain|run_process]: launching PwCalculation<2266> iteration #1\n",
      "2023-02-16 10:11:34 [36 | REPORT]:   [2261|PwBaseWorkChain|results]: work chain completed after 1 iterations\n",
      "2023-02-16 10:11:34 [37 | REPORT]:   [2261|PwBaseWorkChain|on_terminated]: remote folders will not be cleaned\n",
      "2023-02-16 10:11:35 [38 | REPORT]: [2234|SelfConsistentHubbardWorkChain|run_hp]: launching HpWorkChain<2284> iteration #1\n",
      "2023-02-16 10:11:36 [39 | REPORT]:   [2284|HpWorkChain|run_base_workchain]: running in serial, launching HpBaseWorkChain<2286>\n",
      "2023-02-16 10:11:36 [40 | REPORT]:     [2286|HpBaseWorkChain|run_process]: launching HpCalculation<2288> iteration #1\n",
      "2023-02-16 10:18:47 [46 | REPORT]:     [2286|HpBaseWorkChain|results]: work chain completed after 1 iterations\n",
      "2023-02-16 10:18:47 [47 | REPORT]:     [2286|HpBaseWorkChain|on_terminated]: remote folders will not be cleaned\n",
      "2023-02-16 10:18:48 [48 | REPORT]: [2234|SelfConsistentHubbardWorkChain|check_convergence]: new types have been determined: relabeling the structure and starting new iteration.\n",
      "2023-02-16 10:18:49 [49 | REPORT]: [2234|SelfConsistentHubbardWorkChain|check_convergence]: The new and old Hubbard parameters have different lenghts. Assuming to be at the first cycle.\n",
      "2023-02-16 10:18:50 [50 | REPORT]: [2234|SelfConsistentHubbardWorkChain|run_relax]: launching PwRelaxWorkChain<2310> iteration #2\n",
      "2023-02-16 10:18:51 [51 | REPORT]:   [2310|PwRelaxWorkChain|run_relax]: launching PwBaseWorkChain<2313>\n",
      "2023-02-16 10:18:52 [52 | REPORT]:     [2313|PwBaseWorkChain|run_process]: launching PwCalculation<2318> iteration #1\n",
      "2023-02-16 10:21:15 [57 | REPORT]:     [2313|PwBaseWorkChain|report_error_handled]: PwCalculation<2318> failed with exit status 305: Both the stdout and XML output files could not be read or parsed.\n",
      "2023-02-16 10:21:15 [58 | REPORT]:     [2313|PwBaseWorkChain|report_error_handled]: Action taken: unrecoverable error, aborting...\n",
      "2023-02-16 10:21:15 [59 | REPORT]:     [2313|PwBaseWorkChain|inspect_process]: PwCalculation<2318> failed but a handler detected an unrecoverable problem, aborting\n",
      "2023-02-16 10:21:15 [60 | REPORT]:     [2313|PwBaseWorkChain|on_terminated]: remote folders will not be cleaned\n",
      "2023-02-16 10:21:15 [61 | REPORT]:   [2310|PwRelaxWorkChain|inspect_relax]: relax PwBaseWorkChain failed with exit status 300\n",
      "2023-02-16 10:21:15 [62 | REPORT]:   [2310|PwRelaxWorkChain|on_terminated]: remote folders will not be cleaned\n",
      "2023-02-16 10:21:15 [63 | REPORT]: [2234|SelfConsistentHubbardWorkChain|inspect_relax]: PwRelaxWorkChain failed with exit status 401\n",
      "2023-02-16 10:21:15 [64 | REPORT]: [2234|SelfConsistentHubbardWorkChain|on_terminated]: remote folders will not be cleaned\n",
      "SelfConsistentHubbardWorkChain<2234> Finished [402] [1:while_(should_run_iteration)(1:if_(should_run_relax)(1:inspect_relax))]\n",
      "    ├── PwBaseWorkChain<2236> Finished [0] [4:results]\n",
      "    │   ├── create_kpoints_from_distance<2237> Finished [0]\n",
      "    │   └── PwCalculation<2241> Finished [0]\n",
      "    ├── PwBaseWorkChain<2261> Finished [0] [4:results]\n",
      "    │   ├── create_kpoints_from_distance<2262> Finished [0]\n",
      "    │   └── PwCalculation<2266> Finished [0]\n",
      "    ├── HpWorkChain<2284> Finished [0] [2:results]\n",
      "    │   └── HpBaseWorkChain<2286> Finished [0] [3:results]\n",
      "    │       └── HpCalculation<2288> Finished [0]\n",
      "    ├── structure_relabel_kinds<2307> Finished [0]\n",
      "    └── PwRelaxWorkChain<2310> Finished [401] [1:while_(should_run_relax)(1:inspect_relax)]\n",
      "        └── PwBaseWorkChain<2313> Finished [300] [3:while_(should_run_process)(2:inspect_process)]\n",
      "            ├── create_kpoints_from_distance<2314> Finished [0]\n",
      "            └── PwCalculation<2318> Finished [305]\n"
     ]
    }
   ],
   "source": [
    "%%bash\n",
    "verdi daemon status\n",
    "verdi process list -a -p 1\n",
    "verdi process show 2234\n",
    "verdi process report 2234\n",
    "verdi process status 2234"
   ]
  },
  {
   "cell_type": "code",
   "execution_count": 7,
   "id": "1fcd6dbf",
   "metadata": {},
   "outputs": [
    {
     "name": "stdout",
     "output_type": "stream",
     "text": [
      "---------------------------  -------------------------------------------------------------------------------------------------\n",
      "Label                        lumi-small\n",
      "PK                           3\n",
      "UUID                         ef38453e-4556-4ffe-9ffb-498047db9df4\n",
      "Description                  LUMI - Supercomputer in the North - `small` partition (128 cores CPU; max 200jobs, 1day, 4 nodes)\n",
      "Hostname                     lumi.csc.fi\n",
      "Transport type               core.ssh\n",
      "Scheduler type               core.slurm\n",
      "Work directory               /scratch/project_465000106/jgeiger/aiida\n",
      "Shebang                      #!/bin/bash\n",
      "Mpirun command               srun -u -n {tot_num_mpiprocs}\n",
      "Default #procs/machine       128\n",
      "Default memory (kB)/machine\n",
      "Prepend text                 #SBATCH --account=project_465000106\n",
      "                             #SBATCH --partition=small\n",
      "                             #SBATCH --mem=227328\n",
      "Append text\n",
      "---------------------------  -------------------------------------------------------------------------------------------------\n"
     ]
    }
   ],
   "source": [
    "%%bash\n",
    "verdi computer show lumi-small \n",
    "# verdi process report 2310"
   ]
  }
 ],
 "metadata": {
  "kernelspec": {
   "display_name": "env",
   "language": "python",
   "name": "python3"
  },
  "language_info": {
   "codemirror_mode": {
    "name": "ipython",
    "version": 3
   },
   "file_extension": ".py",
   "mimetype": "text/x-python",
   "name": "python",
   "nbconvert_exporter": "python",
   "pygments_lexer": "ipython3",
   "version": "3.8.10"
  },
  "vscode": {
   "interpreter": {
    "hash": "563b968e1044a963233ca0d255c24a54b27faba64327a7678a42d7af4cac992e"
   }
  }
 },
 "nbformat": 4,
 "nbformat_minor": 5
}
