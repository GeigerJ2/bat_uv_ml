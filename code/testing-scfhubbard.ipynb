{
 "cells": [
  {
   "cell_type": "code",
   "execution_count": 5,
   "id": "0d96feaf-8817-453a-b4d0-560f5f29d33c",
   "metadata": {},
   "outputs": [
    {
     "data": {
      "text/plain": [
       "Profile<uuid='4fe00b7a32994cfca8b6cf43c2d22a53' name='jgeiger'>"
      ]
     },
     "execution_count": 5,
     "metadata": {},
     "output_type": "execute_result"
    }
   ],
   "source": [
    "import pathlib\n",
    "import numpy as np\n",
    "\n",
    "from aiida import orm, load_profile\n",
    "from aiida.engine import submit\n",
    "\n",
    "from qe_tools import CONSTANTS\n",
    "\n",
    "from aiida_quantumespresso_hp.workflows.hubbard import SelfConsistentHubbardWorkChain\n",
    "from aiida_quantumespresso.data.hubbard_structure import HubbardStructureData\n",
    "\n",
    "load_profile()"
   ]
  },
  {
   "cell_type": "markdown",
   "id": "d2b09cc3-665b-43e6-b04b-2793d534dc7f",
   "metadata": {},
   "source": [
    "# BaTiO3\n",
    "Let's define the BTO structure to use as example for this tutorial."
   ]
  },
  {
   "cell_type": "code",
   "execution_count": 19,
   "id": "fafa590d-b1de-4a92-a730-5c6df3d717c7",
   "metadata": {},
   "outputs": [],
   "source": [
    "cell = [\n",
    "    [5.34198, -3.08419, 4.38073],\n",
    "    [0.00000,  6.16839, 4.38073],\n",
    "    [-5.3419, -3.08419, 4.38073],\n",
    "]\n",
    "cell = CONSTANTS.bohr_to_ang*np.array(cell)\n",
    "\n",
    "structure = orm.StructureData(cell=cell)\n",
    "\n",
    "structure.append_atom(position=np.dot([0.48674, 0.4867, 0.4867], cell),  symbols='Ti')\n",
    "structure.append_atom(position=np.dot([0.51163, 0.5116, 0.0192], cell),  symbols='O' )\n",
    "structure.append_atom(position=np.dot([0.51163, 0.0192, 0.5116], cell),  symbols='O' )\n",
    "structure.append_atom(position=np.dot([0.01929, 0.5116, 0.5116], cell),  symbols='O' )\n",
    "structure.append_atom(position=np.dot([0.99899, 0.9989, 0.9989], cell),  symbols='Ba')"
   ]
  },
  {
   "cell_type": "markdown",
   "id": "cbd6c351-07bf-4935-8149-c5dc3e802ca2",
   "metadata": {},
   "source": [
    "## HubbardStructureData initialization\n",
    "Let's initialize the HubbardStructureData with the BTO structure!\n",
    "\n",
    "> Important: You only need to do these steps once! Later just keep track of this testing structure via the PK and reload it from the database so you don't get 100 BaTiO3 strucures in your storage. ^^"
   ]
  },
  {
   "cell_type": "code",
   "execution_count": 20,
   "id": "68238387-c713-47b0-b501-28f6cee06b67",
   "metadata": {},
   "outputs": [],
   "source": [
    "hubbard_data = HubbardStructureData(structure=structure)"
   ]
  },
  {
   "cell_type": "code",
   "execution_count": 21,
   "id": "1dd1cbca-7de7-483e-a7a6-8b7aa900254b",
   "metadata": {},
   "outputs": [
    {
     "data": {
      "text/plain": [
       "<HubbardStructureData: uuid: b49ea297-51e0-40b7-bdd6-10a53f3e1bb6 (unstored)>"
      ]
     },
     "execution_count": 21,
     "metadata": {},
     "output_type": "execute_result"
    }
   ],
   "source": [
    "hubbard_data"
   ]
  },
  {
   "cell_type": "markdown",
   "id": "db3586b0-0d08-437c-9416-28b4de12ad7e",
   "metadata": {},
   "source": [
    "## Initializing the on-site Hubbard\n",
    "Let's initialize the on-site Hubbard parameter for the titanium atom."
   ]
  },
  {
   "cell_type": "code",
   "execution_count": 22,
   "id": "97aa36f8-e5b9-435c-b4bd-08c4850b02a9",
   "metadata": {},
   "outputs": [],
   "source": [
    "hubbard_data.initialize_onsites_hubbard('Ti', '3d', 5.0) # index 0 for Ti ==> Hubbard U"
   ]
  },
  {
   "cell_type": "markdown",
   "id": "3271f32e-df00-49f8-a678-d1f83d51bae1",
   "metadata": {},
   "source": [
    "Here how it is stored in the class."
   ]
  },
  {
   "cell_type": "code",
   "execution_count": 23,
   "id": "f4bc5921-ce79-4e3d-804e-3ed6523e6b93",
   "metadata": {},
   "outputs": [
    {
     "data": {
      "text/plain": [
       "[[0, '3d', 0, '3d', 5.0, [0, 0, 0], 'dudarev']]"
      ]
     },
     "execution_count": 23,
     "metadata": {},
     "output_type": "execute_result"
    }
   ],
   "source": [
    "hubbard_data.hubbard_parameters"
   ]
  },
  {
   "cell_type": "markdown",
   "id": "97632bc2-b652-4d04-b917-15c688468253",
   "metadata": {},
   "source": [
    "## Initializing the inter-site Hubbard\n",
    "Let's initialize the inter-site Hubbard parameter for the titanium and oxygen atoms."
   ]
  },
  {
   "cell_type": "code",
   "execution_count": 24,
   "id": "3eb86220-436e-4592-af95-a359c8923b6d",
   "metadata": {},
   "outputs": [],
   "source": [
    "hubbard_data.initialize_intersites_hubbard('Ti', '3d', 'O', '2p', 0.0001, number_of_neighbours=7)"
   ]
  },
  {
   "cell_type": "markdown",
   "id": "a5df15af-5574-42be-aa58-890d2d95c5d2",
   "metadata": {},
   "source": [
    "The parameters are saved in the property `hubbard_parameters` as a list."
   ]
  },
  {
   "cell_type": "code",
   "execution_count": 25,
   "id": "ab486809-31f7-4bc3-9425-0467811da1d3",
   "metadata": {},
   "outputs": [
    {
     "data": {
      "text/plain": [
       "[[0, '3d', 0, '3d', 5.0, [0, 0, 0], 'dudarev'],\n",
       " [0, '3d', 3, '2p', 0.0001, [0, 0, 0], 'dudarev'],\n",
       " [0, '3d', 1, '2p', 0.0001, [0, 0, 0], 'dudarev'],\n",
       " [0, '3d', 2, '2p', 0.0001, [0, 0, 0], 'dudarev'],\n",
       " [0, '3d', 1, '2p', 0.0001, [0, 0, 1], 'dudarev'],\n",
       " [0, '3d', 2, '2p', 0.0001, [0, 1, 0], 'dudarev'],\n",
       " [0, '3d', 3, '2p', 0.0001, [1, 0, 0], 'dudarev'],\n",
       " [0, '3d', 3, '2p', 0.0001, [0, 0, -1], 'dudarev']]"
      ]
     },
     "execution_count": 25,
     "metadata": {},
     "output_type": "execute_result"
    }
   ],
   "source": [
    "hubbard_data.hubbard_parameters"
   ]
  },
  {
   "cell_type": "code",
   "execution_count": 17,
   "id": "cb1b4b3b-8fe5-4f29-8ee9-54e3f564017f",
   "metadata": {},
   "outputs": [
    {
     "data": {
      "text/plain": [
       "<HubbardStructureData: uuid: 121783bc-8579-4b3a-986b-2740cc20fec0 (pk: 2502)>"
      ]
     },
     "execution_count": 17,
     "metadata": {},
     "output_type": "execute_result"
    }
   ],
   "source": [
    "hubbard_data.store()"
   ]
  },
  {
   "cell_type": "code",
   "execution_count": null,
   "id": "5a4c370c-8f7c-401b-93f6-77c51225d4c9",
   "metadata": {},
   "outputs": [],
   "source": [
    "hubbard_data.pk"
   ]
  },
  {
   "cell_type": "markdown",
   "id": "f53e706b-5f5c-4f85-92aa-45355eb17e89",
   "metadata": {},
   "source": [
    "## Running the `SelfConsistentHubbardWorkChain`"
   ]
  },
  {
   "cell_type": "code",
   "execution_count": 6,
   "metadata": {},
   "outputs": [
    {
     "name": "stdout",
     "output_type": "stream",
     "text": [
      "HUBBARD\tortho-atomic\n",
      " U\tTi-3d\t5.0\n",
      " V\tTi-3d\tO-2p\t1\t4\t0.0001\n",
      " V\tTi-3d\tO-2p\t1\t2\t0.0001\n",
      " V\tTi-3d\tO-2p\t1\t3\t0.0001\n",
      " V\tTi-3d\tO-2p\t1\t72\t0.0001\n",
      " V\tTi-3d\tO-2p\t1\t83\t0.0001\n",
      " V\tTi-3d\tO-2p\t1\t114\t0.0001\n",
      " V\tTi-3d\tO-2p\t1\t69\t0.0001\n",
      "\n"
     ]
    }
   ],
   "source": [
    "hubbard_data = orm.load_node(2502)  # I load the node from the database instead of always regenerating it\n",
    "print(hubbard_data.get_quantum_espresso_hubbard_card())"
   ]
  },
  {
   "cell_type": "code",
   "execution_count": 20,
   "metadata": {},
   "outputs": [],
   "source": [
    "pw_code = orm.load_code('qe-dev-pw@lumi-small')\n",
    "hp_code = orm.load_code('qe-dev-hp@lumi-small')\n",
    "\n",
    "builder = SelfConsistentHubbardWorkChain.get_builder_from_protocol(\n",
    "    pw_code=pw_code,\n",
    "    hp_code=hp_code,\n",
    "    hubbard_structure=hubbard_data,\n",
    "    protocol='fast',\n",
    "    overrides=pathlib.Path('hubbard_overrides.yaml')\n",
    ")\n",
    "\n",
    "builder.skip_first_relax = True"
   ]
  },
  {
   "cell_type": "code",
   "execution_count": 25,
   "id": "bc968bdc-0817-49a0-8e89-e14323248b86",
   "metadata": {},
   "outputs": [
    {
     "name": "stdout",
     "output_type": "stream",
     "text": [
      "uuid: d533fccf-1722-4785-b526-2c6db43a6753 (pk: 2642) (aiida.workflows:quantumespresso.hp.hubbard)\n"
     ]
    }
   ],
   "source": [
    "third_submit = submit(builder)\n",
    "print(third_submit)"
   ]
  },
  {
   "cell_type": "code",
   "execution_count": 19,
   "metadata": {},
   "outputs": [],
   "source": [
    "first_submit_pk = 2234\n",
    "second_submit_pk = 2448\n",
    "third_submit_pk = 2642"
   ]
  },
  {
   "cell_type": "code",
   "execution_count": 26,
   "metadata": {},
   "outputs": [
    {
     "name": "stdout",
     "output_type": "stream",
     "text": [
      "Property     Value\n",
      "-----------  ---------------------------------------------------------------------\n",
      "type         SelfConsistentHubbardWorkChain\n",
      "state        Finished [402] The PwRelaxWorkChain sub process failed in iteration 2\n",
      "pk           2234\n",
      "uuid         8a7af431-03dd-44f4-a84c-a17e55ead812\n",
      "label\n",
      "description\n",
      "ctime        2023-02-16 10:03:47.493781+01:00\n",
      "mtime        2023-02-16 10:21:15.871575+01:00\n",
      "\n",
      "Inputs                               PK    Type\n",
      "-----------------------------------  ----  --------------------\n",
      "hubbard\n",
      "    hp\n",
      "        code                         2183  InstalledCode\n",
      "        qpoints                      2223  KpointsData\n",
      "        parameters                   2224  Dict\n",
      "        settings                     2225  Dict\n",
      "    clean_workdir                    2226  Bool\n",
      "    max_iterations                   2227  Int\n",
      "    parallelize_atoms                2228  Bool\n",
      "relax\n",
      "    base\n",
      "        pw\n",
      "            pseudos\n",
      "                Ti                   14    UpfData\n",
      "                O                    74    UpfData\n",
      "                Ba                   45    UpfData\n",
      "            code                     2182  InstalledCode\n",
      "            parameters               2210  Dict\n",
      "        kpoints_distance             2211  Float\n",
      "        kpoints_force_parity         2212  Bool\n",
      "        max_iterations               2213  Int\n",
      "    clean_workdir                    2214  Bool\n",
      "    max_meta_convergence_iterations  2215  Int\n",
      "    meta_convergence                 2216  Bool\n",
      "    volume_convergence               2217  Float\n",
      "scf\n",
      "    pw\n",
      "        pseudos\n",
      "            Ti                       14    UpfData\n",
      "            O                        74    UpfData\n",
      "            Ba                       45    UpfData\n",
      "        code                         2182  InstalledCode\n",
      "        parameters                   2218  Dict\n",
      "    clean_workdir                    2219  Bool\n",
      "    kpoints_distance                 2220  Float\n",
      "    kpoints_force_parity             2221  Bool\n",
      "    max_iterations                   2222  Int\n",
      "clean_workdir                        2232  Bool\n",
      "hubbard_structure                    2184  HubbardStructureData\n",
      "max_iterations                       2233  Int\n",
      "meta_convergence                     2231  Bool\n",
      "tolerance_intersite                  2230  Float\n",
      "tolerance_onsite                     2229  Float\n",
      "\n",
      "Called                       PK  Type\n",
      "-------------------------  ----  -----------------------\n",
      "iteration_01_scf_smearing  2236  PwBaseWorkChain\n",
      "iteration_01_scf_fixed     2261  PwBaseWorkChain\n",
      "iteration_01_hp            2284  HpWorkChain\n",
      "CALL                       2307  structure_relabel_kinds\n",
      "iteration_02_relax         2310  PwRelaxWorkChain\n",
      "\n",
      "Log messages\n",
      "----------------------------------------------\n",
      "There are 11 log messages for this calculation\n",
      "Run 'verdi process report 2234' to see them\n",
      "====================================================================================================\n",
      "SelfConsistentHubbardWorkChain<2234> Finished [402] [1:while_(should_run_iteration)(1:if_(should_run_relax)(1:inspect_relax))]\n",
      "    ├── PwBaseWorkChain<2236> Finished [0] [4:results]\n",
      "    │   ├── create_kpoints_from_distance<2237> Finished [0]\n",
      "    │   └── PwCalculation<2241> Finished [0]\n",
      "    ├── PwBaseWorkChain<2261> Finished [0] [4:results]\n",
      "    │   ├── create_kpoints_from_distance<2262> Finished [0]\n",
      "    │   └── PwCalculation<2266> Finished [0]\n",
      "    ├── HpWorkChain<2284> Finished [0] [2:results]\n",
      "    │   └── HpBaseWorkChain<2286> Finished [0] [3:results]\n",
      "    │       └── HpCalculation<2288> Finished [0]\n",
      "    ├── structure_relabel_kinds<2307> Finished [0]\n",
      "    └── PwRelaxWorkChain<2310> Finished [401] [1:while_(should_run_relax)(1:inspect_relax)]\n",
      "        └── PwBaseWorkChain<2313> Finished [300] [3:while_(should_run_process)(2:inspect_process)]\n",
      "            ├── create_kpoints_from_distance<2314> Finished [0]\n",
      "            └── PwCalculation<2318> Finished [305]\n",
      "====================================================================================================\n",
      "2023-02-16 10:03:50 [18 | REPORT]: [2234|SelfConsistentHubbardWorkChain|setup]: system is treated to be non-magnetic because `nspin == 1` in `scf.pw.parameters` input.\n",
      "2023-02-16 10:03:51 [19 | REPORT]: [2234|SelfConsistentHubbardWorkChain|should_run_relax]: skip_first_relax has been set True; skipping first relaxion...\n",
      "2023-02-16 10:03:51 [20 | REPORT]: [2234|SelfConsistentHubbardWorkChain|run_scf_smearing]: launching PwBaseWorkChain<2236> with smeared occupations\n",
      "2023-02-16 10:03:54 [21 | REPORT]:   [2236|PwBaseWorkChain|run_process]: launching PwCalculation<2241> iteration #1\n",
      "2023-02-16 10:06:21 [26 | REPORT]:   [2236|PwBaseWorkChain|results]: work chain completed after 1 iterations\n",
      "2023-02-16 10:06:21 [27 | REPORT]:   [2236|PwBaseWorkChain|on_terminated]: remote folders will not be cleaned\n",
      "2023-02-16 10:06:21 [28 | REPORT]: [2234|SelfConsistentHubbardWorkChain|recon_scf]: after relaxation, system is determined to be an insulator\n",
      "2023-02-16 10:06:22 [29 | REPORT]: [2234|SelfConsistentHubbardWorkChain|run_scf_fixed]: launching PwBaseWorkChain<2261> with fixed occupations\n",
      "2023-02-16 10:06:25 [30 | REPORT]:   [2261|PwBaseWorkChain|run_process]: launching PwCalculation<2266> iteration #1\n",
      "2023-02-16 10:11:34 [36 | REPORT]:   [2261|PwBaseWorkChain|results]: work chain completed after 1 iterations\n",
      "2023-02-16 10:11:34 [37 | REPORT]:   [2261|PwBaseWorkChain|on_terminated]: remote folders will not be cleaned\n",
      "2023-02-16 10:11:35 [38 | REPORT]: [2234|SelfConsistentHubbardWorkChain|run_hp]: launching HpWorkChain<2284> iteration #1\n",
      "2023-02-16 10:11:36 [39 | REPORT]:   [2284|HpWorkChain|run_base_workchain]: running in serial, launching HpBaseWorkChain<2286>\n",
      "2023-02-16 10:11:36 [40 | REPORT]:     [2286|HpBaseWorkChain|run_process]: launching HpCalculation<2288> iteration #1\n",
      "2023-02-16 10:18:47 [46 | REPORT]:     [2286|HpBaseWorkChain|results]: work chain completed after 1 iterations\n",
      "2023-02-16 10:18:47 [47 | REPORT]:     [2286|HpBaseWorkChain|on_terminated]: remote folders will not be cleaned\n",
      "2023-02-16 10:18:48 [48 | REPORT]: [2234|SelfConsistentHubbardWorkChain|check_convergence]: new types have been determined: relabeling the structure and starting new iteration.\n",
      "2023-02-16 10:18:49 [49 | REPORT]: [2234|SelfConsistentHubbardWorkChain|check_convergence]: The new and old Hubbard parameters have different lenghts. Assuming to be at the first cycle.\n",
      "2023-02-16 10:18:50 [50 | REPORT]: [2234|SelfConsistentHubbardWorkChain|run_relax]: launching PwRelaxWorkChain<2310> iteration #2\n",
      "2023-02-16 10:18:51 [51 | REPORT]:   [2310|PwRelaxWorkChain|run_relax]: launching PwBaseWorkChain<2313>\n",
      "2023-02-16 10:18:52 [52 | REPORT]:     [2313|PwBaseWorkChain|run_process]: launching PwCalculation<2318> iteration #1\n",
      "2023-02-16 10:21:15 [57 | REPORT]:     [2313|PwBaseWorkChain|report_error_handled]: PwCalculation<2318> failed with exit status 305: Both the stdout and XML output files could not be read or parsed.\n",
      "2023-02-16 10:21:15 [58 | REPORT]:     [2313|PwBaseWorkChain|report_error_handled]: Action taken: unrecoverable error, aborting...\n",
      "2023-02-16 10:21:15 [59 | REPORT]:     [2313|PwBaseWorkChain|inspect_process]: PwCalculation<2318> failed but a handler detected an unrecoverable problem, aborting\n",
      "2023-02-16 10:21:15 [60 | REPORT]:     [2313|PwBaseWorkChain|on_terminated]: remote folders will not be cleaned\n",
      "2023-02-16 10:21:15 [61 | REPORT]:   [2310|PwRelaxWorkChain|inspect_relax]: relax PwBaseWorkChain failed with exit status 300\n",
      "2023-02-16 10:21:15 [62 | REPORT]:   [2310|PwRelaxWorkChain|on_terminated]: remote folders will not be cleaned\n",
      "2023-02-16 10:21:15 [63 | REPORT]: [2234|SelfConsistentHubbardWorkChain|inspect_relax]: PwRelaxWorkChain failed with exit status 401\n",
      "2023-02-16 10:21:15 [64 | REPORT]: [2234|SelfConsistentHubbardWorkChain|on_terminated]: remote folders will not be cleaned\n",
      "====================================================================================================\n"
     ]
    }
   ],
   "source": [
    "%%bash\n",
    "verdi process show 2234\n",
    "printf '=%.0s' {1..100}\n",
    "echo\n",
    "verdi process status 2234\n",
    "printf '=%.0s' {1..100}\n",
    "echo\n",
    "verdi process report 2234\n",
    "printf '=%.0s' {1..100}\n",
    "echo"
   ]
  },
  {
   "cell_type": "code",
   "execution_count": 7,
   "id": "6fac19fc",
   "metadata": {},
   "outputs": [
    {
     "name": "stdout",
     "output_type": "stream",
     "text": [
      "Property     Value\n",
      "-----------  ---------------------------------------------------------------------\n",
      "type         SelfConsistentHubbardWorkChain\n",
      "state        Finished [402] The PwRelaxWorkChain sub process failed in iteration 2\n",
      "pk           2448\n",
      "uuid         767c3be7-8042-4e79-9fe6-8ec2af85655e\n",
      "label\n",
      "description\n",
      "ctime        2023-02-21 14:30:56.614402+01:00\n",
      "mtime        2023-02-21 15:22:09.913790+01:00\n",
      "\n",
      "Inputs                               PK    Type\n",
      "-----------------------------------  ----  --------------------\n",
      "hubbard\n",
      "    hp\n",
      "        code                         2183  InstalledCode\n",
      "        qpoints                      2437  KpointsData\n",
      "        parameters                   2438  Dict\n",
      "        settings                     2439  Dict\n",
      "    clean_workdir                    2440  Bool\n",
      "    max_iterations                   2441  Int\n",
      "    parallelize_atoms                2442  Bool\n",
      "relax\n",
      "    base\n",
      "        pw\n",
      "            pseudos\n",
      "                Ti                   14    UpfData\n",
      "                O                    74    UpfData\n",
      "                Ba                   45    UpfData\n",
      "            code                     2182  InstalledCode\n",
      "            parameters               2424  Dict\n",
      "        kpoints_distance             2425  Float\n",
      "        kpoints_force_parity         2426  Bool\n",
      "        max_iterations               2427  Int\n",
      "    clean_workdir                    2428  Bool\n",
      "    max_meta_convergence_iterations  2429  Int\n",
      "    meta_convergence                 2430  Bool\n",
      "    volume_convergence               2431  Float\n",
      "scf\n",
      "    pw\n",
      "        pseudos\n",
      "            Ti                       14    UpfData\n",
      "            O                        74    UpfData\n",
      "            Ba                       45    UpfData\n",
      "        code                         2182  InstalledCode\n",
      "        parameters                   2432  Dict\n",
      "    clean_workdir                    2433  Bool\n",
      "    kpoints_distance                 2434  Float\n",
      "    kpoints_force_parity             2435  Bool\n",
      "    max_iterations                   2436  Int\n",
      "clean_workdir                        2446  Bool\n",
      "hubbard_structure                    2184  HubbardStructureData\n",
      "max_iterations                       2447  Int\n",
      "meta_convergence                     2445  Bool\n",
      "tolerance_intersite                  2444  Float\n",
      "tolerance_onsite                     2443  Float\n",
      "\n",
      "Called                       PK  Type\n",
      "-------------------------  ----  -----------------------\n",
      "iteration_01_scf_smearing  2450  PwBaseWorkChain\n",
      "iteration_01_scf_fixed     2462  PwBaseWorkChain\n",
      "iteration_01_hp            2473  HpWorkChain\n",
      "CALL                       2485  structure_relabel_kinds\n",
      "iteration_02_relax         2488  PwRelaxWorkChain\n",
      "\n",
      "Log messages\n",
      "----------------------------------------------\n",
      "There are 11 log messages for this calculation\n",
      "Run 'verdi process report 2448' to see them\n",
      "====================================================================================================\n",
      "SelfConsistentHubbardWorkChain<2448> Finished [402] [1:while_(should_run_iteration)(1:if_(should_run_relax)(1:inspect_relax))]\n",
      "    ├── PwBaseWorkChain<2450> Finished [0] [4:results]\n",
      "    │   ├── create_kpoints_from_distance<2451> Finished [0]\n",
      "    │   └── PwCalculation<2455> Finished [0]\n",
      "    ├── PwBaseWorkChain<2462> Finished [0] [4:results]\n",
      "    │   ├── create_kpoints_from_distance<2463> Finished [0]\n",
      "    │   └── PwCalculation<2467> Finished [0]\n",
      "    ├── HpWorkChain<2473> Finished [0] [2:results]\n",
      "    │   └── HpBaseWorkChain<2475> Finished [0] [3:results]\n",
      "    │       └── HpCalculation<2477> Finished [0]\n",
      "    ├── structure_relabel_kinds<2485> Finished [0]\n",
      "    └── PwRelaxWorkChain<2488> Finished [401] [1:while_(should_run_relax)(1:inspect_relax)]\n",
      "        └── PwBaseWorkChain<2491> Finished [300] [3:while_(should_run_process)(2:inspect_process)]\n",
      "            ├── create_kpoints_from_distance<2492> Finished [0]\n",
      "            └── PwCalculation<2496> Finished [305]\n",
      "====================================================================================================\n",
      "2023-02-21 14:31:00 [109 | REPORT]: [2448|SelfConsistentHubbardWorkChain|setup]: system is treated to be non-magnetic because `nspin == 1` in `scf.pw.parameters` input.\n",
      "2023-02-21 14:31:00 [110 | REPORT]: [2448|SelfConsistentHubbardWorkChain|should_run_relax]: skip_first_relax has been set True; skipping first relaxion...\n",
      "2023-02-21 14:31:01 [111 | REPORT]: [2448|SelfConsistentHubbardWorkChain|run_scf_smearing]: launching PwBaseWorkChain<2450> with smeared occupations\n",
      "2023-02-21 14:31:04 [112 | REPORT]:   [2450|PwBaseWorkChain|run_process]: launching PwCalculation<2455> iteration #1\n",
      "2023-02-21 14:40:36 [113 | REPORT]:   [2450|PwBaseWorkChain|results]: work chain completed after 1 iterations\n",
      "2023-02-21 14:40:37 [114 | REPORT]:   [2450|PwBaseWorkChain|on_terminated]: remote folders will not be cleaned\n",
      "2023-02-21 14:40:37 [115 | REPORT]: [2448|SelfConsistentHubbardWorkChain|recon_scf]: after relaxation, system is determined to be an insulator\n",
      "2023-02-21 14:40:38 [116 | REPORT]: [2448|SelfConsistentHubbardWorkChain|run_scf_fixed]: launching PwBaseWorkChain<2462> with fixed occupations\n",
      "2023-02-21 14:40:41 [117 | REPORT]:   [2462|PwBaseWorkChain|run_process]: launching PwCalculation<2467> iteration #1\n",
      "2023-02-21 14:57:28 [118 | REPORT]:   [2462|PwBaseWorkChain|results]: work chain completed after 1 iterations\n",
      "2023-02-21 14:57:28 [119 | REPORT]:   [2462|PwBaseWorkChain|on_terminated]: remote folders will not be cleaned\n",
      "2023-02-21 14:57:29 [120 | REPORT]: [2448|SelfConsistentHubbardWorkChain|run_hp]: launching HpWorkChain<2473> iteration #1\n",
      "2023-02-21 14:57:30 [121 | REPORT]:   [2473|HpWorkChain|run_base_workchain]: running in serial, launching HpBaseWorkChain<2475>\n",
      "2023-02-21 14:57:32 [122 | REPORT]:     [2475|HpBaseWorkChain|run_process]: launching HpCalculation<2477> iteration #1\n",
      "2023-02-21 15:11:47 [123 | REPORT]:     [2475|HpBaseWorkChain|results]: work chain completed after 1 iterations\n",
      "2023-02-21 15:11:48 [124 | REPORT]:     [2475|HpBaseWorkChain|on_terminated]: remote folders will not be cleaned\n",
      "2023-02-21 15:11:49 [125 | REPORT]: [2448|SelfConsistentHubbardWorkChain|check_convergence]: new types have been determined: relabeling the structure and starting new iteration.\n",
      "2023-02-21 15:11:49 [126 | REPORT]: [2448|SelfConsistentHubbardWorkChain|check_convergence]: The new and old Hubbard parameters have different lenghts. Assuming to be at the first cycle.\n",
      "2023-02-21 15:11:50 [127 | REPORT]: [2448|SelfConsistentHubbardWorkChain|run_relax]: launching PwRelaxWorkChain<2488> iteration #2\n",
      "2023-02-21 15:11:52 [128 | REPORT]:   [2488|PwRelaxWorkChain|run_relax]: launching PwBaseWorkChain<2491>\n",
      "2023-02-21 15:11:53 [129 | REPORT]:     [2491|PwBaseWorkChain|run_process]: launching PwCalculation<2496> iteration #1\n",
      "2023-02-21 15:22:08 [134 | REPORT]:     [2491|PwBaseWorkChain|report_error_handled]: PwCalculation<2496> failed with exit status 305: Both the stdout and XML output files could not be read or parsed.\n",
      "2023-02-21 15:22:08 [135 | REPORT]:     [2491|PwBaseWorkChain|report_error_handled]: Action taken: unrecoverable error, aborting...\n",
      "2023-02-21 15:22:09 [136 | REPORT]:     [2491|PwBaseWorkChain|inspect_process]: PwCalculation<2496> failed but a handler detected an unrecoverable problem, aborting\n",
      "2023-02-21 15:22:09 [137 | REPORT]:     [2491|PwBaseWorkChain|on_terminated]: remote folders will not be cleaned\n",
      "2023-02-21 15:22:09 [138 | REPORT]:   [2488|PwRelaxWorkChain|inspect_relax]: relax PwBaseWorkChain failed with exit status 300\n",
      "2023-02-21 15:22:09 [139 | REPORT]:   [2488|PwRelaxWorkChain|on_terminated]: remote folders will not be cleaned\n",
      "2023-02-21 15:22:09 [140 | REPORT]: [2448|SelfConsistentHubbardWorkChain|inspect_relax]: PwRelaxWorkChain failed with exit status 401\n",
      "2023-02-21 15:22:09 [141 | REPORT]: [2448|SelfConsistentHubbardWorkChain|on_terminated]: remote folders will not be cleaned\n",
      "====================================================================================================\n"
     ]
    }
   ],
   "source": [
    "%%bash\n",
    "verdi process show 2448\n",
    "printf '=%.0s' {1..100}\n",
    "echo\n",
    "verdi process status 2448\n",
    "printf '=%.0s' {1..100}\n",
    "echo\n",
    "verdi process report 2448\n",
    "printf '=%.0s' {1..100}\n",
    "echo"
   ]
  },
  {
   "cell_type": "code",
   "execution_count": 3,
   "id": "edfad9da",
   "metadata": {},
   "outputs": [
    {
     "name": "stdout",
     "output_type": "stream",
     "text": [
      "Property     Value\n",
      "-----------  ------------------------------------\n",
      "type         SelfConsistentHubbardWorkChain\n",
      "state        Finished [0]\n",
      "pk           2642\n",
      "uuid         d533fccf-1722-4785-b526-2c6db43a6753\n",
      "label\n",
      "description\n",
      "ctime        2023-02-26 08:56:37.499787+01:00\n",
      "mtime        2023-02-26 09:57:58.079332+01:00\n",
      "\n",
      "Inputs                               PK    Type\n",
      "-----------------------------------  ----  --------------------\n",
      "hubbard\n",
      "    hp\n",
      "        code                         2183  InstalledCode\n",
      "        qpoints                      2516  KpointsData\n",
      "        parameters                   2517  Dict\n",
      "        settings                     2518  Dict\n",
      "    clean_workdir                    2519  Bool\n",
      "    max_iterations                   2639  Int\n",
      "    parallelize_atoms                2640  Bool\n",
      "relax\n",
      "    base\n",
      "        pw\n",
      "            pseudos\n",
      "                Ti                   14    UpfData\n",
      "                O                    74    UpfData\n",
      "                Ba                   45    UpfData\n",
      "            code                     2182  InstalledCode\n",
      "            parameters               2503  Dict\n",
      "        kpoints_distance             2504  Float\n",
      "        kpoints_force_parity         2505  Bool\n",
      "        max_iterations               2637  Int\n",
      "    clean_workdir                    2507  Bool\n",
      "    max_meta_convergence_iterations  2508  Int\n",
      "    meta_convergence                 2509  Bool\n",
      "    volume_convergence               2510  Float\n",
      "scf\n",
      "    pw\n",
      "        pseudos\n",
      "            Ti                       14    UpfData\n",
      "            O                        74    UpfData\n",
      "            Ba                       45    UpfData\n",
      "        code                         2182  InstalledCode\n",
      "        parameters                   2511  Dict\n",
      "    clean_workdir                    2512  Bool\n",
      "    kpoints_distance                 2513  Float\n",
      "    kpoints_force_parity             2514  Bool\n",
      "    max_iterations                   2638  Int\n",
      "clean_workdir                        2525  Bool\n",
      "hubbard_structure                    2502  HubbardStructureData\n",
      "max_iterations                       2641  Int\n",
      "meta_convergence                     2524  Bool\n",
      "tolerance_intersite                  2523  Float\n",
      "tolerance_onsite                     2522  Float\n",
      "\n",
      "Outputs              PK  Type\n",
      "-----------------  ----  --------------------\n",
      "hubbard_structure  2814  HubbardStructureData\n",
      "\n",
      "Called                       PK  Type\n",
      "-------------------------  ----  -----------------------\n",
      "iteration_01_scf_smearing  2644  PwBaseWorkChain\n",
      "iteration_01_scf_fixed     2656  PwBaseWorkChain\n",
      "iteration_01_hp            2667  HpWorkChain\n",
      "CALL                       2679  structure_relabel_kinds\n",
      "iteration_02_relax         2682  PwRelaxWorkChain\n",
      "iteration_02_scf_smearing  2712  PwBaseWorkChain\n",
      "iteration_02_scf_fixed     2724  PwBaseWorkChain\n",
      "iteration_02_hp            2735  HpWorkChain\n",
      "CALL                       2747  structure_relabel_kinds\n",
      "iteration_03_relax         2750  PwRelaxWorkChain\n",
      "iteration_03_scf_smearing  2780  PwBaseWorkChain\n",
      "iteration_03_scf_fixed     2792  PwBaseWorkChain\n",
      "iteration_03_hp            2803  HpWorkChain\n",
      "\n",
      "Log messages\n",
      "----------------------------------------------\n",
      "There are 23 log messages for this calculation\n",
      "Run 'verdi process report 2642' to see them\n",
      "====================================================================================================\n",
      "SelfConsistentHubbardWorkChain<2642> Finished [0] [2:run_results]\n",
      "    ├── PwBaseWorkChain<2644> Finished [0] [4:results]\n",
      "    │   ├── create_kpoints_from_distance<2645> Finished [0]\n",
      "    │   └── PwCalculation<2649> Finished [0]\n",
      "    ├── PwBaseWorkChain<2656> Finished [0] [4:results]\n",
      "    │   ├── create_kpoints_from_distance<2657> Finished [0]\n",
      "    │   └── PwCalculation<2661> Finished [0]\n",
      "    ├── HpWorkChain<2667> Finished [0] [2:results]\n",
      "    │   └── HpBaseWorkChain<2669> Finished [0] [3:results]\n",
      "    │       └── HpCalculation<2671> Finished [0]\n",
      "    ├── structure_relabel_kinds<2679> Finished [0]\n",
      "    ├── PwRelaxWorkChain<2682> Finished [0] [3:results]\n",
      "    │   ├── PwBaseWorkChain<2685> Finished [0] [4:results]\n",
      "    │   │   ├── create_kpoints_from_distance<2686> Finished [0]\n",
      "    │   │   └── PwCalculation<2690> Finished [0]\n",
      "    │   └── PwBaseWorkChain<2699> Finished [0] [4:results]\n",
      "    │       ├── create_kpoints_from_distance<2700> Finished [0]\n",
      "    │       └── PwCalculation<2704> Finished [0]\n",
      "    ├── PwBaseWorkChain<2712> Finished [0] [4:results]\n",
      "    │   ├── create_kpoints_from_distance<2713> Finished [0]\n",
      "    │   └── PwCalculation<2717> Finished [0]\n",
      "    ├── PwBaseWorkChain<2724> Finished [0] [4:results]\n",
      "    │   ├── create_kpoints_from_distance<2725> Finished [0]\n",
      "    │   └── PwCalculation<2729> Finished [0]\n",
      "    ├── HpWorkChain<2735> Finished [0] [2:results]\n",
      "    │   └── HpBaseWorkChain<2737> Finished [0] [3:results]\n",
      "    │       └── HpCalculation<2739> Finished [0]\n",
      "    ├── structure_relabel_kinds<2747> Finished [0]\n",
      "    ├── PwRelaxWorkChain<2750> Finished [0] [3:results]\n",
      "    │   ├── PwBaseWorkChain<2753> Finished [0] [4:results]\n",
      "    │   │   ├── create_kpoints_from_distance<2754> Finished [0]\n",
      "    │   │   └── PwCalculation<2758> Finished [0]\n",
      "    │   └── PwBaseWorkChain<2767> Finished [0] [4:results]\n",
      "    │       ├── create_kpoints_from_distance<2768> Finished [0]\n",
      "    │       └── PwCalculation<2772> Finished [0]\n",
      "    ├── PwBaseWorkChain<2780> Finished [0] [4:results]\n",
      "    │   ├── create_kpoints_from_distance<2781> Finished [0]\n",
      "    │   └── PwCalculation<2785> Finished [0]\n",
      "    ├── PwBaseWorkChain<2792> Finished [0] [4:results]\n",
      "    │   ├── create_kpoints_from_distance<2793> Finished [0]\n",
      "    │   └── PwCalculation<2797> Finished [0]\n",
      "    └── HpWorkChain<2803> Finished [0] [2:results]\n",
      "        └── HpBaseWorkChain<2805> Finished [0] [3:results]\n",
      "            └── HpCalculation<2807> Finished [0]\n",
      "====================================================================================================\n",
      "2023-02-26 08:56:40 [179 | REPORT]: [2642|SelfConsistentHubbardWorkChain|setup]: system is treated to be non-magnetic because `nspin == 1` in `scf.pw.parameters` input.\n",
      "2023-02-26 08:56:41 [180 | REPORT]: [2642|SelfConsistentHubbardWorkChain|should_run_relax]: skip_first_relax has been set True; skipping first relaxion...\n",
      "2023-02-26 08:56:42 [181 | REPORT]: [2642|SelfConsistentHubbardWorkChain|run_scf_smearing]: launching PwBaseWorkChain<2644> with smeared occupations\n",
      "2023-02-26 08:56:45 [182 | REPORT]:   [2644|PwBaseWorkChain|run_process]: launching PwCalculation<2649> iteration #1\n",
      "2023-02-26 08:59:52 [183 | REPORT]:   [2644|PwBaseWorkChain|results]: work chain completed after 1 iterations\n",
      "2023-02-26 08:59:53 [184 | REPORT]:   [2644|PwBaseWorkChain|on_terminated]: remote folders will not be cleaned\n",
      "2023-02-26 08:59:53 [185 | REPORT]: [2642|SelfConsistentHubbardWorkChain|recon_scf]: after relaxation, system is determined to be an insulator\n",
      "2023-02-26 08:59:54 [186 | REPORT]: [2642|SelfConsistentHubbardWorkChain|run_scf_fixed]: launching PwBaseWorkChain<2656> with fixed occupations\n",
      "2023-02-26 08:59:56 [187 | REPORT]:   [2656|PwBaseWorkChain|run_process]: launching PwCalculation<2661> iteration #1\n",
      "2023-02-26 09:05:54 [188 | REPORT]:   [2656|PwBaseWorkChain|results]: work chain completed after 1 iterations\n",
      "2023-02-26 09:05:54 [189 | REPORT]:   [2656|PwBaseWorkChain|on_terminated]: remote folders will not be cleaned\n",
      "2023-02-26 09:05:55 [190 | REPORT]: [2642|SelfConsistentHubbardWorkChain|run_hp]: launching HpWorkChain<2667> iteration #1\n",
      "2023-02-26 09:05:56 [191 | REPORT]:   [2667|HpWorkChain|run_base_workchain]: running in serial, launching HpBaseWorkChain<2669>\n",
      "2023-02-26 09:05:57 [192 | REPORT]:     [2669|HpBaseWorkChain|run_process]: launching HpCalculation<2671> iteration #1\n",
      "2023-02-26 09:14:34 [193 | REPORT]:     [2669|HpBaseWorkChain|results]: work chain completed after 1 iterations\n",
      "2023-02-26 09:14:34 [194 | REPORT]:     [2669|HpBaseWorkChain|on_terminated]: remote folders will not be cleaned\n",
      "2023-02-26 09:14:35 [195 | REPORT]: [2642|SelfConsistentHubbardWorkChain|check_convergence]: new types have been determined: relabeling the structure and starting new iteration.\n",
      "2023-02-26 09:14:36 [196 | REPORT]: [2642|SelfConsistentHubbardWorkChain|check_convergence]: The new and old Hubbard parameters have different lenghts. Assuming to be at the first cycle.\n",
      "2023-02-26 09:14:37 [197 | REPORT]: [2642|SelfConsistentHubbardWorkChain|run_relax]: launching PwRelaxWorkChain<2682> iteration #2\n",
      "2023-02-26 09:14:38 [198 | REPORT]:   [2682|PwRelaxWorkChain|run_relax]: launching PwBaseWorkChain<2685>\n",
      "2023-02-26 09:14:40 [199 | REPORT]:     [2685|PwBaseWorkChain|run_process]: launching PwCalculation<2690> iteration #1\n",
      "2023-02-26 09:17:48 [200 | REPORT]:     [2685|PwBaseWorkChain|results]: work chain completed after 1 iterations\n",
      "2023-02-26 09:17:49 [201 | REPORT]:     [2685|PwBaseWorkChain|on_terminated]: remote folders will not be cleaned\n",
      "2023-02-26 09:17:49 [202 | REPORT]:   [2682|PwRelaxWorkChain|inspect_relax]: after iteration 1 cell volume of relaxed structure is 68.3903847498764\n",
      "2023-02-26 09:17:49 [203 | REPORT]:   [2682|PwRelaxWorkChain|run_relax]: launching PwBaseWorkChain<2699>\n",
      "2023-02-26 09:17:51 [204 | REPORT]:     [2699|PwBaseWorkChain|run_process]: launching PwCalculation<2704> iteration #1\n",
      "2023-02-26 09:20:16 [205 | REPORT]:     [2699|PwBaseWorkChain|results]: work chain completed after 1 iterations\n",
      "2023-02-26 09:20:16 [206 | REPORT]:     [2699|PwBaseWorkChain|on_terminated]: remote folders will not be cleaned\n",
      "2023-02-26 09:20:16 [207 | REPORT]:   [2682|PwRelaxWorkChain|inspect_relax]: after iteration 2 cell volume of relaxed structure is 68.3903838533291\n",
      "2023-02-26 09:20:16 [208 | REPORT]:   [2682|PwRelaxWorkChain|inspect_relax]: relative cell volume difference 1.3109259569275427e-08 smaller than threshold 0.05\n",
      "2023-02-26 09:20:16 [209 | REPORT]:   [2682|PwRelaxWorkChain|results]: workchain completed after 2 iterations\n",
      "2023-02-26 09:20:17 [210 | REPORT]:   [2682|PwRelaxWorkChain|on_terminated]: remote folders will not be cleaned\n",
      "2023-02-26 09:20:18 [211 | REPORT]: [2642|SelfConsistentHubbardWorkChain|run_scf_smearing]: launching PwBaseWorkChain<2712> with smeared occupations\n",
      "2023-02-26 09:20:19 [212 | REPORT]:   [2712|PwBaseWorkChain|run_process]: launching PwCalculation<2717> iteration #1\n",
      "2023-02-26 09:22:46 [213 | REPORT]:   [2712|PwBaseWorkChain|results]: work chain completed after 1 iterations\n",
      "2023-02-26 09:22:46 [214 | REPORT]:   [2712|PwBaseWorkChain|on_terminated]: remote folders will not be cleaned\n",
      "2023-02-26 09:22:46 [215 | REPORT]: [2642|SelfConsistentHubbardWorkChain|recon_scf]: after relaxation, system is determined to be an insulator\n",
      "2023-02-26 09:22:47 [216 | REPORT]: [2642|SelfConsistentHubbardWorkChain|run_scf_fixed]: launching PwBaseWorkChain<2724> with fixed occupations\n",
      "2023-02-26 09:22:49 [217 | REPORT]:   [2724|PwBaseWorkChain|run_process]: launching PwCalculation<2729> iteration #1\n",
      "2023-02-26 09:28:42 [218 | REPORT]:   [2724|PwBaseWorkChain|results]: work chain completed after 1 iterations\n",
      "2023-02-26 09:28:42 [219 | REPORT]:   [2724|PwBaseWorkChain|on_terminated]: remote folders will not be cleaned\n",
      "2023-02-26 09:28:43 [220 | REPORT]: [2642|SelfConsistentHubbardWorkChain|run_hp]: launching HpWorkChain<2735> iteration #2\n",
      "2023-02-26 09:28:44 [221 | REPORT]:   [2735|HpWorkChain|run_base_workchain]: running in serial, launching HpBaseWorkChain<2737>\n",
      "2023-02-26 09:28:45 [222 | REPORT]:     [2737|HpBaseWorkChain|run_process]: launching HpCalculation<2739> iteration #1\n",
      "2023-02-26 09:35:49 [223 | REPORT]:     [2737|HpBaseWorkChain|results]: work chain completed after 1 iterations\n",
      "2023-02-26 09:35:50 [224 | REPORT]:     [2737|HpBaseWorkChain|on_terminated]: remote folders will not be cleaned\n",
      "2023-02-26 09:35:51 [225 | REPORT]: [2642|SelfConsistentHubbardWorkChain|check_convergence]: new types have been determined: relabeling the structure and starting new iteration.\n",
      "2023-02-26 09:35:51 [226 | REPORT]: [2642|SelfConsistentHubbardWorkChain|check_convergence]: Hubbard intersites parameters are not converged. Max difference is 0.18279999999999985.\n",
      "2023-02-26 09:35:52 [227 | REPORT]: [2642|SelfConsistentHubbardWorkChain|run_relax]: launching PwRelaxWorkChain<2750> iteration #3\n",
      "2023-02-26 09:35:53 [228 | REPORT]:   [2750|PwRelaxWorkChain|run_relax]: launching PwBaseWorkChain<2753>\n",
      "2023-02-26 09:35:55 [229 | REPORT]:     [2753|PwBaseWorkChain|run_process]: launching PwCalculation<2758> iteration #1\n",
      "2023-02-26 09:39:46 [230 | REPORT]:     [2753|PwBaseWorkChain|results]: work chain completed after 1 iterations\n",
      "2023-02-26 09:39:46 [231 | REPORT]:     [2753|PwBaseWorkChain|on_terminated]: remote folders will not be cleaned\n",
      "2023-02-26 09:39:46 [232 | REPORT]:   [2750|PwRelaxWorkChain|inspect_relax]: after iteration 1 cell volume of relaxed structure is 68.87016435200968\n",
      "2023-02-26 09:39:47 [233 | REPORT]:   [2750|PwRelaxWorkChain|run_relax]: launching PwBaseWorkChain<2767>\n",
      "2023-02-26 09:39:49 [234 | REPORT]:     [2767|PwBaseWorkChain|run_process]: launching PwCalculation<2772> iteration #1\n",
      "2023-02-26 09:42:58 [235 | REPORT]:     [2767|PwBaseWorkChain|results]: work chain completed after 1 iterations\n",
      "2023-02-26 09:42:58 [236 | REPORT]:     [2767|PwBaseWorkChain|on_terminated]: remote folders will not be cleaned\n",
      "2023-02-26 09:42:59 [237 | REPORT]:   [2750|PwRelaxWorkChain|inspect_relax]: after iteration 2 cell volume of relaxed structure is 68.8701634474707\n",
      "2023-02-26 09:42:59 [238 | REPORT]:   [2750|PwRelaxWorkChain|inspect_relax]: relative cell volume difference 1.3133974448013788e-08 smaller than threshold 0.05\n",
      "2023-02-26 09:42:59 [239 | REPORT]:   [2750|PwRelaxWorkChain|results]: workchain completed after 2 iterations\n",
      "2023-02-26 09:42:59 [240 | REPORT]:   [2750|PwRelaxWorkChain|on_terminated]: remote folders will not be cleaned\n",
      "2023-02-26 09:43:00 [241 | REPORT]: [2642|SelfConsistentHubbardWorkChain|run_scf_smearing]: launching PwBaseWorkChain<2780> with smeared occupations\n",
      "2023-02-26 09:43:02 [242 | REPORT]:   [2780|PwBaseWorkChain|run_process]: launching PwCalculation<2785> iteration #1\n",
      "2023-02-26 09:46:10 [243 | REPORT]:   [2780|PwBaseWorkChain|results]: work chain completed after 1 iterations\n",
      "2023-02-26 09:46:10 [244 | REPORT]:   [2780|PwBaseWorkChain|on_terminated]: remote folders will not be cleaned\n",
      "2023-02-26 09:46:11 [245 | REPORT]: [2642|SelfConsistentHubbardWorkChain|recon_scf]: after relaxation, system is determined to be an insulator\n",
      "2023-02-26 09:46:11 [246 | REPORT]: [2642|SelfConsistentHubbardWorkChain|run_scf_fixed]: launching PwBaseWorkChain<2792> with fixed occupations\n",
      "2023-02-26 09:46:13 [247 | REPORT]:   [2792|PwBaseWorkChain|run_process]: launching PwCalculation<2797> iteration #1\n",
      "2023-02-26 09:51:31 [248 | REPORT]:   [2792|PwBaseWorkChain|results]: work chain completed after 1 iterations\n",
      "2023-02-26 09:51:32 [249 | REPORT]:   [2792|PwBaseWorkChain|on_terminated]: remote folders will not be cleaned\n",
      "2023-02-26 09:51:32 [250 | REPORT]: [2642|SelfConsistentHubbardWorkChain|run_hp]: launching HpWorkChain<2803> iteration #3\n",
      "2023-02-26 09:51:34 [251 | REPORT]:   [2803|HpWorkChain|run_base_workchain]: running in serial, launching HpBaseWorkChain<2805>\n",
      "2023-02-26 09:51:35 [252 | REPORT]:     [2805|HpBaseWorkChain|run_process]: launching HpCalculation<2807> iteration #1\n",
      "2023-02-26 09:57:56 [253 | REPORT]:     [2805|HpBaseWorkChain|results]: work chain completed after 1 iterations\n",
      "2023-02-26 09:57:56 [254 | REPORT]:     [2805|HpBaseWorkChain|on_terminated]: remote folders will not be cleaned\n",
      "2023-02-26 09:57:57 [255 | REPORT]: [2642|SelfConsistentHubbardWorkChain|check_convergence]: Hubbard parameters are converged. Stopping the cycle.\n",
      "2023-02-26 09:57:57 [256 | REPORT]: [2642|SelfConsistentHubbardWorkChain|run_results]: Hubbard parameters self-consistently converged in 3 iterations\n",
      "2023-02-26 09:57:58 [257 | REPORT]: [2642|SelfConsistentHubbardWorkChain|on_terminated]: remote folders will not be cleaned\n",
      "====================================================================================================\n"
     ]
    }
   ],
   "source": [
    "%%bash\n",
    "verdi process show 2642\n",
    "printf '=%.0s' {1..100}\n",
    "echo\n",
    "verdi process status 2642\n",
    "printf '=%.0s' {1..100}\n",
    "echo\n",
    "verdi process report 2642\n",
    "printf '=%.0s' {1..100}\n",
    "echo"
   ]
  }
 ],
 "metadata": {
  "kernelspec": {
   "display_name": "env",
   "language": "python",
   "name": "python3"
  },
  "language_info": {
   "codemirror_mode": {
    "name": "ipython",
    "version": 3
   },
   "file_extension": ".py",
   "mimetype": "text/x-python",
   "name": "python",
   "nbconvert_exporter": "python",
   "pygments_lexer": "ipython3",
   "version": "3.8.10"
  },
  "vscode": {
   "interpreter": {
    "hash": "563b968e1044a963233ca0d255c24a54b27faba64327a7678a42d7af4cac992e"
   }
  }
 },
 "nbformat": 4,
 "nbformat_minor": 5
}
