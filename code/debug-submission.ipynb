{
 "cells": [
  {
   "cell_type": "code",
   "execution_count": 3,
   "id": "6c6ecdf6",
   "metadata": {},
   "outputs": [
    {
     "data": {
      "text/plain": [
       "Profile<uuid='4fe00b7a32994cfca8b6cf43c2d22a53' name='jgeiger'>"
      ]
     },
     "execution_count": 3,
     "metadata": {},
     "output_type": "execute_result"
    }
   ],
   "source": [
    "from IPython.core.interactiveshell import InteractiveShell\n",
    "InteractiveShell.ast_node_interactivity = \"all\"\n",
    "\n",
    "from aiida import load_profile\n",
    "from aiida.orm import StructureData, load_code, Float, load_node\n",
    "from aiida_quantumespresso_hp.workflows.hubbard import SelfConsistentHubbardWorkChain\n",
    "from aiida_quantumespresso.data.hubbard_structure import HubbardStructureData\n",
    "from aiida.engine import submit\n",
    "from ase.atoms import Atoms\n",
    "from ase.visualize import view\n",
    "from aiida.plugins import DataFactory \n",
    "from pathlib import Path\n",
    "\n",
    "load_profile()"
   ]
  },
  {
   "cell_type": "code",
   "execution_count": 6,
   "id": "264f73a2",
   "metadata": {},
   "outputs": [
    {
     "name": "stdout",
     "output_type": "stream",
     "text": [
      "3714\n"
     ]
    }
   ],
   "source": [
    "from aiida_quantumespresso.common.types import SpinType\n",
    "\n",
    "pw_code = load_code('qe-dev-pw@lumi-small')\n",
    "hp_code = load_code('qe-dev-hp@lumi-small')\n",
    "\n",
    "hubbard_data = load_node(3075)\n",
    "# print(type(hubbard_data))\n",
    "\n",
    "# view(hubbard_data.get_ase(), viewer='x3d')\n",
    "# print(hubbard_data.structure)\n",
    "# print(hubbard_data.get_quantum_espresso_hubbard_card())\n",
    "\n",
    "builder = SelfConsistentHubbardWorkChain.get_builder_from_protocol(\n",
    "    pw_code=pw_code,\n",
    "    hp_code=hp_code,\n",
    "    hubbard_structure=hubbard_data,\n",
    "    protocol='fast',\n",
    "    overrides=Path('olivine_hubbard_overrides.yaml'),\n",
    "    spin_type=SpinType.COLLINEAR,\n",
    "    \n",
    ")\n",
    "\n",
    "# builder\n",
    "# magnetic_nk4 = submit(builder)\n",
    "# print(magnetic_nk4.pk)\n",
    "\n",
    "# print(builder.scf.pw.parameters.get_dict())\n",
    "# print(builder.scf)\n",
    "# submit_pks.append(submit_return.pk)"
   ]
  },
  {
   "cell_type": "code",
   "execution_count": 11,
   "id": "241c02f2",
   "metadata": {},
   "outputs": [
    {
     "name": "stdout",
     "output_type": "stream",
     "text": [
      "\u001b[22m2023-03-03 18:43:14 [649 | REPORT]: [3714|SelfConsistentHubbardWorkChain|setup]: system is treated to be magnetic because `nspin != 1` in `scf.pw.parameters` input.\n",
      "2023-03-03 18:43:14 [650 | REPORT]: [3714|SelfConsistentHubbardWorkChain|should_run_relax]: skip_first_relax has been set True; skipping first relaxion...\n",
      "2023-03-03 18:43:15 [651 | REPORT]: [3714|SelfConsistentHubbardWorkChain|run_scf_smearing]: launching PwBaseWorkChain<3717> with smeared occupations\n",
      "2023-03-03 18:43:17 [652 | REPORT]:   [3717|PwBaseWorkChain|run_process]: launching PwCalculation<3722> iteration #1\n",
      "2023-03-03 19:15:40 [653 | REPORT]:   [3717|PwBaseWorkChain|results]: work chain completed after 1 iterations\n",
      "2023-03-03 19:15:41 [654 | REPORT]:   [3717|PwBaseWorkChain|on_terminated]: remote folders will not be cleaned\n",
      "2023-03-03 19:15:41 [655 | REPORT]: [3714|SelfConsistentHubbardWorkChain|recon_scf]: after relaxation, system is determined to be an insulator\n",
      "2023-03-03 19:15:42 [656 | REPORT]: [3714|SelfConsistentHubbardWorkChain|run_scf_fixed]: launching PwBaseWorkChain<3729> with fixed occupationsbands and total magnetization\n",
      "2023-03-03 19:15:43 [657 | REPORT]:   [3729|PwBaseWorkChain|run_process]: launching PwCalculation<3734> iteration #1\n",
      "2023-03-03 19:44:06 [658 | REPORT]:   [3729|PwBaseWorkChain|results]: work chain completed after 1 iterations\n",
      "2023-03-03 19:44:06 [659 | REPORT]:   [3729|PwBaseWorkChain|on_terminated]: remote folders will not be cleaned\n",
      "2023-03-03 19:44:07 [660 | REPORT]: [3714|SelfConsistentHubbardWorkChain|run_hp]: launching HpWorkChain<3740> iteration #1\n",
      "2023-03-03 19:44:07 [661 | REPORT]:   [3740|HpWorkChain|run_base_workchain]: running in serial, launching HpBaseWorkChain<3742>\n",
      "2023-03-03 19:44:08 [662 | REPORT]:     [3742|HpBaseWorkChain|run_process]: launching HpCalculation<3744> iteration #1\n",
      "2023-03-03 22:16:47 [663 | REPORT]:     [3742|HpBaseWorkChain|results]: work chain completed after 1 iterations\n",
      "2023-03-03 22:16:47 [664 | REPORT]:     [3742|HpBaseWorkChain|on_terminated]: remote folders will not be cleaned\n",
      "2023-03-03 22:16:49 [665 | REPORT]: [3714|SelfConsistentHubbardWorkChain|check_convergence]: new types have been determined: relabeling the structure and starting new iteration.\n",
      "2023-03-03 22:16:49 [666 | REPORT]: [3714|SelfConsistentHubbardWorkChain|check_convergence]: The new and old Hubbard parameters have different lenghts. Assuming to be at the first cycle.\n",
      "2023-03-03 22:16:50 [667 | REPORT]: [3714|SelfConsistentHubbardWorkChain|run_relax]: launching PwRelaxWorkChain<3756> iteration #2\n",
      "2023-03-03 22:16:51 [668 | REPORT]:   [3756|PwRelaxWorkChain|run_relax]: launching PwBaseWorkChain<3759>\n",
      "2023-03-03 22:16:53 [669 | REPORT]:     [3759|PwBaseWorkChain|run_process]: launching PwCalculation<3764> iteration #1\n",
      "2023-03-03 23:37:32 [674 | REPORT]:     [3759|PwBaseWorkChain|report_error_handled]: PwCalculation<3764> failed with exit status 502: The ionic minimization cycle did not converge after the maximum number of steps.\n",
      "2023-03-03 23:37:32 [675 | REPORT]:     [3759|PwBaseWorkChain|report_error_handled]: Action taken: no ionic convergence but clean shutdown: restarting from scratch but using output structure.\n",
      "2023-03-03 23:37:32 [676 | REPORT]:     [3759|PwBaseWorkChain|inspect_process]: PwCalculation<3764> failed but a handler dealt with the problem, restarting\n",
      "2023-03-03 23:37:33 [677 | REPORT]:     [3759|PwBaseWorkChain|run_process]: launching PwCalculation<3773> iteration #2\n",
      "2023-03-04 00:34:45 [682 | REPORT]:     [3759|PwBaseWorkChain|report_error_handled]: PwCalculation<3773> failed with exit status 502: The ionic minimization cycle did not converge after the maximum number of steps.\n",
      "2023-03-04 00:34:45 [683 | REPORT]:     [3759|PwBaseWorkChain|report_error_handled]: Action taken: no ionic convergence but clean shutdown: restarting from scratch but using output structure.\n",
      "2023-03-04 00:34:45 [684 | REPORT]:     [3759|PwBaseWorkChain|inspect_process]: PwCalculation<3773> failed but a handler dealt with the problem, restarting\n",
      "2023-03-04 00:34:46 [685 | REPORT]:     [3759|PwBaseWorkChain|run_process]: launching PwCalculation<3782> iteration #3\n",
      "2023-03-04 01:24:13 [690 | REPORT]:     [3759|PwBaseWorkChain|report_error_handled]: PwCalculation<3782> failed with exit status 502: The ionic minimization cycle did not converge after the maximum number of steps.\n",
      "2023-03-04 01:24:13 [691 | REPORT]:     [3759|PwBaseWorkChain|report_error_handled]: Action taken: no ionic convergence but clean shutdown: restarting from scratch but using output structure.\n",
      "2023-03-04 01:24:13 [692 | REPORT]:     [3759|PwBaseWorkChain|inspect_process]: PwCalculation<3782> failed but a handler dealt with the problem, restarting\n",
      "2023-03-04 01:24:13 [693 | REPORT]:     [3759|PwBaseWorkChain|run_process]: launching PwCalculation<3791> iteration #4\n",
      "2023-03-04 01:30:55 [694 | REPORT]:     [3759|PwBaseWorkChain|results]: work chain completed after 4 iterations\n",
      "2023-03-04 01:30:56 [695 | REPORT]:     [3759|PwBaseWorkChain|on_terminated]: remote folders will not be cleaned\n",
      "2023-03-04 01:30:56 [696 | REPORT]:   [3756|PwRelaxWorkChain|inspect_relax]: after iteration 1 cell volume of relaxed structure is 313.9659938982703\n",
      "2023-03-04 01:30:57 [697 | REPORT]:   [3756|PwRelaxWorkChain|run_relax]: launching PwBaseWorkChain<3800>\n",
      "2023-03-04 01:30:59 [698 | REPORT]:     [3800|PwBaseWorkChain|run_process]: launching PwCalculation<3805> iteration #1\n",
      "2023-03-04 01:44:47 [699 | REPORT]:     [3800|PwBaseWorkChain|results]: work chain completed after 1 iterations\n",
      "2023-03-04 01:44:47 [700 | REPORT]:     [3800|PwBaseWorkChain|on_terminated]: remote folders will not be cleaned\n",
      "2023-03-04 01:44:47 [701 | REPORT]:   [3756|PwRelaxWorkChain|inspect_relax]: after iteration 2 cell volume of relaxed structure is 313.93229161863087\n",
      "2023-03-04 01:44:47 [702 | REPORT]:   [3756|PwRelaxWorkChain|inspect_relax]: relative cell volume difference 0.00010734372605449179 smaller than threshold 0.05\n",
      "2023-03-04 01:44:48 [703 | REPORT]:   [3756|PwRelaxWorkChain|results]: workchain completed after 2 iterations\n",
      "2023-03-04 01:44:48 [704 | REPORT]:   [3756|PwRelaxWorkChain|on_terminated]: remote folders will not be cleaned\n",
      "2023-03-04 01:44:49 [705 | REPORT]: [3714|SelfConsistentHubbardWorkChain|run_scf_smearing]: launching PwBaseWorkChain<3813> with smeared occupations\n",
      "2023-03-04 01:44:51 [706 | REPORT]:   [3813|PwBaseWorkChain|run_process]: launching PwCalculation<3818> iteration #1\n",
      "2023-03-04 02:12:54 [707 | REPORT]:   [3813|PwBaseWorkChain|results]: work chain completed after 1 iterations\n",
      "2023-03-04 02:12:55 [708 | REPORT]:   [3813|PwBaseWorkChain|on_terminated]: remote folders will not be cleaned\n",
      "2023-03-04 02:12:55 [709 | REPORT]: [3714|SelfConsistentHubbardWorkChain|recon_scf]: after relaxation, system is determined to be an insulator\n",
      "2023-03-04 02:12:56 [710 | REPORT]: [3714|SelfConsistentHubbardWorkChain|run_scf_fixed]: launching PwBaseWorkChain<3825> with fixed occupationsbands and total magnetization\n",
      "2023-03-04 02:12:57 [711 | REPORT]:   [3825|PwBaseWorkChain|run_process]: launching PwCalculation<3830> iteration #1\n",
      "2023-03-04 02:20:42 [712 | REPORT]:   [3825|PwBaseWorkChain|results]: work chain completed after 1 iterations\n",
      "2023-03-04 02:20:42 [713 | REPORT]:   [3825|PwBaseWorkChain|on_terminated]: remote folders will not be cleaned\n",
      "2023-03-04 02:20:43 [714 | REPORT]: [3714|SelfConsistentHubbardWorkChain|run_hp]: launching HpWorkChain<3836> iteration #2\n",
      "2023-03-04 02:20:44 [715 | REPORT]:   [3836|HpWorkChain|run_base_workchain]: running in serial, launching HpBaseWorkChain<3838>\n",
      "2023-03-04 02:20:45 [716 | REPORT]:     [3838|HpBaseWorkChain|run_process]: launching HpCalculation<3840> iteration #1\n",
      "2023-03-04 06:34:13 [718 | REPORT]:     [3838|HpBaseWorkChain|report_error_handled]: HpCalculation<3840> failed with exit status 312: The stdout output file was incomplete.\n",
      "2023-03-04 06:34:13 [719 | REPORT]:     [3838|HpBaseWorkChain|report_error_handled]: Action taken: unrecoverable error, aborting...\n",
      "2023-03-04 06:34:13 [720 | REPORT]:     [3838|HpBaseWorkChain|inspect_process]: HpCalculation<3840> failed but a handler detected an unrecoverable problem, aborting\n",
      "2023-03-04 06:34:13 [721 | REPORT]:     [3838|HpBaseWorkChain|on_terminated]: remote folders will not be cleaned\n",
      "2023-03-04 06:34:13 [722 | REPORT]:   [3836|HpWorkChain|inspect_workchain]: the HpBaseWorkChain workchain did not finish successfully\n",
      "2023-03-04 06:34:14 [723 | REPORT]: [3714|SelfConsistentHubbardWorkChain|inspect_hp]: hp.x in iteration 2 failed with exit status 300\n",
      "2023-03-04 06:34:14 [724 | REPORT]: [3714|SelfConsistentHubbardWorkChain|on_terminated]: remote folders will not be cleaned\u001b[0m\n"
     ]
    }
   ],
   "source": [
    "!verdi process report 3714"
   ]
  },
  {
   "cell_type": "code",
   "execution_count": null,
   "id": "7671bafc",
   "metadata": {},
   "outputs": [],
   "source": [
    "# builder.skip_first_relax = True # ! Done in yaml file directly\n",
    "# builder.scf.kpoints_distance = Float(1)\n",
    "# builder.scf.pw.parameters['SYSTEM']['nspin'] = 2\n",
    "# builder.scf.pw.parameters['ELECTRONS']['electron_maxstep'] = 500"
   ]
  }
 ],
 "metadata": {
  "kernelspec": {
   "display_name": "env-bat_uv_ml",
   "language": "python",
   "name": "python3"
  },
  "language_info": {
   "codemirror_mode": {
    "name": "ipython",
    "version": 3
   },
   "file_extension": ".py",
   "mimetype": "text/x-python",
   "name": "python",
   "nbconvert_exporter": "python",
   "pygments_lexer": "ipython3",
   "version": "3.8.10"
  },
  "vscode": {
   "interpreter": {
    "hash": "e4b99e4fb7239675e78e08baa36e5541415cefe51d419b717bbcddc9f1c4003f"
   }
  }
 },
 "nbformat": 4,
 "nbformat_minor": 5
}
