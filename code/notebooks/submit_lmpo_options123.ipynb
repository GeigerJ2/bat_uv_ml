{
 "cells": [
  {
   "cell_type": "code",
   "execution_count": 6,
   "metadata": {},
   "outputs": [],
   "source": [
    "from IPython.core.interactiveshell import InteractiveShell\n",
    "InteractiveShell.ast_node_interactivity = \"all\"\n",
    "from aiida import load_profile\n",
    "\n",
    "# ! Hackish way to be able to import from config_class in the parent directory\n",
    "import sys\n",
    "sys.path.append()"
   ]
  },
  {
   "cell_type": "code",
   "execution_count": 2,
   "metadata": {},
   "outputs": [
    {
     "data": {
      "text/plain": [
       "Profile<uuid='4fe00b7a32994cfca8b6cf43c2d22a53' name='jgeiger'>"
      ]
     },
     "execution_count": 2,
     "metadata": {},
     "output_type": "execute_result"
    }
   ],
   "source": [
    "load_profile()"
   ]
  },
  {
   "attachments": {},
   "cell_type": "markdown",
   "metadata": {},
   "source": [
    "***\n",
    "# Sampling of configurations using `icet`"
   ]
  },
  {
   "cell_type": "code",
   "execution_count": 8,
   "metadata": {},
   "outputs": [
    {
     "ename": "ImportError",
     "evalue": "cannot import name 'ConfigClass' from 'config_class' (/home/jgeiger/projects/bat_uv_ml/code/notebooks/../config_class.py)",
     "output_type": "error",
     "traceback": [
      "\u001b[0;31m---------------------------------------------------------------------------\u001b[0m",
      "\u001b[0;31mImportError\u001b[0m                               Traceback (most recent call last)",
      "\u001b[0;32m/tmp/ipykernel_607290/3544203580.py\u001b[0m in \u001b[0;36m<cell line: 5>\u001b[0;34m()\u001b[0m\n\u001b[1;32m      3\u001b[0m \u001b[0;32mfrom\u001b[0m \u001b[0mpybat\u001b[0m \u001b[0;32mimport\u001b[0m \u001b[0mCathode\u001b[0m\u001b[0;34m\u001b[0m\u001b[0;34m\u001b[0m\u001b[0m\n\u001b[1;32m      4\u001b[0m \u001b[0;34m\u001b[0m\u001b[0m\n\u001b[0;32m----> 5\u001b[0;31m \u001b[0;32mfrom\u001b[0m \u001b[0mconfig_class\u001b[0m \u001b[0;32mimport\u001b[0m \u001b[0mConfigClass\u001b[0m\u001b[0;34m\u001b[0m\u001b[0;34m\u001b[0m\u001b[0m\n\u001b[0m",
      "\u001b[0;31mImportError\u001b[0m: cannot import name 'ConfigClass' from 'config_class' (/home/jgeiger/projects/bat_uv_ml/code/notebooks/../config_class.py)"
     ]
    }
   ],
   "source": [
    "import os\n",
    "import pandas as pd\n",
    "from pybat import Cathode\n",
    "\n",
    "from config_class import ConfigClass"
   ]
  },
  {
   "cell_type": "code",
   "execution_count": null,
   "metadata": {},
   "outputs": [],
   "source": [
    "\n",
    "fully_lithiated_df = pd.read_pickle(\n",
    "    os.path.join('..', '..', \"data\", \"fully_lithiated_df.pkl\")\n",
    ")\n",
    "\n",
    "# Setup of configuration sampling\n",
    "GLOBAL_SYMPREC = 1e-5\n",
    "devel_ase = fully_lithiated_df[\"ase_in\"].values[0]\n",
    "devel_pmg = fully_lithiated_df[\"pmg_in\"].values[0]\n",
    "devel_cathode = Cathode.from_structure(devel_pmg)\n",
    "\n",
    "# Set initial, general parameters\n",
    "config_class = ConfigClass()\n",
    "config_class.short_name = \"LFPO\"\n",
    "config_class.add_structure(devel_cathode)\n",
    "config_class.eval_parent_sg(symprec=GLOBAL_SYMPREC)\n",
    "config_class.cell_size = 2\n",
    "\n",
    "# Run configuration sampling\n",
    "devel_config_dict = dict(\n",
    "    substitution_sites=list(range(0, devel_ase.get_chemical_symbols().count(\"Li\"))),\n",
    "    cation_list=[\"Li\", \"Vac\"],\n",
    "    concentration_restrictions={\"Li\": (0, 1)},\n",
    "    max_configurations=None,\n",
    "    symprec=GLOBAL_SYMPREC,\n",
    ")\n",
    "\n",
    "# Create df which is linked to the class instance\n",
    "config_class.create_configurations(**devel_config_dict)\n",
    "config_class.create_dataframe()\n",
    "print(config_class.data_df)"
   ]
  }
 ],
 "metadata": {
  "kernelspec": {
   "display_name": "env-bat_uv_ml",
   "language": "python",
   "name": "python3"
  },
  "language_info": {
   "codemirror_mode": {
    "name": "ipython",
    "version": 3
   },
   "file_extension": ".py",
   "mimetype": "text/x-python",
   "name": "python",
   "nbconvert_exporter": "python",
   "pygments_lexer": "ipython3",
   "version": "3.8.10"
  },
  "vscode": {
   "interpreter": {
    "hash": "e4b99e4fb7239675e78e08baa36e5541415cefe51d419b717bbcddc9f1c4003f"
   }
  }
 },
 "nbformat": 4,
 "nbformat_minor": 2
}
