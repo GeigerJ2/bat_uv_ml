{
 "cells": [
  {
   "cell_type": "code",
   "execution_count": 1,
   "id": "0d96feaf-8817-453a-b4d0-560f5f29d33c",
   "metadata": {},
   "outputs": [
    {
     "data": {
      "text/plain": [
       "Profile<uuid='4fe00b7a32994cfca8b6cf43c2d22a53' name='jgeiger'>"
      ]
     },
     "execution_count": 1,
     "metadata": {},
     "output_type": "execute_result"
    }
   ],
   "source": [
    "import pathlib\n",
    "import numpy as np\n",
    "\n",
    "from aiida import orm, load_profile\n",
    "from aiida.engine import submit\n",
    "\n",
    "from qe_tools import CONSTANTS\n",
    "\n",
    "from aiida_quantumespresso_hp.workflows.hubbard import SelfConsistentHubbardWorkChain\n",
    "from aiida_quantumespresso.data.hubbard_structure import HubbardStructureData\n",
    "\n",
    "load_profile()"
   ]
  },
  {
   "cell_type": "markdown",
   "id": "d2b09cc3-665b-43e6-b04b-2793d534dc7f",
   "metadata": {},
   "source": [
    "# BaTiO3\n",
    "Let's define the BTO structure to use as example for this tutorial."
   ]
  },
  {
   "cell_type": "markdown",
   "id": "f53e706b-5f5c-4f85-92aa-45355eb17e89",
   "metadata": {},
   "source": [
    "## Running the `SelfConsistentHubbardWorkChain`"
   ]
  },
  {
   "cell_type": "code",
   "execution_count": 2,
   "id": "d4913612",
   "metadata": {},
   "outputs": [
    {
     "name": "stdout",
     "output_type": "stream",
     "text": [
      "HUBBARD\tortho-atomic\n",
      " U\tTi-3d\t5.0\n",
      " V\tTi-3d\tO-2p\t1\t4\t0.0001\n",
      " V\tTi-3d\tO-2p\t1\t2\t0.0001\n",
      " V\tTi-3d\tO-2p\t1\t3\t0.0001\n",
      " V\tTi-3d\tO-2p\t1\t72\t0.0001\n",
      " V\tTi-3d\tO-2p\t1\t83\t0.0001\n",
      " V\tTi-3d\tO-2p\t1\t114\t0.0001\n",
      " V\tTi-3d\tO-2p\t1\t69\t0.0001\n",
      "\n"
     ]
    }
   ],
   "source": [
    "hubbard_data = orm.load_node(2502)  # I load the node from the database instead of always regenerating it\n",
    "print(hubbard_data.get_quantum_espresso_hubbard_card())"
   ]
  },
  {
   "cell_type": "code",
   "execution_count": 3,
   "id": "3e65c68c",
   "metadata": {},
   "outputs": [],
   "source": [
    "# pw_code = orm.load_code('qe-dev-pw@lumi-small')\n",
    "# hp_code = orm.load_code('qe-dev-hp@lumi-small')\n",
    "import os\n",
    "pw_code = orm.load_code('qe-7.2-pw@theospc24')\n",
    "hp_code = orm.load_code('qe-7.2-hp@theospc24')\n",
    "\n",
    "builder = SelfConsistentHubbardWorkChain.get_builder_from_protocol(\n",
    "    pw_code=pw_code,\n",
    "    hp_code=hp_code,\n",
    "    hubbard_structure=hubbard_data,\n",
    "    protocol='fast',\n",
    "    overrides=pathlib.Path(os.path.join('..', 'yaml_files', 'serial_overrides.yaml'))\n",
    ")\n",
    "\n",
    "builder.skip_first_relax = True"
   ]
  },
  {
   "cell_type": "code",
   "execution_count": 4,
   "id": "bc968bdc-0817-49a0-8e89-e14323248b86",
   "metadata": {},
   "outputs": [
    {
     "name": "stdout",
     "output_type": "stream",
     "text": [
      "uuid: 06f5a8b6-8ec3-41f1-a1f8-412f6b690e9c (pk: 9441) (aiida.workflows:quantumespresso.hp.hubbard)\n"
     ]
    }
   ],
   "source": [
    "new_schema_submit = submit(builder)\n",
    "print(new_schema_submit)"
   ]
  },
  {
   "cell_type": "code",
   "execution_count": 5,
   "id": "1aa1c725",
   "metadata": {},
   "outputs": [],
   "source": [
    "# qe72_submit = 9240\n",
    "# qe71_submit = 9277"
   ]
  }
 ],
 "metadata": {
  "kernelspec": {
   "display_name": "env-bat_uv_ml",
   "language": "python",
   "name": "python3"
  },
  "language_info": {
   "codemirror_mode": {
    "name": "ipython",
    "version": 3
   },
   "file_extension": ".py",
   "mimetype": "text/x-python",
   "name": "python",
   "nbconvert_exporter": "python",
   "pygments_lexer": "ipython3",
   "version": "3.8.10"
  },
  "vscode": {
   "interpreter": {
    "hash": "e4b99e4fb7239675e78e08baa36e5541415cefe51d419b717bbcddc9f1c4003f"
   }
  }
 },
 "nbformat": 4,
 "nbformat_minor": 5
}
