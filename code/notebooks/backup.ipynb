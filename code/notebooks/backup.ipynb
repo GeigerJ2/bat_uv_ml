{
 "cells": [
  {
   "cell_type": "markdown",
   "metadata": {},
   "source": [
    "***\n",
    "### Read in structure with `create_builder_from_file`"
   ]
  },
  {
   "cell_type": "code",
   "execution_count": null,
   "metadata": {},
   "outputs": [],
   "source": [
    "\n",
    "# ! Way too complex with builder, do it via ase reading in QE input\n",
    "def add_structure_data(df_in):\n",
    "    df_out = df_in.copy(deep=True)\n",
    "    # iterate over tuples of dataframe rows\n",
    "    structure_datas = []\n",
    "    for index, row in df_out.iterrows():\n",
    "        # df_out.at[index, 'structureData'] = \n",
    "        try:\n",
    "            created_builder = create_builder_from_file(\n",
    "                input_folder=row['abs_path'],\n",
    "                input_file_name=row['filename'],\n",
    "                code='qe-6.4.1-pw',\n",
    "                metadata={},\n",
    "                pseudo_folder_path=pseudo_dir\n",
    "                )\n",
    "            structure_data = created_builder['structure']\n",
    "        except FileNotFoundError:\n",
    "            # ! Missing PP (for Ni, PBEsol USPP)\n",
    "            structure_data = None\n",
    "        except ParsingError:\n",
    "            # ! No atomic coordinates in input file, e.g. for DOS\n",
    "            structure_data = None\n",
    "        except ValueError:\n",
    "            print(repr(row['abs_path']))\n",
    "            print(row['filename'])\n",
    "            structure_data = None\n",
    "            raise\n",
    "        \n",
    "        structure_datas.append(structure_data)\n",
    "    df_out['structuredata'] = structure_datas \n",
    "    return df_out\n",
    "    \n",
    "devel_df = spinel_df_iurii.loc[spinel_df_iurii['abs_path'].str.contains('LixMn2O4/DFT\\+U/LiMn2O4/1_vcrelax')]\n",
    "devel_df = spinel_df_iurii.copy(deep=True)\n",
    "devel_df.shape\n",
    "print(devel_df['abs_path'])\n",
    "\n",
    "devel_df = add_structure_data(devel_df)\n",
    "\n",
    "devel_df.head()"
   ]
  },
  {
   "cell_type": "code",
   "execution_count": null,
   "metadata": {},
   "outputs": [],
   "source": [
    "# pprint(hubbard_data.hubbard_parameters)\n",
    "# print(hubbard_data.get_quantum_espresso_hubbard_card())\n",
    "# print(type(hubbard_data))\n",
    "\n",
    "# \"\"\"Create a clone of the given structure but with new kinds, based on the new hubbard sites.\n",
    "\n",
    "# :param hubbard_structure: ``HubbardStructureData`` instance.\n",
    "# :param hubbard: the ``hubbard`` output Dict node of a ``HpCalculation``.\n",
    "# :param magnetization: Dict instance containing the `starting_magnetization` QuantumESPRESSO inputs.\n",
    "# :return:\n",
    "# \"\"\"\n",
    "\n",
    "# result = structure_relabel_kinds(\n",
    "#     self.ctx.current_hubbard_structure, workchain.outputs.hubbard, self.ctx.current_magnetic_moments\n",
    "# )\n",
    "\n",
    "# hubbard_structure = last_hpcalculation.outputs.hubbard_structure # hubbard structure of HpCalculation, 1. required argument\n",
    "# hubbard = last_hpcalculation.outputs.hubbard # hubbard dict of HpCalculation, 2. required argument"
   ]
  }
 ],
 "metadata": {
  "kernelspec": {
   "display_name": "env",
   "language": "python",
   "name": "python3"
  },
  "language_info": {
   "name": "python"
  },
  "vscode": {
   "interpreter": {
    "hash": "563b968e1044a963233ca0d255c24a54b27faba64327a7678a42d7af4cac992e"
   }
  }
 },
 "nbformat": 4,
 "nbformat_minor": 2
}
