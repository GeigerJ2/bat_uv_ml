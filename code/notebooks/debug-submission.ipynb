{
 "cells": [
  {
   "cell_type": "code",
   "execution_count": null,
   "id": "6c6ecdf6",
   "metadata": {},
   "outputs": [],
   "source": [
    "from IPython.core.interactiveshell import InteractiveShell\n",
    "InteractiveShell.ast_node_interactivity = \"all\"\n",
    "\n",
    "import json\n",
    "from aiida import load_profile\n",
    "from aiida.orm import StructureData, load_code, Float, load_node\n",
    "from aiida_quantumespresso_hp.workflows.hubbard import SelfConsistentHubbardWorkChain\n",
    "from aiida_quantumespresso.data.hubbard_structure import HubbardStructureData\n",
    "from aiida.engine import submit\n",
    "from ase.atoms import Atoms\n",
    "from ase.visualize import view\n",
    "from aiida.plugins import DataFactory \n",
    "from pathlib import Path\n",
    "from aiida_quantumespresso.common.types import SpinType\n",
    "from aiida.orm import Int\n",
    "from copy import deepcopy\n",
    "import os\n",
    "\n",
    "load_profile()"
   ]
  },
  {
   "cell_type": "code",
   "execution_count": 79,
   "id": "264f73a2",
   "metadata": {},
   "outputs": [
    {
     "name": "stdout",
     "output_type": "stream",
     "text": [
      "Atoms(symbols='Mn4O16P4Li4', pbc=True, cell=[[3.4378862545423e-06, 0.0, -4.740084535909], [0.0, -6.0917501186611, 0.0], [-10.474576328827, 0.0, -4.7800040115709e-06]], masses=...)\n",
      "HUBBARD\tortho-atomic\n",
      " U\tMn-3d\t4.5618\n",
      " V\tMn-3d\tO-2p\t1\t518\t0.0001\n",
      " V\tMn-3d\tO-2p\t1\t601\t0.0001\n",
      " V\tMn-3d\tO-2p\t1\t373\t0.0001\n",
      " V\tMn-3d\tO-2p\t1\t621\t0.0001\n",
      " V\tMn-3d\tO-2p\t1\t326\t0.0001\n",
      " V\tMn-3d\tO-2p\t1\t17\t0.0001\n",
      " V\tMn-3d\tO-2p\t1\t596\t0.0001\n",
      " V\tMn-3d\tO-2p\t2\t15\t0.0001\n",
      " V\tMn-3d\tO-2p\t2\t324\t0.0001\n",
      " V\tMn-3d\tO-2p\t2\t12\t0.0001\n",
      " V\tMn-3d\tO-2p\t2\t8\t0.0001\n",
      " V\tMn-3d\tO-2p\t2\t19\t0.0001\n",
      " V\tMn-3d\tO-2p\t2\t328\t0.0001\n",
      " V\tMn-3d\tO-2p\t2\t5\t0.0001\n",
      " V\tMn-3d\tO-2p\t3\t18\t0.0001\n",
      " V\tMn-3d\tO-2p\t3\t17\t0.0001\n",
      " V\tMn-3d\tO-2p\t3\t11\t0.0001\n",
      " V\tMn-3d\tO-2p\t3\t371\t0.0001\n",
      " V\tMn-3d\tO-2p\t3\t378\t0.0001\n",
      " V\tMn-3d\tO-2p\t3\t377\t0.0001\n",
      " V\tMn-3d\tO-2p\t3\t6\t0.0001\n",
      " V\tMn-3d\tO-2p\t4\t20\t0.0001\n",
      " V\tMn-3d\tO-2p\t4\t19\t0.0001\n",
      " V\tMn-3d\tO-2p\t4\t626\t0.0001\n",
      " V\tMn-3d\tO-2p\t4\t6\t0.0001\n",
      " V\tMn-3d\tO-2p\t4\t632\t0.0001\n",
      " V\tMn-3d\tO-2p\t4\t631\t0.0001\n",
      " V\tMn-3d\tO-2p\t4\t7\t0.0001\n",
      "\n"
     ]
    }
   ],
   "source": [
    "\n",
    "# ! Currently, for whatever reason, the codes are duplicated\n",
    "# pw_code = load_code('qe-dev-pw@lumi-small')\n",
    "# hp_code = load_code('qe-dev-hp@lumi-small')\n",
    "pw_code = load_code(2182)\n",
    "hp_code = load_code(2183)\n",
    "\n",
    "hubbard_data = load_node(3075)\n",
    "print(hubbard_data.get_ase())\n",
    "print(hubbard_data.get_quantum_espresso_hubbard_card())"
   ]
  },
  {
   "attachments": {},
   "cell_type": "markdown",
   "id": "3769796c",
   "metadata": {},
   "source": [
    "***\n",
    "## Set up workchain with all of Iurii's settings"
   ]
  },
  {
   "cell_type": "code",
   "execution_count": null,
   "id": "0e656eec",
   "metadata": {},
   "outputs": [],
   "source": [
    "builder = SelfConsistentHubbardWorkChain.get_builder_from_protocol(\n",
    "    pw_code=pw_code,\n",
    "    hp_code=hp_code,\n",
    "    hubbard_structure=hubbard_data,\n",
    "    protocol='moderate',\n",
    "    overrides=Path(os.path.join('..', 'yaml_files', 'olivine_iurii_overrides.yaml')),\n",
    "    spin_type=SpinType.COLLINEAR,\n",
    ")\n",
    "\n",
    "scf_dict = builder.scf.pw.parameters.get_dict()\n",
    "relax_dict = builder.relax.base.pw.parameters.get_dict()\n",
    "hubbard_dict = builder.hubbard.hp.parameters.get_dict()\n",
    "\n",
    "# print(json.dumps(scf_dict, sort_keys=False, indent=4))\n",
    "# print(json.dumps(relax_dict, sort_keys=False, indent=4))\n",
    "# print(json.dumps(hubbard_dict, sort_keys=False, indent=4))"
   ]
  },
  {
   "cell_type": "code",
   "execution_count": null,
   "id": "5b4a9ff8",
   "metadata": {},
   "outputs": [],
   "source": [
    "# proper_olivine_builder = deepcopy(builder)\n",
    "# proper_olivine_submit = submit(proper_olivine_builder)\n",
    "# proper_olivine_submit_pk = proper_olivine_submit.pk\n",
    "proper_olivine_submit_pk = 4282"
   ]
  },
  {
   "cell_type": "code",
   "execution_count": null,
   "id": "77c7df0d",
   "metadata": {},
   "outputs": [],
   "source": [
    "!verdi process status 4282"
   ]
  },
  {
   "attachments": {},
   "cell_type": "markdown",
   "id": "a3c7bd0b",
   "metadata": {},
   "source": [
    "***\n",
    "## Change only force convergence threshold in the optimization to see if `reconstruction problem` persists"
   ]
  },
  {
   "cell_type": "code",
   "execution_count": null,
   "id": "9757646d",
   "metadata": {},
   "outputs": [],
   "source": [
    "only_force_thr_builder = SelfConsistentHubbardWorkChain.get_builder_from_protocol(\n",
    "    pw_code=pw_code,\n",
    "    hp_code=hp_code,\n",
    "    hubbard_structure=hubbard_data,\n",
    "    protocol='moderate',\n",
    "    overrides=Path(os.path.join('..', 'yaml_files', 'only_force_thr.yaml')),\n",
    "    spin_type=SpinType.COLLINEAR,\n",
    ")\n",
    "\n",
    "# only_force_thr_builder = submit(only_force_thr_builder)\n",
    "# only_force_thr_submit_pk = only_force_thr_builder.pk\n",
    "# print(only_force_thr_submit_pk)"
   ]
  },
  {
   "cell_type": "code",
   "execution_count": 40,
   "id": "83cac79a",
   "metadata": {},
   "outputs": [
    {
     "name": "stdout",
     "output_type": "stream",
     "text": [
      "\u001b[22mSelfConsistentHubbardWorkChain<4376> Finished [402] [1:while_(should_run_iteration)(1:if_(should_run_relax)(1:inspect_relax))]\n",
      "    ├── PwBaseWorkChain<4379> Finished [0] [4:results]\n",
      "    │   ├── create_kpoints_from_distance<4380> Finished [0]\n",
      "    │   └── PwCalculation<4384> Finished [0]\n",
      "    ├── PwBaseWorkChain<4391> Finished [0] [4:results]\n",
      "    │   ├── create_kpoints_from_distance<4392> Finished [0]\n",
      "    │   └── PwCalculation<4396> Finished [0]\n",
      "    ├── HpWorkChain<4402> Finished [0] [2:results]\n",
      "    │   └── HpBaseWorkChain<4404> Finished [0] [3:results]\n",
      "    │       └── HpCalculation<4406> Finished [0]\n",
      "    ├── structure_relabel_kinds<4414> Finished [0]\n",
      "    └── PwRelaxWorkChain<4418> Finished [401] [1:while_(should_run_relax)(1:inspect_relax)]\n",
      "        └── PwBaseWorkChain<4421> Finished [401] [4:results]\n",
      "            ├── create_kpoints_from_distance<4422> Finished [0]\n",
      "            ├── PwCalculation<4426> Finished [400]\n",
      "            ├── PwCalculation<4440> Finished [400]\n",
      "            ├── PwCalculation<4651> Finished [400]\n",
      "            ├── PwCalculation<4747> Finished [520]\n",
      "            └── PwCalculation<4756> Finished [400]\u001b[0m\n"
     ]
    }
   ],
   "source": [
    "# only_force_thr_submit_pk = 4376\n",
    "!verdi process status 4376"
   ]
  },
  {
   "cell_type": "markdown",
   "id": "a0311e10",
   "metadata": {},
   "source": [
    "***\n",
    "## True single-shot (only scf + hp), with default workchain settings"
   ]
  },
  {
   "cell_type": "code",
   "execution_count": null,
   "id": "29653c6a",
   "metadata": {},
   "outputs": [],
   "source": [
    "from aiida.orm import Bool, Int\n",
    "\n",
    "true_singleshot_builder = SelfConsistentHubbardWorkChain.get_builder_from_protocol(\n",
    "    pw_code=pw_code,\n",
    "    hp_code=hp_code,\n",
    "    hubbard_structure=hubbard_data,\n",
    "    protocol='moderate',\n",
    "    overrides=Path(os.path.join('..', 'yaml_files', 'basically_empty_overrides.yaml')),\n",
    "    spin_type=SpinType.COLLINEAR,\n",
    ")\n",
    "\n",
    "_ = true_singleshot_builder.pop(\"relax\", None)\n",
    "true_singleshot_builder.meta_convergence = Bool(False)\n",
    "true_singleshot_builder.max_iterations = Int(1)\n",
    "\n",
    "# true_singleshot_submit = submit(true_singleshot_builder)\n",
    "# print(true_singleshot_submit.pk)\n",
    "\n"
   ]
  },
  {
   "cell_type": "code",
   "execution_count": null,
   "id": "736fdc55",
   "metadata": {},
   "outputs": [
    {
     "name": "stdout",
     "output_type": "stream",
     "text": [
      "3:26:17.840074\n"
     ]
    }
   ],
   "source": [
    "true_singleshot_submit_pk = 4774\n",
    "# !verdi process status 4774\n",
    "true_ss_workchain_node = load_node(true_singleshot_submit_pk)\n",
    "print(true_ss_workchain_node.mtime - true_ss_workchain_node.ctime)"
   ]
  },
  {
   "attachments": {},
   "cell_type": "markdown",
   "id": "8de0d52e",
   "metadata": {},
   "source": [
    "***\n",
    "## Default workchain settings, no relaxation\n"
   ]
  },
  {
   "cell_type": "code",
   "execution_count": 33,
   "id": "b03eec09",
   "metadata": {},
   "outputs": [],
   "source": [
    "default_norelax_builder = SelfConsistentHubbardWorkChain.get_builder_from_protocol(\n",
    "    pw_code=pw_code,\n",
    "    hp_code=hp_code,\n",
    "    hubbard_structure=hubbard_data,\n",
    "    protocol='moderate',\n",
    "    overrides=Path(os.path.join('..', 'yaml_files', 'basically_empty_overrides.yaml')),\n",
    "    spin_type=SpinType.COLLINEAR,\n",
    ")\n",
    "\n",
    "# _ = default_norelax_builder.pop(\"relax\", None)\n",
    "# default_norelax_submit = submit(default_norelax_builder)\n",
    "# print(default_norelax_submit.pk)\n"
   ]
  },
  {
   "cell_type": "code",
   "execution_count": 37,
   "id": "1d13bdc6",
   "metadata": {},
   "outputs": [
    {
     "name": "stdout",
     "output_type": "stream",
     "text": [
      "10:21:44.576013\n"
     ]
    }
   ],
   "source": [
    "default_norelax_submit_pk = 4512\n",
    "# !verdi process status 4512\n",
    "default_workchain_node = load_node(default_norelax_submit_pk)\n",
    "print(default_workchain_node.mtime - default_workchain_node.ctime)"
   ]
  },
  {
   "cell_type": "markdown",
   "id": "b9dc257c",
   "metadata": {},
   "source": [
    "***\n",
    "## All of Iurii's settings, but no relaxation"
   ]
  },
  {
   "cell_type": "code",
   "execution_count": null,
   "id": "901184a5",
   "metadata": {},
   "outputs": [],
   "source": [
    "iurii_norelax_builder = SelfConsistentHubbardWorkChain.get_builder_from_protocol(\n",
    "    pw_code=pw_code,\n",
    "    hp_code=hp_code,\n",
    "    hubbard_structure=hubbard_data,\n",
    "    protocol='moderate',\n",
    "    overrides=Path(os.path.join('..', 'yaml_files', 'olivine_iurii_overrides.yaml')),\n",
    "    spin_type=SpinType.COLLINEAR,\n",
    ")\n",
    "\n",
    "_ = iurii_norelax_builder.pop(\"relax\", None)\n",
    "# iurii_norelax_builder = submit(iurii_norelax_builder)\n",
    "# print(iurii_norelax_builder.pk)"
   ]
  },
  {
   "cell_type": "code",
   "execution_count": null,
   "id": "e80c9ec6",
   "metadata": {},
   "outputs": [
    {
     "name": "stdout",
     "output_type": "stream",
     "text": [
      "1 day, 1:09:15.669150\n"
     ]
    }
   ],
   "source": [
    "iurii_norelax_builder_pk = 4486 \n",
    "# !verdi process status 4486\n",
    "iurii_workchain_node = load_node(iurii_norelax_builder_pk)\n",
    "print(iurii_workchain_node.mtime - iurii_workchain_node.ctime)"
   ]
  },
  {
   "attachments": {},
   "cell_type": "markdown",
   "id": "4db41a87",
   "metadata": {},
   "source": [
    "***\n",
    "## Compare results of true SS, workchain defaults, and Iurii's settings"
   ]
  },
  {
   "cell_type": "code",
   "execution_count": null,
   "id": "45827b2d",
   "metadata": {},
   "outputs": [],
   "source": [
    "true_ss_output_hubbard = load_node(4813)\n",
    "default_output_hubbard = load_node(4699)\n",
    "iurii_output_hubbard = load_node(4822)"
   ]
  },
  {
   "cell_type": "code",
   "execution_count": 80,
   "id": "3b6f8b87",
   "metadata": {},
   "outputs": [
    {
     "name": "stdout",
     "output_type": "stream",
     "text": [
      "0.03624285714285724\n",
      "0.0357428571428572\n",
      "0.0007857142857142943\n",
      "HUBBARD\t{ortho-atomic}\n",
      " U\tMn0-3d\t4.2809\n",
      " V\tMn0-3d\tO1-2p\t1\t518\t0.7464\n",
      " V\tMn0-3d\tO1-2p\t1\t601\t0.7464\n",
      " V\tMn0-3d\tO1-2p\t1\t373\t0.7746\n",
      " V\tMn0-3d\tO1-2p\t1\t621\t0.518\n",
      " V\tMn0-3d\tO1-2p\t1\t17\t0.3979\n",
      " V\tMn0-3d\tO1-2p\t1\t326\t0.3979\n",
      " V\tMn0-3d\tO1-2p\t2\t15\t0.7464\n",
      " V\tMn0-3d\tO1-2p\t2\t324\t0.7464\n",
      " V\tMn0-3d\tO1-2p\t2\t12\t0.7746\n",
      " V\tMn0-3d\tO1-2p\t2\t8\t0.518\n",
      " V\tMn0-3d\tO1-2p\t2\t19\t0.3979\n",
      " V\tMn0-3d\tO1-2p\t2\t328\t0.3979\n",
      " V\tMn0-3d\tO1-2p\t3\t17\t0.7464\n",
      " V\tMn0-3d\tO1-2p\t3\t18\t0.7464\n",
      " V\tMn0-3d\tO1-2p\t3\t11\t0.7746\n",
      " V\tMn0-3d\tO1-2p\t3\t371\t0.518\n",
      " V\tMn0-3d\tO1-2p\t3\t378\t0.3979\n",
      " V\tMn0-3d\tO1-2p\t3\t377\t0.3979\n",
      " V\tMn0-3d\tO1-2p\t4\t20\t0.7464\n",
      " V\tMn0-3d\tO1-2p\t4\t19\t0.7464\n",
      " V\tMn0-3d\tO1-2p\t4\t626\t0.7746\n",
      " V\tMn0-3d\tO1-2p\t4\t6\t0.518\n",
      " V\tMn0-3d\tO1-2p\t4\t631\t0.3979\n",
      " V\tMn0-3d\tO1-2p\t4\t632\t0.3979\n",
      "\n",
      "HUBBARD\t{ortho-atomic}\n",
      " U\tMn0-3d\t4.4248\n",
      " V\tMn0-3d\tO1-2p\t1\t518\t0.7728\n",
      " V\tMn0-3d\tO1-2p\t1\t601\t0.7728\n",
      " V\tMn0-3d\tO1-2p\t1\t373\t0.8021\n",
      " V\tMn0-3d\tO1-2p\t1\t621\t0.5343\n",
      " V\tMn0-3d\tO1-2p\t1\t17\t0.4045\n",
      " V\tMn0-3d\tO1-2p\t1\t326\t0.4045\n",
      " V\tMn0-3d\tO1-2p\t2\t15\t0.7728\n",
      " V\tMn0-3d\tO1-2p\t2\t324\t0.7728\n",
      " V\tMn0-3d\tO1-2p\t2\t12\t0.8021\n",
      " V\tMn0-3d\tO1-2p\t2\t8\t0.5343\n",
      " V\tMn0-3d\tO1-2p\t2\t19\t0.4045\n",
      " V\tMn0-3d\tO1-2p\t2\t328\t0.4045\n",
      " V\tMn0-3d\tO1-2p\t3\t17\t0.7728\n",
      " V\tMn0-3d\tO1-2p\t3\t18\t0.7728\n",
      " V\tMn0-3d\tO1-2p\t3\t11\t0.8021\n",
      " V\tMn0-3d\tO1-2p\t3\t371\t0.5343\n",
      " V\tMn0-3d\tO1-2p\t3\t378\t0.4045\n",
      " V\tMn0-3d\tO1-2p\t3\t377\t0.4045\n",
      " V\tMn0-3d\tO1-2p\t4\t20\t0.7728\n",
      " V\tMn0-3d\tO1-2p\t4\t19\t0.7728\n",
      " V\tMn0-3d\tO1-2p\t4\t626\t0.8021\n",
      " V\tMn0-3d\tO1-2p\t4\t6\t0.5343\n",
      " V\tMn0-3d\tO1-2p\t4\t631\t0.4045\n",
      " V\tMn0-3d\tO1-2p\t4\t632\t0.4045\n",
      "\n",
      "HUBBARD\t{ortho-atomic}\n",
      " U\tMn0-3d\t4.4203\n",
      " V\tMn0-3d\tO1-2p\t1\t518\t0.7729\n",
      " V\tMn0-3d\tO1-2p\t1\t601\t0.7729\n",
      " V\tMn0-3d\tO1-2p\t1\t373\t0.8023\n",
      " V\tMn0-3d\tO1-2p\t1\t621\t0.5345\n",
      " V\tMn0-3d\tO1-2p\t1\t17\t0.4047\n",
      " V\tMn0-3d\tO1-2p\t1\t326\t0.4047\n",
      " V\tMn0-3d\tO1-2p\t2\t15\t0.7729\n",
      " V\tMn0-3d\tO1-2p\t2\t324\t0.7729\n",
      " V\tMn0-3d\tO1-2p\t2\t12\t0.8023\n",
      " V\tMn0-3d\tO1-2p\t2\t8\t0.5345\n",
      " V\tMn0-3d\tO1-2p\t2\t19\t0.4047\n",
      " V\tMn0-3d\tO1-2p\t2\t328\t0.4047\n",
      " V\tMn0-3d\tO1-2p\t3\t17\t0.7729\n",
      " V\tMn0-3d\tO1-2p\t3\t18\t0.7729\n",
      " V\tMn0-3d\tO1-2p\t3\t11\t0.8023\n",
      " V\tMn0-3d\tO1-2p\t3\t371\t0.5345\n",
      " V\tMn0-3d\tO1-2p\t3\t378\t0.4047\n",
      " V\tMn0-3d\tO1-2p\t3\t377\t0.4047\n",
      " V\tMn0-3d\tO1-2p\t4\t20\t0.7729\n",
      " V\tMn0-3d\tO1-2p\t4\t19\t0.7729\n",
      " V\tMn0-3d\tO1-2p\t4\t626\t0.8023\n",
      " V\tMn0-3d\tO1-2p\t4\t6\t0.5345\n",
      " V\tMn0-3d\tO1-2p\t4\t631\t0.4047\n",
      " V\tMn0-3d\tO1-2p\t4\t632\t0.4047\n",
      "\n",
      "array([-0.1439, -0.0264, -0.0264, -0.0275, -0.0163, -0.0066, -0.0066,\n",
      "       -0.1439, -0.0264, -0.0264, -0.0275, -0.0163, -0.0066, -0.0066,\n",
      "       -0.1439, -0.0264, -0.0264, -0.0275, -0.0163, -0.0066, -0.0066,\n",
      "       -0.1439, -0.0264, -0.0264, -0.0275, -0.0163, -0.0066, -0.0066])\n",
      "array([4.4248, 0.7728, 0.7728, 0.8021, 0.5343, 0.4045, 0.4045, 4.4248,\n",
      "       0.7728, 0.7728, 0.8021, 0.5343, 0.4045, 0.4045, 4.4248, 0.7728,\n",
      "       0.7728, 0.8021, 0.5343, 0.4045, 0.4045, 4.4248, 0.7728, 0.7728,\n",
      "       0.8021, 0.5343, 0.4045, 0.4045])\n",
      "array([4.4203, 0.7729, 0.7729, 0.8023, 0.5345, 0.4047, 0.4047, 4.4203,\n",
      "       0.7729, 0.7729, 0.8023, 0.5345, 0.4047, 0.4047, 4.4203, 0.7729,\n",
      "       0.7729, 0.8023, 0.5345, 0.4047, 0.4047, 4.4203, 0.7729, 0.7729,\n",
      "       0.8023, 0.5345, 0.4047, 0.4047])\n",
      "[0.1394 0.0265 0.0265 0.0277 0.0165 0.0068 0.0068 0.1394 0.0265 0.0265\n",
      " 0.0277 0.0165 0.0068 0.0068 0.1394 0.0265 0.0265 0.0277 0.0165 0.0068\n",
      " 0.0068 0.1394 0.0265 0.0265 0.0277 0.0165 0.0068 0.0068]\n",
      "[4.5e-03 1.0e-04 1.0e-04 2.0e-04 2.0e-04 2.0e-04 2.0e-04 4.5e-03 1.0e-04\n",
      " 1.0e-04 2.0e-04 2.0e-04 2.0e-04 2.0e-04 4.5e-03 1.0e-04 1.0e-04 2.0e-04\n",
      " 2.0e-04 2.0e-04 2.0e-04 4.5e-03 1.0e-04 1.0e-04 2.0e-04 2.0e-04 2.0e-04\n",
      " 2.0e-04]\n"
     ]
    }
   ],
   "source": [
    "from aiida_quantumespresso.data.hubbard_structure import HubbardStructureData\n",
    "from pprint import pprint\n",
    "import numpy as np\n",
    "from sklearn.metrics import mean_absolute_error as mae\n",
    "# type(true_ss_output_hubbard)\n",
    "\n",
    "true_ss_hubbard_array = np.array([el[4] for el in true_ss_output_hubbard.hubbard_parameters])\n",
    "default_hubbard_array = np.array([el[4] for el in default_output_hubbard.hubbard_parameters])\n",
    "iurii_hubbard_array = np.array([el[4] for el in iurii_output_hubbard.hubbard_parameters])\n",
    "\n",
    "pprint(mae(true_ss_hubbard_array, default_hubbard_array))\n",
    "pprint(mae(true_ss_hubbard_array, iurii_hubbard_array))\n",
    "pprint(mae(default_hubbard_array, iurii_hubbard_array))\n",
    "\n",
    "print(true_ss_output_hubbard.get_quantum_espresso_hubbard_card())\n",
    "print(default_output_hubbard.get_quantum_espresso_hubbard_card())\n",
    "print(iurii_output_hubbard.get_quantum_espresso_hubbard_card())\n",
    "\n",
    "pprint(true_ss_hubbard_array)\n",
    "pprint(default_hubbard_array)\n",
    "pprint(iurii_hubbard_array)\n",
    "\n",
    "print(np.abs(true_ss_hubbard_array-iurii_hubbard_array))\n",
    "print(np.abs(default_hubbard_array-iurii_hubbard_array))\n"
   ]
  },
  {
   "cell_type": "code",
   "execution_count": 82,
   "id": "0baeb22d",
   "metadata": {},
   "outputs": [
    {
     "name": "stdout",
     "output_type": "stream",
     "text": [
      "array([-0.1439, -0.0264, -0.0264, -0.0275, -0.0163, -0.0066, -0.0066,\n",
      "       -0.1439, -0.0264, -0.0264, -0.0275, -0.0163, -0.0066, -0.0066,\n",
      "       -0.1439, -0.0264, -0.0264, -0.0275, -0.0163, -0.0066, -0.0066,\n",
      "       -0.1439, -0.0264, -0.0264, -0.0275, -0.0163, -0.0066, -0.0066])\n",
      "array([ 4.5e-03, -1.0e-04, -1.0e-04, -2.0e-04, -2.0e-04, -2.0e-04,\n",
      "       -2.0e-04,  4.5e-03, -1.0e-04, -1.0e-04, -2.0e-04, -2.0e-04,\n",
      "       -2.0e-04, -2.0e-04,  4.5e-03, -1.0e-04, -1.0e-04, -2.0e-04,\n",
      "       -2.0e-04, -2.0e-04, -2.0e-04,  4.5e-03, -1.0e-04, -1.0e-04,\n",
      "       -2.0e-04, -2.0e-04, -2.0e-04, -2.0e-04])\n"
     ]
    }
   ],
   "source": [
    "pprint(true_ss_hubbard_array-default_hubbard_array)\n",
    "pprint(default_hubbard_array-iurii_hubbard_array)"
   ]
  },
  {
   "attachments": {},
   "cell_type": "markdown",
   "id": "79a6d190",
   "metadata": {},
   "source": [
    "***\n",
    "## Set proper AFM magnetic ordering"
   ]
  },
  {
   "cell_type": "code",
   "execution_count": null,
   "id": "29a2611a",
   "metadata": {},
   "outputs": [],
   "source": [
    "from aiida_quantumespresso.data.hubbard_structure import HubbardStructureData\n",
    "\n",
    "# print(hubbard_data.get_quantum_espresso_hubbard_card())\n",
    "# hubbardstructuredata = HubbardStructureData(hubbard_data)\n",
    "print(type(hubbard_data))\n",
    "\n",
    "# hubbard_data."
   ]
  },
  {
   "cell_type": "code",
   "execution_count": null,
   "id": "f253e8ac",
   "metadata": {},
   "outputs": [],
   "source": [
    "\n",
    "afm_magn_builder = SelfConsistentHubbardWorkChain.get_builder_from_protocol(\n",
    "    pw_code=pw_code,\n",
    "    hp_code=hp_code,\n",
    "    hubbard_structure=hubbard_data,\n",
    "    protocol='moderate',\n",
    "    overrides=Path(os.path.join('..', 'yaml_files', 'only_force_thr.yaml')),\n",
    "    spin_type=SpinType.COLLINEAR,\n",
    ")\n",
    "\n",
    "\n",
    "# afm_magn_builder = submit(afm_magn_builder)\n",
    "# only_force_thr_submit_pk = afm_magn_builder.pk\n",
    "# print(only_force_thr_submit_pk)\n",
    "# only_force_thr_submit_pk = 4376\n",
    "# !verdi process report 4376\n"
   ]
  },
  {
   "cell_type": "code",
   "execution_count": null,
   "id": "af22adea",
   "metadata": {},
   "outputs": [],
   "source": [
    "\n",
    "import pandas as pd\n",
    "from project_settings import project_dir\n",
    "from aiida.orm import StructureData\n",
    "\n",
    "fully_lithiated_df = pd.read_pickle(os.path.join(project_dir, 'data', 'fully_lithiated_df.pkl'))\n",
    "fully_lithiated_df['chem_formula'].values\n",
    "mn_olivine_ase = fully_lithiated_df['ase_in'].values[2]\n",
    "\n",
    "sorting_dict = {\n",
    "    'Mn': 0,\n",
    "    'O': 1,\n",
    "    'P': 2,\n",
    "    'Li': 3,\n",
    "}\n",
    "\n",
    "# ! Does not take into account initial magmoms for now\n",
    "mn_olivine_ase_ordered = Atoms(sorted(mn_olivine_ase, key=lambda x: sorting_dict[x.symbol]))\n",
    "mn_olivine_ase_ordered.set_cell(mn_olivine_ase.get_cell())\n",
    "mn_olivine_structuredata = StructureData(ase=mn_olivine_ase_ordered)\n",
    "StructureData"
   ]
  },
  {
   "cell_type": "markdown",
   "id": "6837133d",
   "metadata": {},
   "source": [
    "***\n",
    "## Copied from Marnik's notebook"
   ]
  },
  {
   "cell_type": "markdown",
   "id": "6ab416de",
   "metadata": {},
   "source": [
    "## HubbardStructureData initialization\n",
    "Let's initialize the HubbardStructureData with the olivine structure!"
   ]
  },
  {
   "cell_type": "code",
   "execution_count": null,
   "id": "2d38ceb8",
   "metadata": {},
   "outputs": [],
   "source": [
    "hubbard_data_inv = HubbardStructureData(structure=mn_olivine_aiida)"
   ]
  },
  {
   "cell_type": "code",
   "execution_count": null,
   "id": "95ee95c8",
   "metadata": {},
   "outputs": [],
   "source": [
    "# hubbard_data.reorder_atoms()"
   ]
  },
  {
   "cell_type": "markdown",
   "id": "7dbcdb2e",
   "metadata": {},
   "source": [
    "## Initializing the on-site Hubbard\n",
    "Let's initialize the on-site Hubbard parameter for the titanium atom."
   ]
  },
  {
   "cell_type": "code",
   "execution_count": null,
   "id": "df561ad7",
   "metadata": {},
   "outputs": [],
   "source": [
    "# Taken from parameters.in of:\n",
    "# /home/jgeiger/projects/bat_uv_ml/data/olivine_iurii/LixMnPO4/Li1.00/DFT_plus_UV/9_PDOS/LMPO.scf.1.in\n",
    "hubbard_data_inv.initialize_onsites_hubbard('Mn', '3d', 4.5618)"
   ]
  },
  {
   "cell_type": "markdown",
   "id": "9ab4b486",
   "metadata": {},
   "source": [
    "Here how it is stored in the class."
   ]
  },
  {
   "cell_type": "code",
   "execution_count": null,
   "id": "634b7195",
   "metadata": {},
   "outputs": [],
   "source": [
    "hubbard_data_inv.hubbard_parameters"
   ]
  },
  {
   "cell_type": "markdown",
   "id": "9567c879",
   "metadata": {},
   "source": [
    "## Initializing the inter-site Hubbard\n",
    "Let's initialize the inter-site Hubbard parameter for the titanium and oxygen atoms."
   ]
  },
  {
   "cell_type": "code",
   "execution_count": null,
   "id": "236512bf",
   "metadata": {},
   "outputs": [],
   "source": [
    "hubbard_data_inv.initialize_intersites_hubbard('Mn', '3d', 'O', '2p', 0.0001, number_of_neighbours=7) \n",
    "# ! Ti has 6 oxygen neighbors in BaTiO3. Similarly, Mn has 6 oxygen neighbors in LMPO (olivine). So, we need to use N+1 in the call to initialize_intersites_hubbard, as the value is used for list slicing, like [:number_of_neighbours], which is exclusive of the last index."
   ]
  },
  {
   "cell_type": "markdown",
   "id": "6c6d422f",
   "metadata": {},
   "source": [
    "The parameters are saved in the property `hubbard_parameters` as a list."
   ]
  },
  {
   "cell_type": "code",
   "execution_count": null,
   "id": "c11303ab",
   "metadata": {},
   "outputs": [],
   "source": [
    "hubbard_data_inv.hubbard_parameters"
   ]
  },
  {
   "cell_type": "code",
   "execution_count": null,
   "id": "8d3ca555",
   "metadata": {},
   "outputs": [],
   "source": [
    "print(hubbard_data_inv.get_quantum_espresso_hubbard_card())\n",
    "print(hubbard_data_inv.get_quantum_espresso_hubbard_parameters())"
   ]
  },
  {
   "cell_type": "code",
   "execution_count": null,
   "id": "532cf8b5",
   "metadata": {},
   "outputs": [],
   "source": [
    "print(type(mn_olivine_aiida))\n",
    "print(mn_olivine_aiida.get_ase().get_chemical_symbols())\n",
    "from aiida.orm.nodes.data.structure import StructureData"
   ]
  },
  {
   "cell_type": "code",
   "execution_count": null,
   "id": "d4a3b0e8",
   "metadata": {},
   "outputs": [],
   "source": [
    "hubbard_data_inv.store()\n",
    "hubbard_data_inv.pk"
   ]
  },
  {
   "cell_type": "code",
   "execution_count": null,
   "id": "54253fd0",
   "metadata": {},
   "outputs": [],
   "source": [
    "inverted_hubbard_data_pk = 3015"
   ]
  }
 ],
 "metadata": {
  "kernelspec": {
   "display_name": "env-bat_uv_ml",
   "language": "python",
   "name": "python3"
  },
  "language_info": {
   "codemirror_mode": {
    "name": "ipython",
    "version": 3
   },
   "file_extension": ".py",
   "mimetype": "text/x-python",
   "name": "python",
   "nbconvert_exporter": "python",
   "pygments_lexer": "ipython3",
   "version": "3.8.10"
  },
  "vscode": {
   "interpreter": {
    "hash": "e4b99e4fb7239675e78e08baa36e5541415cefe51d419b717bbcddc9f1c4003f"
   }
  }
 },
 "nbformat": 4,
 "nbformat_minor": 5
}
