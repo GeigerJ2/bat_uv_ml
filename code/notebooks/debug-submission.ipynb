{
 "cells": [
  {
   "cell_type": "code",
   "execution_count": null,
   "id": "6c6ecdf6",
   "metadata": {},
   "outputs": [],
   "source": [
    "from IPython.core.interactiveshell import InteractiveShell\n",
    "InteractiveShell.ast_node_interactivity = \"all\"\n",
    "\n",
    "import json\n",
    "from aiida import load_profile\n",
    "from aiida.orm import StructureData, load_code, Float, load_node\n",
    "from aiida_quantumespresso_hp.workflows.hubbard import SelfConsistentHubbardWorkChain\n",
    "from aiida_quantumespresso.data.hubbard_structure import HubbardStructureData\n",
    "from aiida.engine import submit\n",
    "from ase.atoms import Atoms\n",
    "from ase.visualize import view\n",
    "from aiida.plugins import DataFactory \n",
    "from pathlib import Path\n",
    "from aiida_quantumespresso.common.types import SpinType\n",
    "from aiida.orm import Int\n",
    "from copy import deepcopy\n",
    "import os\n",
    "\n",
    "load_profile()"
   ]
  },
  {
   "cell_type": "code",
   "execution_count": null,
   "id": "264f73a2",
   "metadata": {},
   "outputs": [],
   "source": [
    "\n",
    "# ! Currently, for whatever reason, codes duplicated\n",
    "# pw_code = load_code('qe-dev-pw@lumi-small')\n",
    "# hp_code = load_code('qe-dev-hp@lumi-small')\n",
    "pw_code = load_code(2182)\n",
    "hp_code = load_code(2183)\n",
    "\n",
    "hubbard_data = load_node(3075)\n",
    "print(hubbard_data.get_ase())\n",
    "print(hubbard_data.get_quantum_espresso_hubbard_card())"
   ]
  },
  {
   "cell_type": "code",
   "execution_count": null,
   "id": "0e656eec",
   "metadata": {},
   "outputs": [],
   "source": [
    "builder = SelfConsistentHubbardWorkChain.get_builder_from_protocol(\n",
    "    pw_code=pw_code,\n",
    "    hp_code=hp_code,\n",
    "    hubbard_structure=hubbard_data,\n",
    "    protocol='moderate',\n",
    "    overrides=Path(os.path.join('..', 'yaml_files', 'olivine_iurii.yaml')),\n",
    "    spin_type=SpinType.COLLINEAR,\n",
    ")\n",
    "\n",
    "scf_dict = builder.scf.pw.parameters.get_dict()\n",
    "relax_dict = builder.relax.base.pw.parameters.get_dict()\n",
    "hubbard_dict = builder.hubbard.hp.parameters.get_dict()\n",
    "\n",
    "print(json.dumps(scf_dict, sort_keys=False, indent=4))\n",
    "print(json.dumps(relax_dict, sort_keys=False, indent=4))\n",
    "print(json.dumps(hubbard_dict, sort_keys=False, indent=4))"
   ]
  },
  {
   "cell_type": "code",
   "execution_count": null,
   "id": "5b4a9ff8",
   "metadata": {},
   "outputs": [],
   "source": [
    "# proper_olivine_builder = deepcopy(builder)\n",
    "# proper_olivine_submit = submit(proper_olivine_builder)\n",
    "# proper_olivine_submit_pk = proper_olivine_submit.pk\n",
    "proper_olivine_submit_pk = 4282\n",
    "# proper_olivine_submit_pk = 4232\n",
    "!verdi process status 4282"
   ]
  }
 ],
 "metadata": {
  "kernelspec": {
   "display_name": "env-bat_uv_ml",
   "language": "python",
   "name": "python3"
  },
  "language_info": {
   "codemirror_mode": {
    "name": "ipython",
    "version": 3
   },
   "file_extension": ".py",
   "mimetype": "text/x-python",
   "name": "python",
   "nbconvert_exporter": "python",
   "pygments_lexer": "ipython3"
  },
  "vscode": {
   "interpreter": {
    "hash": "e4b99e4fb7239675e78e08baa36e5541415cefe51d419b717bbcddc9f1c4003f"
   }
  }
 },
 "nbformat": 4,
 "nbformat_minor": 5
}
