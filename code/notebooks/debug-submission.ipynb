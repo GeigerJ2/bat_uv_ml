{
 "cells": [
  {
   "cell_type": "code",
   "execution_count": null,
   "id": "6c6ecdf6",
   "metadata": {},
   "outputs": [],
   "source": [
    "from IPython.core.interactiveshell import InteractiveShell\n",
    "InteractiveShell.ast_node_interactivity = \"all\"\n",
    "\n",
    "import json\n",
    "from aiida import load_profile\n",
    "from aiida.orm import StructureData, load_code, Float, load_node\n",
    "from aiida_quantumespresso_hp.workflows.hubbard import SelfConsistentHubbardWorkChain\n",
    "from aiida_quantumespresso.data.hubbard_structure import HubbardStructureData\n",
    "from aiida.engine import submit\n",
    "from ase.atoms import Atoms\n",
    "from ase.visualize import view\n",
    "from aiida.plugins import DataFactory \n",
    "from pathlib import Path\n",
    "from aiida_quantumespresso.common.types import SpinType\n",
    "from aiida.orm import Int\n",
    "from copy import deepcopy\n",
    "import os\n",
    "\n",
    "load_profile()"
   ]
  },
  {
   "cell_type": "code",
   "execution_count": null,
   "id": "264f73a2",
   "metadata": {},
   "outputs": [],
   "source": [
    "pw_code = load_code('qe-dev-pw@lumi-small')\n",
    "hp_code = load_code('qe-dev-hp@lumi-small')\n",
    "\n",
    "hubbard_data = load_node(3075)\n",
    "# print(type(hubbard_data))\n",
    "\n",
    "# view(hubbard_data.get_ase(), viewer='x3d')\n",
    "# print(hubbard_data.structure)\n",
    "# print(hubbard_data.get_quantum_espresso_hubbard_card())\n",
    "\n",
    "builder = SelfConsistentHubbardWorkChain.get_builder_from_protocol(\n",
    "    pw_code=pw_code,\n",
    "    hp_code=hp_code,\n",
    "    hubbard_structure=hubbard_data,\n",
    "    protocol='moderate',\n",
    "    overrides=Path(os.path.join('yaml_files', 'olivine_iurii.yaml')),\n",
    "    spin_type=SpinType.COLLINEAR,\n",
    ")\n",
    "\n",
    "# scf_dict = builder.scf.pw.parameters.get_dict()\n",
    "# print(type(builder.scf.pw.parameters))\n",
    "# relax_dict = builder.relax.base.pw.parameters.get_dict()\n",
    "# hubbard_dict = builder.hubbard.hp.parameters.get_dict()\n",
    "\n",
    "# print(json.dumps(scf_dict, sort_keys=False, indent=4))\n",
    "\n",
    "# print(builder.scf.pw.parameters.get_dict())\n",
    "# print(builder.scf)\n",
    "# submit_pks.append(submit_return.pk)"
   ]
  },
  {
   "cell_type": "code",
   "execution_count": null,
   "id": "5b4a9ff8",
   "metadata": {},
   "outputs": [],
   "source": [
    "# proper_olivine_builder = deepcopy(builder)\n",
    "# proper_olivine_submit = submit(proper_olivine_builder)\n",
    "# proper_olivine_submit_pk = proper_olivine_submit.pk\n",
    "proper_olivine_submit_pk = 4282\n",
    "# proper_olivine_submit_pk = 4232\n",
    "!verdi process status 4282"
   ]
  },
  {
   "cell_type": "code",
   "execution_count": null,
   "id": "16deb11a",
   "metadata": {},
   "outputs": [],
   "source": [
    "# Submission with Iurii's relaxation parameters\n",
    "!verdi process status 4089"
   ]
  },
  {
   "cell_type": "code",
   "execution_count": null,
   "id": "5a40fffd",
   "metadata": {},
   "outputs": [],
   "source": [
    "# Submission with Iurii's relaxation parameters\n",
    "!verdi process status 4017"
   ]
  },
  {
   "cell_type": "code",
   "execution_count": null,
   "id": "a4959759",
   "metadata": {},
   "outputs": [],
   "source": [
    "# Submission with Iurii's relaxation parameters\n",
    "!verdi process status 4053"
   ]
  },
  {
   "cell_type": "code",
   "execution_count": null,
   "id": "241c02f2",
   "metadata": {},
   "outputs": [],
   "source": [
    "# First submission with proper parallelization and ferromagnetic ordering\n",
    "!verdi process status 3714"
   ]
  },
  {
   "cell_type": "code",
   "execution_count": null,
   "id": "88fff08f",
   "metadata": {},
   "outputs": [],
   "source": [
    "# Submission without relaxation\n",
    "!verdi process status 3869"
   ]
  },
  {
   "cell_type": "code",
   "execution_count": null,
   "id": "7671bafc",
   "metadata": {},
   "outputs": [],
   "source": [
    "# Submission with long relaxation\n",
    "!verdi process status 3908"
   ]
  }
 ],
 "metadata": {
  "kernelspec": {
   "display_name": "env-bat_uv_ml",
   "language": "python",
   "name": "python3"
  },
  "language_info": {
   "codemirror_mode": {
    "name": "ipython",
    "version": 3
   },
   "file_extension": ".py",
   "mimetype": "text/x-python",
   "name": "python",
   "nbconvert_exporter": "python",
   "pygments_lexer": "ipython3",
   "version": "3.8.10"
  },
  "vscode": {
   "interpreter": {
    "hash": "e4b99e4fb7239675e78e08baa36e5541415cefe51d419b717bbcddc9f1c4003f"
   }
  }
 },
 "nbformat": 4,
 "nbformat_minor": 5
}
