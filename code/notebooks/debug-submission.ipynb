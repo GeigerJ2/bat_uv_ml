{
 "cells": [
  {
   "cell_type": "code",
   "execution_count": 140,
   "id": "6c6ecdf6",
   "metadata": {},
   "outputs": [
    {
     "data": {
      "text/plain": [
       "Profile<uuid='4fe00b7a32994cfca8b6cf43c2d22a53' name='jgeiger'>"
      ]
     },
     "execution_count": 140,
     "metadata": {},
     "output_type": "execute_result"
    }
   ],
   "source": [
    "from IPython.core.interactiveshell import InteractiveShell\n",
    "\n",
    "InteractiveShell.ast_node_interactivity = \"all\"\n",
    "\n",
    "import json\n",
    "import os\n",
    "import re\n",
    "from copy import deepcopy\n",
    "from pathlib import Path\n",
    "\n",
    "from aiida import load_profile\n",
    "from aiida.engine import submit\n",
    "from aiida.orm import Bool, Dict, Float, Int, StructureData, load_code, load_node\n",
    "from aiida.plugins import DataFactory\n",
    "from aiida_quantumespresso.common.types import SpinType\n",
    "from aiida_quantumespresso.data.hubbard_structure import HubbardStructureData\n",
    "from aiida_quantumespresso_hp.workflows.hubbard import SelfConsistentHubbardWorkChain\n",
    "from aiida.orm.nodes.data.structure import Site\n",
    "from ase.atoms import Atoms\n",
    "from ase.visualize import view\n",
    "\n",
    "load_profile()\n",
    "import pandas as pd\n",
    "from aiida.orm import StructureData\n",
    "from project_settings import project_dir"
   ]
  },
  {
   "cell_type": "code",
   "execution_count": null,
   "id": "264f73a2",
   "metadata": {},
   "outputs": [],
   "source": [
    "\n",
    "# ! Currently, for whatever reason, the codes are duplicated\n",
    "# pw_code = load_code('qe-dev-pw@lumi-small')\n",
    "# hp_code = load_code('qe-dev-hp@lumi-small')\n",
    "pw_code = load_code(2182)\n",
    "hp_code = load_code(2183)\n",
    "\n",
    "hubbard_data = load_node(3075)\n",
    "print(hubbard_data.get_ase())\n",
    "print(hubbard_data.get_quantum_espresso_hubbard_card())"
   ]
  },
  {
   "attachments": {},
   "cell_type": "markdown",
   "id": "3769796c",
   "metadata": {},
   "source": [
    "***\n",
    "## Set up workchain with all of Iurii's settings"
   ]
  },
  {
   "cell_type": "code",
   "execution_count": null,
   "id": "0e656eec",
   "metadata": {},
   "outputs": [],
   "source": [
    "afm_builder = SelfConsistentHubbardWorkChain.get_builder_from_protocol(\n",
    "    pw_code=pw_code,\n",
    "    hp_code=hp_code,\n",
    "    hubbard_structure=hubbard_data,\n",
    "    protocol='moderate',\n",
    "    overrides=Path(os.path.join('..', 'yaml_files', 'olivine_iurii_overrides.yaml')),\n",
    "    spin_type=SpinType.COLLINEAR,\n",
    ")\n",
    "\n",
    "scf_dict = afm_builder.scf.pw.parameters.get_dict()\n",
    "relax_dict = afm_builder.relax.base.pw.parameters.get_dict()\n",
    "hubbard_dict = afm_builder.hubbard.hp.parameters.get_dict()\n",
    "\n",
    "# print(json.dumps(scf_dict, sort_keys=False, indent=4))\n",
    "# print(json.dumps(relax_dict, sort_keys=False, indent=4))\n",
    "# print(json.dumps(hubbard_dict, sort_keys=False, indent=4))"
   ]
  },
  {
   "cell_type": "code",
   "execution_count": null,
   "id": "5b4a9ff8",
   "metadata": {},
   "outputs": [],
   "source": [
    "# proper_olivine_builder = deepcopy(builder)\n",
    "# proper_olivine_submit = submit(proper_olivine_builder)\n",
    "# proper_olivine_submit_pk = proper_olivine_submit.pk\n",
    "proper_olivine_submit_pk = 4282"
   ]
  },
  {
   "cell_type": "code",
   "execution_count": null,
   "id": "77c7df0d",
   "metadata": {},
   "outputs": [],
   "source": [
    "!verdi process status 4282"
   ]
  },
  {
   "attachments": {},
   "cell_type": "markdown",
   "id": "a3c7bd0b",
   "metadata": {},
   "source": [
    "***\n",
    "## Change only force convergence threshold in the optimization to see if `reconstruction problem` persists"
   ]
  },
  {
   "cell_type": "code",
   "execution_count": null,
   "id": "9757646d",
   "metadata": {},
   "outputs": [],
   "source": [
    "only_force_thr_builder = SelfConsistentHubbardWorkChain.get_builder_from_protocol(\n",
    "    pw_code=pw_code,\n",
    "    hp_code=hp_code,\n",
    "    hubbard_structure=hubbard_data,\n",
    "    protocol='moderate',\n",
    "    overrides=Path(os.path.join('..', 'yaml_files', 'only_force_thr.yaml')),\n",
    "    spin_type=SpinType.COLLINEAR,\n",
    ")\n",
    "\n",
    "# only_force_thr_builder = submit(only_force_thr_builder)\n",
    "# only_force_thr_submit_pk = only_force_thr_builder.pk\n",
    "# print(only_force_thr_submit_pk)"
   ]
  },
  {
   "cell_type": "code",
   "execution_count": null,
   "id": "83cac79a",
   "metadata": {},
   "outputs": [],
   "source": [
    "# only_force_thr_submit_pk = 4376\n",
    "!verdi process status 4376"
   ]
  },
  {
   "cell_type": "markdown",
   "id": "a0311e10",
   "metadata": {},
   "source": [
    "***\n",
    "## True single-shot (only scf + hp), with default workchain settings"
   ]
  },
  {
   "cell_type": "code",
   "execution_count": null,
   "id": "29653c6a",
   "metadata": {},
   "outputs": [],
   "source": [
    "from aiida.orm import Bool, Int\n",
    "\n",
    "true_singleshot_builder = SelfConsistentHubbardWorkChain.get_builder_from_protocol(\n",
    "    pw_code=pw_code,\n",
    "    hp_code=hp_code,\n",
    "    hubbard_structure=hubbard_data,\n",
    "    protocol='moderate',\n",
    "    overrides=Path(os.path.join('..', 'yaml_files', 'basically_empty_overrides.yaml')),\n",
    "    spin_type=SpinType.COLLINEAR,\n",
    ")\n",
    "\n",
    "_ = true_singleshot_builder.pop(\"relax\", None)\n",
    "true_singleshot_builder.meta_convergence = Bool(False)\n",
    "true_singleshot_builder.max_iterations = Int(1)\n",
    "\n",
    "# true_singleshot_submit = submit(true_singleshot_builder)\n",
    "# print(true_singleshot_submit.pk)\n",
    "\n"
   ]
  },
  {
   "cell_type": "code",
   "execution_count": null,
   "id": "736fdc55",
   "metadata": {},
   "outputs": [],
   "source": [
    "true_singleshot_submit_pk = 4774\n",
    "# !verdi process status 4774\n",
    "true_ss_workchain_node = load_node(true_singleshot_submit_pk)\n",
    "print(true_ss_workchain_node.mtime - true_ss_workchain_node.ctime)"
   ]
  },
  {
   "attachments": {},
   "cell_type": "markdown",
   "id": "8de0d52e",
   "metadata": {},
   "source": [
    "***\n",
    "## Default workchain settings, no relaxation\n"
   ]
  },
  {
   "cell_type": "code",
   "execution_count": null,
   "id": "b03eec09",
   "metadata": {},
   "outputs": [],
   "source": [
    "default_norelax_builder = SelfConsistentHubbardWorkChain.get_builder_from_protocol(\n",
    "    pw_code=pw_code,\n",
    "    hp_code=hp_code,\n",
    "    hubbard_structure=hubbard_data,\n",
    "    protocol='moderate',\n",
    "    overrides=Path(os.path.join('..', 'yaml_files', 'basically_empty_overrides.yaml')),\n",
    "    spin_type=SpinType.COLLINEAR,\n",
    ")\n",
    "\n",
    "# _ = default_norelax_builder.pop(\"relax\", None)\n",
    "# default_norelax_submit = submit(default_norelax_builder)\n",
    "# print(default_norelax_submit.pk)\n"
   ]
  },
  {
   "cell_type": "code",
   "execution_count": null,
   "id": "1d13bdc6",
   "metadata": {},
   "outputs": [],
   "source": [
    "default_norelax_submit_pk = 4512\n",
    "# !verdi process status 4512\n",
    "default_workchain_node = load_node(default_norelax_submit_pk)\n",
    "print(default_workchain_node.mtime - default_workchain_node.ctime)"
   ]
  },
  {
   "cell_type": "markdown",
   "id": "b9dc257c",
   "metadata": {},
   "source": [
    "***\n",
    "## All of Iurii's settings, but no relaxation"
   ]
  },
  {
   "cell_type": "code",
   "execution_count": null,
   "id": "901184a5",
   "metadata": {},
   "outputs": [],
   "source": [
    "iurii_norelax_builder = SelfConsistentHubbardWorkChain.get_builder_from_protocol(\n",
    "    pw_code=pw_code,\n",
    "    hp_code=hp_code,\n",
    "    hubbard_structure=hubbard_data,\n",
    "    protocol='moderate',\n",
    "    overrides=Path(os.path.join('..', 'yaml_files', 'olivine_iurii_overrides.yaml')),\n",
    "    spin_type=SpinType.COLLINEAR,\n",
    ")\n",
    "\n",
    "_ = iurii_norelax_builder.pop(\"relax\", None)\n",
    "# iurii_norelax_builder = submit(iurii_norelax_builder)\n",
    "# print(iurii_norelax_builder.pk)"
   ]
  },
  {
   "cell_type": "code",
   "execution_count": null,
   "id": "e80c9ec6",
   "metadata": {},
   "outputs": [],
   "source": [
    "iurii_norelax_builder_pk = 4486 \n",
    "# !verdi process status 4486\n",
    "iurii_workchain_node = load_node(iurii_norelax_builder_pk)\n",
    "print(iurii_workchain_node.mtime - iurii_workchain_node.ctime)"
   ]
  },
  {
   "attachments": {},
   "cell_type": "markdown",
   "id": "4db41a87",
   "metadata": {},
   "source": [
    "***\n",
    "## Compare results of true SS, workchain defaults, and Iurii's settings"
   ]
  },
  {
   "cell_type": "code",
   "execution_count": null,
   "id": "45827b2d",
   "metadata": {},
   "outputs": [],
   "source": [
    "true_ss_output_hubbard = load_node(4813)\n",
    "default_output_hubbard = load_node(4699)\n",
    "iurii_output_hubbard = load_node(4822)"
   ]
  },
  {
   "cell_type": "code",
   "execution_count": null,
   "id": "3b6f8b87",
   "metadata": {},
   "outputs": [],
   "source": [
    "from aiida_quantumespresso.data.hubbard_structure import HubbardStructureData\n",
    "from pprint import pprint\n",
    "import numpy as np\n",
    "from sklearn.metrics import mean_absolute_error as mae\n",
    "# type(true_ss_output_hubbard)\n",
    "\n",
    "true_ss_hubbard_array = np.array([el[4] for el in true_ss_output_hubbard.hubbard_parameters])\n",
    "default_hubbard_array = np.array([el[4] for el in default_output_hubbard.hubbard_parameters])\n",
    "iurii_hubbard_array = np.array([el[4] for el in iurii_output_hubbard.hubbard_parameters])\n",
    "\n",
    "pprint(mae(true_ss_hubbard_array, default_hubbard_array))\n",
    "pprint(mae(true_ss_hubbard_array, iurii_hubbard_array))\n",
    "pprint(mae(default_hubbard_array, iurii_hubbard_array))\n",
    "\n",
    "print(true_ss_output_hubbard.get_quantum_espresso_hubbard_card())\n",
    "print(default_output_hubbard.get_quantum_espresso_hubbard_card())\n",
    "print(iurii_output_hubbard.get_quantum_espresso_hubbard_card())\n",
    "\n",
    "pprint(true_ss_hubbard_array)\n",
    "pprint(default_hubbard_array)\n",
    "pprint(iurii_hubbard_array)\n",
    "\n",
    "print(np.abs(true_ss_hubbard_array-iurii_hubbard_array))\n",
    "print(np.abs(default_hubbard_array-iurii_hubbard_array))\n"
   ]
  },
  {
   "cell_type": "code",
   "execution_count": null,
   "id": "0baeb22d",
   "metadata": {},
   "outputs": [],
   "source": [
    "pprint(true_ss_hubbard_array-default_hubbard_array)\n",
    "pprint(default_hubbard_array-iurii_hubbard_array)"
   ]
  },
  {
   "attachments": {},
   "cell_type": "markdown",
   "id": "79a6d190",
   "metadata": {},
   "source": [
    "***\n",
    "## Set proper AFM magnetic ordering\n",
    "### Investigate `structure_relabel_kinds` function for trying the relabeling"
   ]
  },
  {
   "cell_type": "code",
   "execution_count": 193,
   "id": "5db85d69",
   "metadata": {},
   "outputs": [
    {
     "name": "stdout",
     "output_type": "stream",
     "text": [
      "<class 'aiida.orm.nodes.data.structure.Site'>\n",
      "kind name 'Mn1' @ -0.015991133342284,0.0,-4.7299542407316\n",
      "<class 'str'> Mn1\n"
     ]
    },
    {
     "ename": "AttributeError",
     "evalue": "'Site' object has no attribute 'kind'",
     "output_type": "error",
     "traceback": [
      "\u001b[0;31m---------------------------------------------------------------------------\u001b[0m",
      "\u001b[0;31mAttributeError\u001b[0m                            Traceback (most recent call last)",
      "\u001b[0;32m/tmp/ipykernel_1145104/2966955580.py\u001b[0m in \u001b[0;36m<cell line: 124>\u001b[0;34m()\u001b[0m\n\u001b[1;32m    122\u001b[0m \u001b[0;34m\u001b[0m\u001b[0m\n\u001b[1;32m    123\u001b[0m \u001b[0;34m\u001b[0m\u001b[0m\n\u001b[0;32m--> 124\u001b[0;31m structure_relabel_kinds(\n\u001b[0m\u001b[1;32m    125\u001b[0m     \u001b[0mhubbard_structure\u001b[0m\u001b[0;34m=\u001b[0m\u001b[0mhubbard_structure_outside\u001b[0m\u001b[0;34m,\u001b[0m\u001b[0;34m\u001b[0m\u001b[0;34m\u001b[0m\u001b[0m\n\u001b[1;32m    126\u001b[0m     \u001b[0mhubbard_dict\u001b[0m\u001b[0;34m=\u001b[0m\u001b[0mhubbard_dict_outside\u001b[0m\u001b[0;34m,\u001b[0m\u001b[0;34m\u001b[0m\u001b[0;34m\u001b[0m\u001b[0m\n",
      "\u001b[0;32m/tmp/ipykernel_1145104/2966955580.py\u001b[0m in \u001b[0;36mstructure_relabel_kinds\u001b[0;34m(hubbard_structure, hubbard_dict, magnetization)\u001b[0m\n\u001b[1;32m     59\u001b[0m         \u001b[0mprint\u001b[0m\u001b[0;34m(\u001b[0m\u001b[0mloop_site\u001b[0m\u001b[0;34m)\u001b[0m\u001b[0;34m\u001b[0m\u001b[0;34m\u001b[0m\u001b[0m\n\u001b[1;32m     60\u001b[0m         \u001b[0mprint\u001b[0m\u001b[0;34m(\u001b[0m\u001b[0mtype\u001b[0m\u001b[0;34m(\u001b[0m\u001b[0mloop_site\u001b[0m\u001b[0;34m.\u001b[0m\u001b[0mkind_name\u001b[0m\u001b[0;34m)\u001b[0m\u001b[0;34m,\u001b[0m \u001b[0mloop_site\u001b[0m\u001b[0;34m.\u001b[0m\u001b[0mkind_name\u001b[0m\u001b[0;34m)\u001b[0m\u001b[0;34m\u001b[0m\u001b[0;34m\u001b[0m\u001b[0m\n\u001b[0;32m---> 61\u001b[0;31m         \u001b[0mprint\u001b[0m\u001b[0;34m(\u001b[0m\u001b[0mtype\u001b[0m\u001b[0;34m(\u001b[0m\u001b[0mloop_site\u001b[0m\u001b[0;34m.\u001b[0m\u001b[0mkind\u001b[0m\u001b[0;34m)\u001b[0m\u001b[0;34m,\u001b[0m \u001b[0mloop_site\u001b[0m\u001b[0;34m.\u001b[0m\u001b[0mkind\u001b[0m\u001b[0;34m)\u001b[0m\u001b[0;34m\u001b[0m\u001b[0;34m\u001b[0m\u001b[0m\n\u001b[0m\u001b[1;32m     62\u001b[0m \u001b[0;34m\u001b[0m\u001b[0m\n\u001b[1;32m     63\u001b[0m         \u001b[0;31m# final_structuredata.append_kind(loop_site.kind_name)\u001b[0m\u001b[0;34m\u001b[0m\u001b[0;34m\u001b[0m\u001b[0;34m\u001b[0m\u001b[0m\n",
      "\u001b[0;31mAttributeError\u001b[0m: 'Site' object has no attribute 'kind'"
     ]
    }
   ],
   "source": [
    "\n",
    "hubbard_structure = load_node(3075)\n",
    "hp_workchain = load_node(4560)\n",
    "\n",
    "hubbard_structure_outside = hp_workchain.outputs.hubbard_structure\n",
    "hubbard_dict_outside = hp_workchain.outputs.hubbard\n",
    "\n",
    "def structure_relabel_kinds(hubbard_structure, hubbard_dict, magnetization=None):\n",
    "    \"\"\"Create a clone of the given structure but with new kinds, based on the new hubbard sites.\n",
    "\n",
    "    :param hubbard_structure: ``HubbardStructureData`` instance.\n",
    "    :param hubbard: the ``hubbard`` output Dict node of a ``HpCalculation``.\n",
    "    :param magnetization: Dict instance containing the `starting_magnetization` QuantumESPRESSO inputs.\n",
    "    :return:\n",
    "    \"\"\"\n",
    "    reference = hubbard_structure.clone()\n",
    "    relabeled = reference.clone()\n",
    "\n",
    "    relabeled.clear_kinds()\n",
    "    relabeled.clear_sites()\n",
    "\n",
    "    kind_suffix = -1\n",
    "    type_to_kind = {}\n",
    "    sites = hubbard_structure.sites\n",
    "    if magnetization is not None:\n",
    "        old_magnetization = magnetization.get_dict()\n",
    "        new_magnetization = old_magnetization.copy()\n",
    "        # Removing old Hubbard spin-polarized atom label.\n",
    "        for site in hubbard_dict['sites']:\n",
    "            new_magnetization.pop(site['kind'], None)\n",
    "\n",
    "    # First do the Hubbard sites, popping the kind name suffix each time a new type is encountered. We do the suffix\n",
    "    # generation ourselves, because the indexing done by hp.x contains gaps in the sequence.\n",
    "    relabel_dict = {\n",
    "        0: 'Mn1',\n",
    "        1: 'Mn2',\n",
    "        2: 'Mn1',\n",
    "        3: 'Mn2',\n",
    "    }\n",
    "\n",
    "    # print(type(hubbard_dict['sites']))\n",
    "    # print(hubbard_dict['sites']) # ! => Returns a list of dicts\n",
    "    # print(hubbard_structure.sites) # ! => Returns a list of Site objects\n",
    "    # print(type(hubbard_dict['sites'][0]))\n",
    "    # print(type(hubbard_structure.sites[0]))\n",
    "    \n",
    "    # ! This works now with HubbardStructureData, but ultimately should work with only StructureData\n",
    "    # ! => Already works with StructureData because it just calls the sites property of the StructureData parent class\n",
    "    \n",
    "    final_structuredata = StructureData()\n",
    "    \n",
    "    for index, site in enumerate(hubbard_structure.sites):\n",
    "        # print(index, site)\n",
    "        raw_site = site.get_raw()\n",
    "        \n",
    "        loop_site = deepcopy(site)\n",
    "        print(type(loop_site))\n",
    "        loop_site.kind_name = relabel_dict.get(index, site)\n",
    "        \n",
    "        print(loop_site)\n",
    "        print(type(loop_site.kind_name), loop_site.kind_name)\n",
    "        print(type(loop_site.kind), loop_site.kind)\n",
    "\n",
    "        # final_structuredata.append_kind(loop_site.kind_name)\n",
    "        # final_structuredata.append_site(loop_site)\n",
    "        \n",
    "        # print(raw_site)\n",
    "        # print(help(site))\n",
    "        # ! Return site from raw: Site(raw_site)\n",
    "        # raise SystemExit\n",
    "        # symbol = re.search(r'^([A-za-z]+)[0-9]*$', site['kind']).group(1)\n",
    "        # try:\n",
    "        #     # We define a `spin_type`, since hp.x does not distinguish new types according to spin\n",
    "        #     spin_type = str(int(site['new_type']) * int(site['spin']))\n",
    "        #     kind_name = type_to_kind[spin_type]\n",
    "        # except KeyError:\n",
    "        #     kind_suffix += 1\n",
    "        #     kind_name = f'{symbol}{kind_suffix}'\n",
    "        #     type_to_kind[spin_type] = kind_name\n",
    "        #     if magnetization is not None:\n",
    "        #         # filling 'starting magnetization' with input value but new label;\n",
    "        #         # if does not present a starting value, pass.\n",
    "        #         try:\n",
    "        #             new_magnetization[kind_name] = old_magnetization[site['kind']]\n",
    "        #         except KeyError:\n",
    "        #             pass\n",
    "\n",
    "    # for index, site in enumerate(hubbard_dict['sites']):\n",
    "    #     print(index, site)\n",
    "    #     symbol = re.search(r'^([A-za-z]+)[0-9]*$', site['kind']).group(1)\n",
    "    #     try:\n",
    "    #         # We define a `spin_type`, since hp.x does not distinguish new types according to spin\n",
    "    #         spin_type = str(int(site['new_type']) * int(site['spin']))\n",
    "    #         kind_name = type_to_kind[spin_type]\n",
    "    #     except KeyError:\n",
    "    #         kind_suffix += 1\n",
    "    #         kind_name = f'{symbol}{kind_suffix}'\n",
    "    #         type_to_kind[spin_type] = kind_name\n",
    "    #         if magnetization is not None:\n",
    "    #             # filling 'starting magnetization' with input value but new label;\n",
    "    #             # if does not present a starting value, pass.\n",
    "    #             try:\n",
    "    #                 new_magnetization[kind_name] = old_magnetization[site['kind']]\n",
    "    #             except KeyError:\n",
    "    #                 pass\n",
    "\n",
    "        # loop_site = sites[index]\n",
    "        # relabeled.append_atom(position=loop_site.position, symbols=symbol, name=kind_name)\n",
    "\n",
    "    # # Now add the non-Hubbard sites\n",
    "    # for site in sites[len(relabeled.sites):]:\n",
    "    #     symbols = hubbard_structure.get_kind(site.kind_name).symbols\n",
    "    #     names = hubbard_structure.get_kind(site.kind_name).name\n",
    "    #     relabeled.append_atom(position=site.position, symbols=symbols, name=names)\n",
    "\n",
    "    # outputs = {'hubbard_structure': relabeled}\n",
    "    # if magnetization is not None:\n",
    "    #     outputs.update({'starting_magnetization': Dict(new_magnetization)})\n",
    "\n",
    "    # return outputs\n",
    "\n",
    "# print(hubbard_structure.get_quantum_espresso_hubbard_card())\n",
    "\n",
    "\n",
    "structure_relabel_kinds(\n",
    "    hubbard_structure=hubbard_structure_outside,\n",
    "    hubbard_dict=hubbard_dict_outside,\n",
    "    magnetization=None\n",
    ")"
   ]
  },
  {
   "cell_type": "code",
   "execution_count": 141,
   "id": "d89f4dca",
   "metadata": {},
   "outputs": [],
   "source": [
    "# from pymatgen.core.structure import Structure\n",
    "# from pymatgen.analysis.magnetism.analyzer import CollinearMagneticStructureAnalyzer\n",
    "\n",
    "# # Read this file: http://webbdcrista1.ehu.es/magndata/index.php?index=0.103\n",
    "# bulk_structure = Structure.from_file('0.103.mcif')\n",
    "# magnetic_structure = CollinearMagneticStructureAnalyzer(bulk_structure, make_primitive=False)\n",
    "# aiidastructure = StructureData(pymatgen=magnetic_structure.get_structure_with_spin())\n",
    "# aiidastructure.get_kind_names()"
   ]
  },
  {
   "cell_type": "code",
   "execution_count": 147,
   "id": "18c17fec",
   "metadata": {},
   "outputs": [
    {
     "data": {
      "text/plain": [
       "Symbols('Mn4O16P4Li4')"
      ]
     },
     "execution_count": 147,
     "metadata": {},
     "output_type": "execute_result"
    },
    {
     "ename": "AttributeError",
     "evalue": "'Atoms' object has no attribute 'labels'",
     "output_type": "error",
     "traceback": [
      "\u001b[0;31m---------------------------------------------------------------------------\u001b[0m",
      "\u001b[0;31mAttributeError\u001b[0m                            Traceback (most recent call last)",
      "\u001b[0;32m/tmp/ipykernel_1145104/3162276207.py\u001b[0m in \u001b[0;36m<cell line: 20>\u001b[0;34m()\u001b[0m\n\u001b[1;32m     18\u001b[0m \u001b[0;34m\u001b[0m\u001b[0m\n\u001b[1;32m     19\u001b[0m \u001b[0mmn_olivine_ase_ordered\u001b[0m\u001b[0;34m.\u001b[0m\u001b[0msymbols\u001b[0m\u001b[0;34m\u001b[0m\u001b[0;34m\u001b[0m\u001b[0m\n\u001b[0;32m---> 20\u001b[0;31m \u001b[0mmn_olivine_ase_ordered\u001b[0m\u001b[0;34m.\u001b[0m\u001b[0mlabels\u001b[0m\u001b[0;34m\u001b[0m\u001b[0;34m\u001b[0m\u001b[0m\n\u001b[0m\u001b[1;32m     21\u001b[0m \u001b[0mmn_olivine_ase_ordered\u001b[0m\u001b[0;34m.\u001b[0m\u001b[0mkinds\u001b[0m\u001b[0;34m\u001b[0m\u001b[0;34m\u001b[0m\u001b[0m\n",
      "\u001b[0;31mAttributeError\u001b[0m: 'Atoms' object has no attribute 'labels'"
     ]
    }
   ],
   "source": [
    "from copy import deepcopy\n",
    "from pymatgen.io.ase import AseAtomsAdaptor\n",
    "\n",
    "fully_lithiated_df = pd.read_pickle(os.path.join(project_dir, 'data', 'fully_lithiated_df.pkl'))\n",
    "# fully_lithiated_df['chem_formula'].values\n",
    "mn_olivine_ase = fully_lithiated_df['ase_in'].values[2]\n",
    "\n",
    "sorting_dict = {\n",
    "    'Mn': 0,\n",
    "    'O': 1,\n",
    "    'P': 2,\n",
    "    'Li': 3,\n",
    "}\n",
    "\n",
    "# ! Does not take into account initial magmoms for now\n",
    "mn_olivine_ase_ordered = Atoms(sorted(mn_olivine_ase, key=lambda x: sorting_dict[x.symbol]))\n",
    "mn_olivine_ase_ordered.set_cell(mn_olivine_ase.get_cell())\n",
    "\n",
    "mn_olivine_ase_ordered.symbols\n",
    "mn_olivine_ase_ordered.labels\n",
    "mn_olivine_ase_ordered.kinds\n"
   ]
  },
  {
   "cell_type": "code",
   "execution_count": 194,
   "id": "0c8a1edb",
   "metadata": {},
   "outputs": [
    {
     "data": {
      "text/plain": [
       "['Mn', 'O', 'P', 'Li']"
      ]
     },
     "execution_count": 194,
     "metadata": {},
     "output_type": "execute_result"
    },
    {
     "ename": "ValueError",
     "evalue": "Error using the Kind object. Are you sure it is a Kind object? [Introspection says it is <class 'str'>]",
     "output_type": "error",
     "traceback": [
      "\u001b[0;31m---------------------------------------------------------------------------\u001b[0m",
      "\u001b[0;31mAttributeError\u001b[0m                            Traceback (most recent call last)",
      "\u001b[0;32m~/projects/bat_uv_ml/code/env-bat_uv_ml/lib/python3.8/site-packages/aiida/orm/nodes/data/structure.py\u001b[0m in \u001b[0;36m__init__\u001b[0;34m(self, **kwargs)\u001b[0m\n\u001b[1;32m   1957\u001b[0m             \u001b[0;32mtry\u001b[0m\u001b[0;34m:\u001b[0m\u001b[0;34m\u001b[0m\u001b[0;34m\u001b[0m\u001b[0m\n\u001b[0;32m-> 1958\u001b[0;31m                 \u001b[0mself\u001b[0m\u001b[0;34m.\u001b[0m\u001b[0mset_symbols_and_weights\u001b[0m\u001b[0;34m(\u001b[0m\u001b[0moldkind\u001b[0m\u001b[0;34m.\u001b[0m\u001b[0msymbols\u001b[0m\u001b[0;34m,\u001b[0m \u001b[0moldkind\u001b[0m\u001b[0;34m.\u001b[0m\u001b[0mweights\u001b[0m\u001b[0;34m)\u001b[0m\u001b[0;34m\u001b[0m\u001b[0;34m\u001b[0m\u001b[0m\n\u001b[0m\u001b[1;32m   1959\u001b[0m                 \u001b[0mself\u001b[0m\u001b[0;34m.\u001b[0m\u001b[0mmass\u001b[0m \u001b[0;34m=\u001b[0m \u001b[0moldkind\u001b[0m\u001b[0;34m.\u001b[0m\u001b[0mmass\u001b[0m\u001b[0;34m\u001b[0m\u001b[0;34m\u001b[0m\u001b[0m\n",
      "\u001b[0;31mAttributeError\u001b[0m: 'str' object has no attribute 'symbols'",
      "\nDuring handling of the above exception, another exception occurred:\n",
      "\u001b[0;31mValueError\u001b[0m                                Traceback (most recent call last)",
      "\u001b[0;32m/tmp/ipykernel_1145104/2456022079.py\u001b[0m in \u001b[0;36m<cell line: 13>\u001b[0;34m()\u001b[0m\n\u001b[1;32m     11\u001b[0m \u001b[0;34m\u001b[0m\u001b[0m\n\u001b[1;32m     12\u001b[0m \u001b[0mnew_devel_structuredata\u001b[0m \u001b[0;34m=\u001b[0m \u001b[0mStructureData\u001b[0m\u001b[0;34m(\u001b[0m\u001b[0;34m)\u001b[0m\u001b[0;34m\u001b[0m\u001b[0;34m\u001b[0m\u001b[0m\n\u001b[0;32m---> 13\u001b[0;31m \u001b[0mnew_devel_structuredata\u001b[0m\u001b[0;34m.\u001b[0m\u001b[0mappend_kind\u001b[0m\u001b[0;34m(\u001b[0m\u001b[0;34m'Mn1'\u001b[0m\u001b[0;34m)\u001b[0m\u001b[0;34m\u001b[0m\u001b[0;34m\u001b[0m\u001b[0m\n\u001b[0m\u001b[1;32m     14\u001b[0m \u001b[0;34m\u001b[0m\u001b[0m\n\u001b[1;32m     15\u001b[0m \u001b[0;31m# ! Trying to append special Mn1 and Mn2 labels in ase.Atoms\u001b[0m\u001b[0;34m\u001b[0m\u001b[0;34m\u001b[0m\u001b[0;34m\u001b[0m\u001b[0m\n",
      "\u001b[0;32m~/projects/bat_uv_ml/code/env-bat_uv_ml/lib/python3.8/site-packages/aiida/orm/nodes/data/structure.py\u001b[0m in \u001b[0;36mappend_kind\u001b[0;34m(self, kind)\u001b[0m\n\u001b[1;32m   1300\u001b[0m             \u001b[0;32mraise\u001b[0m \u001b[0mModificationNotAllowed\u001b[0m\u001b[0;34m(\u001b[0m\u001b[0;34m'The StructureData object cannot be modified, it has already been stored'\u001b[0m\u001b[0;34m)\u001b[0m\u001b[0;34m\u001b[0m\u001b[0;34m\u001b[0m\u001b[0m\n\u001b[1;32m   1301\u001b[0m \u001b[0;34m\u001b[0m\u001b[0m\n\u001b[0;32m-> 1302\u001b[0;31m         \u001b[0mnew_kind\u001b[0m \u001b[0;34m=\u001b[0m \u001b[0mKind\u001b[0m\u001b[0;34m(\u001b[0m\u001b[0mkind\u001b[0m\u001b[0;34m=\u001b[0m\u001b[0mkind\u001b[0m\u001b[0;34m)\u001b[0m  \u001b[0;31m# So we make a copy\u001b[0m\u001b[0;34m\u001b[0m\u001b[0;34m\u001b[0m\u001b[0m\n\u001b[0m\u001b[1;32m   1303\u001b[0m \u001b[0;34m\u001b[0m\u001b[0m\n\u001b[1;32m   1304\u001b[0m         \u001b[0;32mif\u001b[0m \u001b[0mkind\u001b[0m\u001b[0;34m.\u001b[0m\u001b[0mname\u001b[0m \u001b[0;32min\u001b[0m \u001b[0;34m[\u001b[0m\u001b[0mk\u001b[0m\u001b[0;34m.\u001b[0m\u001b[0mname\u001b[0m \u001b[0;32mfor\u001b[0m \u001b[0mk\u001b[0m \u001b[0;32min\u001b[0m \u001b[0mself\u001b[0m\u001b[0;34m.\u001b[0m\u001b[0mkinds\u001b[0m\u001b[0;34m]\u001b[0m\u001b[0;34m:\u001b[0m\u001b[0;34m\u001b[0m\u001b[0;34m\u001b[0m\u001b[0m\n",
      "\u001b[0;32m~/projects/bat_uv_ml/code/env-bat_uv_ml/lib/python3.8/site-packages/aiida/orm/nodes/data/structure.py\u001b[0m in \u001b[0;36m__init__\u001b[0;34m(self, **kwargs)\u001b[0m\n\u001b[1;32m   1961\u001b[0m                 \u001b[0mself\u001b[0m\u001b[0;34m.\u001b[0m\u001b[0m_internal_tag\u001b[0m \u001b[0;34m=\u001b[0m \u001b[0moldkind\u001b[0m\u001b[0;34m.\u001b[0m\u001b[0m_internal_tag\u001b[0m\u001b[0;34m\u001b[0m\u001b[0;34m\u001b[0m\u001b[0m\n\u001b[1;32m   1962\u001b[0m             \u001b[0;32mexcept\u001b[0m \u001b[0mAttributeError\u001b[0m\u001b[0;34m:\u001b[0m\u001b[0;34m\u001b[0m\u001b[0;34m\u001b[0m\u001b[0m\n\u001b[0;32m-> 1963\u001b[0;31m                 raise ValueError(\n\u001b[0m\u001b[1;32m   1964\u001b[0m                     \u001b[0;34m'Error using the Kind object. Are you sure '\u001b[0m\u001b[0;34m\u001b[0m\u001b[0;34m\u001b[0m\u001b[0m\n\u001b[1;32m   1965\u001b[0m                     \u001b[0;34m'it is a Kind object? [Introspection says it is '\u001b[0m\u001b[0;34m\u001b[0m\u001b[0;34m\u001b[0m\u001b[0m\n",
      "\u001b[0;31mValueError\u001b[0m: Error using the Kind object. Are you sure it is a Kind object? [Introspection says it is <class 'str'>]"
     ]
    }
   ],
   "source": [
    "\n",
    "# ? Replace Mn with Mn1 and Mn2 as ase or as pmg\n",
    "\n",
    "# mn_olivine_pmg = AseAtomsAdaptor.get_structure(mn_olivine_ase_ordered)\n",
    "# mn_olivine_structuredata = StructureData(pymatgen=mn_olivine_pmg)\n",
    "\n",
    "devel_structuredata = StructureData(ase=mn_olivine_ase_ordered)\n",
    "devel_pmg = devel_structuredata.get_pymatgen()\n",
    "devel_ase = devel_structuredata.get_ase()\n",
    "\n",
    "devel_structuredata.get_kind_names()\n",
    "\n",
    "new_devel_structuredata = StructureData()\n",
    "new_devel_structuredata.append_kind('Mn1')\n",
    "\n",
    "# ! Trying to append special Mn1 and Mn2 labels in ase.Atoms\n",
    "\n",
    "# ! Trying to append special Mn1 and Mn2 labels in pmg.Structure\n",
    "\n",
    "# ! Trying to append special Mn1 and Mn2 labels in the structuredata\n",
    "for isite, site in enumerate(devel_structuredata.sites):\n",
    "    temp_site = deepcopy(site)\n",
    "    if isite in (0, 2):\n",
    "        temp_site.kind_name = 'Mn1'\n",
    "    elif isite in (1, 3):\n",
    "        temp_site.kind_name = 'Mn2'\n",
    "    new_devel_structuredata.append_site(temp_site)\n",
    "\n",
    "\n",
    "print(devel_structuredata.kinds)\n",
    "print(devel_structuredata.sites)\n",
    "print(devel_structuredata.get_site_kindnames())\n",
    "\n",
    "\n",
    "# mn_olivine_pmg.replace(0, 'Mn1')\n",
    "# mn_olivine_pmg.replace(1, 'Mn2')\n",
    "# mn_olivine_pmg.replace(2, 'Mn1')\n",
    "# mn_olivine_pmg.replace(3, 'Mn2')\n",
    "# print(mn_olivine_pmg.formula)\n",
    "\n",
    "# Add magnetization to pmg Structure\n",
    "# mn_olivine_pmg.add_site_property(\"magmom\", [0.5, 0.5, -0.5, -0.5]+[0]*(mn_olivine_pmg.num_sites-4))\n",
    "\n",
    "\n",
    "# print(mn_olivine_pmg)\n",
    "\n",
    "# hubbard_data_inv = HubbardStructureData(structure=mn_olivine_aiida)\n",
    "# hubbard_data_inv.initialize_onsites_hubbard('Mn', '3d', 4.5618)\n",
    "# hubbard_data_inv.hubbard_parameters\n",
    "# hubbard_data_inv.initialize_intersites_hubbard('Mn', '3d', 'O', '2p', 0.0001, number_of_neighbours=7) \n"
   ]
  },
  {
   "cell_type": "code",
   "execution_count": null,
   "id": "8fe31fe0",
   "metadata": {},
   "outputs": [],
   "source": [
    "\n",
    "afm_builder = SelfConsistentHubbardWorkChain.get_builder_from_protocol(\n",
    "    pw_code=pw_code,\n",
    "    hp_code=hp_code,\n",
    "    hubbard_structure=hubbard_structure,\n",
    "    protocol='moderate',\n",
    "    overrides=Path(os.path.join('..', 'yaml_files', 'basically_empty_overrides.yaml')),\n",
    "    spin_type=SpinType.COLLINEAR,\n",
    ")\n",
    "\n",
    "_ = afm_builder.pop(\"relax\", None)\n",
    "\n",
    "# print(type(afm_builder.scf.pw.parameters))\n",
    "\n",
    "mag_dict = {\n",
    "    \"starting_magnetization\": {\n",
    "        \"Mn\": 0.5,\n",
    "        \"O\": 0.1,\n",
    "        \"P\": 0.1,\n",
    "        \"Li\": 0.1,\n",
    "    }\n",
    "}\n",
    "\n",
    "afm_builder.scf.pw.parameters[\"SYSTEM\"] = mag_dict\n",
    "# print(afm_builder.scf.pw.parameters[\"SYSTEM\"])\n",
    "\n",
    "scf_dict = afm_builder.scf.pw.parameters.get_dict()\n",
    "hubbard_dict = afm_builder.hubbard.hp.parameters.get_dict()\n",
    "\n",
    "print(json.dumps(scf_dict, sort_keys=False, indent=4))\n",
    "print(json.dumps(hubbard_dict, sort_keys=False, indent=4))\n",
    "\n",
    "# afm_magn_builder = submit(afm_magn_builder)\n",
    "# only_force_thr_submit_pk = afm_magn_builder.pk\n",
    "# print(only_force_thr_submit_pk)\n",
    "# only_force_thr_submit_pk = 4376\n",
    "# !verdi process report 4376\n"
   ]
  },
  {
   "cell_type": "code",
   "execution_count": null,
   "id": "af22adea",
   "metadata": {},
   "outputs": [],
   "source": []
  },
  {
   "cell_type": "code",
   "execution_count": null,
   "id": "313fd2d3",
   "metadata": {},
   "outputs": [],
   "source": [
    "hpworkchain_node = load_node(4560)\n",
    "direct_hubbard = load_node(4655)\n",
    "print(hpworkchain_node.outputs.hubbard_structure)\n",
    "\n",
    "\n",
    "# print(type(hubbard_dict_node))\n"
   ]
  },
  {
   "cell_type": "markdown",
   "id": "6837133d",
   "metadata": {},
   "source": [
    "***\n",
    "## Copied from Marnik's notebook"
   ]
  },
  {
   "cell_type": "markdown",
   "id": "6ab416de",
   "metadata": {},
   "source": [
    "## HubbardStructureData initialization\n",
    "Let's initialize the HubbardStructureData with the olivine structure!"
   ]
  },
  {
   "cell_type": "code",
   "execution_count": null,
   "id": "2d38ceb8",
   "metadata": {},
   "outputs": [],
   "source": [
    "hubbard_data_inv = HubbardStructureData(structure=mn_olivine_aiida)"
   ]
  },
  {
   "cell_type": "code",
   "execution_count": null,
   "id": "95ee95c8",
   "metadata": {},
   "outputs": [],
   "source": [
    "# hubbard_data.reorder_atoms()"
   ]
  },
  {
   "cell_type": "markdown",
   "id": "7dbcdb2e",
   "metadata": {},
   "source": [
    "## Initializing the on-site Hubbard\n",
    "Let's initialize the on-site Hubbard parameter for the titanium atom."
   ]
  },
  {
   "cell_type": "code",
   "execution_count": null,
   "id": "df561ad7",
   "metadata": {},
   "outputs": [],
   "source": [
    "# Taken from parameters.in of:\n",
    "# /home/jgeiger/projects/bat_uv_ml/data/olivine_iurii/LixMnPO4/Li1.00/DFT_plus_UV/9_PDOS/LMPO.scf.1.in\n",
    "hubbard_data_inv.initialize_onsites_hubbard('Mn', '3d', 4.5618)"
   ]
  },
  {
   "cell_type": "markdown",
   "id": "9ab4b486",
   "metadata": {},
   "source": [
    "Here how it is stored in the class."
   ]
  },
  {
   "cell_type": "code",
   "execution_count": null,
   "id": "634b7195",
   "metadata": {},
   "outputs": [],
   "source": [
    "hubbard_data_inv.hubbard_parameters"
   ]
  },
  {
   "cell_type": "markdown",
   "id": "9567c879",
   "metadata": {},
   "source": [
    "## Initializing the inter-site Hubbard\n",
    "Let's initialize the inter-site Hubbard parameter for the titanium and oxygen atoms."
   ]
  },
  {
   "cell_type": "code",
   "execution_count": null,
   "id": "236512bf",
   "metadata": {},
   "outputs": [],
   "source": [
    "hubbard_data_inv.initialize_intersites_hubbard('Mn', '3d', 'O', '2p', 0.0001, number_of_neighbours=7) \n",
    "# ! Ti has 6 oxygen neighbors in BaTiO3. Similarly, Mn has 6 oxygen neighbors in LMPO (olivine). So, we need to use N+1 in the call to initialize_intersites_hubbard, as the value is used for list slicing, like [:number_of_neighbours], which is exclusive of the last index."
   ]
  },
  {
   "cell_type": "markdown",
   "id": "6c6d422f",
   "metadata": {},
   "source": [
    "The parameters are saved in the property `hubbard_parameters` as a list."
   ]
  },
  {
   "cell_type": "code",
   "execution_count": null,
   "id": "c11303ab",
   "metadata": {},
   "outputs": [],
   "source": [
    "hubbard_data_inv.hubbard_parameters"
   ]
  },
  {
   "cell_type": "code",
   "execution_count": null,
   "id": "8d3ca555",
   "metadata": {},
   "outputs": [],
   "source": [
    "print(hubbard_data_inv.get_quantum_espresso_hubbard_card())\n",
    "print(hubbard_data_inv.get_quantum_espresso_hubbard_parameters())"
   ]
  },
  {
   "cell_type": "code",
   "execution_count": null,
   "id": "532cf8b5",
   "metadata": {},
   "outputs": [],
   "source": [
    "print(type(mn_olivine_aiida))\n",
    "print(mn_olivine_aiida.get_ase().get_chemical_symbols())\n",
    "from aiida.orm.nodes.data.structure import StructureData"
   ]
  },
  {
   "cell_type": "code",
   "execution_count": null,
   "id": "d4a3b0e8",
   "metadata": {},
   "outputs": [],
   "source": [
    "hubbard_data_inv.store()\n",
    "hubbard_data_inv.pk"
   ]
  }
 ],
 "metadata": {
  "kernelspec": {
   "display_name": "env-bat_uv_ml",
   "language": "python",
   "name": "python3"
  },
  "language_info": {
   "codemirror_mode": {
    "name": "ipython",
    "version": 3
   },
   "file_extension": ".py",
   "mimetype": "text/x-python",
   "name": "python",
   "nbconvert_exporter": "python",
   "pygments_lexer": "ipython3",
   "version": "3.8.10"
  },
  "vscode": {
   "interpreter": {
    "hash": "e4b99e4fb7239675e78e08baa36e5541415cefe51d419b717bbcddc9f1c4003f"
   }
  }
 },
 "nbformat": 4,
 "nbformat_minor": 5
}
