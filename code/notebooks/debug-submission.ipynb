{
 "cells": [
  {
   "cell_type": "code",
   "execution_count": 2,
   "id": "6c6ecdf6",
   "metadata": {},
   "outputs": [],
   "source": [
    "from copy import deepcopy\n",
    "\n",
    "from aiida.orm import Bool, Int\n",
    "from IPython.core.interactiveshell import InteractiveShell\n",
    "from pymatgen.io.ase import AseAtomsAdaptor\n",
    "\n",
    "InteractiveShell.ast_node_interactivity = \"all\"\n",
    "\n",
    "import json\n",
    "import os\n",
    "import re\n",
    "from copy import deepcopy\n",
    "from pathlib import Path\n",
    "\n",
    "from aiida import load_profile\n",
    "from aiida.engine import submit\n",
    "from aiida.orm import Bool, Dict, Float, Int, StructureData, load_code, load_node\n",
    "from aiida.orm.nodes.data.structure import Site\n",
    "from aiida.plugins import DataFactory\n",
    "from aiida_quantumespresso.common.types import SpinType\n",
    "from aiida_quantumespresso.data.hubbard_structure import HubbardStructureData\n",
    "from aiida_quantumespresso_hp.workflows.hubbard import SelfConsistentHubbardWorkChain\n",
    "from ase.atoms import Atoms\n",
    "from ase.visualize import view\n",
    "from pyconfsamp.core import change_atom_names\n",
    "\n",
    "load_profile()\n",
    "from pprint import pprint\n",
    "\n",
    "import numpy as np\n",
    "import pandas as pd\n",
    "from project_settings import project_dir\n",
    "from sklearn.metrics import mean_absolute_error as mae"
   ]
  },
  {
   "cell_type": "code",
   "execution_count": 3,
   "id": "7d3d9dd5",
   "metadata": {},
   "outputs": [
    {
     "data": {
      "text/plain": [
       "Symbols('Mn4O16P4Li4')"
      ]
     },
     "execution_count": 3,
     "metadata": {},
     "output_type": "execute_result"
    }
   ],
   "source": [
    "fully_lithiated_df = pd.read_pickle(os.path.join(project_dir, 'data', 'fully_lithiated_df.pkl'))\n",
    "mn_olivine_ase = fully_lithiated_df['ase_in'].values[2]\n",
    "\n",
    "sorting_dict = {\n",
    "    'Mn': 0,\n",
    "    'O': 1,\n",
    "    'P': 2,\n",
    "    'Li': 3,\n",
    "}\n",
    "\n",
    "# ! Does not take into account initial magmoms for now\n",
    "mn_olivine_ase_ordered = Atoms(sorted(mn_olivine_ase, key=lambda x: sorting_dict[x.symbol]))\n",
    "mn_olivine_ase_ordered.set_cell(mn_olivine_ase.get_cell())\n",
    "mn_olivine_ase_ordered.center()\n",
    "mn_olivine_ase_ordered.symbols\n",
    "\n",
    "lmpo_structure_data = StructureData(ase=mn_olivine_ase_ordered)"
   ]
  },
  {
   "cell_type": "code",
   "execution_count": 4,
   "id": "264f73a2",
   "metadata": {},
   "outputs": [
    {
     "name": "stdout",
     "output_type": "stream",
     "text": [
      "HUBBARD\tortho-atomic\n",
      " U\tMn-3d\t4.5618\n",
      " V\tMn-3d\tO-2p\t1\t518\t0.0001\n",
      " V\tMn-3d\tO-2p\t1\t601\t0.0001\n",
      " V\tMn-3d\tO-2p\t1\t373\t0.0001\n",
      " V\tMn-3d\tO-2p\t1\t621\t0.0001\n",
      " V\tMn-3d\tO-2p\t1\t326\t0.0001\n",
      " V\tMn-3d\tO-2p\t1\t17\t0.0001\n",
      " V\tMn-3d\tO-2p\t1\t596\t0.0001\n",
      " V\tMn-3d\tO-2p\t2\t15\t0.0001\n",
      " V\tMn-3d\tO-2p\t2\t324\t0.0001\n",
      " V\tMn-3d\tO-2p\t2\t12\t0.0001\n",
      " V\tMn-3d\tO-2p\t2\t8\t0.0001\n",
      " V\tMn-3d\tO-2p\t2\t19\t0.0001\n",
      " V\tMn-3d\tO-2p\t2\t328\t0.0001\n",
      " V\tMn-3d\tO-2p\t2\t5\t0.0001\n",
      " V\tMn-3d\tO-2p\t3\t18\t0.0001\n",
      " V\tMn-3d\tO-2p\t3\t17\t0.0001\n",
      " V\tMn-3d\tO-2p\t3\t11\t0.0001\n",
      " V\tMn-3d\tO-2p\t3\t371\t0.0001\n",
      " V\tMn-3d\tO-2p\t3\t378\t0.0001\n",
      " V\tMn-3d\tO-2p\t3\t377\t0.0001\n",
      " V\tMn-3d\tO-2p\t3\t6\t0.0001\n",
      " V\tMn-3d\tO-2p\t4\t20\t0.0001\n",
      " V\tMn-3d\tO-2p\t4\t19\t0.0001\n",
      " V\tMn-3d\tO-2p\t4\t626\t0.0001\n",
      " V\tMn-3d\tO-2p\t4\t6\t0.0001\n",
      " V\tMn-3d\tO-2p\t4\t632\t0.0001\n",
      " V\tMn-3d\tO-2p\t4\t631\t0.0001\n",
      " V\tMn-3d\tO-2p\t4\t7\t0.0001\n",
      "\n"
     ]
    }
   ],
   "source": [
    "\n",
    "# ! Currently, for whatever reason, the codes are duplicated\n",
    "# pw_code = load_code('qe-dev-pw@lumi-small')\n",
    "# hp_code = load_code('qe-dev-hp@lumi-small')\n",
    "pw_code = load_code(2182)\n",
    "hp_code = load_code(2183)\n",
    "\n",
    "hubbard_data = load_node(3075)\n",
    "print(hubbard_data.get_quantum_espresso_hubbard_card())"
   ]
  },
  {
   "attachments": {},
   "cell_type": "markdown",
   "id": "3769796c",
   "metadata": {},
   "source": [
    "***\n",
    "## Set up workchain with all of Iurii's settings"
   ]
  },
  {
   "cell_type": "code",
   "execution_count": null,
   "id": "0e656eec",
   "metadata": {},
   "outputs": [],
   "source": [
    "afm_builder = SelfConsistentHubbardWorkChain.get_builder_from_protocol(\n",
    "    pw_code=pw_code,\n",
    "    hp_code=hp_code,\n",
    "    hubbard_structure=hubbard_data,\n",
    "    protocol='moderate',\n",
    "    overrides=Path(os.path.join('..', 'yaml_files', 'olivine_iurii_overrides.yaml')),\n",
    "    spin_type=SpinType.COLLINEAR,\n",
    ")\n",
    "\n",
    "scf_dict = afm_builder.scf.pw.parameters.get_dict()\n",
    "relax_dict = afm_builder.relax.base.pw.parameters.get_dict()\n",
    "hubbard_dict = afm_builder.hubbard.hp.parameters.get_dict()\n",
    "\n",
    "# print(json.dumps(scf_dict, sort_keys=False, indent=4))\n",
    "# print(json.dumps(relax_dict, sort_keys=False, indent=4))\n",
    "# print(json.dumps(hubbard_dict, sort_keys=False, indent=4))"
   ]
  },
  {
   "cell_type": "code",
   "execution_count": null,
   "id": "5b4a9ff8",
   "metadata": {},
   "outputs": [],
   "source": [
    "# proper_olivine_builder = deepcopy(builder)\n",
    "# proper_olivine_submit = submit(proper_olivine_builder)\n",
    "# proper_olivine_submit_pk = proper_olivine_submit.pk\n",
    "proper_olivine_submit_pk = 4282"
   ]
  },
  {
   "cell_type": "code",
   "execution_count": null,
   "id": "77c7df0d",
   "metadata": {},
   "outputs": [],
   "source": [
    "!verdi process status 4282"
   ]
  },
  {
   "attachments": {},
   "cell_type": "markdown",
   "id": "a3c7bd0b",
   "metadata": {},
   "source": [
    "***\n",
    "## Change only force convergence threshold in the optimization to see if `reconstruction problem` persists"
   ]
  },
  {
   "cell_type": "code",
   "execution_count": null,
   "id": "9757646d",
   "metadata": {},
   "outputs": [],
   "source": [
    "only_force_thr_builder = SelfConsistentHubbardWorkChain.get_builder_from_protocol(\n",
    "    pw_code=pw_code,\n",
    "    hp_code=hp_code,\n",
    "    hubbard_structure=hubbard_data,\n",
    "    protocol='moderate',\n",
    "    overrides=Path(os.path.join('..', 'yaml_files', 'only_force_thr.yaml')),\n",
    "    spin_type=SpinType.COLLINEAR,\n",
    ")\n",
    "\n",
    "# only_force_thr_builder = submit(only_force_thr_builder)\n",
    "# only_force_thr_submit_pk = only_force_thr_builder.pk\n",
    "# print(only_force_thr_submit_pk)"
   ]
  },
  {
   "cell_type": "code",
   "execution_count": null,
   "id": "83cac79a",
   "metadata": {},
   "outputs": [],
   "source": [
    "# only_force_thr_submit_pk = 4376\n",
    "!verdi process status 4376"
   ]
  },
  {
   "cell_type": "markdown",
   "id": "a0311e10",
   "metadata": {},
   "source": [
    "***\n",
    "## True single-shot (only scf + hp), with default workchain settings"
   ]
  },
  {
   "cell_type": "code",
   "execution_count": null,
   "id": "29653c6a",
   "metadata": {},
   "outputs": [],
   "source": [
    "true_singleshot_builder = SelfConsistentHubbardWorkChain.get_builder_from_protocol(\n",
    "    pw_code=pw_code,\n",
    "    hp_code=hp_code,\n",
    "    hubbard_structure=hubbard_data,\n",
    "    protocol='moderate',\n",
    "    overrides=Path(os.path.join('..', 'yaml_files', 'basically_empty_overrides.yaml')),\n",
    "    spin_type=SpinType.COLLINEAR,\n",
    ")\n",
    "\n",
    "_ = true_singleshot_builder.pop(\"relax\", None)\n",
    "true_singleshot_builder.meta_convergence = Bool(False)\n",
    "true_singleshot_builder.max_iterations = Int(1)\n",
    "\n",
    "# true_singleshot_submit = submit(true_singleshot_builder)\n",
    "# print(true_singleshot_submit.pk)\n",
    "\n"
   ]
  },
  {
   "cell_type": "code",
   "execution_count": null,
   "id": "736fdc55",
   "metadata": {},
   "outputs": [],
   "source": [
    "true_singleshot_submit_pk = 4774\n",
    "# !verdi process status 4774\n",
    "true_ss_workchain_node = load_node(true_singleshot_submit_pk)\n",
    "print(true_ss_workchain_node.mtime - true_ss_workchain_node.ctime)"
   ]
  },
  {
   "attachments": {},
   "cell_type": "markdown",
   "id": "81f50f29",
   "metadata": {},
   "source": [
    "***\n",
    "## True single-shot with U=0 as starting value"
   ]
  },
  {
   "cell_type": "code",
   "execution_count": 5,
   "id": "319a826b",
   "metadata": {},
   "outputs": [
    {
     "name": "stdout",
     "output_type": "stream",
     "text": [
      "5019\n"
     ]
    }
   ],
   "source": [
    "u0_hubbard_data = HubbardStructureData(lmpo_structure_data)\n",
    "u0_hubbard_data.initialize_onsites_hubbard('Mn', '3d', 0.0)\n",
    "u0_hubbard_data.initialize_intersites_hubbard('Mn', '3d', 'O', '2p', 0.0001, number_of_neighbours=7) \n",
    "# print(u0_hubbard_data.get_quantum_espresso_hubbard_card())\n",
    "\n",
    "true_ss_u0_builder = SelfConsistentHubbardWorkChain.get_builder_from_protocol(\n",
    "    pw_code=pw_code,\n",
    "    hp_code=hp_code,\n",
    "    hubbard_structure=u0_hubbard_data,\n",
    "    protocol='moderate',\n",
    "    overrides=Path(os.path.join('..', 'yaml_files', 'basically_empty_overrides.yaml')),\n",
    "    spin_type=SpinType.COLLINEAR,\n",
    ")\n",
    "\n",
    "_ = true_ss_u0_builder.pop(\"relax\", None)\n",
    "true_ss_u0_builder.meta_convergence = Bool(False)\n",
    "true_ss_u0_builder.max_iterations = Int(1)\n",
    "\n",
    "true_ss_u0_submit = submit(true_ss_u0_builder)\n",
    "print(true_ss_u0_submit.pk)"
   ]
  },
  {
   "cell_type": "code",
   "execution_count": null,
   "id": "ae3757c4",
   "metadata": {},
   "outputs": [],
   "source": [
    "# true_ss_u0_submit_pk = 5019\n",
    "# # !verdi process status 5019\n",
    "# true_ss_workchain_node = load_node(true_ss_u0_submit_pk)\n",
    "# print(true_ss_workchain_node.mtime - true_ss_workchain_node.ctime)"
   ]
  },
  {
   "attachments": {},
   "cell_type": "markdown",
   "id": "8de0d52e",
   "metadata": {},
   "source": [
    "***\n",
    "## Default workchain settings, no relaxation\n"
   ]
  },
  {
   "cell_type": "code",
   "execution_count": null,
   "id": "b03eec09",
   "metadata": {},
   "outputs": [],
   "source": [
    "default_norelax_builder = SelfConsistentHubbardWorkChain.get_builder_from_protocol(\n",
    "    pw_code=pw_code,\n",
    "    hp_code=hp_code,\n",
    "    hubbard_structure=hubbard_data,\n",
    "    protocol='moderate',\n",
    "    overrides=Path(os.path.join('..', 'yaml_files', 'basically_empty_overrides.yaml')),\n",
    "    spin_type=SpinType.COLLINEAR,\n",
    ")\n",
    "\n",
    "# _ = default_norelax_builder.pop(\"relax\", None)\n",
    "# default_norelax_submit = submit(default_norelax_builder)\n",
    "# print(default_norelax_submit.pk)\n"
   ]
  },
  {
   "cell_type": "code",
   "execution_count": null,
   "id": "1d13bdc6",
   "metadata": {},
   "outputs": [],
   "source": [
    "default_norelax_submit_pk = 4512\n",
    "# !verdi process status 4512\n",
    "default_workchain_node = load_node(default_norelax_submit_pk)\n",
    "print(default_workchain_node.mtime - default_workchain_node.ctime)"
   ]
  },
  {
   "cell_type": "markdown",
   "id": "b9dc257c",
   "metadata": {},
   "source": [
    "***\n",
    "## All of Iurii's settings, but no relaxation"
   ]
  },
  {
   "cell_type": "code",
   "execution_count": null,
   "id": "901184a5",
   "metadata": {},
   "outputs": [],
   "source": [
    "iurii_norelax_builder = SelfConsistentHubbardWorkChain.get_builder_from_protocol(\n",
    "    pw_code=pw_code,\n",
    "    hp_code=hp_code,\n",
    "    hubbard_structure=hubbard_data,\n",
    "    protocol='moderate',\n",
    "    overrides=Path(os.path.join('..', 'yaml_files', 'olivine_iurii_overrides.yaml')),\n",
    "    spin_type=SpinType.COLLINEAR,\n",
    ")\n",
    "\n",
    "_ = iurii_norelax_builder.pop(\"relax\", None)\n",
    "# iurii_norelax_builder = submit(iurii_norelax_builder)\n",
    "# print(iurii_norelax_builder.pk)"
   ]
  },
  {
   "cell_type": "code",
   "execution_count": null,
   "id": "e80c9ec6",
   "metadata": {},
   "outputs": [],
   "source": [
    "iurii_norelax_builder_pk = 4486 \n",
    "# !verdi process status 4486\n",
    "iurii_workchain_node = load_node(iurii_norelax_builder_pk)\n",
    "print(iurii_workchain_node.mtime - iurii_workchain_node.ctime)"
   ]
  },
  {
   "attachments": {},
   "cell_type": "markdown",
   "id": "4db41a87",
   "metadata": {},
   "source": [
    "***\n",
    "## Compare results of true SS, workchain defaults, and Iurii's settings"
   ]
  },
  {
   "cell_type": "code",
   "execution_count": null,
   "id": "45827b2d",
   "metadata": {},
   "outputs": [],
   "source": [
    "true_ss_output_hubbard = load_node(4813)\n",
    "default_output_hubbard = load_node(4699)\n",
    "iurii_output_hubbard = load_node(4822)"
   ]
  },
  {
   "cell_type": "code",
   "execution_count": null,
   "id": "3b6f8b87",
   "metadata": {},
   "outputs": [],
   "source": [
    "# type(true_ss_output_hubbard)\n",
    "\n",
    "true_ss_hubbard_array = np.array([el[4] for el in true_ss_output_hubbard.hubbard_parameters])\n",
    "default_hubbard_array = np.array([el[4] for el in default_output_hubbard.hubbard_parameters])\n",
    "iurii_hubbard_array = np.array([el[4] for el in iurii_output_hubbard.hubbard_parameters])\n",
    "\n",
    "pprint(mae(true_ss_hubbard_array, default_hubbard_array))\n",
    "pprint(mae(true_ss_hubbard_array, iurii_hubbard_array))\n",
    "pprint(mae(default_hubbard_array, iurii_hubbard_array))\n",
    "\n",
    "print(true_ss_output_hubbard.get_quantum_espresso_hubbard_card())\n",
    "print(default_output_hubbard.get_quantum_espresso_hubbard_card())\n",
    "print(iurii_output_hubbard.get_quantum_espresso_hubbard_card())\n",
    "\n",
    "pprint(true_ss_hubbard_array)\n",
    "pprint(default_hubbard_array)\n",
    "pprint(iurii_hubbard_array)\n",
    "\n",
    "print(np.abs(true_ss_hubbard_array-iurii_hubbard_array))\n",
    "print(np.abs(default_hubbard_array-iurii_hubbard_array))\n"
   ]
  },
  {
   "cell_type": "code",
   "execution_count": null,
   "id": "0baeb22d",
   "metadata": {},
   "outputs": [],
   "source": [
    "pprint(true_ss_hubbard_array-default_hubbard_array)\n",
    "pprint(default_hubbard_array-iurii_hubbard_array)"
   ]
  },
  {
   "attachments": {},
   "cell_type": "markdown",
   "id": "79a6d190",
   "metadata": {},
   "source": [
    "***\n",
    "## Set proper AFM magnetic ordering\n",
    "### Reorder the structure such that Hubbard atoms come first (required by `hp.x`)"
   ]
  },
  {
   "attachments": {},
   "cell_type": "markdown",
   "id": "5689fe44",
   "metadata": {},
   "source": [
    "*** \n",
    "### Make Mn atoms distinct for providing initial AFM ordering"
   ]
  },
  {
   "cell_type": "code",
   "execution_count": 60,
   "id": "5db85d69",
   "metadata": {},
   "outputs": [
    {
     "data": {
      "text/plain": [
       "{'P': 4, 'O': 16, 'Mn': 4, 'Li': 4}"
      ]
     },
     "execution_count": 60,
     "metadata": {},
     "output_type": "execute_result"
    },
    {
     "data": {
      "text/plain": [
       "['Mn1', 'Mn2', 'O', 'P', 'Li']"
      ]
     },
     "execution_count": 60,
     "metadata": {},
     "output_type": "execute_result"
    }
   ],
   "source": [
    "relabel_dict = {\n",
    "    0: \"Mn1\",\n",
    "    1: \"Mn1\",\n",
    "    2: \"Mn2\",\n",
    "    3: \"Mn2\",\n",
    "}\n",
    "\n",
    "afm_structure_data = change_atom_names(\n",
    "    structure_data=lmpo_structure_data, relabel_dict=relabel_dict\n",
    ")\n",
    "afm_structure_data.get_composition()\n",
    "afm_structure_data.get_kind_names()"
   ]
  },
  {
   "cell_type": "code",
   "execution_count": 66,
   "id": "a63f2b5c",
   "metadata": {},
   "outputs": [],
   "source": [
    "# Set the initial U and V values for the distinct Mn1 and Mn2 sites\n",
    "afm_hubbard_data = HubbardStructureData(structure=afm_structure_data)\n",
    "# /home/jgeiger/projects/bat_uv_ml/data/olivine_iurii/LixMnPO4/Li1.00/DFT_plus_UV/9_PDOS/LMPO.scf.1.in\n",
    "afm_hubbard_data.initialize_onsites_hubbard('Mn1', '3d', 4.5618)\n",
    "afm_hubbard_data.initialize_onsites_hubbard('Mn2', '3d', 4.5618)\n",
    "afm_hubbard_data.initialize_intersites_hubbard('Mn1', '3d', 'O', '2p', 0.0001, number_of_neighbours=7) \n",
    "afm_hubbard_data.initialize_intersites_hubbard('Mn2', '3d', 'O', '2p', 0.0001, number_of_neighbours=7) "
   ]
  },
  {
   "cell_type": "code",
   "execution_count": 68,
   "id": "b527606c",
   "metadata": {},
   "outputs": [
    {
     "name": "stdout",
     "output_type": "stream",
     "text": [
      "4899\n"
     ]
    }
   ],
   "source": [
    "afm_ss_builder = SelfConsistentHubbardWorkChain.get_builder_from_protocol(\n",
    "    pw_code=pw_code,\n",
    "    hp_code=hp_code,\n",
    "    hubbard_structure=afm_hubbard_data,\n",
    "    protocol='moderate',\n",
    "    overrides=Path(os.path.join('..', 'yaml_files', 'basically_empty_overrides.yaml')),\n",
    ")\n",
    "\n",
    "_ = afm_ss_builder.pop(\"relax\", None)\n",
    "afm_ss_builder.meta_convergence = Bool(False)\n",
    "afm_ss_builder.max_iterations = Int(1)\n",
    "\n",
    "mag_dict = {\n",
    "    \"starting_magnetization\": {\n",
    "        \"Mn1\": 0.5,\n",
    "        \"Mn2\": -0.5,\n",
    "        \"O\": 0.0,\n",
    "        \"P\": 0.0,\n",
    "        \"Li\": 0.0,\n",
    "    },\n",
    "    \"nspin\": 2,\n",
    "}\n",
    "\n",
    "afm_ss_builder.scf.pw.parameters[\"SYSTEM\"] = mag_dict\n",
    "\n",
    "afm_ss_submit = submit(afm_ss_builder)\n",
    "print(afm_ss_submit.pk)"
   ]
  },
  {
   "cell_type": "code",
   "execution_count": null,
   "id": "883b4237",
   "metadata": {},
   "outputs": [],
   "source": [
    "afm_ss_submit_pk = 4899\n",
    "# !verdi process status 4899\n",
    "# afm_ss_workchain_node = load_node(afm_ss_submit_pk)\n",
    "# print(afm_ss_workchain_node.mtime - afm_ss_workchain_node.ctime)"
   ]
  }
 ],
 "metadata": {
  "kernelspec": {
   "display_name": "env-bat_uv_ml",
   "language": "python",
   "name": "python3"
  },
  "language_info": {
   "codemirror_mode": {
    "name": "ipython",
    "version": 3
   },
   "file_extension": ".py",
   "mimetype": "text/x-python",
   "name": "python",
   "nbconvert_exporter": "python",
   "pygments_lexer": "ipython3",
   "version": "3.8.10"
  },
  "vscode": {
   "interpreter": {
    "hash": "e4b99e4fb7239675e78e08baa36e5541415cefe51d419b717bbcddc9f1c4003f"
   }
  }
 },
 "nbformat": 4,
 "nbformat_minor": 5
}
