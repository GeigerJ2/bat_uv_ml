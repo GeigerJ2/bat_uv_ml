{
 "cells": [
  {
   "cell_type": "code",
   "execution_count": 1,
   "id": "6c6ecdf6",
   "metadata": {},
   "outputs": [
    {
     "data": {
      "text/plain": [
       "Profile<uuid='4fe00b7a32994cfca8b6cf43c2d22a53' name='jgeiger'>"
      ]
     },
     "execution_count": 1,
     "metadata": {},
     "output_type": "execute_result"
    }
   ],
   "source": [
    "from IPython.core.interactiveshell import InteractiveShell\n",
    "InteractiveShell.ast_node_interactivity = \"all\"\n",
    "\n",
    "import json\n",
    "from aiida import load_profile\n",
    "from aiida.orm import StructureData, load_code, Float, load_node\n",
    "from aiida_quantumespresso_hp.workflows.hubbard import SelfConsistentHubbardWorkChain\n",
    "from aiida_quantumespresso.data.hubbard_structure import HubbardStructureData\n",
    "from aiida.engine import submit\n",
    "from ase.atoms import Atoms\n",
    "from ase.visualize import view\n",
    "from aiida.plugins import DataFactory \n",
    "from pathlib import Path\n",
    "from aiida_quantumespresso.common.types import SpinType\n",
    "from aiida.orm import Int\n",
    "from copy import deepcopy\n",
    "import os\n",
    "\n",
    "load_profile()"
   ]
  },
  {
   "cell_type": "code",
   "execution_count": 2,
   "id": "264f73a2",
   "metadata": {},
   "outputs": [
    {
     "name": "stdout",
     "output_type": "stream",
     "text": [
      "Atoms(symbols='Mn4O16P4Li4', pbc=True, cell=[[3.4378862545423e-06, 0.0, -4.740084535909], [0.0, -6.0917501186611, 0.0], [-10.474576328827, 0.0, -4.7800040115709e-06]], masses=...)\n",
      "HUBBARD\tortho-atomic\n",
      " U\tMn-3d\t4.5618\n",
      " V\tMn-3d\tO-2p\t1\t518\t0.0001\n",
      " V\tMn-3d\tO-2p\t1\t601\t0.0001\n",
      " V\tMn-3d\tO-2p\t1\t373\t0.0001\n",
      " V\tMn-3d\tO-2p\t1\t621\t0.0001\n",
      " V\tMn-3d\tO-2p\t1\t326\t0.0001\n",
      " V\tMn-3d\tO-2p\t1\t17\t0.0001\n",
      " V\tMn-3d\tO-2p\t1\t596\t0.0001\n",
      " V\tMn-3d\tO-2p\t2\t15\t0.0001\n",
      " V\tMn-3d\tO-2p\t2\t324\t0.0001\n",
      " V\tMn-3d\tO-2p\t2\t12\t0.0001\n",
      " V\tMn-3d\tO-2p\t2\t8\t0.0001\n",
      " V\tMn-3d\tO-2p\t2\t19\t0.0001\n",
      " V\tMn-3d\tO-2p\t2\t328\t0.0001\n",
      " V\tMn-3d\tO-2p\t2\t5\t0.0001\n",
      " V\tMn-3d\tO-2p\t3\t18\t0.0001\n",
      " V\tMn-3d\tO-2p\t3\t17\t0.0001\n",
      " V\tMn-3d\tO-2p\t3\t11\t0.0001\n",
      " V\tMn-3d\tO-2p\t3\t371\t0.0001\n",
      " V\tMn-3d\tO-2p\t3\t378\t0.0001\n",
      " V\tMn-3d\tO-2p\t3\t377\t0.0001\n",
      " V\tMn-3d\tO-2p\t3\t6\t0.0001\n",
      " V\tMn-3d\tO-2p\t4\t20\t0.0001\n",
      " V\tMn-3d\tO-2p\t4\t19\t0.0001\n",
      " V\tMn-3d\tO-2p\t4\t626\t0.0001\n",
      " V\tMn-3d\tO-2p\t4\t6\t0.0001\n",
      " V\tMn-3d\tO-2p\t4\t632\t0.0001\n",
      " V\tMn-3d\tO-2p\t4\t631\t0.0001\n",
      " V\tMn-3d\tO-2p\t4\t7\t0.0001\n",
      "\n"
     ]
    }
   ],
   "source": [
    "\n",
    "# ! Currently, for whatever reason, the codes are duplicated\n",
    "# pw_code = load_code('qe-dev-pw@lumi-small')\n",
    "# hp_code = load_code('qe-dev-hp@lumi-small')\n",
    "pw_code = load_code(2182)\n",
    "hp_code = load_code(2183)\n",
    "\n",
    "hubbard_data = load_node(3075)\n",
    "print(hubbard_data.get_ase())\n",
    "print(hubbard_data.get_quantum_espresso_hubbard_card())"
   ]
  },
  {
   "cell_type": "code",
   "execution_count": 4,
   "id": "0e656eec",
   "metadata": {},
   "outputs": [
    {
     "name": "stdout",
     "output_type": "stream",
     "text": [
      "{\n",
      "    \"CONTROL\": {\n",
      "        \"calculation\": \"scf\",\n",
      "        \"forc_conv_thr\": 0.0001,\n",
      "        \"tprnfor\": true,\n",
      "        \"tstress\": true,\n",
      "        \"etot_conv_thr\": 0.00028000000000000003\n",
      "    },\n",
      "    \"SYSTEM\": {\n",
      "        \"nosym\": false,\n",
      "        \"occupations\": \"smearing\",\n",
      "        \"smearing\": \"cold\",\n",
      "        \"degauss\": 0.01,\n",
      "        \"ecutwfc\": 110,\n",
      "        \"ecutrho\": 1320,\n",
      "        \"starting_magnetization\": {\n",
      "            \"Mn\": 0.3333333333333333,\n",
      "            \"O\": 0.1,\n",
      "            \"P\": 0.1,\n",
      "            \"Li\": 0.1\n",
      "        },\n",
      "        \"nspin\": 2\n",
      "    },\n",
      "    \"ELECTRONS\": {\n",
      "        \"electron_maxstep\": 300,\n",
      "        \"mixing_beta\": 0.4,\n",
      "        \"conv_thr\": 1e-10\n",
      "    }\n",
      "}\n",
      "{\n",
      "    \"CONTROL\": {\n",
      "        \"calculation\": \"vc-relax\",\n",
      "        \"forc_conv_thr\": 5e-05,\n",
      "        \"tprnfor\": true,\n",
      "        \"tstress\": true,\n",
      "        \"nstep\": 200,\n",
      "        \"etot_conv_thr\": 5e-06\n",
      "    },\n",
      "    \"SYSTEM\": {\n",
      "        \"nosym\": false,\n",
      "        \"occupations\": \"smearing\",\n",
      "        \"smearing\": \"cold\",\n",
      "        \"degauss\": 0.01,\n",
      "        \"ecutwfc\": 110,\n",
      "        \"ecutrho\": 1320,\n",
      "        \"starting_magnetization\": {\n",
      "            \"Mn\": 0.3333333333333333,\n",
      "            \"O\": 0.1,\n",
      "            \"P\": 0.1,\n",
      "            \"Li\": 0.1\n",
      "        },\n",
      "        \"nspin\": 2\n",
      "    },\n",
      "    \"ELECTRONS\": {\n",
      "        \"electron_maxstep\": 300,\n",
      "        \"mixing_beta\": 0.4,\n",
      "        \"conv_thr\": 1e-10\n",
      "    },\n",
      "    \"CELL\": {\n",
      "        \"press_conv_thr\": 0.5,\n",
      "        \"cell_dofree\": \"all\"\n",
      "    },\n",
      "    \"IONS\": {\n",
      "        \"trust_radius_ini\": 0.0001,\n",
      "        \"trust_radius_min\": 1e-08,\n",
      "        \"upscale\": 1\n",
      "    }\n",
      "}\n",
      "{\n",
      "    \"INPUTHP\": {\n",
      "        \"conv_thr_chi\": 5e-06\n",
      "    }\n",
      "}\n"
     ]
    }
   ],
   "source": [
    "builder = SelfConsistentHubbardWorkChain.get_builder_from_protocol(\n",
    "    pw_code=pw_code,\n",
    "    hp_code=hp_code,\n",
    "    hubbard_structure=hubbard_data,\n",
    "    protocol='moderate',\n",
    "    overrides=Path(os.path.join('..', 'yaml_files', 'olivine_iurii_overwrites.yaml')),\n",
    "    spin_type=SpinType.COLLINEAR,\n",
    ")\n",
    "\n",
    "scf_dict = builder.scf.pw.parameters.get_dict()\n",
    "relax_dict = builder.relax.base.pw.parameters.get_dict()\n",
    "hubbard_dict = builder.hubbard.hp.parameters.get_dict()\n",
    "\n",
    "print(json.dumps(scf_dict, sort_keys=False, indent=4))\n",
    "print(json.dumps(relax_dict, sort_keys=False, indent=4))\n",
    "print(json.dumps(hubbard_dict, sort_keys=False, indent=4))"
   ]
  },
  {
   "cell_type": "code",
   "execution_count": 6,
   "id": "5b4a9ff8",
   "metadata": {},
   "outputs": [],
   "source": [
    "# proper_olivine_builder = deepcopy(builder)\n",
    "# proper_olivine_submit = submit(proper_olivine_builder)\n",
    "# proper_olivine_submit_pk = proper_olivine_submit.pk\n",
    "proper_olivine_submit_pk = 4282"
   ]
  },
  {
   "cell_type": "code",
   "execution_count": 7,
   "id": "77c7df0d",
   "metadata": {},
   "outputs": [
    {
     "name": "stdout",
     "output_type": "stream",
     "text": [
      "\u001b[22mSelfConsistentHubbardWorkChain<4282> Waiting [1:while_(should_run_iteration)(1:if_(should_run_relax))]\n",
      "    ├── PwBaseWorkChain<4285> Finished [0] [4:results]\n",
      "    │   ├── create_kpoints_from_distance<4286> Finished [0]\n",
      "    │   └── PwCalculation<4290> Finished [0]\n",
      "    ├── PwBaseWorkChain<4297> Finished [0] [4:results]\n",
      "    │   ├── create_kpoints_from_distance<4298> Finished [0]\n",
      "    │   └── PwCalculation<4302> Finished [0]\n",
      "    ├── HpWorkChain<4308> Finished [0] [2:results]\n",
      "    │   └── HpBaseWorkChain<4310> Finished [0] [3:results]\n",
      "    │       └── HpCalculation<4312> Finished [0]\n",
      "    ├── structure_relabel_kinds<4320> Finished [0]\n",
      "    └── PwRelaxWorkChain<4324> Waiting [1:while_(should_run_relax)]\n",
      "        └── PwBaseWorkChain<4327> Waiting [3:while_(should_run_process)(1:run_process)]\n",
      "            ├── create_kpoints_from_distance<4328> Finished [0]\n",
      "            └── PwCalculation<4332> Waiting\u001b[0m\n"
     ]
    }
   ],
   "source": [
    "!verdi process status 4282"
   ]
  }
 ],
 "metadata": {
  "kernelspec": {
   "display_name": "env-bat_uv_ml",
   "language": "python",
   "name": "python3"
  },
  "language_info": {
   "codemirror_mode": {
    "name": "ipython",
    "version": 3
   },
   "file_extension": ".py",
   "mimetype": "text/x-python",
   "name": "python",
   "nbconvert_exporter": "python",
   "pygments_lexer": "ipython3",
   "version": "3.8.10"
  },
  "vscode": {
   "interpreter": {
    "hash": "e4b99e4fb7239675e78e08baa36e5541415cefe51d419b717bbcddc9f1c4003f"
   }
  }
 },
 "nbformat": 4,
 "nbformat_minor": 5
}
