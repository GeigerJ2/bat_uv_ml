{
 "cells": [
  {
   "cell_type": "code",
   "execution_count": 8,
   "id": "0d96feaf-8817-453a-b4d0-560f5f29d33c",
   "metadata": {},
   "outputs": [
    {
     "data": {
      "text/plain": [
       "Profile<uuid='4fe00b7a32994cfca8b6cf43c2d22a53' name='jgeiger'>"
      ]
     },
     "execution_count": 8,
     "metadata": {},
     "output_type": "execute_result"
    }
   ],
   "source": [
    "import pathlib\n",
    "import numpy as np\n",
    "\n",
    "from aiida import orm, load_profile \n",
    "from aiida.engine import submit\n",
    "\n",
    "from qe_tools import CONSTANTS\n",
    "from aiida.plugins import DataFactory\n",
    "\n",
    "from aiida_quantumespresso_hp.workflows.hubbard import SelfConsistentHubbardWorkChain\n",
    "# from aiida_quantumespresso_hp.workflows.hp.parallelize_qpoints import HpParallelizeQpointsWorkChain\n",
    "# from aiida_quantumespresso.data.hubbard_structure import HubbardStructureData\n",
    "\n",
    "load_profile()"
   ]
  },
  {
   "cell_type": "markdown",
   "id": "f53e706b-5f5c-4f85-92aa-45355eb17e89",
   "metadata": {},
   "source": [
    "## Running the `SelfConsistentHubbardWorkChain`"
   ]
  },
  {
   "cell_type": "code",
   "execution_count": 9,
   "id": "d4913612",
   "metadata": {},
   "outputs": [],
   "source": [
    "hubbard_data = orm.load_node(19376)\n",
    "pw_code = orm.load_code(2182)\n",
    "hp_code = orm.load_code(2183)\n",
    "pw_code_local = orm.load_code(34982)\n",
    "hp_code_local = orm.load_code(34983)\n",
    "pw_code_mn4 = orm.load_code(24878)\n",
    "hp_code_mn4 = orm.load_code(24879)\n",
    "pw_code_mn4_2 = orm.load_code(24946)\n",
    "hp_code_mn4_2 = orm.load_code(24947)"
   ]
  },
  {
   "cell_type": "code",
   "execution_count": 11,
   "id": "3e65c68c",
   "metadata": {},
   "outputs": [],
   "source": [
    "scf_hub_builder = SelfConsistentHubbardWorkChain.get_builder_from_protocol(\n",
    "    pw_code=pw_code,\n",
    "    hp_code=hp_code,\n",
    "    hubbard_structure=hubbard_data,\n",
    "    protocol='fast',\n",
    "    # overrides=pathlib.Path(\n",
    "    #     \"/home/jgeiger/projects/bat_uv_ml/code/yaml_files/default_overrides.yaml\"\n",
    "    # )\n",
    ")"
   ]
  },
  {
   "cell_type": "code",
   "execution_count": 4,
   "id": "bc968bdc-0817-49a0-8e89-e14323248b86",
   "metadata": {},
   "outputs": [
    {
     "name": "stdout",
     "output_type": "stream",
     "text": [
      "uuid: 22025aef-a733-4809-8017-672bad8e91f6 (pk: 20041) (aiida.workflows:quantumespresso.hp.hubbard)\n"
     ]
    }
   ],
   "source": [
    "scf_hub_submit_node = submit(scf_hub_builder)\n",
    "print(scf_hub_submit_node)"
   ]
  },
  {
   "cell_type": "code",
   "execution_count": 4,
   "id": "d0cc3b56",
   "metadata": {},
   "outputs": [
    {
     "name": "stdout",
     "output_type": "stream",
     "text": [
      "uuid: d2b5b450-81b0-4a43-9d43-364e54c02883 (pk: 35005) (aiida.workflows:quantumespresso.hp.hubbard)\n"
     ]
    }
   ],
   "source": [
    "scf_hub_builder_local = SelfConsistentHubbardWorkChain.get_builder_from_protocol(\n",
    "    pw_code=pw_code_local,\n",
    "    hp_code=hp_code_local,\n",
    "    hubbard_structure=hubbard_data,\n",
    "    protocol='fast',\n",
    "    overrides=pathlib.Path(\n",
    "        \"/home/jgeiger/projects/bat_uv_ml/code/yaml_files/serial_overrides.yaml\"\n",
    "    )\n",
    ")\n",
    "scf_hub_submit_node_local = submit(scf_hub_builder_local)\n",
    "print(scf_hub_submit_node_local)"
   ]
  },
  {
   "cell_type": "code",
   "execution_count": 15,
   "id": "65f01e2f",
   "metadata": {},
   "outputs": [
    {
     "name": "stdout",
     "output_type": "stream",
     "text": [
      "{'metadata': {}, 'relax': {'metadata': {}, 'base': {'metadata': {}, 'pw': {'metadata': {'options': {'stash': {}, 'resources': {'num_machines': 1}, 'max_wallclock_seconds': 43200, 'withmpi': True}}, 'monitors': {}, 'pseudos': {'Ti': <UpfData: uuid: 48b310f9-22b2-45cf-a2f2-f2ae498eb248 (pk: 5114)>, 'O': <UpfData: uuid: 02962755-2205-4dd4-a10f-5125e3649e54 (pk: 5135)>, 'Ba': <UpfData: uuid: 33ddc066-ec78-4238-8444-446fc446705a (pk: 5132)>}, 'code': <InstalledCode: Remote code 'qe-7.2-pw' on MN4_2 pk: 24946, uuid: 7a7bb2f7-7990-4245-80b1-a5ecd4776e57>, 'parameters': <Dict: uuid: f5582abc-1861-4164-a264-895ed8d60226 (unstored)>, 'settings': <Dict: uuid: 829d6039-d463-404e-9f2e-e6523f7ba74e (unstored)>}, 'kpoints_distance': <Float: uuid: 52b086a5-8198-4b93-8a8f-b04cc4a438a8 (unstored) value: 0.5>, 'kpoints_force_parity': <Bool: uuid: 0e2028bd-e7c0-4759-8270-d4ea458d2ddd (unstored) value: False>}, 'base_final_scf': {'metadata': {}, 'pw': {'metadata': {'options': {'stash': {}}}, 'monitors': {}, 'pseudos': {}}}, 'max_meta_convergence_iterations': <Int: uuid: c77cb263-bf26-4226-aeb3-518891215aeb (unstored) value: 5>, 'meta_convergence': <Bool: uuid: 284682ad-7901-44d8-9565-fbf5840bdc54 (unstored) value: True>, 'volume_convergence': <Float: uuid: d3dfe93b-b112-4d65-b20f-709ca606bbed (unstored) value: 0.05>}, 'scf': {'metadata': {}, 'pw': {'metadata': {'options': {'stash': {}, 'resources': {'num_machines': 1}, 'max_wallclock_seconds': 43200, 'withmpi': True}}, 'monitors': {}, 'pseudos': {'Ti': <UpfData: uuid: 48b310f9-22b2-45cf-a2f2-f2ae498eb248 (pk: 5114)>, 'O': <UpfData: uuid: 02962755-2205-4dd4-a10f-5125e3649e54 (pk: 5135)>, 'Ba': <UpfData: uuid: 33ddc066-ec78-4238-8444-446fc446705a (pk: 5132)>}, 'code': <InstalledCode: Remote code 'qe-7.2-pw' on MN4_2 pk: 24946, uuid: 7a7bb2f7-7990-4245-80b1-a5ecd4776e57>, 'parameters': <Dict: uuid: 0621e36e-2309-4b58-aa01-e6e8489fed3d (unstored)>, 'settings': <Dict: uuid: 08e543a9-334c-4021-8615-1b29daaaf677 (unstored)>}, 'kpoints_distance': <Float: uuid: 077035f6-032c-45f9-865e-77d6a02497c2 (unstored) value: 0.6>, 'kpoints_force_parity': <Bool: uuid: 61d21059-c7aa-4fac-b3e1-b26815625dd1 (unstored) value: False>}, 'hubbard': {'metadata': {}, 'hp': {'metadata': {'options': {'stash': {}, 'resources': {'num_machines': 1}, 'max_wallclock_seconds': 43200, 'withmpi': True}}, 'monitors': {}, 'code': <InstalledCode: Remote code 'qe-7.2-hp' on MN4_2 pk: 24947, uuid: c4d9b3e6-366c-4a02-bdd6-fe165ab20638>, 'parameters': <Dict: uuid: 19d37f4b-d696-49d6-8cf6-439daf88cd00 (unstored)>, 'settings': <Dict: uuid: 5e82d6e5-9de9-4623-906e-fac24d880a4a (unstored)>}, 'qpoints_distance': <Float: uuid: 8291adcb-f004-4248-bd34-82adb7c743d8 (unstored) value: 1.2>, 'parallelize_atoms': <Bool: uuid: f768208b-5ac7-4aa8-9ee7-f857eee811fe (unstored) value: True>, 'parallelize_qpoints': <Bool: uuid: ce8237d3-e93b-44fd-8c37-95d4a4e3af9c (unstored) value: True>}, 'hubbard_structure': <HubbardStructureData: uuid: e1aa6e73-128f-4f53-b384-ec57edc902f2 (pk: 19376)>, 'skip_first_relax': True, 'tolerance_onsite': <Float: uuid: 03c93e4e-ee2c-4e2a-aec4-a7dae4022b90 (unstored) value: 0.1>, 'tolerance_intersite': <Float: uuid: 8c61490f-c4d9-484d-b642-c08c52cfe7e6 (unstored) value: 0.01>, 'meta_convergence': <Bool: uuid: 954b5b9c-6cc0-4262-8240-0bf67efcf939 (unstored) value: True>, 'clean_workdir': <Bool: uuid: c24a1d8c-cd40-42c3-b276-98cd9c9afa3c (unstored) value: False>}\n",
      "uuid: 6c393620-56e1-4238-b9e5-f011bf2b1825 (pk: 25487) (aiida.workflows:quantumespresso.hp.hubbard)\n"
     ]
    }
   ],
   "source": [
    "builder_mn4 = SelfConsistentHubbardWorkChain.get_builder_from_protocol(\n",
    "    pw_code=pw_code_mn4_2,\n",
    "    hp_code=hp_code_mn4_2,\n",
    "    hubbard_structure=hubbard_data,\n",
    "    protocol='fast',\n",
    "    overrides=pathlib.Path(\n",
    "        \"/home/jgeiger/projects/bat_uv_ml/code/yaml_files/default_overrides.yaml\"\n",
    "    )\n",
    ")\n",
    "\n",
    "# resources', {'num_machines': 1, 'num_mpiprocs_per_machine': 1}\n",
    "print(builder_mn4)\n",
    "\n",
    "submit_node_mn4 = submit(builder_mn4)\n",
    "print(submit_node_mn4)"
   ]
  },
  {
   "cell_type": "code",
   "execution_count": 9,
   "id": "57259dfd",
   "metadata": {},
   "outputs": [],
   "source": [
    "sumbit_node_mn4_pk = 24937\n",
    "load_node = orm.load_node(sumbit_node_mn4_pk)"
   ]
  },
  {
   "cell_type": "code",
   "execution_count": 16,
   "id": "a46185ae",
   "metadata": {},
   "outputs": [
    {
     "name": "stdout",
     "output_type": "stream",
     "text": [
      "{'metadata': {}, 'relax': {'metadata': {}, 'base': {'metadata': {}, 'pw': {'metadata': {'options': {'stash': {}, 'resources': {'num_machines': 1}, 'max_wallclock_seconds': 43200, 'withmpi': True}}, 'monitors': {}, 'pseudos': {'Ti': <UpfData: uuid: 48b310f9-22b2-45cf-a2f2-f2ae498eb248 (pk: 5114)>, 'O': <UpfData: uuid: 02962755-2205-4dd4-a10f-5125e3649e54 (pk: 5135)>, 'Ba': <UpfData: uuid: 33ddc066-ec78-4238-8444-446fc446705a (pk: 5132)>}, 'code': <InstalledCode: Remote code 'qe-7.2-pw' on MN4_2 pk: 24946, uuid: 7a7bb2f7-7990-4245-80b1-a5ecd4776e57>, 'parameters': <Dict: uuid: 39ddfb27-3db1-4da7-9ab9-5c3b265e2b68 (unstored)>, 'settings': <Dict: uuid: 9b939090-2d19-4538-b388-a335616dae5b (unstored)>}, 'kpoints_distance': <Float: uuid: ea7346d4-2a3c-4c84-8b13-9b560b02082e (unstored) value: 0.5>, 'kpoints_force_parity': <Bool: uuid: c2f3f60f-a8d2-4637-8dc6-5a738d0962b4 (unstored) value: False>}, 'base_final_scf': {'metadata': {}, 'pw': {'metadata': {'options': {'stash': {}}}, 'monitors': {}, 'pseudos': {}}}, 'max_meta_convergence_iterations': <Int: uuid: b4322831-0ac5-4b89-93cf-24a46e23fae7 (unstored) value: 5>, 'meta_convergence': <Bool: uuid: 399c810f-ac7c-4352-94ff-6c8aa3208521 (unstored) value: True>, 'volume_convergence': <Float: uuid: 3c834d46-4289-4088-858b-f07f2f864350 (unstored) value: 0.05>}, 'scf': {'metadata': {}, 'pw': {'metadata': {'options': {'stash': {}, 'resources': {'num_machines': 1}, 'max_wallclock_seconds': 43200, 'withmpi': True}}, 'monitors': {}, 'pseudos': {'Ti': <UpfData: uuid: 48b310f9-22b2-45cf-a2f2-f2ae498eb248 (pk: 5114)>, 'O': <UpfData: uuid: 02962755-2205-4dd4-a10f-5125e3649e54 (pk: 5135)>, 'Ba': <UpfData: uuid: 33ddc066-ec78-4238-8444-446fc446705a (pk: 5132)>}, 'code': <InstalledCode: Remote code 'qe-7.2-pw' on MN4_2 pk: 24946, uuid: 7a7bb2f7-7990-4245-80b1-a5ecd4776e57>, 'parameters': <Dict: uuid: b84be5dc-fd20-42a4-8f4c-b198b9f2c3ef (unstored)>, 'settings': <Dict: uuid: dd0174c0-0ef3-466c-a42a-d8028ccbf870 (unstored)>}, 'kpoints_distance': <Float: uuid: ec81ce4f-f6b5-45f8-8095-eae601dedecb (unstored) value: 0.6>, 'kpoints_force_parity': <Bool: uuid: f0565d44-9459-4839-9b52-ffa651e08786 (unstored) value: False>}, 'hubbard': {'metadata': {}, 'hp': {'metadata': {'options': {'stash': {}, 'resources': {'num_machines': 1}, 'max_wallclock_seconds': 43200, 'withmpi': True}}, 'monitors': {}, 'code': <InstalledCode: Remote code 'qe-7.2-hp' on MN4_2 pk: 24947, uuid: c4d9b3e6-366c-4a02-bdd6-fe165ab20638>, 'parameters': <Dict: uuid: 1abaf5c5-da59-43c6-8a52-5e1e9f0abade (unstored)>, 'settings': <Dict: uuid: 3c54b875-dff0-4b0d-97dc-91a15e1a7aec (unstored)>}, 'qpoints_distance': <Float: uuid: 5214f119-8f50-40a9-86cf-eb85d5393ceb (unstored) value: 1.2>, 'parallelize_atoms': <Bool: uuid: 71f386f5-83bd-4293-b7fa-e56ec59e12e2 (unstored) value: True>, 'parallelize_qpoints': <Bool: uuid: 1a4a9840-9b67-4d78-8b2e-acb3bea6ed22 (unstored) value: True>}, 'hubbard_structure': <HubbardStructureData: uuid: e1aa6e73-128f-4f53-b384-ec57edc902f2 (pk: 19376)>, 'skip_first_relax': True, 'tolerance_onsite': <Float: uuid: 71552c3b-4a9b-415c-8a19-fa9b71c02257 (unstored) value: 0.1>, 'tolerance_intersite': <Float: uuid: a96d0fae-30de-429d-b6fd-add17f593344 (unstored) value: 0.01>, 'meta_convergence': <Bool: uuid: 8d3e05c9-5d78-47f5-b710-81b8679be08c (unstored) value: True>, 'clean_workdir': <Bool: uuid: 5bbec66a-ac93-434b-a728-9775c00a2306 (unstored) value: False>}\n",
      "uuid: 8177c391-6eb4-4187-9043-0226a7599e04 (pk: 34304) (aiida.workflows:quantumespresso.hp.hubbard)\n"
     ]
    }
   ],
   "source": [
    "builder_mn4_minimal = SelfConsistentHubbardWorkChain.get_builder_from_protocol(\n",
    "    pw_code=pw_code_mn4_2,\n",
    "    hp_code=hp_code_mn4_2,\n",
    "    hubbard_structure=hubbard_data,\n",
    "    protocol='fast',\n",
    "    overrides=pathlib.Path(\n",
    "        \"/home/jgeiger/projects/bat_uv_ml/code/yaml_files/minimal_overrides.yaml\"\n",
    "    )\n",
    ")\n",
    "\n",
    "print(builder_mn4_minimal)\n",
    "\n",
    "submit_node_mn4_minimal = submit(builder_mn4_minimal)\n",
    "print(submit_node_mn4_minimal)"
   ]
  },
  {
   "cell_type": "code",
   "execution_count": 13,
   "id": "d3f0d4fb",
   "metadata": {},
   "outputs": [
    {
     "ename": "ValueError",
     "evalue": "invalid attribute value value 'skip_first_relax' is not of the right type. Got '<class 'aiida.orm.nodes.data.bool.Bool'>', expected '<class 'bool'>'",
     "output_type": "error",
     "traceback": [
      "\u001b[0;31m---------------------------------------------------------------------------\u001b[0m",
      "\u001b[0;31mValueError\u001b[0m                                Traceback (most recent call last)",
      "\u001b[0;32m/tmp/ipykernel_2051312/2820317472.py\u001b[0m in \u001b[0;36m<cell line: 12>\u001b[0;34m()\u001b[0m\n\u001b[1;32m     10\u001b[0m \u001b[0;34m\u001b[0m\u001b[0m\n\u001b[1;32m     11\u001b[0m \u001b[0;34m\u001b[0m\u001b[0m\n\u001b[0;32m---> 12\u001b[0;31m \u001b[0mbuilder_mn4_noqp_parallel\u001b[0m\u001b[0;34m.\u001b[0m\u001b[0mskip_first_relax\u001b[0m \u001b[0;34m=\u001b[0m \u001b[0mDataFactory\u001b[0m\u001b[0;34m(\u001b[0m\u001b[0;34m\"core.bool\"\u001b[0m\u001b[0;34m)\u001b[0m\u001b[0;34m(\u001b[0m\u001b[0;32mFalse\u001b[0m\u001b[0;34m)\u001b[0m\u001b[0;34m\u001b[0m\u001b[0;34m\u001b[0m\u001b[0m\n\u001b[0m\u001b[1;32m     13\u001b[0m \u001b[0;34m\u001b[0m\u001b[0m\n\u001b[1;32m     14\u001b[0m \u001b[0;31m# submit_node_mn4_minimal_noqp = submit(builder_mn4_noqp_parallel)\u001b[0m\u001b[0;34m\u001b[0m\u001b[0;34m\u001b[0m\u001b[0;34m\u001b[0m\u001b[0m\n",
      "\u001b[0;32m~/projects/bat_uv_ml/code/env-bat_uv_ml/lib/python3.8/site-packages/aiida/engine/processes/builder.py\u001b[0m in \u001b[0;36m__setattr__\u001b[0;34m(self, attr, value)\u001b[0m\n\u001b[1;32m    121\u001b[0m                 \u001b[0mvalidation_error\u001b[0m \u001b[0;34m=\u001b[0m \u001b[0mport\u001b[0m\u001b[0;34m.\u001b[0m\u001b[0mvalidate\u001b[0m\u001b[0;34m(\u001b[0m\u001b[0mvalue\u001b[0m\u001b[0;34m)\u001b[0m  \u001b[0;31m# type: ignore[union-attr]\u001b[0m\u001b[0;34m\u001b[0m\u001b[0;34m\u001b[0m\u001b[0m\n\u001b[1;32m    122\u001b[0m                 \u001b[0;32mif\u001b[0m \u001b[0mvalidation_error\u001b[0m\u001b[0;34m:\u001b[0m\u001b[0;34m\u001b[0m\u001b[0;34m\u001b[0m\u001b[0m\n\u001b[0;32m--> 123\u001b[0;31m                     \u001b[0;32mraise\u001b[0m \u001b[0mValueError\u001b[0m\u001b[0;34m(\u001b[0m\u001b[0;34mf'invalid attribute value {validation_error.message}'\u001b[0m\u001b[0;34m)\u001b[0m\u001b[0;34m\u001b[0m\u001b[0;34m\u001b[0m\u001b[0m\n\u001b[0m\u001b[1;32m    124\u001b[0m \u001b[0;34m\u001b[0m\u001b[0m\n\u001b[1;32m    125\u001b[0m             \u001b[0;31m# If the attribute that is being set corresponds to a port that is a ``PortNamespace`` we need to make sure\u001b[0m\u001b[0;34m\u001b[0m\u001b[0;34m\u001b[0m\u001b[0;34m\u001b[0m\u001b[0m\n",
      "\u001b[0;31mValueError\u001b[0m: invalid attribute value value 'skip_first_relax' is not of the right type. Got '<class 'aiida.orm.nodes.data.bool.Bool'>', expected '<class 'bool'>'"
     ]
    }
   ],
   "source": [
    "builder_mn4_noqp_parallel = SelfConsistentHubbardWorkChain.get_builder_from_protocol(\n",
    "    pw_code=pw_code_mn4_2,\n",
    "    hp_code=hp_code_mn4_2,\n",
    "    hubbard_structure=hubbard_data,\n",
    "    protocol='fast',\n",
    "    overrides=pathlib.Path(\n",
    "        \"/home/jgeiger/projects/bat_uv_ml/code/yaml_files/minimal_overrides.yaml\"\n",
    "    )\n",
    ")\n",
    "\n",
    "\n",
    "submit_node_mn4_minimal_noqp = submit(builder_mn4_noqp_parallel)\n",
    "print(submit_node_mn4_minimal_noqp)"
   ]
  },
  {
   "cell_type": "code",
   "execution_count": 14,
   "id": "ab06099a",
   "metadata": {},
   "outputs": [
    {
     "name": "stdout",
     "output_type": "stream",
     "text": [
      "uuid: 338353a2-6041-40c5-a9b3-a24399dbb6cf (pk: 35505) (aiida.workflows:quantumespresso.hp.hubbard)\n"
     ]
    }
   ],
   "source": [
    "builder_mn4_noqp_emax = SelfConsistentHubbardWorkChain.get_builder_from_protocol(\n",
    "    pw_code=pw_code_mn4_2,\n",
    "    hp_code=hp_code_mn4_2,\n",
    "    hubbard_structure=hubbard_data,\n",
    "    protocol='fast',\n",
    "    overrides=pathlib.Path(\n",
    "        \"/home/jgeiger/projects/bat_uv_ml/code/yaml_files/minimal_overrides.yaml\"\n",
    "    )\n",
    ")\n",
    "\n",
    "submit_node_mn4_minimal_emax = submit(builder_mn4_noqp_emax)\n",
    "print(submit_node_mn4_minimal_emax)"
   ]
  },
  {
   "cell_type": "code",
   "execution_count": 28,
   "id": "dc9692f5",
   "metadata": {},
   "outputs": [],
   "source": [
    "builder_mn4_actual_noqp = SelfConsistentHubbardWorkChain.get_builder_from_protocol(\n",
    "    pw_code=pw_code_mn4_2,\n",
    "    hp_code=hp_code_mn4_2,\n",
    "    hubbard_structure=hubbard_data,\n",
    "    protocol='fast',\n",
    "    overrides=pathlib.Path(\n",
    "        \"/home/jgeiger/projects/bat_uv_ml/code/yaml_files/minimal_overrides.yaml\"\n",
    "    )\n",
    ")\n",
    "\n",
    "# submit_node_mn4_minimal_actual_noqp = submit(builder_mn4_actual_noqp)\n",
    "# print(submit_node_mn4_minimal_actual_noqp)"
   ]
  },
  {
   "cell_type": "code",
   "execution_count": 30,
   "id": "3e3d59be",
   "metadata": {},
   "outputs": [
    {
     "name": "stdout",
     "output_type": "stream",
     "text": [
      "uuid: 7a6f87a7-6119-4bc8-a581-41895c74d98c (pk: 37251) (aiida.workflows:quantumespresso.hp.hubbard)\n"
     ]
    }
   ],
   "source": [
    "builder_mn4_minimal_no_parallel = SelfConsistentHubbardWorkChain.get_builder_from_protocol(\n",
    "    pw_code=pw_code_mn4_2,\n",
    "    hp_code=hp_code_mn4_2,\n",
    "    hubbard_structure=hubbard_data,\n",
    "    protocol='fast',\n",
    "    overrides=pathlib.Path(\n",
    "        \"/home/jgeiger/projects/bat_uv_ml/code/yaml_files/minimal_overrides.yaml\"\n",
    "    )\n",
    ")\n",
    "\n",
    "submit_node_mn4_minimal_no_parallel = submit(builder_mn4_minimal_no_parallel)\n",
    "print(submit_node_mn4_minimal_no_parallel)"
   ]
  },
  {
   "cell_type": "code",
   "execution_count": 29,
   "id": "bfc0fc0d",
   "metadata": {},
   "outputs": [
    {
     "name": "stdout",
     "output_type": "stream",
     "text": [
      "['_data',\n",
      " '_port_namespace',\n",
      " '_process_class',\n",
      " '_process_spec',\n",
      " '_valid_fields',\n",
      " 'clean_workdir',\n",
      " 'hubbard',\n",
      " 'hubbard_structure',\n",
      " 'max_iterations',\n",
      " 'meta_convergence',\n",
      " 'metadata',\n",
      " 'relax',\n",
      " 'scf',\n",
      " 'skip_first_relax',\n",
      " 'tolerance_intersite',\n",
      " 'tolerance_onsite']\n"
     ]
    }
   ],
   "source": [
    "# builder_mn4_actual_noqp.clean_workdir = DataFactory('core.bool')(False)\n",
    "# builder_mn4_actual_noqp.meta_convergence = DataFactory('core.bool')(False)\n",
    "# builder_mn4_actual_noqp.tolerance_onsite = DataFactory('core.float')(0.1)\n",
    "# builder_mn4_actual_noqp.tolerance_intersite = DataFactory('core.float')(0.001)\n",
    "# builder_mn4_actual_noqp.skip_first_relax = DataFactory('core.bool')(False)\n",
    "# builder_mn4_actual_noqp.parallelize_qpoints = DataFactory('core.bool')(False)\n",
    "# builder_mn4_actual_noqp.parallelize_atoms = DataFactory('core.bool')(False)\n",
    "\n",
    "from pprint import pprint\n",
    "pprint(dir(builder_mn4_actual_noqp))"
   ]
  }
 ],
 "metadata": {
  "kernelspec": {
   "display_name": "env-bat_uv_ml",
   "language": "python",
   "name": "python3"
  },
  "language_info": {
   "codemirror_mode": {
    "name": "ipython",
    "version": 3
   },
   "file_extension": ".py",
   "mimetype": "text/x-python",
   "name": "python",
   "nbconvert_exporter": "python",
   "pygments_lexer": "ipython3",
   "version": "3.8.10"
  },
  "vscode": {
   "interpreter": {
    "hash": "e4b99e4fb7239675e78e08baa36e5541415cefe51d419b717bbcddc9f1c4003f"
   }
  }
 },
 "nbformat": 4,
 "nbformat_minor": 5
}
