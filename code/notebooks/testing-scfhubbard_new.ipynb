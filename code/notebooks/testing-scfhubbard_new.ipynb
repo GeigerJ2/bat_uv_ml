{
 "cells": [
  {
   "cell_type": "code",
   "execution_count": 1,
   "id": "0d96feaf-8817-453a-b4d0-560f5f29d33c",
   "metadata": {},
   "outputs": [
    {
     "data": {
      "text/plain": [
       "Profile<uuid='4fe00b7a32994cfca8b6cf43c2d22a53' name='jgeiger'>"
      ]
     },
     "execution_count": 1,
     "metadata": {},
     "output_type": "execute_result"
    }
   ],
   "source": [
    "import pathlib\n",
    "import numpy as np\n",
    "\n",
    "from aiida import orm, load_profile\n",
    "from aiida.engine import submit\n",
    "\n",
    "from qe_tools import CONSTANTS\n",
    "\n",
    "from aiida_quantumespresso_hp.workflows.hubbard import SelfConsistentHubbardWorkChain\n",
    "# from aiida_quantumespresso_hp.workflows.hp.parallelize_qpoints import HpParallelizeQpointsWorkChain\n",
    "# from aiida_quantumespresso.data.hubbard_structure import HubbardStructureData\n",
    "\n",
    "load_profile()"
   ]
  },
  {
   "cell_type": "markdown",
   "id": "f53e706b-5f5c-4f85-92aa-45355eb17e89",
   "metadata": {},
   "source": [
    "## Running the `SelfConsistentHubbardWorkChain`"
   ]
  },
  {
   "cell_type": "code",
   "execution_count": 2,
   "id": "d4913612",
   "metadata": {},
   "outputs": [],
   "source": [
    "hubbard_data = orm.load_node(19376)\n",
    "pw_code = orm.load_code(2182)\n",
    "hp_code = orm.load_code(2183)\n",
    "pw_code_local = orm.load_code(9145)\n",
    "hp_code_local = orm.load_code(9146)"
   ]
  },
  {
   "cell_type": "code",
   "execution_count": 3,
   "id": "3e65c68c",
   "metadata": {},
   "outputs": [],
   "source": [
    "scf_hub_builder = SelfConsistentHubbardWorkChain.get_builder_from_protocol(\n",
    "    pw_code=pw_code,\n",
    "    hp_code=hp_code,\n",
    "    hubbard_structure=hubbard_data,\n",
    "    protocol='fast',\n",
    "    # overrides=pathlib.Path(\n",
    "    #     \"/home/jgeiger/projects/bat_uv_ml/code/yaml_files/default_overrides.yaml\"\n",
    "    # )\n",
    ")"
   ]
  },
  {
   "cell_type": "code",
   "execution_count": 4,
   "id": "bc968bdc-0817-49a0-8e89-e14323248b86",
   "metadata": {},
   "outputs": [
    {
     "name": "stdout",
     "output_type": "stream",
     "text": [
      "uuid: 5fad2b1d-4849-47ee-88bc-c86b5bb0e553 (pk: 19429) (aiida.workflows:quantumespresso.hp.hubbard)\n"
     ]
    }
   ],
   "source": [
    "scf_hub_submit_node = submit(scf_hub_builder)\n",
    "print(scf_hub_submit_node)"
   ]
  }
 ],
 "metadata": {
  "kernelspec": {
   "display_name": "env-bat_uv_ml",
   "language": "python",
   "name": "python3"
  },
  "language_info": {
   "codemirror_mode": {
    "name": "ipython",
    "version": 3
   },
   "file_extension": ".py",
   "mimetype": "text/x-python",
   "name": "python",
   "nbconvert_exporter": "python",
   "pygments_lexer": "ipython3",
   "version": "3.8.10"
  },
  "vscode": {
   "interpreter": {
    "hash": "e4b99e4fb7239675e78e08baa36e5541415cefe51d419b717bbcddc9f1c4003f"
   }
  }
 },
 "nbformat": 4,
 "nbformat_minor": 5
}
