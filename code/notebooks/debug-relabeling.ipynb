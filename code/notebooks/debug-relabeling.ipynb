{
 "cells": [
  {
   "cell_type": "code",
   "execution_count": null,
   "id": "0d96feaf-8817-453a-b4d0-560f5f29d33c",
   "metadata": {},
   "outputs": [],
   "source": [
    "import pathlib\n",
    "import numpy as np\n",
    "\n",
    "from aiida import orm, load_profile\n",
    "from aiida.engine import submit\n",
    "\n",
    "from qe_tools import CONSTANTS\n",
    "\n",
    "from aiida_quantumespresso_hp.workflows.hubbard import SelfConsistentHubbardWorkChain\n",
    "from aiida_quantumespresso.data.hubbard_structure import HubbardStructureData\n",
    "\n",
    "load_profile()\n",
    "from aiida.orm import load_node\n",
    "from pprint import pprint"
   ]
  },
  {
   "attachments": {},
   "cell_type": "markdown",
   "id": "bc9ecf45",
   "metadata": {},
   "source": [
    "***\n",
    "### Development of `structure_relabel_kinds`"
   ]
  },
  {
   "cell_type": "code",
   "execution_count": null,
   "id": "a803505a",
   "metadata": {},
   "outputs": [],
   "source": [
    "import importlib\n",
    "from aiida_quantumespresso_hp.calculations.functions import structure_relabel_kinds\n",
    "importlib.reload(structure_relabel_kinds)\n",
    "\n",
    "hubbard_data = load_node(2502)\n",
    "last_hpcalculation = load_node(2284)\n",
    "\n",
    "qe_hubbard_card_before = hubbard_data.get_quantum_espresso_hubbard_card()\n",
    "print('Hubbard card before structure_relabel_kinds\\n\\n', qe_hubbard_card_before)\n",
    "\n",
    "relabel_output = structure_relabel_kinds.structure_relabel_kinds(\n",
    "    hubbard_structure=last_hpcalculation.outputs.hubbard_structure,\n",
    "    hubbard=last_hpcalculation.outputs.hubbard\n",
    ")\n",
    "\n",
    "qe_hubbard_card_after = relabel_output['hubbard_structure'].get_quantum_espresso_hubbard_card()\n",
    "\n",
    "print('Hubbard card after structure_relabel_kinds\\n\\n', qe_hubbard_card_after)"
   ]
  },
  {
   "attachments": {},
   "cell_type": "markdown",
   "id": "c62a4eee",
   "metadata": {},
   "source": [
    "***\n",
    "### Print erroneous Hubbard modification"
   ]
  },
  {
   "cell_type": "code",
   "execution_count": null,
   "id": "ae8e2fd6",
   "metadata": {},
   "outputs": [],
   "source": [
    "from aiida_quantumespresso.data.hubbard_structure import HubbardStructureData"
   ]
  },
  {
   "cell_type": "code",
   "execution_count": null,
   "id": "90e9119c",
   "metadata": {},
   "outputs": [],
   "source": [
    "# pprint(hubbard_data.hubbard_parameters)\n",
    "# print(hubbard_data.get_quantum_espresso_hubbard_card())\n",
    "# print(type(hubbard_data))\n",
    "\n",
    "# \"\"\"Create a clone of the given structure but with new kinds, based on the new hubbard sites.\n",
    "\n",
    "# :param hubbard_structure: ``HubbardStructureData`` instance.\n",
    "# :param hubbard: the ``hubbard`` output Dict node of a ``HpCalculation``.\n",
    "# :param magnetization: Dict instance containing the `starting_magnetization` QuantumESPRESSO inputs.\n",
    "# :return:\n",
    "# \"\"\"\n",
    "\n",
    "# result = structure_relabel_kinds(\n",
    "#     self.ctx.current_hubbard_structure, workchain.outputs.hubbard, self.ctx.current_magnetic_moments\n",
    "# )\n",
    "\n",
    "# hubbard_structure = last_hpcalculation.outputs.hubbard_structure # hubbard structure of HpCalculation, 1. required argument\n",
    "# hubbard = last_hpcalculation.outputs.hubbard # hubbard dict of HpCalculation, 2. required argument"
   ]
  },
  {
   "cell_type": "code",
   "execution_count": null,
   "id": "c2e0de07",
   "metadata": {},
   "outputs": [],
   "source": [
    "from aiida_quantumespresso_hp.calculations.functions import structure_relabel_kinds\n",
    "from aiida_quantumespresso_hp.workflows.hubbard import SelfConsistentHubbardWorkChain\n",
    "\n",
    "# structure_relabel_kinds()\n",
    "import importlib\n",
    "importlib.reload(structure_relabel_kinds)\n",
    "\n",
    "failed_scfh_workchain = load_node(2234)\n",
    "hubbard_data = load_node(2502)\n",
    "failed_hp_workchain = load_node(2284)\n",
    "\n",
    "qe_hubbard_card_before = hubbard_data.get_quantum_espresso_hubbard_card()\n",
    "print(qe_hubbard_card_before)\n",
    "\n",
    "relabel_output = structure_relabel_kinds.structure_relabel_kinds(\n",
    "    hubbard_structure=failed_hp_workchain.outputs.hubbard_structure,\n",
    "    hubbard=failed_hp_workchain.outputs.hubbard\n",
    ")\n",
    "\n",
    "qe_hubbard_card_after = relabel_output['hubbard_structure'].get_quantum_espresso_hubbard_card()\n",
    "\n",
    "print(qe_hubbard_card_after)"
   ]
  },
  {
   "cell_type": "code",
   "execution_count": null,
   "id": "e04fbdaf",
   "metadata": {},
   "outputs": [],
   "source": [
    "!verdi process report 2234"
   ]
  },
  {
   "cell_type": "code",
   "execution_count": null,
   "id": "88f249b9",
   "metadata": {},
   "outputs": [],
   "source": [
    "print(\"Test\")"
   ]
  }
 ],
 "metadata": {
  "kernelspec": {
   "display_name": "env-bat_uv_ml",
   "language": "python",
   "name": "python3"
  },
  "language_info": {
   "codemirror_mode": {
    "name": "ipython",
    "version": 3
   },
   "file_extension": ".py",
   "mimetype": "text/x-python",
   "name": "python",
   "nbconvert_exporter": "python",
   "pygments_lexer": "ipython3",
   "version": "3.8.10"
  },
  "vscode": {
   "interpreter": {
    "hash": "e4b99e4fb7239675e78e08baa36e5541415cefe51d419b717bbcddc9f1c4003f"
   }
  }
 },
 "nbformat": 4,
 "nbformat_minor": 5
}
