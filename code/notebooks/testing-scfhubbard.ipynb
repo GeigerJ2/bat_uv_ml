{
 "cells": [
  {
   "cell_type": "code",
   "execution_count": 4,
   "id": "0d96feaf-8817-453a-b4d0-560f5f29d33c",
   "metadata": {},
   "outputs": [
    {
     "data": {
      "text/plain": [
       "Profile<uuid='4fe00b7a32994cfca8b6cf43c2d22a53' name='jgeiger'>"
      ]
     },
     "execution_count": 4,
     "metadata": {},
     "output_type": "execute_result"
    }
   ],
   "source": [
    "import pathlib\n",
    "import numpy as np\n",
    "\n",
    "from aiida import orm, load_profile\n",
    "from aiida.engine import submit\n",
    "\n",
    "from qe_tools import CONSTANTS\n",
    "\n",
    "from aiida_quantumespresso_hp.workflows.hubbard import SelfConsistentHubbardWorkChain\n",
    "from aiida_quantumespresso.data.hubbard_structure import HubbardStructureData\n",
    "\n",
    "load_profile()"
   ]
  },
  {
   "cell_type": "markdown",
   "id": "d2b09cc3-665b-43e6-b04b-2793d534dc7f",
   "metadata": {},
   "source": [
    "# BaTiO3\n",
    "Let's define the BTO structure to use as example for this tutorial."
   ]
  },
  {
   "cell_type": "code",
   "execution_count": 5,
   "id": "fafa590d-b1de-4a92-a730-5c6df3d717c7",
   "metadata": {},
   "outputs": [],
   "source": [
    "cell = [\n",
    "    [5.34198, -3.08419, 4.38073],\n",
    "    [0.00000,  6.16839, 4.38073],\n",
    "    [-5.3419, -3.08419, 4.38073],\n",
    "]\n",
    "cell = CONSTANTS.bohr_to_ang*np.array(cell)\n",
    "\n",
    "structure = orm.StructureData(cell=cell)\n",
    "\n",
    "structure.append_atom(position=np.dot([0.48674, 0.4867, 0.4867], cell),  symbols='Ti')\n",
    "structure.append_atom(position=np.dot([0.51163, 0.5116, 0.0192], cell),  symbols='O' )\n",
    "structure.append_atom(position=np.dot([0.51163, 0.0192, 0.5116], cell),  symbols='O' )\n",
    "structure.append_atom(position=np.dot([0.01929, 0.5116, 0.5116], cell),  symbols='O' )\n",
    "structure.append_atom(position=np.dot([0.99899, 0.9989, 0.9989], cell),  symbols='Ba')"
   ]
  },
  {
   "cell_type": "markdown",
   "id": "cbd6c351-07bf-4935-8149-c5dc3e802ca2",
   "metadata": {},
   "source": [
    "## HubbardStructureData initialization\n",
    "Let's initialize the HubbardStructureData with the BTO structure!\n",
    "\n",
    "> Important: You only need to do these steps once! Later just keep track of this testing structure via the PK and reload it from the database so you don't get 100 BaTiO3 strucures in your storage. ^^"
   ]
  },
  {
   "cell_type": "code",
   "execution_count": 6,
   "id": "68238387-c713-47b0-b501-28f6cee06b67",
   "metadata": {},
   "outputs": [],
   "source": [
    "hubbard_data = HubbardStructureData.from_structure(structure=structure)"
   ]
  },
  {
   "cell_type": "code",
   "execution_count": 7,
   "id": "1dd1cbca-7de7-483e-a7a6-8b7aa900254b",
   "metadata": {},
   "outputs": [
    {
     "data": {
      "text/plain": [
       "<HubbardStructureData: uuid: e1aa6e73-128f-4f53-b384-ec57edc902f2 (unstored)>"
      ]
     },
     "execution_count": 7,
     "metadata": {},
     "output_type": "execute_result"
    }
   ],
   "source": [
    "hubbard_data"
   ]
  },
  {
   "cell_type": "markdown",
   "id": "db3586b0-0d08-437c-9416-28b4de12ad7e",
   "metadata": {},
   "source": [
    "## Initializing the on-site Hubbard\n",
    "Let's initialize the on-site Hubbard parameter for the titanium atom."
   ]
  },
  {
   "cell_type": "code",
   "execution_count": 8,
   "id": "97aa36f8-e5b9-435c-b4bd-08c4850b02a9",
   "metadata": {},
   "outputs": [],
   "source": [
    "hubbard_data.initialize_onsites_hubbard('Ti', '3d', 5.0) # index 0 for Ti ==> Hubbard U"
   ]
  },
  {
   "cell_type": "markdown",
   "id": "3271f32e-df00-49f8-a678-d1f83d51bae1",
   "metadata": {},
   "source": [
    "Here how it is stored in the class."
   ]
  },
  {
   "cell_type": "code",
   "execution_count": 13,
   "id": "f4bc5921-ce79-4e3d-804e-3ed6523e6b93",
   "metadata": {},
   "outputs": [
    {
     "data": {
      "text/plain": [
       "<HubbardStructureData: uuid: e1aa6e73-128f-4f53-b384-ec57edc902f2 (unstored)>"
      ]
     },
     "execution_count": 13,
     "metadata": {},
     "output_type": "execute_result"
    }
   ],
   "source": [
    "hubbard_data"
   ]
  },
  {
   "cell_type": "markdown",
   "id": "97632bc2-b652-4d04-b917-15c688468253",
   "metadata": {},
   "source": [
    "## Initializing the inter-site Hubbard\n",
    "Let's initialize the inter-site Hubbard parameter for the titanium and oxygen atoms."
   ]
  },
  {
   "cell_type": "code",
   "execution_count": 16,
   "id": "3eb86220-436e-4592-af95-a359c8923b6d",
   "metadata": {},
   "outputs": [],
   "source": [
    "hubbard_data.initialize_intersites_hubbard(\n",
    "    atom_name='Ti', atom_manifold='3d', neighbour_name='O', neighbour_manifold='2p', value=0.0001\n",
    "    )\n",
    "\n",
    "        # self,\n",
    "        # atom_name: str,\n",
    "        # atom_manifold: str,\n",
    "        # neighbour_name: str,\n",
    "        # neighbour_manifold: str,\n",
    "        # value: float = 1e-8,\n",
    "        # hubbard_type: str = \"V\",\n",
    "        # use_kinds: bool = True,\n"
   ]
  },
  {
   "cell_type": "markdown",
   "id": "a5df15af-5574-42be-aa58-890d2d95c5d2",
   "metadata": {},
   "source": [
    "The parameters are saved in the property `hubbard_parameters` as a list."
   ]
  },
  {
   "cell_type": "code",
   "execution_count": 18,
   "id": "ab486809-31f7-4bc3-9425-0467811da1d3",
   "metadata": {},
   "outputs": [
    {
     "data": {
      "text/plain": [
       "Hubbard(parameters=[HubbardParameters(atom_index=0, atom_manifold='3d', neighbour_index=0, neighbour_manifold='3d', translation=(0, 0, 0), value=5.0, hubbard_type='Ueff'), HubbardParameters(atom_index=0, atom_manifold='3d', neighbour_index=1, neighbour_manifold='2p', translation=(0, 0, 0), value=0.0001, hubbard_type='V')], projectors='ortho-atomic', formulation='dudarev')"
      ]
     },
     "execution_count": 18,
     "metadata": {},
     "output_type": "execute_result"
    }
   ],
   "source": [
    "hubbard_data.hubbard"
   ]
  },
  {
   "cell_type": "code",
   "execution_count": 20,
   "id": "cb1b4b3b-8fe5-4f29-8ee9-54e3f564017f",
   "metadata": {},
   "outputs": [
    {
     "data": {
      "text/plain": [
       "<HubbardStructureData: uuid: e1aa6e73-128f-4f53-b384-ec57edc902f2 (pk: 19376)>"
      ]
     },
     "execution_count": 20,
     "metadata": {},
     "output_type": "execute_result"
    }
   ],
   "source": [
    "hubbard_data.store()"
   ]
  },
  {
   "cell_type": "code",
   "execution_count": 21,
   "id": "5a4c370c-8f7c-401b-93f6-77c51225d4c9",
   "metadata": {},
   "outputs": [
    {
     "data": {
      "text/plain": [
       "19376"
      ]
     },
     "execution_count": 21,
     "metadata": {},
     "output_type": "execute_result"
    }
   ],
   "source": [
    "hubbard_data.pk"
   ]
  },
  {
   "cell_type": "markdown",
   "id": "f53e706b-5f5c-4f85-92aa-45355eb17e89",
   "metadata": {},
   "source": [
    "## Running the `SelfConsistentHubbardWorkChain`"
   ]
  },
  {
   "cell_type": "code",
   "execution_count": 22,
   "id": "d4913612",
   "metadata": {},
   "outputs": [],
   "source": [
    "hubbard_data = orm.load_node(19376)  # I load the node from the database instead of always regenerating it\n",
    "# print(hubbard_data.get_quantum_espresso_hubbard_card())"
   ]
  },
  {
   "cell_type": "code",
   "execution_count": 23,
   "id": "3e65c68c",
   "metadata": {},
   "outputs": [],
   "source": [
    "pw_code = orm.load_code(2182)\n",
    "hp_code = orm.load_code(2183)\n",
    "\n",
    "builder = SelfConsistentHubbardWorkChain.get_builder_from_protocol(\n",
    "    pw_code=pw_code,\n",
    "    hp_code=hp_code,\n",
    "    hubbard_structure=hubbard_data,\n",
    "    protocol='fast',\n",
    "    # overrides=pathlib.Path('hubbard_overrides.yaml')\n",
    ")\n",
    "\n",
    "builder.skip_first_relax = True"
   ]
  },
  {
   "cell_type": "code",
   "execution_count": 24,
   "id": "bc968bdc-0817-49a0-8e89-e14323248b86",
   "metadata": {},
   "outputs": [
    {
     "name": "stdout",
     "output_type": "stream",
     "text": [
      "uuid: 5cbcdb17-012e-48a5-b525-37a2a77430d3 (pk: 19398) (aiida.workflows:quantumespresso.hp.hubbard)\n"
     ]
    }
   ],
   "source": [
    "submit_node = submit(builder)\n",
    "print(submit_node)"
   ]
  }
 ],
 "metadata": {
  "kernelspec": {
   "display_name": "env-bat_uv_ml",
   "language": "python",
   "name": "python3"
  },
  "language_info": {
   "codemirror_mode": {
    "name": "ipython",
    "version": 3
   },
   "file_extension": ".py",
   "mimetype": "text/x-python",
   "name": "python",
   "nbconvert_exporter": "python",
   "pygments_lexer": "ipython3",
   "version": "3.8.10"
  },
  "vscode": {
   "interpreter": {
    "hash": "e4b99e4fb7239675e78e08baa36e5541415cefe51d419b717bbcddc9f1c4003f"
   }
  }
 },
 "nbformat": 4,
 "nbformat_minor": 5
}
