{
 "cells": [
  {
   "cell_type": "code",
   "execution_count": null,
   "metadata": {},
   "outputs": [],
   "source": [
    "from IPython.core.interactiveshell import InteractiveShell\n",
    "InteractiveShell.ast_node_interactivity = \"all\"\n",
    "\n",
    "from collections import Counter\n",
    "import pandas as pd\n",
    "import os\n",
    "import glob\n",
    "import copy\n",
    "from pathlib import Path\n",
    "\n",
    "from pprint import pprint\n",
    "import itertools as it\n",
    "from collections import Counter\n",
    "import numpy as np\n",
    "\n",
    "from aiida import load_profile\n",
    "from aiida.orm.nodes.data.structure import StructureData\n",
    "\n",
    "from aiida_quantumespresso.tools.pwinputparser import create_builder_from_file\n",
    "from aiida_quantumespresso.calculations.pw import PwCalculation\n",
    "from aiida_quantumespresso.calculations.pwimmigrant import PwimmigrantCalculation\n",
    "from aiida.engine import submit\n",
    "from aiida_quantumespresso.calculations.pw import PwCalculation\n",
    "from aiida_quantumespresso.workflows.pw.relax import PwRelaxWorkChain\n",
    "from aiida_quantumespresso.workflows.pw.base import PwBaseWorkChain\n",
    "from aiida.orm import load_node, load_code\n",
    "\n",
    "from qe_tools.exceptions import ParsingError\n",
    "\n",
    "# from own_utils.calc_df import init_project_df\n",
    "\n",
    "from pymatgen.io.ase import AseAtomsAdaptor\n",
    "\n",
    "# import pybat\n",
    "# from pybat import Cathode, LiRichCathode, Dimer, DimerNEBAnalysis\n",
    "\n",
    "from ase.visualize import view\n",
    "from ase.io.vasp import read_vasp, write_vasp\n",
    "from ase.build.tools import sort\n",
    "from ase.io.espresso import read_espresso_in, read_espresso_out\n",
    "\n",
    "from project_settings import *\n",
    "\n",
    "# from itables import init_notebook_mode\n",
    "# init_notebook_mode(all_interactive=True)\n",
    "pd.set_option('display.max_colwidth', None)"
   ]
  },
  {
   "cell_type": "code",
   "execution_count": null,
   "metadata": {},
   "outputs": [],
   "source": [
    "load_profile()"
   ]
  },
  {
   "cell_type": "code",
   "execution_count": null,
   "metadata": {},
   "outputs": [],
   "source": [
    "# iurii_olivine_dir = '/home/jgeiger/projects/bat_uv_ml/data/olivines_iurii/LixMnPO4/Li1.00/DFT_plus_U/1_vcrelax/'\n",
    "# iurii_olivine_file = 'LiMnPO4.vcrelax.1.in'\n",
    "# iurii_pseudo_dir = '/home/jgeiger/projects/bat_uv_ml/data/olivines_iurii/Pseudopotentials/SSSP'\n",
    "# iurri_spinel_dir = '/home/jgeiger/projects/bat_uv_ml/data/spinel_iurii/LixMn2O4/DFT+U/LiMn2O4/1_vcrelax'\n",
    "# iurii_spinel_file = 'LiMn2O4.vcrelax.1.in'"
   ]
  },
  {
   "cell_type": "code",
   "execution_count": null,
   "metadata": {},
   "outputs": [],
   "source": [
    "def init_project_df(calc_dir, file_glob):\n",
    "    # TODO: Extent for multiple file types, also for output files -> can be done by passing a tuple, which endswith accepts.\n",
    "    # path_list = [os.path.dirname(path) for path in Path(calc_dir).rglob(file_glob)]\n",
    "    path_list = []\n",
    "    for root, dirs, files in os.walk(calc_dir):\n",
    "        for file in files:\n",
    "            if file.endswith(file_glob):\n",
    "                path_list.append(os.path.join(root, file))\n",
    "    # path_list = [_.replace('+', '\\+') for _ in path_list]\n",
    "\n",
    "    full_project_df = pd.DataFrame()\n",
    "    full_project_df['abs_path'] = [os.path.dirname(_) for _ in path_list]\n",
    "    full_project_df['calc_in'] = [os.path.basename(_) for _ in path_list]\n",
    "    full_project_df['abs_path_in'] = path_list\n",
    "    # ! Rel path buggy because it ends up being \n",
    "    # full_project_df['rel_path'] = full_project_df['abs_path'].str.replace(project_dir, '.')\n",
    "\n",
    "    return full_project_df\n",
    "\n",
    "def add_calcdata(df_in):\n",
    "    calctype_regex = r\"\\.(pdos|dos|nscf|scf|hp|vcrelax)\\.\"\n",
    "    df_out = df_in.copy(deep=True)\n",
    "    df_out['calc_name'] = df_out['calc_in'].apply(lambda x: Path(x).stem)\n",
    "    df_out['calc_type'] = df_out['calc_in'].str.extract(calctype_regex)\n",
    "    df_out['calc_out'] = df_out['calc_in'].str.replace('.in', '.out', regex=False)\n",
    "    return df_out\n",
    "\n",
    "# ! Also matches paremeters.in file, which results in calctype = nan\n",
    "spinel_df_iurii = init_project_df(\n",
    "    calc_dir=spinel_dir_iurii,\n",
    "    file_glob='.in' # ('.in', '.out')\n",
    "    )\n",
    "\n",
    "olivine_df_iurii = init_project_df(\n",
    "    calc_dir=olivine_dir_iurii,\n",
    "    file_glob='.in'\n",
    "    )\n",
    "# olivine_df_iurii = olivine_df_iurii.dropna()\n"
   ]
  },
  {
   "cell_type": "code",
   "execution_count": null,
   "metadata": {},
   "outputs": [],
   "source": [
    "iurii_full_data_df = pd.concat([spinel_df_iurii, olivine_df_iurii], ignore_index=True)\n",
    "iurii_full_data_df = add_calcdata(iurii_full_data_df)\n",
    "\n",
    "iurii_full_data_df.shape\n",
    "iurii_full_data_df.head()\n",
    "\n",
    "# pandas write to csv\n",
    "print(project_dir)\n",
    "iurii_full_data_df.to_csv(os.path.join(project_dir, 'data', 'iurii_full_data_df.csv'), index=False)\n"
   ]
  },
  {
   "cell_type": "markdown",
   "metadata": {},
   "source": [
    "# Olivine directory tree\n",
    "<!-- \n",
    "├── Bulk_Li\n",
    "├── LixFePO4\n",
    "│   ├── Li0.00\n",
    "│   ├── Li0.25\n",
    "│   ├── Li0.50\n",
    "│   ├── Li0.75\n",
    "│   └── Li1.00\n",
    "├── LixMn0.5Fe0.5PO4\n",
    "│   ├── Li0.00\n",
    "│   ├── Li0.25\n",
    "│   ├── Li0.50\n",
    "│   ├── Li0.75\n",
    "│   └── Li1.00\n",
    "├── LixMnPO4\n",
    "│   ├── Li0.00\n",
    "│   ├── Li0.25\n",
    "│   ├── Li0.50\n",
    "│   ├── Li0.75\n",
    "│   └── Li1.00\n",
    "└── Pseudopotentials\n",
    "    ├── PseudoDojo\n",
    "    └── SSSP\n",
    "-->"
   ]
  },
  {
   "cell_type": "markdown",
   "metadata": {},
   "source": [
    "# Spinel directory tree\n",
    "\n",
    "<!--\n",
    "├── LixMn1.5Ni0.5O4\n",
    "│   ├── DFT+U\n",
    "│   │   ├── LiMn1.5Ni0.5O4\n",
    "│   │   └── Mn1.5Ni0.5O4\n",
    "│   └── DFT+U+V\n",
    "│       ├── LiMn1.5Ni0.5O4\n",
    "│       └── Mn1.5Ni0.5O4\n",
    "└── LixMn2O4\n",
    "    ├── DFT+U\n",
    "    │   ├── LiMn2O4\n",
    "    │   └── Mn2O4\n",
    "    └── DFT+U+V\n",
    "        ├── LiMn2O4\n",
    "        └── Mn2O4\n",
    "-->"
   ]
  },
  {
   "cell_type": "markdown",
   "metadata": {},
   "source": [
    "# Read in fully lithiated phospho-olivine and spinel structures from pw inputs"
   ]
  },
  {
   "cell_type": "code",
   "execution_count": null,
   "metadata": {},
   "outputs": [],
   "source": [
    "# project_dir = '/home/jgeiger/projects/bat_uv_ml/'\n",
    "\n",
    "# # Read in csv with pandas\n",
    "# iurii_full_df = pd.read_csv(os.path.join(project_dir, 'data', 'iurii_full_data_df.csv'))"
   ]
  },
  {
   "cell_type": "code",
   "execution_count": null,
   "metadata": {},
   "outputs": [],
   "source": [
    "iurii_full_data_df.head()"
   ]
  },
  {
   "cell_type": "markdown",
   "metadata": {},
   "source": [
    "***\n",
    "# Fully lithiated structures"
   ]
  },
  {
   "cell_type": "code",
   "execution_count": null,
   "metadata": {},
   "outputs": [],
   "source": [
    "fully_lithiated_df = iurii_full_data_df.loc[\n",
    "  # olivine\n",
    "    (iurii_full_data_df['abs_path_in'].str.contains('LixFePO4/Li1.00/DFT_plus_UV/8_PDOS/LFPO.scf.2.in', regex=False))\n",
    "  | (iurii_full_data_df['abs_path_in'].str.contains('LixMnPO4/Li1.00/DFT_plus_UV/9_PDOS/LMPO.scf.2.in', regex=False))\n",
    "  | (iurii_full_data_df['abs_path_in'].str.contains('LixMn0.5Fe0.5PO4/Li1.00/DFT_plus_UV/8_PDOS/LFPO.scf.2.in', regex=False))\n",
    "  # spinel\n",
    "  | (iurii_full_data_df['abs_path_in'].str.contains('LixMn1.5Ni0.5O4/DFT+U+V/LiMn1.5Ni0.5O4/8_pdos/LiMn1.5Ni0.5O4.scf.2.in', regex=False))\n",
    "  | (iurii_full_data_df['abs_path_in'].str.contains('LixMn2O4/DFT+U+V/LiMn2O4/5_pdos/LiMn2O4.scf.2.in', regex=False))\n",
    "]\n",
    "fully_lithiated_df.shape\n",
    "fully_lithiated_df.head()"
   ]
  },
  {
   "cell_type": "code",
   "execution_count": null,
   "metadata": {},
   "outputs": [],
   "source": [
    "fully_lithiated_df = fully_lithiated_df.sort_values(by='abs_path_in')\n",
    "fully_lithiated_df = fully_lithiated_df.reset_index(drop=True)\n",
    "\n",
    "# ! Replace Mn3u and other special labels with atom types for reading in QE input structure with ASE\n",
    "fully_lithiated_df['clean_input'] = fully_lithiated_df['abs_path_in'].apply(lambda x: Path(x).read_text())\n",
    "fully_lithiated_df['clean_input'] = fully_lithiated_df['clean_input'].str.replace('\\nM\\d[u,d] ', '\\nMn ', regex=True)\n",
    "fully_lithiated_df['clean_input'] = fully_lithiated_df['clean_input'].str.replace('\\nO\\d ', '\\nO ', regex=True)\n",
    "fully_lithiated_df['clean_input_file'] = fully_lithiated_df['abs_path_in'].apply(lambda x: x.replace('.in', '.clean.in'))\n",
    "_ = fully_lithiated_df.apply(lambda x: Path(x['clean_input_file']).write_text(x['clean_input']), axis=1)\n",
    "\n",
    "# ! Actually read in the input files with ASE\n",
    "fully_lithiated_df['ase_in'] = fully_lithiated_df['clean_input_file'].apply(lambda x: read_espresso_in(x))\n",
    "fully_lithiated_df['ase_in'] = fully_lithiated_df['ase_in'].apply(lambda x: sort(x, tags=x.numbers))\n",
    "# devel_df['ase_out'] = devel_df.apply(lambda x: read_espresso_out(os.path.join(x['abs_path'], x['calc_out'])), axis=1)\n",
    "\n",
    "# ! Get chemical formula and symbols\n",
    "fully_lithiated_df['chem_formula'] = fully_lithiated_df['ase_in'].apply(lambda x: x.get_chemical_formula())\n",
    "fully_lithiated_df['chem_symbols'] = fully_lithiated_df['ase_in'].apply(lambda x: x.get_chemical_symbols())\n",
    "\n",
    "# type(devel_df['ase_out'].values[0])\n",
    "# ! Convert ase structures to pymatgen\n",
    "fully_lithiated_df['pmg_in'] = fully_lithiated_df['ase_in'].apply(lambda x: AseAtomsAdaptor.get_structure(x))\n",
    "# devel_df['pmg_out'] = devel_df['ase_out'].apply(lambda x: AseAtomsAdaptor.get_structure(x))\n",
    "\n",
    "fully_lithiated_df.shape\n",
    "show_columns_structures = ['abs_path', 'calc_in', 'calc_out', 'calc_type', 'chem_formula']\n",
    "fully_lithiated_df[show_columns_structures].head()"
   ]
  },
  {
   "cell_type": "code",
   "execution_count": null,
   "metadata": {},
   "outputs": [],
   "source": [
    "# view(fully_lithiated_df['ase_in'].values)\n",
    "\n",
    "# short_names = ['spinel_LiMnNiO', 'spinel_LiMnO', 'olivine_LiFePO', 'olivine_LiMnFePO', 'olivine_LiMnPO']\n",
    "# fully_lithiated_df['short_name'] = short_names\n",
    "# fully_lithiated_df[show_columns_structures].head()\n",
    "# fully_lithiated_df['calc_in'].values\n",
    "# fully_lithiated_df"
   ]
  },
  {
   "cell_type": "code",
   "execution_count": null,
   "metadata": {},
   "outputs": [],
   "source": [
    "fully_lithiated_df.to_pickle(os.path.join(project_dir, 'data', 'fully_lithiated_df.pkl'))"
   ]
  }
 ],
 "metadata": {
  "kernelspec": {
   "display_name": "env-bat_uv_ml",
   "language": "python",
   "name": "python3"
  },
  "language_info": {
   "codemirror_mode": {
    "name": "ipython",
    "version": 3
   },
   "file_extension": ".py",
   "mimetype": "text/x-python",
   "name": "python",
   "nbconvert_exporter": "python",
   "pygments_lexer": "ipython3",
   "version": "3.8.10"
  },
  "vscode": {
   "interpreter": {
    "hash": "e4b99e4fb7239675e78e08baa36e5541415cefe51d419b717bbcddc9f1c4003f"
   }
  }
 },
 "nbformat": 4,
 "nbformat_minor": 2
}
