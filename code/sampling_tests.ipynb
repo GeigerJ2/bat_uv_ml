{
 "cells": [
  {
   "cell_type": "code",
   "execution_count": 2,
   "metadata": {},
   "outputs": [],
   "source": [
    "\n",
    "from IPython.core.interactiveshell import InteractiveShell\n",
    "InteractiveShell.ast_node_interactivity = \"all\"\n",
    "\n",
    "import os\n",
    "import glob\n",
    "import copy\n",
    "\n",
    "from pprint import pprint\n",
    "import itertools as it\n",
    "from collections import Counter\n",
    "import numpy as np\n",
    "\n",
    "from aiida import load_profile\n",
    "from aiida.orm.nodes.data.structure import StructureData\n",
    "\n",
    "from aiida_quantumespresso.tools.pwinputparser import create_builder_from_file\n",
    "from aiida_quantumespresso.calculations.pw import PwCalculation\n",
    "from aiida_quantumespresso.calculations.pwimmigrant import PwimmigrantCalculation\n",
    "# from aiida_quantumespresso.tools import pwinputparser\n",
    "\n",
    "from pymatgen.io.ase import AseAtomsAdaptor\n",
    "\n",
    "# import pybat\n",
    "# from pybat import Cathode, LiRichCathode, Dimer, DimerNEBAnalysis\n",
    "\n",
    "from ase.visualize import view\n",
    "from ase.io.vasp import read_vasp, write_vasp\n",
    "from ase.build.tools import sort"
   ]
  },
  {
   "cell_type": "code",
   "execution_count": 3,
   "metadata": {},
   "outputs": [
    {
     "data": {
      "text/plain": [
       "Profile<uuid='4fe00b7a32994cfca8b6cf43c2d22a53' name='jgeiger'>"
      ]
     },
     "execution_count": 3,
     "metadata": {},
     "output_type": "execute_result"
    }
   ],
   "source": [
    "load_profile()"
   ]
  },
  {
   "attachments": {},
   "cell_type": "markdown",
   "metadata": {},
   "source": [
    "### Read in fully lithiated phospho-olivine structure from pw calculation"
   ]
  },
  {
   "cell_type": "code",
   "execution_count": 4,
   "metadata": {},
   "outputs": [],
   "source": [
    "iurii_olivine_dir = '/home/jgeiger/projects/bat_uv_ml/data/olivines_iurii/LixMnPO4/Li1.00/DFT_plus_U/1_vcrelax/'\n",
    "iurii_olivine_file = 'LiMnPO4.vcrelax.1.in'\n",
    "iurii_pseudo_dir = '/home/jgeiger/projects/bat_uv_ml/data/olivines_iurii/Pseudopotentials/SSSP'\n",
    "\n",
    "disorder_dir = os.path.join(iurii_olivine_dir, 'disorder_sampling')"
   ]
  },
  {
   "cell_type": "code",
   "execution_count": 5,
   "metadata": {},
   "outputs": [],
   "source": [
    "builder = create_builder_from_file(\n",
    "    input_folder=iurii_olivine_dir,\n",
    "    input_file_name=iurii_olivine_file,\n",
    "    code='qe-6.4.1-pw',\n",
    "    metadata={},\n",
    "    pseudo_folder_path=iurii_pseudo_dir,\n",
    ")\n",
    "\n",
    "structuredata = builder['structure']\n",
    "\n",
    "initial_ase = structuredata.get_ase()\n",
    "initial_ase = sort(initial_ase)\n",
    "\n",
    "initial_pmg = AseAtomsAdaptor.get_structure(initial_ase)"
   ]
  },
  {
   "cell_type": "code",
   "execution_count": 6,
   "metadata": {},
   "outputs": [],
   "source": [
    "for repeat in list(it.product((1,2), repeat=3)):\n",
    "    \n",
    "    ase_structure = copy.deepcopy(initial_ase)\n",
    "    ase_structure *= repeat\n",
    "    ase_structure = sort(ase_structure)\n",
    "    \n",
    "    li_number = ase_structure.get_chemical_symbols().count('Li')\n",
    "    repeat_dir = os.path.join(\n",
    "        disorder_dir,\n",
    "        'Li{:02d}_{}'.format(\n",
    "            li_number,\n",
    "            'x'.join(map(str, repeat))\n",
    "            )\n",
    "    )\n",
    "    \n",
    "    # os.makedirs(repeat_dir, exist_ok=True)\n",
    "    # write_vasp(file=os.path.join(repeat_dir, 'POSCAR'), atoms=ase_structure)"
   ]
  },
  {
   "cell_type": "markdown",
   "metadata": {},
   "source": [
    "***\n",
    "### Read in poscars into ase.Atoms movie for visualization"
   ]
  },
  {
   "cell_type": "code",
   "execution_count": 7,
   "metadata": {},
   "outputs": [],
   "source": [
    "# Python find all directories with name pos_\n",
    "\n",
    "# print(disorder_dir)\n",
    "\n",
    "poscar_paths = []\n",
    "\n",
    "for root, dirs, files in os.walk(os.path.join(disorder_dir, 'Li16_1x2x2')):\n",
    "    for dir in dirs:\n",
    "        if 'pos_' in dir:\n",
    "            poscar_paths.append(os.path.join(root, dir, 'POSCAR'))\n",
    "\n",
    "poscar_ase_list = [read_vasp(poscar_path) for poscar_path in poscar_paths]\n",
    "# view(poscar_ase_list)"
   ]
  },
  {
   "attachments": {},
   "cell_type": "markdown",
   "metadata": {},
   "source": [
    "***\n",
    "### Immigrate PW calculation from Iurii"
   ]
  },
  {
   "cell_type": "code",
   "execution_count": 21,
   "metadata": {},
   "outputs": [],
   "source": [
    "# test_pw_dir = '/home/jgeiger/devel/aiida-quantumespresso/tests/calculations/test_pw/test_pw_default.in'\n",
    "# pw_immigrant = PwimmigrantCalculation() # ! Deprecated"
   ]
  },
  {
   "attachments": {},
   "cell_type": "markdown",
   "metadata": {},
   "source": [
    "***\n",
    "### Try out sampling with `icet`"
   ]
  },
  {
   "cell_type": "code",
   "execution_count": null,
   "metadata": {},
   "outputs": [
    {
     "name": "stdout",
     "output_type": "stream",
     "text": [
      "Full Formula (Li4 Mn4 P4 O16)\n",
      "Reduced Formula: LiMnPO4\n",
      "abc   :  10.363227   6.057852   4.719737\n",
      "angles:  90.000000  89.999994  90.000000\n",
      "Sites (28)\n",
      "  #    #VESTA  SP            a          b          c    masses    tags\n",
      "---  --------  ----  ---------  ---------  ---------  --------  ------\n",
      "  0         1  Li    -0.282154  -0.249998  -0.972215         5       0\n",
      "  1         2  Li     0.217845  -0.250001  -0.472214         5       0\n",
      "  2         3  Li     0.217845   0.250001  -0.472214         5       0\n",
      "  3         4  Li    -0.282154   0.249998  -0.972215         5       0\n",
      "  4         5  Mn    -0.001476   0          0.004523        56       1\n",
      "  5         6  Mn     0.498524   0         -0.44893         56       1\n",
      "  6         7  Mn    -0.062831   0.5       -0.495478        56       2\n",
      "  7         8  Mn     0.437169   0.5       -0.948929        56       2\n",
      "  8         9  O     -0.187352   0         -0.232027        16       1\n",
      "  9        10  O      0.623041   0.5       -0.712391        16       1\n",
      " 10        11  O      0.123042   0.5       -0.732026        16       1\n",
      " 11        12  O      0.312648   0         -0.21239         16       1\n",
      " 12        13  O      0.171917   0         -0.759952        16       2\n",
      " 13        14  O      0.26377    0.5       -0.184465        16       2\n",
      " 14        15  O     -0.236227   0.5       -0.259955        16       2\n",
      " 15        16  O      0.671921   0         -0.684467        16       2\n",
      " 16        17  O      0.054131   0.703959  -0.190897        16       3\n",
      " 17        18  O      0.054131   0.296041  -0.190897        16       3\n",
      " 18        19  O      0.554131   0.703957  -0.253524        16       3\n",
      " 19        20  O      0.554131   0.296043  -0.253524        16       3\n",
      " 20        21  O     -0.118441  -0.203959  -0.690898        16       4\n",
      " 21        22  O     -0.118441   0.203959  -0.690898        16       4\n",
      " 22        23  O      0.381559  -0.203957  -0.753523        16       4\n",
      " 23        24  O      0.381559   0.203957  -0.753523        16       4\n",
      " 24        25  P     -0.18961    0         -0.557488        31       0\n",
      " 25        26  P      0.625293   0.5       -0.386943        31       0\n",
      " 26        27  P      0.125301   0.5       -0.057487        31       0\n",
      " 27        28  P      0.310398   0         -0.886942        31       0\n"
     ]
    }
   ],
   "source": [
    "from pymatgen.core import Structure\n",
    "# from Cathode import from_structure\n",
    "\n",
    "# pmg_structure = Structure()\n",
    "# pprint(pmg_structure.__dict__, sort_dicts=False)\n",
    "initial_cat = Cathode.from_structure(initial_pmg)\n",
    "# print(initial_pmg.__dict__)\n",
    "print(initial_cat)"
   ]
  },
  {
   "attachments": {},
   "cell_type": "markdown",
   "metadata": {},
   "source": [
    "- Results for small cell the same, using either `disorder` or `icet`, but have to use symmetry threshold of 10-6, with 10-4 the former finds less configurations\n",
    "- "
   ]
  },
  {
   "cell_type": "code",
   "execution_count": 20,
   "metadata": {},
   "outputs": [
    {
     "data": {
      "text/plain": [
       "<module 'pybat.core' from '/home/jgeiger/devel/pybat/pybat/core.py'>"
      ]
     },
     "execution_count": 20,
     "metadata": {},
     "output_type": "execute_result"
    },
    {
     "name": "stdout",
     "output_type": "stream",
     "text": [
      "[['Li', 'Lr'], ['Li', 'Lr'], ['Li', 'Lr'], ['Li', 'Lr'], ['Mn'], ['Mn'], ['Mn'], ['Mn'], ['O'], ['O'], ['O'], ['O'], ['O'], ['O'], ['O'], ['O'], ['O'], ['O'], ['O'], ['O'], ['O'], ['O'], ['O'], ['O'], ['P'], ['P'], ['P'], ['P']]\n",
      "test\n",
      "No magnetic moments found in structure, setting to zero.\n"
     ]
    }
   ],
   "source": [
    "import importlib\n",
    "\n",
    "import pybat.core\n",
    "# ! Importlib does not work when shorthand notation without core is skipped. Need to be explicit.\n",
    "importlib.reload(pybat.core)\n",
    "\n",
    "initial_cat = pybat.core.Cathode.from_structure(initial_pmg)\n",
    "\n",
    "cathode_list = initial_cat.get_cation_configurations(\n",
    "    substitution_sites=range(0,4),\n",
    "    cation_list=[\"Li\", \"Vac\"],\n",
    "    sizes=[1], # , 2],\n",
    "    # ! -> Up to twice the atom count, but also taking into account other symmetries\n",
    "    concentration_restrictions={\"Li\": (0, 1)},\n",
    "    max_configurations=None,\n",
    ")\n",
    "\n",
    "pmg_list = [cathode.as_ordered_structure() for cathode in cathode_list]\n",
    "ase_list = [AseAtomsAdaptor.get_atoms(pmg_) for pmg_ in pmg_list]\n",
    "\n",
    "# view(ase_list)"
   ]
  },
  {
   "cell_type": "code",
   "execution_count": 59,
   "metadata": {},
   "outputs": [
    {
     "name": "stdout",
     "output_type": "stream",
     "text": [
      "[4, 3, 3, 2, 2, 2, 2, 1, 1, 0]\n"
     ]
    },
    {
     "data": {
      "text/plain": [
       "<Popen: returncode: None args: ['/home/jgeiger/anaconda3/envs/aiida/bin/pyth...>"
      ]
     },
     "execution_count": 59,
     "metadata": {},
     "output_type": "execute_result"
    }
   ],
   "source": [
    "li_number_list = [_.get_chemical_symbols().count('Li') for _ in ase_list]\n",
    "pprint(li_number_list)\n",
    "\n",
    "view(ase_list)"
   ]
  },
  {
   "cell_type": "code",
   "execution_count": 55,
   "metadata": {},
   "outputs": [
    {
     "name": "stdout",
     "output_type": "stream",
     "text": [
      "['Cell([[2.5087278084897446e-06, 0.0, -4.719736618435828], [0.0, '\n",
      " '-6.0578517679515285, 0.0], [-10.363227234350049, 0.0, '\n",
      " '-6.545405064125506e-06]])',\n",
      " 'Cell([[2.5087278084897446e-06, 0.0, -4.719736618435828], [0.0, '\n",
      " '-6.0578517679515285, 0.0], [-10.363227234350049, 0.0, '\n",
      " '-6.545405064125506e-06]])']\n"
     ]
    },
    {
     "data": {
      "text/plain": [
       "Counter({'C': 1,\n",
       "         '_': 141,\n",
       "         'e': 3,\n",
       "         'l': 2,\n",
       "         '(': 1,\n",
       "         '[': 4,\n",
       "         '2': 8,\n",
       "         '.': 9,\n",
       "         '5': 13,\n",
       "         '0': 19,\n",
       "         '8': 9,\n",
       "         '7': 9,\n",
       "         '4': 10,\n",
       "         '9': 4,\n",
       "         '6': 11,\n",
       "         '-': 6,\n",
       "         ',': 8,\n",
       "         ' ': 8,\n",
       "         '1': 6,\n",
       "         '3': 6,\n",
       "         ']': 4,\n",
       "         ')': 1})"
      ]
     },
     "execution_count": 55,
     "metadata": {},
     "output_type": "execute_result"
    }
   ],
   "source": [
    "\n",
    "mn_number_list = [_.get_chemical_symbols().count('Mn') for _ in ase_list]\n",
    "mn_number_string = ''.join(map(str, mn_number_list))\n",
    "\n",
    "cell_list = [repr(_.cell) for _ in ase_list]\n",
    "pprint(cell_list[:2])\n",
    "\n",
    "Counter('_'.join(cell_list[2]))\n",
    "\n",
    "# type(ase_list[0].cell)\n",
    "# from ase.cell import Cell"
   ]
  },
  {
   "cell_type": "markdown",
   "metadata": {},
   "source": [
    "***\n",
    "### Bash cell for verdi stuff"
   ]
  },
  {
   "cell_type": "code",
   "execution_count": null,
   "metadata": {},
   "outputs": [],
   "source": [
    "%%bash\n",
    "# verdi storage info\n",
    "verdi data --help"
   ]
  }
 ],
 "metadata": {
  "kernelspec": {
   "display_name": "aiida",
   "language": "python",
   "name": "python3"
  },
  "language_info": {
   "codemirror_mode": {
    "name": "ipython",
    "version": 3
   },
   "file_extension": ".py",
   "mimetype": "text/x-python",
   "name": "python",
   "nbconvert_exporter": "python",
   "pygments_lexer": "ipython3",
   "version": "3.10.8"
  },
  "orig_nbformat": 4,
  "vscode": {
   "interpreter": {
    "hash": "210ae072e27eb042cb4d2f32f4f581d884841526dc737efb7a08361e7134945c"
   }
  }
 },
 "nbformat": 4,
 "nbformat_minor": 2
}
