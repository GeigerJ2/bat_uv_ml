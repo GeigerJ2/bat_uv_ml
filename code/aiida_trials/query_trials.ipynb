{
 "cells": [
  {
   "cell_type": "code",
   "execution_count": 13,
   "metadata": {},
   "outputs": [],
   "source": [
    "from IPython.display import Image\n",
    "from datetime import datetime, timedelta\n",
    "import numpy as np\n",
    "from aiida import load_profile\n",
    "from matplotlib import gridspec, pyplot as plt\n",
    "load_profile()\n",
    "from aiida.orm import load_node, Node, Group, Computer, User, CalcJobNode, Code, QueryBuilder, StructureData\n",
    "from aiida.plugins import CalculationFactory, DataFactory\n",
    "from pprint import pprint"
   ]
  },
  {
   "cell_type": "code",
   "execution_count": 3,
   "metadata": {},
   "outputs": [
    {
     "data": {
      "text/plain": [
       "2501"
      ]
     },
     "execution_count": 3,
     "metadata": {},
     "output_type": "execute_result"
    }
   ],
   "source": [
    "query = QueryBuilder()\n",
    "query.append(Node)\n",
    "query.count()"
   ]
  },
  {
   "cell_type": "code",
   "execution_count": 5,
   "metadata": {},
   "outputs": [
    {
     "name": "stdout",
     "output_type": "stream",
     "text": [
      "350\n"
     ]
    }
   ],
   "source": [
    "\n",
    "query = QueryBuilder()\n",
    "query.append(StructureData)\n",
    "print(query.count())\n",
    "all_structures = query.all()"
   ]
  },
  {
   "cell_type": "code",
   "execution_count": 10,
   "metadata": {},
   "outputs": [],
   "source": [
    "from ase.visualize import view\n",
    "ase_list = [_[0].get_ase() for _ in all_structures]\n",
    "# print(ase_list)\n",
    "# view(ase_list)"
   ]
  },
  {
   "cell_type": "code",
   "execution_count": 15,
   "metadata": {},
   "outputs": [
    {
     "name": "stdout",
     "output_type": "stream",
     "text": [
      "9\n",
      "[[SsspFamily<1>],\n",
      " [PseudoDojoFamily<2>],\n",
      " [<Group: 'tutorial_lda' [type core], of user aiida@localhost>],\n",
      " [<UpfFamily: 'GBRV_lda' [type core.upf], of user aiida@localhost>],\n",
      " [<Group: 'tutorial_pbesol' [type core], of user aiida@localhost>],\n",
      " [<Group: 'tutorial_pbe' [type core], of user aiida@localhost>],\n",
      " [<UpfFamily: 'GBRV_pbesol' [type core.upf], of user aiida@localhost>],\n",
      " [<UpfFamily: 'GBRV_pbe' [type core.upf], of user aiida@localhost>],\n",
      " [<ImportGroup: '20230213-143026' [type core.import], of user julian.geiger@epfl.ch>]]\n"
     ]
    }
   ],
   "source": [
    "\n",
    "group_query = QueryBuilder()\n",
    "group_query.append(Group)\n",
    "print(group_query.count())\n",
    "pprint(group_query.all())"
   ]
  },
  {
   "cell_type": "code",
   "execution_count": null,
   "metadata": {},
   "outputs": [],
   "source": []
  }
 ],
 "metadata": {
  "kernelspec": {
   "display_name": "env",
   "language": "python",
   "name": "python3"
  },
  "language_info": {
   "codemirror_mode": {
    "name": "ipython",
    "version": 3
   },
   "file_extension": ".py",
   "mimetype": "text/x-python",
   "name": "python",
   "nbconvert_exporter": "python",
   "pygments_lexer": "ipython3",
   "version": "3.8.10"
  },
  "orig_nbformat": 4,
  "vscode": {
   "interpreter": {
    "hash": "563b968e1044a963233ca0d255c24a54b27faba64327a7678a42d7af4cac992e"
   }
  }
 },
 "nbformat": 4,
 "nbformat_minor": 2
}
