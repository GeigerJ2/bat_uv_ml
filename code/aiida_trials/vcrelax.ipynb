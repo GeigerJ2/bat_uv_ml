{
 "cells": [
  {
   "cell_type": "code",
   "execution_count": null,
   "metadata": {},
   "outputs": [],
   "source": [
    "\n",
    "si_bulk_calc_node = load_node(2181)\n",
    "\n",
    "si_bulk_calc_dict = si_bulk_calc_node.get_dict()\n",
    "for k,v in si_bulk_calc_dict.items():\n",
    "    print(k,v)\n",
    "# verdi process show 2176"
   ]
  }
 ],
 "metadata": {
  "language_info": {
   "name": "python"
  },
  "orig_nbformat": 4
 },
 "nbformat": 4,
 "nbformat_minor": 2
}
