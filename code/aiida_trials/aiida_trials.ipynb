{
 "cells": [
  {
   "cell_type": "code",
   "execution_count": 34,
   "metadata": {},
   "outputs": [],
   "source": [
    "import os\n",
    "import json\n",
    "from pprint import pprint\n",
    "\n",
    "from ase.visualize import view\n",
    "from pymatgen.ext.matproj import MPRester\n",
    "from pymatgen.io.cif import CifWriter\n",
    "from pymatgen.io.ase import AseAtomsAdaptor\n",
    "\n",
    "from aiida import load_profile\n",
    "from aiida.orm import Float, Int, Str, Bool, Code, Dict, StructureData, KpointsData, UpfData, load_node\n",
    "from aiida.orm.nodes.data.structure import StructureData\n",
    "from aiida_quantumespresso.workflows.pw.base import PwBaseWorkChain\n",
    "from aiida_quantumespresso.workflows.pw.relax import PwRelaxWorkChain\n",
    "from aiida_quantumespresso.workflows.pw.bands import PwBandsWorkChain\n",
    "from aiida.engine.processes.builder import ProcessBuilder\n",
    "from aiida.engine import submit"
   ]
  },
  {
   "cell_type": "code",
   "execution_count": 24,
   "metadata": {},
   "outputs": [
    {
     "data": {
      "text/plain": [
       "Profile<uuid='4fe00b7a32994cfca8b6cf43c2d22a53' name='jgeiger'>"
      ]
     },
     "execution_count": 24,
     "metadata": {},
     "output_type": "execute_result"
    }
   ],
   "source": [
    "m = MPRester(os.getenv('MP_API_KEY'))\n",
    "load_profile()\n"
   ]
  },
  {
   "cell_type": "code",
   "execution_count": 32,
   "metadata": {},
   "outputs": [
    {
     "data": {
      "application/vnd.jupyter.widget-view+json": {
       "model_id": "d452c442e0174a5d8ae1c54166e658d1",
       "version_major": 2,
       "version_minor": 0
      },
      "text/plain": [
       "Retrieving MaterialsDoc documents:   0%|          | 0/1 [00:00<?, ?it/s]"
      ]
     },
     "metadata": {},
     "output_type": "display_data"
    }
   ],
   "source": [
    "si_bulk_pmg = m.get_structure_by_material_id('mp-149')\n",
    "\n",
    "si_bulk_structuredata = StructureData(pymatgen_structure=si_bulk_pmg)\n",
    "si_bulk_ase = AseAtomsAdaptor.get_atoms(si_bulk_pmg)\n",
    "\n",
    "si_bands_builder = PwBandsWorkChain.get_builder_from_protocol(\n",
    "    code='qe-dev-pw',\n",
    "    structure=si_bulk_structuredata,\n",
    ")\n",
    "\n",
    "si_builder_dict = si_bands_builder.items()"
   ]
  },
  {
   "cell_type": "code",
   "execution_count": 31,
   "metadata": {},
   "outputs": [],
   "source": [
    "# si_builder._repr_pretty_()"
   ]
  },
  {
   "cell_type": "code",
   "execution_count": 33,
   "metadata": {},
   "outputs": [
    {
     "name": "stdout",
     "output_type": "stream",
     "text": [
      "metadata {}\n",
      "relax {'metadata': {}, 'base': {'metadata': {}, 'pw': {'metadata': {'options': {'stash': {}, 'resources': {'num_machines': 1}, 'max_wallclock_seconds': 43200, 'withmpi': True}}, 'monitors': {}, 'pseudos': {'Si': <UpfData: uuid: 23019765-e357-4fc8-b394-472defb13ace (pk: 20)>}, 'code': <InstalledCode: Remote code 'qe-dev-pw' on lumi-small pk: 2182, uuid: b6e74e35-9fb2-45d2-8872-a430f85e44b3>, 'parameters': <Dict: uuid: 292a4045-5e97-401f-b542-69f06bb37e51 (unstored)>}, 'kpoints_distance': <Float: uuid: 1912be6b-6a0e-409e-9586-c80e23b6e32f (unstored) value: 0.15>, 'kpoints_force_parity': <Bool: uuid: 36bbf1f3-c486-4f6f-a384-13a9fa130b88 (unstored) value: False>}, 'base_final_scf': {'metadata': {}, 'pw': {'metadata': {'options': {'stash': {}}}, 'monitors': {}, 'pseudos': {}}}, 'max_meta_convergence_iterations': <Int: uuid: f5f3b646-7f0f-4aa0-9673-da1577a50a0e (unstored) value: 5>, 'meta_convergence': <Bool: uuid: 82a2cf09-7ce2-4715-92d4-02309cc64302 (unstored) value: True>, 'volume_convergence': <Float: uuid: 68194d90-e8c4-44a7-9868-21d2165c1c6f (unstored) value: 0.02>}\n",
      "scf {'metadata': {}, 'pw': {'metadata': {'options': {'stash': {}, 'resources': {'num_machines': 1}, 'max_wallclock_seconds': 43200, 'withmpi': True}}, 'monitors': {}, 'pseudos': {'Si': <UpfData: uuid: 23019765-e357-4fc8-b394-472defb13ace (pk: 20)>}, 'code': <InstalledCode: Remote code 'qe-dev-pw' on lumi-small pk: 2182, uuid: b6e74e35-9fb2-45d2-8872-a430f85e44b3>, 'parameters': <Dict: uuid: d6d7fe65-b7b0-42aa-94c6-a6b02a1ee217 (unstored)>}, 'kpoints_distance': <Float: uuid: de86c00c-3ff8-43e0-8e54-61aaf32171a1 (unstored) value: 0.15>, 'kpoints_force_parity': <Bool: uuid: 543166ef-df45-481d-a895-2ad550c466b6 (unstored) value: False>}\n",
      "bands {'metadata': {}, 'pw': {'metadata': {'options': {'stash': {}, 'resources': {'num_machines': 1}, 'max_wallclock_seconds': 43200, 'withmpi': True}}, 'monitors': {}, 'pseudos': {'Si': <UpfData: uuid: 23019765-e357-4fc8-b394-472defb13ace (pk: 20)>}, 'code': <InstalledCode: Remote code 'qe-dev-pw' on lumi-small pk: 2182, uuid: b6e74e35-9fb2-45d2-8872-a430f85e44b3>, 'parameters': <Dict: uuid: 763d2942-3d01-4c29-9108-4b3cdc693e30 (unstored)>}}\n",
      "structure uuid: 0048a9dd-5f46-45a1-aa2c-e08b5f3eb257 (unstored)\n",
      "clean_workdir uuid: 67d3a9f3-ce04-4ee4-a526-5b3e1b324a8f (unstored) value: True\n",
      "nbands_factor uuid: ac28f93d-42b3-4f55-8840-10c3cf75672a (unstored) value: 3.0\n",
      "bands_kpoints_distance uuid: 1722268d-00de-4ebe-bc93-5518bd68cf8f (unstored) value: 0.025\n"
     ]
    }
   ],
   "source": [
    "# si_bulk_base_node = submit(si_test_builder)\n",
    "# view(si_bulk_ase)\n",
    "for k,v in si_bands_builder.items():\n",
    "    print(k, v)"
   ]
  },
  {
   "cell_type": "code",
   "execution_count": 10,
   "metadata": {},
   "outputs": [
    {
     "data": {
      "text/plain": [
       "<subprocess.Popen at 0x7fa42aca0ee0>"
      ]
     },
     "execution_count": 10,
     "metadata": {},
     "output_type": "execute_result"
    }
   ],
   "source": [
    "\n",
    "view(si_bulk_ase)"
   ]
  },
  {
   "cell_type": "code",
   "execution_count": 35,
   "metadata": {},
   "outputs": [],
   "source": [
    "si_bands_node = submit(si_bands_builder)"
   ]
  },
  {
   "cell_type": "code",
   "execution_count": 2,
   "metadata": {},
   "outputs": [
    {
     "name": "stdout",
     "output_type": "stream",
     "text": [
      "PwBandsWorkChain<2364> Finished [0] [7:results]\n",
      "    ├── PwRelaxWorkChain<2366> Finished [0] [3:results]\n",
      "    │   ├── PwBaseWorkChain<2369> Finished [0] [4:results]\n",
      "    │   │   ├── create_kpoints_from_distance<2370> Finished [0]\n",
      "    │   │   └── PwCalculation<2374> Finished [0]\n",
      "    │   └── PwBaseWorkChain<2383> Finished [0] [4:results]\n",
      "    │       ├── create_kpoints_from_distance<2384> Finished [0]\n",
      "    │       └── PwCalculation<2388> Finished [0]\n",
      "    ├── seekpath_structure_analysis<2395> Finished [0]\n",
      "    ├── PwBaseWorkChain<2402> Finished [0] [4:results]\n",
      "    │   ├── create_kpoints_from_distance<2403> Finished [0]\n",
      "    │   └── PwCalculation<2407> Finished [0]\n",
      "    └── PwBaseWorkChain<2415> Finished [0] [4:results]\n",
      "        └── PwCalculation<2418> Finished [0]\n",
      "2023-02-20 11:07:39 [84  | REPORT]: [2364|PwBandsWorkChain|run_relax]: launching PwRelaxWorkChain<2366>\n",
      "2023-02-20 11:07:40 [85  | REPORT]:   [2366|PwRelaxWorkChain|run_relax]: launching PwBaseWorkChain<2369>\n",
      "2023-02-20 11:07:43 [86  | REPORT]:     [2369|PwBaseWorkChain|run_process]: launching PwCalculation<2374> iteration #1\n",
      "2023-02-20 11:10:10 [87  | REPORT]:     [2369|PwBaseWorkChain|results]: work chain completed after 1 iterations\n",
      "2023-02-20 11:10:10 [88  | REPORT]:     [2369|PwBaseWorkChain|on_terminated]: remote folders will not be cleaned\n",
      "2023-02-20 11:10:10 [89  | REPORT]:   [2366|PwRelaxWorkChain|inspect_relax]: after iteration 1 cell volume of relaxed structure is 40.89702353225945\n",
      "2023-02-20 11:10:11 [90  | REPORT]:   [2366|PwRelaxWorkChain|run_relax]: launching PwBaseWorkChain<2383>\n",
      "2023-02-20 11:10:13 [91  | REPORT]:     [2383|PwBaseWorkChain|run_process]: launching PwCalculation<2388> iteration #1\n",
      "2023-02-20 11:12:38 [92  | REPORT]:     [2383|PwBaseWorkChain|results]: work chain completed after 1 iterations\n",
      "2023-02-20 11:12:38 [93  | REPORT]:     [2383|PwBaseWorkChain|on_terminated]: remote folders will not be cleaned\n",
      "2023-02-20 11:12:38 [94  | REPORT]:   [2366|PwRelaxWorkChain|inspect_relax]: after iteration 2 cell volume of relaxed structure is 40.89702299639547\n",
      "2023-02-20 11:12:38 [95  | REPORT]:   [2366|PwRelaxWorkChain|inspect_relax]: relative cell volume difference 1.3102762407579129e-08 smaller than threshold 0.02\n",
      "2023-02-20 11:12:39 [96  | REPORT]:   [2366|PwRelaxWorkChain|results]: workchain completed after 2 iterations\n",
      "2023-02-20 11:12:39 [97  | REPORT]:   [2366|PwRelaxWorkChain|on_terminated]: remote folders will not be cleaned\n",
      "2023-02-20 11:12:41 [98  | REPORT]: [2364|PwBandsWorkChain|run_scf]: launching PwBaseWorkChain<2402> in scf mode\n",
      "2023-02-20 11:12:43 [99  | REPORT]:   [2402|PwBaseWorkChain|run_process]: launching PwCalculation<2407> iteration #1\n",
      "2023-02-20 11:15:08 [100 | REPORT]:   [2402|PwBaseWorkChain|results]: work chain completed after 1 iterations\n",
      "2023-02-20 11:15:08 [101 | REPORT]:   [2402|PwBaseWorkChain|on_terminated]: remote folders will not be cleaned\n",
      "2023-02-20 11:15:09 [102 | REPORT]: [2364|PwBandsWorkChain|run_bands]: launching PwBaseWorkChain<2415> in bands mode\n",
      "2023-02-20 11:15:10 [103 | REPORT]:   [2415|PwBaseWorkChain|run_process]: launching PwCalculation<2418> iteration #1\n",
      "2023-02-20 11:17:37 [105 | REPORT]:   [2415|PwBaseWorkChain|results]: work chain completed after 1 iterations\n",
      "2023-02-20 11:17:38 [106 | REPORT]:   [2415|PwBaseWorkChain|on_terminated]: remote folders will not be cleaned\n",
      "2023-02-20 11:17:38 [107 | REPORT]: [2364|PwBandsWorkChain|results]: workchain succesfully completed\n",
      "2023-02-20 11:17:51 [108 | REPORT]: [2364|PwBandsWorkChain|on_terminated]: cleaned remote folders of calculations: 2374 2388 2407 2418\n"
     ]
    }
   ],
   "source": [
    "%%bash\n",
    "verdi process status 2364\n",
    "verdi process report 2364"
   ]
  },
  {
   "cell_type": "code",
   "execution_count": 9,
   "metadata": {},
   "outputs": [
    {
     "name": "stdout",
     "output_type": "stream",
     "text": [
      "Property     Value\n",
      "-----------  ------------------------------------\n",
      "type         PwBandsWorkChain\n",
      "state        Finished [0]\n",
      "pk           2364\n",
      "uuid         0a88bce9-a68e-4243-9d97-22724dc7b3cd\n",
      "label\n",
      "description\n",
      "ctime        2023-02-20 11:07:35.134100+01:00\n",
      "mtime        2023-02-20 11:17:38.724354+01:00\n",
      "\n",
      "Inputs                               PK    Type\n",
      "-----------------------------------  ----  -------------\n",
      "bands\n",
      "    pw\n",
      "        pseudos\n",
      "            Si                       20    UpfData\n",
      "        code                         2182  InstalledCode\n",
      "        parameters                   2358  Dict\n",
      "    max_iterations                   2359  Int\n",
      "relax\n",
      "    base\n",
      "        pw\n",
      "            pseudos\n",
      "                Si                   20    UpfData\n",
      "            code                     2182  InstalledCode\n",
      "            parameters               2347  Dict\n",
      "        kpoints_distance             2348  Float\n",
      "        kpoints_force_parity         2349  Bool\n",
      "        max_iterations               2350  Int\n",
      "    max_meta_convergence_iterations  2351  Int\n",
      "    meta_convergence                 2352  Bool\n",
      "    volume_convergence               2353  Float\n",
      "scf\n",
      "    pw\n",
      "        pseudos\n",
      "            Si                       20    UpfData\n",
      "        code                         2182  InstalledCode\n",
      "        parameters                   2354  Dict\n",
      "    kpoints_distance                 2355  Float\n",
      "    kpoints_force_parity             2356  Bool\n",
      "    max_iterations                   2357  Int\n",
      "bands_kpoints_distance               2363  Float\n",
      "clean_workdir                        2361  Bool\n",
      "nbands_factor                        2362  Float\n",
      "structure                            2360  StructureData\n",
      "\n",
      "Outputs                PK  Type\n",
      "-------------------  ----  -------------\n",
      "band_parameters      2423  Dict\n",
      "band_structure       2421  BandsData\n",
      "primitive_structure  2398  StructureData\n",
      "scf_parameters       2412  Dict\n",
      "seekpath_parameters  2396  Dict\n",
      "\n",
      "Called      PK  Type\n",
      "--------  ----  ---------------------------\n",
      "relax     2366  PwRelaxWorkChain\n",
      "seekpath  2395  seekpath_structure_analysis\n",
      "scf       2402  PwBaseWorkChain\n",
      "bands     2415  PwBaseWorkChain\n",
      "\n",
      "Log messages\n",
      "---------------------------------------------\n",
      "There are 5 log messages for this calculation\n",
      "Run 'verdi process report 2364' to see them\n"
     ]
    }
   ],
   "source": [
    "%%bash\n",
    "verdi process show 2364"
   ]
  },
  {
   "cell_type": "code",
   "execution_count": 10,
   "metadata": {},
   "outputs": [
    {
     "name": "stdout",
     "output_type": "stream",
     "text": [
      "Usage: verdi data core.bands export [OPTIONS] DATUM\n",
      "\n",
      "  Export BandsData objects.\n",
      "\n",
      "Options:\n",
      "  -F, --format [agr|agr_batch|dat_blocks|dat_multicolumn|gnuplot|json|mpl_pdf|mpl_png|mpl_singlefile|mpl_withjson]\n",
      "                                  Format of the exported file.  [default:\n",
      "                                  json]\n",
      "  --y-min-lim FLOAT               The minimum value for the y axis. Default:\n",
      "                                  minimum of all bands\n",
      "  --y-max-lim FLOAT               The maximum value for the y axis. Default:\n",
      "                                  maximum of all bands\n",
      "  -o, --output TEXT               If present, store the output directly on a\n",
      "                                  file with the given name. It is essential to\n",
      "                                  use this option if more than one file needs\n",
      "                                  to be created.\n",
      "  -f, --force                     If passed, overwrite files without checking.\n",
      "  --prettify-format [agr_seekpath|agr_simple|gnuplot_seekpath|gnuplot_simple|latex_seekpath|latex_simple|pass]\n",
      "                                  The style of labels for the prettifier\n",
      "  -v, --verbosity [notset|debug|info|report|warning|error|critical]\n",
      "                                  Set the verbosity of the output.\n",
      "  -h, --help                      Show this message and exit.\n",
      "Debug: projections data: {'entity': [{'*': {}}]}\n",
      "Debug: projection for entity: [{'*': {}}]\n"
     ]
    }
   ],
   "source": [
    "%%bash\n",
    "verdi data core.bands export --help\n",
    "verdi data core.bands export  -v debug --format mpl_pdf --output si_band_structure.pdf 2421"
   ]
  },
  {
   "cell_type": "code",
   "execution_count": null,
   "metadata": {},
   "outputs": [],
   "source": []
  }
 ],
 "metadata": {
  "kernelspec": {
   "display_name": "env",
   "language": "python",
   "name": "python3"
  },
  "language_info": {
   "codemirror_mode": {
    "name": "ipython",
    "version": 3
   },
   "file_extension": ".py",
   "mimetype": "text/x-python",
   "name": "python",
   "nbconvert_exporter": "python",
   "pygments_lexer": "ipython3",
   "version": "3.8.10"
  },
  "orig_nbformat": 4,
  "vscode": {
   "interpreter": {
    "hash": "563b968e1044a963233ca0d255c24a54b27faba64327a7678a42d7af4cac992e"
   }
  }
 },
 "nbformat": 4,
 "nbformat_minor": 2
}
