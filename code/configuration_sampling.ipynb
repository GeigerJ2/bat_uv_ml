{
 "cells": [
  {
   "cell_type": "code",
   "execution_count": null,
   "metadata": {},
   "outputs": [],
   "source": [
    "from IPython.core.interactiveshell import InteractiveShell\n",
    "InteractiveShell.ast_node_interactivity = \"all\"\n",
    "\n",
    "from collections import Counter\n",
    "import pandas as pd\n",
    "import os\n",
    "from pathlib import Path\n",
    "\n",
    "import itertools as it\n",
    "from collections import Counter\n",
    "import numpy as np\n",
    "\n",
    "from aiida import load_profile\n",
    "from aiida.orm import load_node\n",
    "\n",
    "from pymatgen.io.ase import AseAtomsAdaptor\n",
    "\n",
    "from pybat import Cathode\n",
    "\n",
    "from ase.build.tools import sort\n",
    "\n",
    "from ase.io.espresso import read_espresso_in\n",
    "\n",
    "from itables import init_notebook_mode\n",
    "init_notebook_mode(all_interactive=True)\n",
    "\n",
    "import itables.options as opt\n",
    "\n",
    "opt.style = \"table-layout:auto;width:80%:left\"\n",
    "opt.columnDefs = [{\"className\": \"dt-left\", \"targets\": \"_all\"}]\n",
    "\n",
    "pd.set_option('display.max_colwidth', None)\n",
    "pd.options.mode.chained_assignment = None"
   ]
  },
  {
   "cell_type": "code",
   "execution_count": null,
   "metadata": {},
   "outputs": [],
   "source": [
    "load_profile()"
   ]
  },
  {
   "attachments": {},
   "cell_type": "markdown",
   "metadata": {},
   "source": [
    "# Olivine directory tree\n",
    "<!-- \n",
    "├── Bulk_Li\n",
    "├── LixFePO4\n",
    "│   ├── Li0.00\n",
    "│   ├── Li0.25\n",
    "│   ├── Li0.50\n",
    "│   ├── Li0.75\n",
    "│   └── Li1.00\n",
    "├── LixMn0.5Fe0.5PO4\n",
    "│   ├── Li0.00\n",
    "│   ├── Li0.25\n",
    "│   ├── Li0.50\n",
    "│   ├── Li0.75\n",
    "│   └── Li1.00\n",
    "├── LixMnPO4\n",
    "│   ├── Li0.00\n",
    "│   ├── Li0.25\n",
    "│   ├── Li0.50\n",
    "│   ├── Li0.75\n",
    "│   └── Li1.00\n",
    "└── Pseudopotentials\n",
    "    ├── PseudoDojo\n",
    "    └── SSSP\n",
    "-->"
   ]
  },
  {
   "attachments": {},
   "cell_type": "markdown",
   "metadata": {},
   "source": [
    "# Spinel directory tree\n",
    "\n",
    "<!--\n",
    "├── LixMn1.5Ni0.5O4\n",
    "│   ├── DFT+U\n",
    "│   │   ├── LiMn1.5Ni0.5O4\n",
    "│   │   └── Mn1.5Ni0.5O4\n",
    "│   └── DFT+U+V\n",
    "│       ├── LiMn1.5Ni0.5O4\n",
    "│       └── Mn1.5Ni0.5O4\n",
    "└── LixMn2O4\n",
    "    ├── DFT+U\n",
    "    │   ├── LiMn2O4\n",
    "    │   └── Mn2O4\n",
    "    └── DFT+U+V\n",
    "        ├── LiMn2O4\n",
    "        └── Mn2O4\n",
    "-->"
   ]
  },
  {
   "attachments": {},
   "cell_type": "markdown",
   "metadata": {},
   "source": [
    "# Read in fully lithiated phospho-olivine and spinel structures from pw inputs"
   ]
  },
  {
   "cell_type": "code",
   "execution_count": null,
   "metadata": {},
   "outputs": [],
   "source": [
    "project_dir = '/home/jgeiger/projects/bat_uv_ml/'\n",
    "\n",
    "# Read in csv with pandas\n",
    "iurii_full_df = pd.read_csv(os.path.join(project_dir, 'data', 'iurii_full_data_df.csv'))"
   ]
  },
  {
   "cell_type": "code",
   "execution_count": null,
   "metadata": {},
   "outputs": [],
   "source": [
    "iurii_full_df"
   ]
  },
  {
   "attachments": {},
   "cell_type": "markdown",
   "metadata": {},
   "source": [
    "***\n",
    "# Fully lithiated structures"
   ]
  },
  {
   "cell_type": "code",
   "execution_count": null,
   "metadata": {},
   "outputs": [],
   "source": [
    "fully_lithiated_df = iurii_full_df.loc[\n",
    "    (iurii_full_df['abs_path'].str.contains('1_vcrelax'))\n",
    " &  (iurii_full_df['abs_path'].str.contains('Li1.00') | iurii_full_df['abs_path'].str.contains('LiMn'))\n",
    " &  (iurii_full_df['calc_in'].str.contains('vcrelax.in') | iurii_full_df['calc_in'].str.contains('vcrelax.1.in'))\n",
    " & ~(iurii_full_df['abs_path'].str.contains('DFT+U+V', regex=False) | iurii_full_df['abs_path'].str.contains('DFT_plus_', regex=False))\n",
    "]\n",
    "\n",
    "fully_lithiated_df.shape\n",
    "fully_lithiated_df = fully_lithiated_df.reset_index(drop=False)\n",
    "\n",
    "# ! Replace Mn3u and other special labels with atom types for reading in QE input structure with ASE\n",
    "fully_lithiated_df['clean_input'] = fully_lithiated_df['abs_path_in'].apply(lambda x: Path(x).read_text())\n",
    "fully_lithiated_df['clean_input'] = fully_lithiated_df['clean_input'].str.replace('\\nM\\d[u,d] ', '\\nMn ', regex=True)\n",
    "fully_lithiated_df['clean_input'] = fully_lithiated_df['clean_input'].str.replace('\\nO\\d ', '\\nO ', regex=True)\n",
    "fully_lithiated_df['clean_input_file'] = fully_lithiated_df['abs_path_in'].apply(lambda x: x.replace('.in', '.clean.in'))\n",
    "_ = fully_lithiated_df.apply(lambda x: Path(x['clean_input_file']).write_text(x['clean_input']), axis=1)\n",
    "\n",
    "# ! Actually read in the input files with ASE\n",
    "fully_lithiated_df['ase_in'] = fully_lithiated_df['clean_input_file'].apply(lambda x: read_espresso_in(x))\n",
    "fully_lithiated_df['ase_in'] = fully_lithiated_df['ase_in'].apply(lambda x: sort(x, tags=x.numbers))\n",
    "# devel_df['ase_out'] = devel_df.apply(lambda x: read_espresso_out(os.path.join(x['abs_path'], x['calc_out'])), axis=1)\n",
    "\n",
    "# ! Get chemical formula and symbols\n",
    "fully_lithiated_df['chem_formula'] = fully_lithiated_df['ase_in'].apply(lambda x: x.get_chemical_formula())\n",
    "fully_lithiated_df['chem_symbols'] = fully_lithiated_df['ase_in'].apply(lambda x: x.get_chemical_symbols())\n",
    "\n",
    "# type(devel_df['ase_out'].values[0])\n",
    "# ! Convert ase structures to pymatgen\n",
    "fully_lithiated_df['pmg_in'] = fully_lithiated_df['ase_in'].apply(lambda x: AseAtomsAdaptor.get_structure(x))\n",
    "# devel_df['pmg_out'] = devel_df['ase_out'].apply(lambda x: AseAtomsAdaptor.get_structure(x))"
   ]
  },
  {
   "cell_type": "code",
   "execution_count": null,
   "metadata": {},
   "outputs": [],
   "source": [
    "show_columns_structures = ['abs_path', 'calc_in', 'calc_out', 'calc_type', 'chem_formula', 'short_name']\n",
    "short_names = ['spinel_LiMnNiO', 'spinel_LiMnO', 'olivine_LiFePO', 'olivine_LiMnFePO', 'olivine_LiMnPO']\n",
    "fully_lithiated_df['short_name'] = short_names\n",
    "fully_lithiated_df[show_columns_structures].head()\n",
    "# fully_lithiated_df['calc_in'].values"
   ]
  },
  {
   "attachments": {},
   "cell_type": "markdown",
   "metadata": {},
   "source": [
    "***\n",
    "# Sampling of configurations using `icet`"
   ]
  },
  {
   "cell_type": "code",
   "execution_count": null,
   "metadata": {},
   "outputs": [],
   "source": [
    "# 'spinel_LiMnNiO': default_dict,   # Li8Mn12Ni4O32\n",
    "# 'spinel_LiMnO': default_dict,     # Li8Mn16O32\n",
    "# 'olivine_LiFePO': default_dict,   # Li4Fe4P4O16\n",
    "# 'olivine_LiMnFePO': default_dict, # Li4Mn2Fe2P4O16\n",
    "# 'olivine_LiMnPO4': default_dict,  # Li4Mn4P4O16\n",
    "\n",
    "olivine_names = ['olivine_LiFePO', 'olivine_LiMnFePO', 'olivine_LiMnPO']\n",
    "olivine_df_keys = list(it.product(olivine_names, [1,2]))\n",
    "spinel_names = ['spinel_LiMnNiO', 'spinel_LiMnO']\n",
    "spinel_df_keys = list(it.product(spinel_names, [1,]))\n",
    "sampling_df_keys = olivine_df_keys + spinel_df_keys"
   ]
  },
  {
   "cell_type": "code",
   "execution_count": null,
   "metadata": {},
   "outputs": [],
   "source": [
    "def create_sampling_df(input_pmg, **kwargs):\n",
    "    # ! Lithiation currently works only for one size\n",
    "\n",
    "    initial_cat = Cathode.from_structure(input_pmg)\n",
    "    configuration_list = initial_cat.get_cation_configurations(**kwargs)\n",
    "\n",
    "    pmg_list = [cathode.as_ordered_structure() for cathode in configuration_list]\n",
    "    ase_list = [AseAtomsAdaptor.get_atoms(pmg_) for pmg_ in pmg_list]\n",
    "    formula_list = [_.get_chemical_formula() for _ in ase_list]\n",
    "    cell_list = [np.array2string(_.cell.todict()['array']) for _ in ase_list]\n",
    "    sg_list = [_.space_group for _ in configuration_list]\n",
    "    li_list = [_.get_chemical_symbols().count('Li') for _ in ase_list]\n",
    "\n",
    "    # ? Still need to apply the multiplicity_dict\n",
    "    li_multiplicity_dict = dict(Counter(li_list))\n",
    "    cell_multiplicity_dict = dict(Counter(cell_list))\n",
    "    sg_multiplicity_dict = dict(Counter(sg_list))\n",
    "\n",
    "\n",
    "    # Put all the data into pandas df\n",
    "    return_df = pd.DataFrame()\n",
    "\n",
    "    return_df['configuration'] = configuration_list\n",
    "    return_df['li_number'] = li_list\n",
    "    return_df['formula'] = formula_list\n",
    "    return_df['cell'] = cell_list\n",
    "    return_df['space_group'] = sg_list\n",
    "    return_df['ase_structure'] = ase_list\n",
    "\n",
    "    return_df['lithiation'] = return_df['li_number'] / (len(kwargs['substitution_sites'])*kwargs['sizes'][0])\n",
    "\n",
    "    # return_df = return_df.sort_values(by='lithiation', ascending=False)\n",
    "    return_df['li_mpc']= return_df['li_number'].map(li_multiplicity_dict)\n",
    "    return_df['cell_mpc']= return_df['cell'].map(cell_multiplicity_dict)\n",
    "    return_df['sg_mpc']= return_df['space_group'].map(sg_multiplicity_dict)\n",
    "\n",
    "    return return_df\n",
    "\n",
    "conf_df_list = []\n",
    "\n",
    "for structure_index, sampling_df_key in enumerate(sampling_df_keys):\n",
    "    loop_pmg = fully_lithiated_df.loc[fully_lithiated_df['short_name'] == sampling_df_key[0]]['pmg_in'].values[0]\n",
    "    loop_ase = AseAtomsAdaptor.get_atoms(loop_pmg)\n",
    "    loop_ase.center()\n",
    "\n",
    "    size = sampling_df_key[1]\n",
    "    \n",
    "    kwargs_dict = dict(\n",
    "        substitution_sites=range(0, loop_ase.get_chemical_symbols().count('Li')),\n",
    "        cation_list=[\"Li\", \"Vac\"],\n",
    "        sizes=[size],\n",
    "        concentration_restrictions={\"Li\": (0, 1)},\n",
    "        max_configurations=None,\n",
    "    )\n",
    "    conf_df = create_sampling_df(input_pmg=loop_pmg, **kwargs_dict)\n",
    "    conf_df_list.append(conf_df)\n",
    "\n",
    "sampling_df_dict = dict(zip(sampling_df_keys, conf_df_list))"
   ]
  },
  {
   "cell_type": "code",
   "execution_count": null,
   "metadata": {},
   "outputs": [],
   "source": [
    "show_columns_sampling = ['li_number', 'formula', 'space_group', 'lithiation', 'li_mpc', 'cell_mpc', 'sg_mpc']\n",
    "\n",
    "pd.set_option('display.max_rows', 10)\n",
    "for sampling_df_key in sampling_df_keys[:2]:\n",
    "    current_df = sampling_df_dict[sampling_df_key][show_columns_sampling]\n",
    "    print(\"Structure: {}, Size: {}, # Configs: {}\".format(*sampling_df_key, current_df.shape[0]))\n",
    "    current_df\n",
    "    # view(sampling_df_dict[sampling_df_key]['ase_structure'].values)\n",
    "    # break"
   ]
  },
  {
   "cell_type": "markdown",
   "metadata": {},
   "source": [
    "***\n",
    "### Bash cell for verdi stuff"
   ]
  },
  {
   "cell_type": "code",
   "execution_count": null,
   "metadata": {},
   "outputs": [],
   "source": [
    "%%bash\n",
    "verdi process list -a -p 12"
   ]
  },
  {
   "cell_type": "code",
   "execution_count": null,
   "metadata": {},
   "outputs": [],
   "source": [
    "%%bash\n",
    "%%capture\n",
    "verdi calcjob inputls 2176    # shows the list of input files\n",
    "verdi calcjob inputcat 2176   # shows the input file of the calculation\n",
    "verdi calcjob outputls 2176   # shows the list of output files\n",
    "verdi calcjob res 2176        # shows the parser results of the calculation"
   ]
  },
  {
   "cell_type": "code",
   "execution_count": null,
   "metadata": {},
   "outputs": [],
   "source": [
    "%%bash\n",
    "verdi process show 2176\n",
    "verdi process report 2176"
   ]
  },
  {
   "cell_type": "code",
   "execution_count": null,
   "metadata": {},
   "outputs": [],
   "source": [
    "%%bash\n",
    "verdi devel --help"
   ]
  }
 ],
 "metadata": {
  "kernelspec": {
   "display_name": "env",
   "language": "python",
   "name": "python3"
  },
  "language_info": {
   "codemirror_mode": {
    "name": "ipython",
    "version": 3
   },
   "file_extension": ".py",
   "mimetype": "text/x-python",
   "name": "python",
   "nbconvert_exporter": "python",
   "pygments_lexer": "ipython3",
   "version": "3.8.10"
  },
  "orig_nbformat": 4,
  "vscode": {
   "interpreter": {
    "hash": "563b968e1044a963233ca0d255c24a54b27faba64327a7678a42d7af4cac992e"
   }
  }
 },
 "nbformat": 4,
 "nbformat_minor": 2
}
