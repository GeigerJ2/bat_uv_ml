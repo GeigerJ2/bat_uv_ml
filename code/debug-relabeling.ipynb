{
 "cells": [
  {
   "cell_type": "code",
   "execution_count": 8,
   "id": "0d96feaf-8817-453a-b4d0-560f5f29d33c",
   "metadata": {},
   "outputs": [],
   "source": [
    "import pathlib\n",
    "import numpy as np\n",
    "\n",
    "from aiida import orm, load_profile\n",
    "from aiida.engine import submit\n",
    "\n",
    "from qe_tools import CONSTANTS\n",
    "\n",
    "from aiida_quantumespresso_hp.workflows.hubbard import SelfConsistentHubbardWorkChain\n",
    "from aiida_quantumespresso.data.hubbard_structure import HubbardStructureData\n",
    "\n",
    "load_profile()\n",
    "from aiida.orm import load_node\n",
    "from pprint import pprint"
   ]
  },
  {
   "attachments": {},
   "cell_type": "markdown",
   "id": "bc9ecf45",
   "metadata": {},
   "source": [
    "***\n",
    "### Development of `structure_relabel_kinds`"
   ]
  },
  {
   "cell_type": "code",
   "execution_count": 90,
   "id": "a803505a",
   "metadata": {},
   "outputs": [
    {
     "name": "stdout",
     "output_type": "stream",
     "text": [
      "Hubbard card before structure_relabel_kinds\n",
      "\n",
      " HUBBARD\tortho-atomic\n",
      " U\tTi-3d\t5.0\n",
      " V\tTi-3d\tO-2p\t1\t4\t0.0001\n",
      " V\tTi-3d\tO-2p\t1\t2\t0.0001\n",
      " V\tTi-3d\tO-2p\t1\t3\t0.0001\n",
      " V\tTi-3d\tO-2p\t1\t72\t0.0001\n",
      " V\tTi-3d\tO-2p\t1\t83\t0.0001\n",
      " V\tTi-3d\tO-2p\t1\t114\t0.0001\n",
      " V\tTi-3d\tO-2p\t1\t69\t0.0001\n",
      "\n",
      "Hubbard card after structure_relabel_kinds\n",
      "\n",
      " HUBBARD\t{ortho-atomic}\n",
      " U\tTi0-3d\t6.1627\n",
      " V\tTi0-3d\tO2-2p\t1\t4\t1.5744\n",
      " V\tTi0-3d\tO1-2p\t1\t2\t1.5742\n",
      " V\tTi0-3d\tO1-2p\t1\t3\t1.5742\n",
      " V\tTi0-3d\tO1-2p\t1\t72\t1.1762\n",
      " V\tTi0-3d\tO1-2p\t1\t83\t1.1762\n",
      " V\tTi0-3d\tO2-2p\t1\t114\t1.176\n",
      "\n"
     ]
    }
   ],
   "source": [
    "import importlib\n",
    "from aiida_quantumespresso_hp.calculations.functions import structure_relabel_kinds\n",
    "importlib.reload(structure_relabel_kinds)\n",
    "\n",
    "hubbard_data = load_node(2502)\n",
    "last_hpcalculation = load_node(2284)\n",
    "\n",
    "qe_hubbard_card_before = hubbard_data.get_quantum_espresso_hubbard_card()\n",
    "print('Hubbard card before structure_relabel_kinds\\n\\n', qe_hubbard_card_before)\n",
    "\n",
    "relabel_output = structure_relabel_kinds.structure_relabel_kinds(\n",
    "    hubbard_structure=last_hpcalculation.outputs.hubbard_structure,\n",
    "    hubbard=last_hpcalculation.outputs.hubbard\n",
    ")\n",
    "\n",
    "qe_hubbard_card_after = relabel_output['hubbard_structure'].get_quantum_espresso_hubbard_card()\n",
    "\n",
    "print('Hubbard card after structure_relabel_kinds\\n\\n', qe_hubbard_card_after)"
   ]
  },
  {
   "attachments": {},
   "cell_type": "markdown",
   "id": "c62a4eee",
   "metadata": {},
   "source": [
    "***\n",
    "### Print erroneous Hubbard modification"
   ]
  },
  {
   "cell_type": "code",
   "execution_count": null,
   "id": "ae8e2fd6",
   "metadata": {},
   "outputs": [],
   "source": [
    "from aiida_quantumespresso.data.hubbard_structure import HubbardStructureData"
   ]
  },
  {
   "cell_type": "code",
   "execution_count": 78,
   "metadata": {},
   "outputs": [],
   "source": [
    "# pprint(hubbard_data.hubbard_parameters)\n",
    "# print(hubbard_data.get_quantum_espresso_hubbard_card())\n",
    "# print(type(hubbard_data))\n",
    "\n",
    "# \"\"\"Create a clone of the given structure but with new kinds, based on the new hubbard sites.\n",
    "\n",
    "# :param hubbard_structure: ``HubbardStructureData`` instance.\n",
    "# :param hubbard: the ``hubbard`` output Dict node of a ``HpCalculation``.\n",
    "# :param magnetization: Dict instance containing the `starting_magnetization` QuantumESPRESSO inputs.\n",
    "# :return:\n",
    "# \"\"\"\n",
    "\n",
    "# result = structure_relabel_kinds(\n",
    "#     self.ctx.current_hubbard_structure, workchain.outputs.hubbard, self.ctx.current_magnetic_moments\n",
    "# )\n",
    "\n",
    "# hubbard_structure = last_hpcalculation.outputs.hubbard_structure # hubbard structure of HpCalculation, 1. required argument\n",
    "# hubbard = last_hpcalculation.outputs.hubbard # hubbard dict of HpCalculation, 2. required argument"
   ]
  },
  {
   "cell_type": "code",
   "execution_count": null,
   "id": "c2e0de07",
   "metadata": {},
   "outputs": [],
   "source": [
    "from aiida_quantumespresso_hp.calculations.functions import structure_relabel_kinds\n",
    "from aiida_quantumespresso_hp.workflows.hubbard import SelfConsistentHubbardWorkChain\n",
    "\n",
    "# structure_relabel_kinds()\n",
    "import importlib\n",
    "importlib.reload(structure_relabel_kinds)\n",
    "\n",
    "failed_scfh_workchain = load_node(2234)\n",
    "hubbard_data = load_node(2502)\n",
    "failed_hp_workchain = load_node(2284)\n",
    "\n",
    "qe_hubbard_card_before = hubbard_data.get_quantum_espresso_hubbard_card()\n",
    "print(qe_hubbard_card_before)\n",
    "\n",
    "relabel_output = structure_relabel_kinds.structure_relabel_kinds(\n",
    "    hubbard_structure=failed_hp_workchain.outputs.hubbard_structure,\n",
    "    hubbard=failed_hp_workchain.outputs.hubbard\n",
    ")\n",
    "\n",
    "qe_hubbard_card_after = relabel_output['hubbard_structure'].get_quantum_espresso_hubbard_card()\n",
    "\n",
    "print(qe_hubbard_card_after)"
   ]
  },
  {
   "cell_type": "code",
   "execution_count": 2,
   "id": "e04fbdaf",
   "metadata": {},
   "outputs": [
    {
     "name": "stdout",
     "output_type": "stream",
     "text": [
      "\u001b[22m2023-02-16 10:03:50 [18 | REPORT]: [2234|SelfConsistentHubbardWorkChain|setup]: system is treated to be non-magnetic because `nspin == 1` in `scf.pw.parameters` input.\n",
      "2023-02-16 10:03:51 [19 | REPORT]: [2234|SelfConsistentHubbardWorkChain|should_run_relax]: skip_first_relax has been set True; skipping first relaxion...\n",
      "2023-02-16 10:03:51 [20 | REPORT]: [2234|SelfConsistentHubbardWorkChain|run_scf_smearing]: launching PwBaseWorkChain<2236> with smeared occupations\n",
      "2023-02-16 10:03:54 [21 | REPORT]:   [2236|PwBaseWorkChain|run_process]: launching PwCalculation<2241> iteration #1\n",
      "2023-02-16 10:06:21 [26 | REPORT]:   [2236|PwBaseWorkChain|results]: work chain completed after 1 iterations\n",
      "2023-02-16 10:06:21 [27 | REPORT]:   [2236|PwBaseWorkChain|on_terminated]: remote folders will not be cleaned\n",
      "2023-02-16 10:06:21 [28 | REPORT]: [2234|SelfConsistentHubbardWorkChain|recon_scf]: after relaxation, system is determined to be an insulator\n",
      "2023-02-16 10:06:22 [29 | REPORT]: [2234|SelfConsistentHubbardWorkChain|run_scf_fixed]: launching PwBaseWorkChain<2261> with fixed occupations\n",
      "2023-02-16 10:06:25 [30 | REPORT]:   [2261|PwBaseWorkChain|run_process]: launching PwCalculation<2266> iteration #1\n",
      "2023-02-16 10:11:34 [36 | REPORT]:   [2261|PwBaseWorkChain|results]: work chain completed after 1 iterations\n",
      "2023-02-16 10:11:34 [37 | REPORT]:   [2261|PwBaseWorkChain|on_terminated]: remote folders will not be cleaned\n",
      "2023-02-16 10:11:35 [38 | REPORT]: [2234|SelfConsistentHubbardWorkChain|run_hp]: launching HpWorkChain<2284> iteration #1\n",
      "2023-02-16 10:11:36 [39 | REPORT]:   [2284|HpWorkChain|run_base_workchain]: running in serial, launching HpBaseWorkChain<2286>\n",
      "2023-02-16 10:11:36 [40 | REPORT]:     [2286|HpBaseWorkChain|run_process]: launching HpCalculation<2288> iteration #1\n",
      "2023-02-16 10:18:47 [46 | REPORT]:     [2286|HpBaseWorkChain|results]: work chain completed after 1 iterations\n",
      "2023-02-16 10:18:47 [47 | REPORT]:     [2286|HpBaseWorkChain|on_terminated]: remote folders will not be cleaned\n",
      "2023-02-16 10:18:48 [48 | REPORT]: [2234|SelfConsistentHubbardWorkChain|check_convergence]: new types have been determined: relabeling the structure and starting new iteration.\n",
      "2023-02-16 10:18:49 [49 | REPORT]: [2234|SelfConsistentHubbardWorkChain|check_convergence]: The new and old Hubbard parameters have different lenghts. Assuming to be at the first cycle.\n",
      "2023-02-16 10:18:50 [50 | REPORT]: [2234|SelfConsistentHubbardWorkChain|run_relax]: launching PwRelaxWorkChain<2310> iteration #2\n",
      "2023-02-16 10:18:51 [51 | REPORT]:   [2310|PwRelaxWorkChain|run_relax]: launching PwBaseWorkChain<2313>\n",
      "2023-02-16 10:18:52 [52 | REPORT]:     [2313|PwBaseWorkChain|run_process]: launching PwCalculation<2318> iteration #1\n",
      "2023-02-16 10:21:15 [57 | REPORT]:     [2313|PwBaseWorkChain|report_error_handled]: PwCalculation<2318> failed with exit status 305: Both the stdout and XML output files could not be read or parsed.\n",
      "2023-02-16 10:21:15 [58 | REPORT]:     [2313|PwBaseWorkChain|report_error_handled]: Action taken: unrecoverable error, aborting...\n",
      "2023-02-16 10:21:15 [59 | REPORT]:     [2313|PwBaseWorkChain|inspect_process]: PwCalculation<2318> failed but a handler detected an unrecoverable problem, aborting\n",
      "2023-02-16 10:21:15 [60 | REPORT]:     [2313|PwBaseWorkChain|on_terminated]: remote folders will not be cleaned\n",
      "2023-02-16 10:21:15 [61 | REPORT]:   [2310|PwRelaxWorkChain|inspect_relax]: relax PwBaseWorkChain failed with exit status 300\n",
      "2023-02-16 10:21:15 [62 | REPORT]:   [2310|PwRelaxWorkChain|on_terminated]: remote folders will not be cleaned\n",
      "2023-02-16 10:21:15 [63 | REPORT]: [2234|SelfConsistentHubbardWorkChain|inspect_relax]: PwRelaxWorkChain failed with exit status 401\n",
      "2023-02-16 10:21:15 [64 | REPORT]: [2234|SelfConsistentHubbardWorkChain|on_terminated]: remote folders will not be cleaned\u001b[0m\n"
     ]
    }
   ],
   "source": [
    "!verdi process report 2234"
   ]
  }
 ],
 "metadata": {
  "kernelspec": {
   "display_name": "env-bat_uv_ml",
   "language": "python",
   "name": "python3"
  },
  "language_info": {
   "codemirror_mode": {
    "name": "ipython",
    "version": 3
   },
   "file_extension": ".py",
   "mimetype": "text/x-python",
   "name": "python",
   "nbconvert_exporter": "python",
   "pygments_lexer": "ipython3",
   "version": "3.8.10"
  },
  "vscode": {
   "interpreter": {
    "hash": "e4b99e4fb7239675e78e08baa36e5541415cefe51d419b717bbcddc9f1c4003f"
   }
  }
 },
 "nbformat": 4,
 "nbformat_minor": 5
}
